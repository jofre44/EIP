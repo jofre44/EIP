{
 "cells": [
  {
   "cell_type": "code",
   "execution_count": 9,
   "id": "7f53ee88",
   "metadata": {},
   "outputs": [],
   "source": [
    "n = 200\n",
    "prime_list = [2]\n",
    "if n >2:\n",
    "    for number in range(2,n+1):\n",
    "        prime_flag = True\n",
    "        for prime in prime_list:\n",
    "            if number % prime == 0:\n",
    "                prime_flag = False\n",
    "                break\n",
    "        if prime_flag:\n",
    "            prime_list.append(number)\n",
    "# prime_list"
   ]
  },
  {
   "cell_type": "code",
   "execution_count": 1,
   "id": "25a43a79",
   "metadata": {},
   "outputs": [],
   "source": [
    "import rpy2.robjects as ro"
   ]
  },
  {
   "cell_type": "code",
   "execution_count": 29,
   "id": "121a2d32",
   "metadata": {},
   "outputs": [],
   "source": [
    "def prime_numbers (n):\n",
    "    \"\"\"\n",
    "    Create a list of prime number from 1 to n\n",
    "    input:\n",
    "        n = number until have to find prime numbers\n",
    "    \"\"\"\n",
    "\n",
    "    function = \"\"\"\n",
    "        prime_function <- function(n){\n",
    "          prime_list <- c(2)\n",
    "          if (n > 2){\n",
    "            for (number in 2:n){\n",
    "              prime_flag <- TRUE\n",
    "              for (prime in prime_list){\n",
    "                if ((number %% prime) == 0){\n",
    "                  prime_flag <- FALSE\n",
    "                  break\n",
    "                }\n",
    "              }\n",
    "              if (prime_flag){\n",
    "                prime_list <- c(prime_list, number)\n",
    "              }\n",
    "            }\n",
    "          }\n",
    "          cat('Los numero primos entre 1 y ',n,' son: ') \n",
    "          cat(prime_list)\n",
    "        }\n",
    "    \"\"\"\n",
    "\n",
    "    ro.r(function)\n",
    "    prime_py = ro.globalenv['prime_function']\n",
    "    prime_py(n)"
   ]
  },
  {
   "cell_type": "code",
   "execution_count": 30,
   "id": "9f15b0e7",
   "metadata": {},
   "outputs": [
    {
     "name": "stdout",
     "output_type": "stream",
     "text": [
      "Los numero primos entre 1 y  89  son: 2 3 5 7 11 13 17 19 23 29 31 37 41 43 47 53 59 61 67 71 73 79 83 89"
     ]
    }
   ],
   "source": [
    "prime_numbers(89)"
   ]
  }
 ],
 "metadata": {
  "kernelspec": {
   "display_name": "Python 3",
   "language": "python",
   "name": "python3"
  },
  "language_info": {
   "codemirror_mode": {
    "name": "ipython",
    "version": 3
   },
   "file_extension": ".py",
   "mimetype": "text/x-python",
   "name": "python",
   "nbconvert_exporter": "python",
   "pygments_lexer": "ipython3",
   "version": "3.8.2"
  }
 },
 "nbformat": 4,
 "nbformat_minor": 5
}
