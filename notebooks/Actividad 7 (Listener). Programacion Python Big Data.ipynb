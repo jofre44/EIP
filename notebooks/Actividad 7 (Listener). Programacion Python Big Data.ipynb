{
 "cells": [
  {
   "cell_type": "markdown",
   "id": "a5cfdba6",
   "metadata": {},
   "source": [
    "Act 7. Programación Python para Big Data\n",
    "\n",
    "Alumno: Jose Sepulveda"
   ]
  },
  {
   "cell_type": "markdown",
   "id": "5b6fb836",
   "metadata": {},
   "source": [
    "## Actividad \n",
    "\n",
    "**Actividad Spark Streaming** (5,0 ptos)\n",
    "\n",
    "El alumno realizará una actividad usando Spark Streaming.\n",
    "\n",
    "**Respuesta:**\n",
    "\n",
    "Script del spark listener"
   ]
  },
  {
   "cell_type": "code",
   "execution_count": 1,
   "id": "da969615",
   "metadata": {},
   "outputs": [],
   "source": [
    "from pyspark import SparkConf,SparkContext\n",
    "from pyspark.streaming import StreamingContext\n",
    "from pyspark.sql import Row,SQLContext\n",
    "import sys\n",
    "import requests"
   ]
  },
  {
   "cell_type": "code",
   "execution_count": 2,
   "id": "f25363be",
   "metadata": {},
   "outputs": [
    {
     "name": "stderr",
     "output_type": "stream",
     "text": [
      "WARNING: An illegal reflective access operation has occurred\n",
      "WARNING: Illegal reflective access by org.apache.spark.unsafe.Platform (file:/usr/local/spark-3.1.2-bin-hadoop3.2/jars/spark-unsafe_2.12-3.1.2.jar) to constructor java.nio.DirectByteBuffer(long,int)\n",
      "WARNING: Please consider reporting this to the maintainers of org.apache.spark.unsafe.Platform\n",
      "WARNING: Use --illegal-access=warn to enable warnings of further illegal reflective access operations\n",
      "WARNING: All illegal access operations will be denied in a future release\n",
      "21/09/22 14:49:40 WARN NativeCodeLoader: Unable to load native-hadoop library for your platform... using builtin-java classes where applicable\n",
      "Using Spark's default log4j profile: org/apache/spark/log4j-defaults.properties\n",
      "Setting default log level to \"WARN\".\n",
      "To adjust logging level use sc.setLogLevel(newLevel). For SparkR, use setLogLevel(newLevel).\n"
     ]
    }
   ],
   "source": [
    "# crea una configuración spark\n",
    "conf = SparkConf()\n",
    "conf.setAppName(\"TwitterStreamApp\")\n",
    "# crea un contexto spark con la configuración anterior\n",
    "sc = SparkContext(conf=conf)\n",
    "sc.setLogLevel(\"ERROR\")\n",
    "# crea el Contexto Streaming desde el contexto spark visto arriba con intervalo de 2 segundos\n",
    "ssc = StreamingContext(sc, 2)\n",
    "# establece un punto de control para permitir la recuperación de RDD\n",
    "ssc.checkpoint(\"checkpoint_TwitterApp\")\n",
    "# lee data del puerto 9009\n",
    "dataStream = ssc.socketTextStream(\"localhost\",9009)"
   ]
  },
  {
   "cell_type": "code",
   "execution_count": 3,
   "id": "2ef72eb4",
   "metadata": {},
   "outputs": [
    {
     "name": "stderr",
     "output_type": "stream",
     "text": [
      "                                                                                \r"
     ]
    },
    {
     "name": "stdout",
     "output_type": "stream",
     "text": [
      "-------------------------------------------\n",
      "Time: 2021-09-22 14:49:44\n",
      "-------------------------------------------\n",
      "@cocherodracula @rafaelescrig carrasco vs amat 🤫\n",
      "\n"
     ]
    },
    {
     "name": "stderr",
     "output_type": "stream",
     "text": [
      "                                                                                \r"
     ]
    },
    {
     "name": "stdout",
     "output_type": "stream",
     "text": [
      "-------------------------------------------\n",
      "Time: 2021-09-22 14:49:46\n",
      "-------------------------------------------\n",
      "la palma no suma nuevos casos, cuenta con 1.092 acumulados y tiene 4 casos activos. https://t.co/urpmyhdsr2 @sanidadgobcan\n",
      "si su club tiene menos semifinales que damián díaz por favor absténgase de aparecer hoy 💀💀💀💀💀\n",
      "y pidiendo un listado de los pisos vacíos en la palma, para realojar a los 6000 desalojados por el volcán. no sabe… https://t.co/qybrhfetom\n",
      "\n"
     ]
    },
    {
     "name": "stderr",
     "output_type": "stream",
     "text": [
      "                                                                                \r"
     ]
    },
    {
     "name": "stdout",
     "output_type": "stream",
     "text": [
      "-------------------------------------------\n",
      "Time: 2021-09-22 14:49:48\n",
      "-------------------------------------------\n",
      "un rato de vida es vida, playa, cerveza, mariscos y música. https://t.co/bmb77mn5p6\n",
      "@barbsmascorro a quien?\n",
      "la alcaldía de araure continúa trabajando en la avenida bicentenaria en la colocación de las tapas de boca de visit… https://t.co/yqfcgcdbwl\n",
      "@m_olgascordero @lopezobrador_ mejor algún logro de su supuesta 4t.\n",
      "@mercedesrcervan @ferialibromad @olelibros @aidabsanchez @judithmateo @requenapilar @ogutierrezramos @antoninegre… https://t.co/6it8jzpgrv\n",
      "\n"
     ]
    },
    {
     "name": "stderr",
     "output_type": "stream",
     "text": [
      "                                                                                \r"
     ]
    },
    {
     "name": "stdout",
     "output_type": "stream",
     "text": [
      "-------------------------------------------\n",
      "Time: 2021-09-22 14:49:50\n",
      "-------------------------------------------\n",
      "piden un certificado de c1 cuando ni siquiera el nivel de la universidad que le dan a los estudiantes da para ello. :)\n",
      "@springsteen_81 @isabelgranadina yo me pregunto, ¿esa objeción de conciencia cuando es su consulta privada  se mantiene?\n",
      "me dijo que va a venir a una expo a gdl y si nos podemos ver y yo toda emocionada diciéndole que si y me sale con q… https://t.co/ayipqjfsp7\n",
      "luego dicen de las películas de disney https://t.co/q6kbcmfyak\n",
      "en medio de tanto dolor que nos ha dejado esta pandemia estas imágenes nos dan esperanza!! aqui nuestr@s héroes del… https://t.co/70t1mskb7b\n",
      "@nataliadsz pero nunca venis ni tu, ni @gabriieelin  que me dejó tirado... ni @menxu10fernand1 sois unos flojos.... tenéis miedo.\n",
      "@perrousuario y que pasó con este perrito, alguien lo ayudo????\n",
      "\n"
     ]
    },
    {
     "name": "stderr",
     "output_type": "stream",
     "text": [
      "                                                                                \r"
     ]
    },
    {
     "name": "stdout",
     "output_type": "stream",
     "text": [
      "-------------------------------------------\n",
      "Time: 2021-09-22 14:49:52\n",
      "-------------------------------------------\n",
      "te invitamos a la firma de “el coleccionista de asombros. literatura y vida. de sylvia plath a jorge luis borges” d… https://t.co/dvyoaahqj7\n",
      "@irvin_ve gracias carnal!\n",
      "\n"
     ]
    },
    {
     "name": "stderr",
     "output_type": "stream",
     "text": [
      "                                                                                \r"
     ]
    },
    {
     "name": "stdout",
     "output_type": "stream",
     "text": [
      "-------------------------------------------\n",
      "Time: 2021-09-22 14:49:54\n",
      "-------------------------------------------\n",
      "los envió a predicar el reino de dios y a curar a los enfermos.\n",
      "\n",
      "lucas 9, 1-6\n",
      "se me antojo un chocolate 🍫\n",
      "@rafaellacava10 ayuda her en riesgo estoy\n",
      "\n"
     ]
    },
    {
     "name": "stderr",
     "output_type": "stream",
     "text": [
      "                                                                                \r"
     ]
    },
    {
     "name": "stdout",
     "output_type": "stream",
     "text": [
      "-------------------------------------------\n",
      "Time: 2021-09-22 14:49:56\n",
      "-------------------------------------------\n",
      "🏴󠁵󠁳󠁴󠁸󠁿candace\n",
      "3411104557438310482810ghij https://t.co/mjag5rmosi\n",
      "@rodolfotografo en el df en la iglesia de polanco :)\n",
      "mi mamá ya tiene el presentimiento de que algo esta pasando, como le digo yo que se que es lo que esta pasando?\n",
      "\n",
      "el… https://t.co/kpgg1wibl0\n",
      "el meme como herramienta de comunicación política tiene un tiempo de vigencia. durante la pandemia se potenciaron a… https://t.co/qguebnjndn\n",
      "\n"
     ]
    },
    {
     "name": "stderr",
     "output_type": "stream",
     "text": [
      "                                                                                \r"
     ]
    },
    {
     "name": "stdout",
     "output_type": "stream",
     "text": [
      "-------------------------------------------\n",
      "Time: 2021-09-22 14:49:58\n",
      "-------------------------------------------\n",
      "yo mandándole mensajes subliminales a mi amiga 😏 https://t.co/jczh88hfgw\n",
      "@_cinnamoonart es el final de temporada? ay nooo 🥺🥺🥺\n",
      "tras unas horas de ayuno yamu puede volver a comer. y está voraz. https://t.co/lz6mfwzvhl\n",
      "importancia a lo importante\n",
      "🏴󠁵󠁳󠁴󠁸󠁿ellen\n",
      "1454063485284234555427cdef https://t.co/3amsmjk8x6\n",
      "usted no se vaja 😂😂\n",
      "@luisman00203343 @atlvalladolid @laligasportstv eso está hecho😊 https://t.co/6xphpn09xg\n",
      "siganme en insta https://t.co/ihghhxrgdc https://t.co/tc1bppz9vb\n",
      "dra: doctor, por que no prende su cámara? \n",
      "...\n",
      "\n"
     ]
    },
    {
     "name": "stderr",
     "output_type": "stream",
     "text": [
      "                                                                                \r"
     ]
    },
    {
     "name": "stdout",
     "output_type": "stream",
     "text": [
      "-------------------------------------------\n",
      "Time: 2021-09-22 14:50:00\n",
      "-------------------------------------------\n",
      "cultura profetica ft de la ghetto yo fumo https://t.co/uwhffxmogq via @youtube\n",
      "un pastor evangelista irá a la cárcel 4 años por abusos sexuales a un menor, 4 años??? le metía 50 asqueroso… https://t.co/40lzm4fm3f\n",
      "acaba de publicar una foto en san juan de lurigancho, lima, peru https://t.co/rvbjeyh71x\n",
      "yo necesito un tres golpe de noah 😩\n",
      "\n"
     ]
    },
    {
     "name": "stderr",
     "output_type": "stream",
     "text": [
      "                                                                                \r"
     ]
    },
    {
     "name": "stdout",
     "output_type": "stream",
     "text": [
      "-------------------------------------------\n",
      "Time: 2021-09-22 14:50:02\n",
      "-------------------------------------------\n",
      "@francisg_97 lo bueno ya tienes las 2 dosis, gracias baby por comentar....\n",
      "los que siguen a esta cuenta por las recetas gratis, ven que llevas un tiempo sin ponerlas pero ofreces 100 recetas… https://t.co/x0aohqxi7c\n",
      "jajajaja\n",
      "y luego dicen que es mala voluntad, 99% de corrupción y 1% de materia gris. no mamen!!!\n",
      "acabo de hacer la llamada más extraña de mi vida:\n",
      "-buenos días ¿podría ayudarme con un dinosaurio enfermo? hay que… https://t.co/rzri81axto\n",
      "@info7mty @telediariomty @televisamty no tenemos luz en la colonia rincón de guadalupe @cfe_contigo\n",
      "apuntada al b1 de francés ☑️\n",
      "\n"
     ]
    },
    {
     "name": "stderr",
     "output_type": "stream",
     "text": [
      "                                                                                \r"
     ]
    },
    {
     "name": "stdout",
     "output_type": "stream",
     "text": [
      "-------------------------------------------\n",
      "Time: 2021-09-22 14:50:04\n",
      "-------------------------------------------\n",
      "yo me vi y dije,,, pinches labios hermosos alv jajajajaja una se debe de echar porras porque no tengo pagafantas y… https://t.co/vjpmmlsech\n",
      "se gana sin problema\n",
      "no es lo que quieres, es lo que mereces.\n",
      "un bato golpeó mi carro con su puerta y ósea yo estaba viéndolo y nisiquiera me pidió disculpas wtf 🤬 🤬🤬\n",
      "@orienta_fp @jesus_fol @pacocanom es otra forma de machismo, trabajo \"doméstico\" de alto nivel. donde se deben reso… https://t.co/p10wxeyde1\n",
      "acaba de publicar una foto en gran via https://t.co/2jmpvjfejw\n",
      "@aleltbd @tavo541 y peor aún. el sr  matanza  manejando colombia  como su uberrimo\n",
      "@happycoffe13 el muy jijueputa cobarde tiene protegida su cuenta pero se fué d bloqueo. https://t.co/raiug958xu\n",
      "#ineptos #imbeciles #incompetentes que con #falso y #nefasto discurso elocuente destruyen y desgracian la vida de t… https://t.co/hzbjwefjrc\n",
      "\n"
     ]
    },
    {
     "name": "stderr",
     "output_type": "stream",
     "text": [
      "                                                                                \r"
     ]
    },
    {
     "name": "stdout",
     "output_type": "stream",
     "text": [
      "-------------------------------------------\n",
      "Time: 2021-09-22 14:50:06\n",
      "-------------------------------------------\n",
      "@diazcanelb @gabrielaespais y piensan que el socialismo del siglo xxi es la solución?\n",
      "\n",
      "que equivocados estan ud. co… https://t.co/tpwsgr7uy1\n",
      "los he visto dirigiendo tráfico.\n",
      "lo peor, solicitando dinero. ayer venía de puerto tejada y lo vi en la son bolívar… https://t.co/0epqz3js2k\n",
      "uffff manjar, muchas gracias doña @maguegro https://t.co/ukbojiolft\n",
      "mira el gatito que vi en https://t.co/zdb4jiseks\n",
      "uno de los placeres más sencillos de la vida es… desayunar con pan integral, queso amarillo y un buen café. 💖\n",
      "\n",
      "feli… https://t.co/mqo9caguby\n",
      "...\n",
      "\n"
     ]
    },
    {
     "name": "stderr",
     "output_type": "stream",
     "text": [
      "                                                                                \r"
     ]
    },
    {
     "name": "stdout",
     "output_type": "stream",
     "text": [
      "-------------------------------------------\n",
      "Time: 2021-09-22 14:50:08\n",
      "-------------------------------------------\n",
      "apenas es que esta saliendo la estropeada!!!\n",
      "que el #alzheirmer no nos detenga \n",
      "\n",
      "el amor no se borra https://t.co/lyhogvddc6\n",
      "días por que buenos los putazos que siento del entrene de ayer🦁😰\n",
      "el mundo laboral 🥴\n",
      "#leydegarantiases congresistas quieren dinero. por eso quieren robar #quieromasmedicos\n",
      "@mercader1 @ferdinandpr el abuso hacia los q creen en la estadidad ocurre gracias a una prensa complice q valida lo… https://t.co/us4jvkk29m\n",
      "\n"
     ]
    },
    {
     "name": "stderr",
     "output_type": "stream",
     "text": [
      "\r",
      "[Stage 0:>                                                          (0 + 1) / 1]\r"
     ]
    },
    {
     "name": "stdout",
     "output_type": "stream",
     "text": [
      "-------------------------------------------\n",
      "Time: 2021-09-22 14:50:10\n",
      "-------------------------------------------\n",
      "\n"
     ]
    },
    {
     "name": "stderr",
     "output_type": "stream",
     "text": [
      "\r",
      "                                                                                \r"
     ]
    },
    {
     "name": "stdout",
     "output_type": "stream",
     "text": [
      "-------------------------------------------\n",
      "Time: 2021-09-22 14:50:12\n",
      "-------------------------------------------\n",
      "acaba de publicar una foto en asados el gueguense https://t.co/ajue25veia\n",
      "he hecho el ejercicio de hoy ☑️\n",
      "video completo en facebook pagina  #entérateconraquel. \n",
      "agradezco a la sra. aminta barrios ; sus hijos marcel y ger… https://t.co/u2lrwwrcdb\n",
      "taller de intercambio de experiencias del proyecto de cooperacion triangular de cooperacion sobre energias renovabl… https://t.co/ykwelrw0tu\n",
      "como parte del proyecto de cooperacion sobre energias renovables y eficiencia energetica alemania-mexico-cuba, en l… https://t.co/szg5cettnf\n",
      "@fxntc @altafonte_spain hecho\n",
      "\n"
     ]
    },
    {
     "name": "stderr",
     "output_type": "stream",
     "text": [
      "                                                                                \r"
     ]
    },
    {
     "name": "stdout",
     "output_type": "stream",
     "text": [
      "-------------------------------------------\n",
      "Time: 2021-09-22 14:50:14\n",
      "-------------------------------------------\n",
      "blanco, amplio, luminoso, minimalista.\n",
      "\n",
      "solicita tu presupuesto al 04146145314\n",
      " o multlockmaracaibo@gmail.com en ma… https://t.co/wxe91mesez\n",
      "21 de septiembre 2021 es la segunda vez que estos sótanos se inundan desde que remodelaron la calle. @aytolucena,… https://t.co/de1v55xpk8\n",
      "@bouldermarydow no vercenmi\n",
      "buen día mándale cumbia a tu día. https://t.co/atflddbaix\n",
      "\n"
     ]
    },
    {
     "name": "stderr",
     "output_type": "stream",
     "text": [
      "                                                                                \r"
     ]
    },
    {
     "name": "stdout",
     "output_type": "stream",
     "text": [
      "-------------------------------------------\n",
      "Time: 2021-09-22 14:50:16\n",
      "-------------------------------------------\n",
      "mi deporte favorito es mandar a la mierda a esos que caminan por la calle en vez de la acera, que chucha se creen g… https://t.co/kyu2jzhqea\n",
      "@ljydmx @eddiemx2009 dos meses después estallaría la revolución y solo la mano firme de su rector, el dr joaquín eg… https://t.co/iyzsw91xma\n",
      "lo bueno es que podré comer pío pío after party, lo malo es que no llegaré ni a la 1 y ya querré irme a dormir 😩\n",
      "@plomo19792 @lavozsandinista @vivanicaragua13 @nuevaya @canal4ni @krupskaya_ny @nica_rojaynegra @uva22 @jonielka1… https://t.co/7c8q5fk22l\n",
      "no falla. ha sido desactivar la @aemet_murcia la alerta amarilla y empezar a escucharse truenos. 😅\n",
      "la cuota del día https://t.co/6bzepayeub es la siguiente. flamengo handicap - 2. esto significa que el equipo brasi… https://t.co/jorlgmjhij\n",
      "\n"
     ]
    },
    {
     "name": "stderr",
     "output_type": "stream",
     "text": [
      "                                                                                \r"
     ]
    },
    {
     "name": "stdout",
     "output_type": "stream",
     "text": [
      "-------------------------------------------\n",
      "Time: 2021-09-22 14:50:18\n",
      "-------------------------------------------\n",
      "trabajar en una marca en medio de esta era digital no debe limitarse a comunicados y boletines, ¿qué les parece si… https://t.co/48ql1sscdz\n",
      "@katybc4 un accidente en via de villagrande baby\n",
      "que ganas de ya sacar casita\n",
      "🏴󠁵󠁳󠁴󠁸󠁿philip\n",
      "7607442731306267883811ghij https://t.co/pexvuc33v9\n",
      "comunicados importantes… 🤡\n",
      "@begonzr no se de que estas hablando.\n",
      "acarigua enserio es carísimo nojoda https://t.co/w7f0for5sz\n",
      "\n"
     ]
    },
    {
     "name": "stderr",
     "output_type": "stream",
     "text": [
      "                                                                                \r"
     ]
    },
    {
     "name": "stdout",
     "output_type": "stream",
     "text": [
      "-------------------------------------------\n",
      "Time: 2021-09-22 14:50:20\n",
      "-------------------------------------------\n",
      "voy al nutri ☑️\n",
      "acaba de publicar una foto en crossfit bellum https://t.co/hd7ffpenas\n",
      "este clima está para todo, menos para dar clases😫!\n",
      "#medellín | en acciones para #construirconvivencia lo capturamos por medio de controles y solicitud de antecedentes… https://t.co/qtxbgicdy2\n",
      "siga metiendo perico vividor hpta!!, que eso es lo que ud sabe hacer buena vida. aprendiendo de los hampones de sus… https://t.co/fqpxwxvgsu\n",
      "la tasa de desahucios más alta de todo el país se da en la #regióndemurcia: \"547 tragedias\", dice la @pah_murcia.… https://t.co/svlxafscq9\n",
      "@silviaaaperez @hablandodetele1 @telecincoes anoche vi a un n periodista fuera de un casa,grabando a dos gatos que… https://t.co/kl6xcjtifk\n",
      "dos marplatenses sueltos en roma https://t.co/e5spjx5mnm\n",
      "\n"
     ]
    },
    {
     "name": "stderr",
     "output_type": "stream",
     "text": [
      "                                                                                \r"
     ]
    },
    {
     "name": "stdout",
     "output_type": "stream",
     "text": [
      "-------------------------------------------\n",
      "Time: 2021-09-22 14:50:22\n",
      "-------------------------------------------\n",
      "(cuasi) graduado 🎓 @ palacio de congresos conde ansúrez de la universidad de valladolid https://t.co/pe38rssgia\n",
      "@patermionostro @edocote que mediocridad y alto grado de delincuencia de estos candidatos, con edtos candidatos, se… https://t.co/b5eecgm4ee\n",
      "\n"
     ]
    },
    {
     "name": "stderr",
     "output_type": "stream",
     "text": [
      "                                                                                \r"
     ]
    },
    {
     "name": "stdout",
     "output_type": "stream",
     "text": [
      "-------------------------------------------\n",
      "Time: 2021-09-22 14:50:24\n",
      "-------------------------------------------\n",
      "@mcpolloh celades es mejor entrenador que koeman.\n",
      "me vas a querer 🦆da la vida?\n",
      "#pollo asado con patatas y cebolla #recetas #comida https://t.co/clc5hiertz\n",
      "@judi_arenaluza @francis70975747 ok me avisas cuando vengas !\n",
      "ya no fumo cigarro🤝 https://t.co/sv94kftzpa\n",
      "hoy conmemoramos el día mundial del rinoceronte 🦏 \n",
      "\n",
      "arturo y aurora, embajadores de su especie, están con nosotros… https://t.co/msbsdamssg\n",
      "que se hace con el contacto de un amigo cuando fallece , tengo 4 y no sé si eliminarlos del teléfono o dejarlos ahí 🥺\n",
      "\n"
     ]
    },
    {
     "name": "stderr",
     "output_type": "stream",
     "text": [
      "                                                                                \r"
     ]
    },
    {
     "name": "stdout",
     "output_type": "stream",
     "text": [
      "-------------------------------------------\n",
      "Time: 2021-09-22 14:50:26\n",
      "-------------------------------------------\n",
      "@allanstark si me escondes frente a todos\n",
      "acaba de publicar un video en los angeles, california https://t.co/6byzzki8fg\n",
      "\n"
     ]
    },
    {
     "name": "stderr",
     "output_type": "stream",
     "text": [
      "                                                                                \r"
     ]
    },
    {
     "name": "stdout",
     "output_type": "stream",
     "text": [
      "-------------------------------------------\n",
      "Time: 2021-09-22 14:50:28\n",
      "-------------------------------------------\n",
      "a los hipócritas no se les puede decir las cosas de frente por que se hacen los dignos… ps me vale v…😌\n",
      "buen día, habituales de la tuitósfera.\n",
      "¿café? https://t.co/ptdhwb4mal\n",
      "@juniorpepen vaaamo arriba pepén\n",
      "el cine mexicano es una porquería merecemos cine de calidad // en la + están haciendo su mejor esfuerzo no es lo mi… https://t.co/d7jcsrgmza\n",
      "ya en este momento el ecuatoriano promedio \n",
      "-se despierta barcelona , respira barcelona , come barcelona , sueña ,… https://t.co/akimpg1tyd\n",
      "\n"
     ]
    },
    {
     "name": "stderr",
     "output_type": "stream",
     "text": [
      "                                                                                \r"
     ]
    },
    {
     "name": "stdout",
     "output_type": "stream",
     "text": [
      "-------------------------------------------\n",
      "Time: 2021-09-22 14:50:30\n",
      "-------------------------------------------\n",
      "columbia ?\n",
      "temoaya bonito lugar .💙 https://t.co/5oem5xwu83\n",
      "@zeusray22 hazme una pcr por la garganta a ver si esta todo bien\n",
      "ayer se radicó la ponencia del presupuesto con 33 artículos nuevos y hoy empieza la discusión. \n",
      "\n",
      "además nos metiero… https://t.co/l1jsl8edsx\n",
      "uno de mis sueños ws caminar por europa con el cielo nublado y audifonos escuchando a billie ellish\n",
      "\n"
     ]
    },
    {
     "name": "stderr",
     "output_type": "stream",
     "text": [
      "                                                                                \r"
     ]
    },
    {
     "name": "stdout",
     "output_type": "stream",
     "text": [
      "-------------------------------------------\n",
      "Time: 2021-09-22 14:50:32\n",
      "-------------------------------------------\n",
      "pero como salió elegido congresista…\n",
      "a ver, por qué no le piden a sus votantes que se hagan cargo de este bodrio?\n",
      "t… https://t.co/oltc0imggh\n",
      "y ayer me di un cambio de look ☑️\n",
      "@luisgamer92sd @nintendoes pues te veremos en el entonces xd\n",
      "@becxscb45 que explana?\n",
      "@tiburciotrinqu3 @lopezdoriga kks yaaaa! primero méxico https://t.co/kx3eociyqk\n",
      "propuestas que van socavando la productividad laboral de los jóvenes, acostumbrándolos a ser mantenidos y no trabaj… https://t.co/liun6gvo6d\n",
      "\n"
     ]
    },
    {
     "name": "stderr",
     "output_type": "stream",
     "text": [
      "                                                                                \r"
     ]
    },
    {
     "name": "stdout",
     "output_type": "stream",
     "text": [
      "-------------------------------------------\n",
      "Time: 2021-09-22 14:50:34\n",
      "-------------------------------------------\n",
      "mira cuidaooooooo🤣🤣🤣🤣 @ harbor point https://t.co/3ms3f0bpb6\n",
      "tengo una canción de rafa que no se me sale de la cabeza 😩\n",
      "mi crossfit está súper cool 🙉🤤 pero extraño a mi coach\n",
      "🔹¿existe un currículo escolar que  introduzca los objetivos de desarrollo sostenible en el aula?\n",
      "\n",
      "🔹¿podemos introdu… https://t.co/k7lao4m1ja\n",
      "@notnehui @ricardocandadit estoy destinado a vivir en houston 🤩\n",
      "\n",
      "la ciudad se fundó el dia de mi cumpleaños 🥰💗\n",
      "dónde consigo uno así 😍😍😍😍\n",
      "\n"
     ]
    },
    {
     "name": "stderr",
     "output_type": "stream",
     "text": [
      "                                                                                \r"
     ]
    },
    {
     "name": "stdout",
     "output_type": "stream",
     "text": [
      "-------------------------------------------\n",
      "Time: 2021-09-22 14:50:36\n",
      "-------------------------------------------\n",
      "@kundera212 yo también\n",
      "¿te ubicas ? 📍\n",
      "\n",
      "calle 41 a la altura del florida sinú \n",
      "\n",
      "#monteria \n",
      "#cuentamemontería #monteriacordoba #drone \n",
      "\n",
      "📸:… https://t.co/kjvtdxq0s7\n",
      "privatizando la fp\n",
      "...\n",
      "\n"
     ]
    },
    {
     "name": "stderr",
     "output_type": "stream",
     "text": [
      "                                                                                \r"
     ]
    },
    {
     "name": "stdout",
     "output_type": "stream",
     "text": [
      "-------------------------------------------\n",
      "Time: 2021-09-22 14:50:38\n",
      "-------------------------------------------\n",
      "@tc333ana pero a veces uno se entiende con quien menos piensa me encantas\n",
      "con esto quiero decir que el termino que deben usar al irse de minecraft sería me fui por allí hay más apoyo.\n",
      "estamos listo sres! quien me invita a los beses de tres ?\n",
      "@izzy_hache con todo respeto, provoca darle una nalgada. una diosa totalmente de acuerdo 😝\n",
      "\n"
     ]
    },
    {
     "name": "stderr",
     "output_type": "stream",
     "text": [
      "                                                                                \r"
     ]
    },
    {
     "name": "stdout",
     "output_type": "stream",
     "text": [
      "-------------------------------------------\n",
      "Time: 2021-09-22 14:50:40\n",
      "-------------------------------------------\n",
      "la neta.\n",
      "🏴󠁵󠁳󠁴󠁸󠁿tamara\n",
      "8515748773316726152423ghij https://t.co/miucubj3rf\n",
      "@lingames_ esa zoy y0\n",
      "consigue hasta € 87,31 #aliexpressbonus #bonusbuddies\n",
      "¡tal vez también el premio gordo!\n",
      "https://t.co/5uonnlijdb\n",
      "hoy es uno de esos días donde quiero decirle a un #metalero que #badbunny es mucho mejor músico que metálica, si que los cuatro juntos. ✌🏻\n",
      "\n"
     ]
    },
    {
     "name": "stderr",
     "output_type": "stream",
     "text": [
      "                                                                                \r"
     ]
    },
    {
     "name": "stdout",
     "output_type": "stream",
     "text": [
      "-------------------------------------------\n",
      "Time: 2021-09-22 14:50:42\n",
      "-------------------------------------------\n",
      "cia, total, que al final puse la incidencia por internet y por carta certificada al correo de apartados de @vueling… https://t.co/bd28q84d75\n",
      "que alguien le eche ácido a este men por encima, gracias\n",
      "aberrante\n",
      "pa cuando la canicula\n",
      "@gabrielabolten @suinarap @bacteriasound escuche el tema que buena letra y buen estilo, 👏🏻👏🏻👏🏻 mucho talento en guatemala 🇬🇹\n",
      "\n"
     ]
    },
    {
     "name": "stderr",
     "output_type": "stream",
     "text": [
      "                                                                                \r"
     ]
    },
    {
     "name": "stdout",
     "output_type": "stream",
     "text": [
      "-------------------------------------------\n",
      "Time: 2021-09-22 14:50:44\n",
      "-------------------------------------------\n",
      "mi cuerpo me esta pidiendo morirme\n",
      "anthony 'el pitufo' de ávila fue capturado por presuntos delitos relacionados con el tráfico de estupefacientes en… https://t.co/njrlkc6wke\n",
      "un castigo egemplar para esta badura de las croacas podemistas drogao\n",
      "\n"
     ]
    },
    {
     "name": "stderr",
     "output_type": "stream",
     "text": [
      "                                                                                \r"
     ]
    },
    {
     "name": "stdout",
     "output_type": "stream",
     "text": [
      "-------------------------------------------\n",
      "Time: 2021-09-22 14:50:46\n",
      "-------------------------------------------\n",
      "el marketing de memes es al arte de aprovechar un momento oportuno. una imagen dice más que mil palabras y un meme… https://t.co/nl2df5wyig\n",
      "hay más solicitudes de aprehensión contra científicos que contra políticos corruptos del sexenio anterior.\n",
      "\n",
      "la cuar… https://t.co/msino83kiv\n",
      "feliz miércoles https://t.co/urp0rkoov5\n",
      "reunión muy productiva con embajador de chile 🇨🇱, tendremos vinculación con universidades importantes de este pais. https://t.co/kxkkp5njju\n",
      "\n"
     ]
    },
    {
     "name": "stderr",
     "output_type": "stream",
     "text": [
      "                                                                                \r"
     ]
    },
    {
     "name": "stdout",
     "output_type": "stream",
     "text": [
      "-------------------------------------------\n",
      "Time: 2021-09-22 14:50:48\n",
      "-------------------------------------------\n",
      "@ibaillanos buenísima xd\n",
      "@rondonlover @xochilt1270 @daktari1907 @soyfsln @winsanchez03 nicaragua #vacunandonospuebloquevence\n",
      "buenos días hoy amanecimos en modo expectativa.. con las noticias del #usd\n",
      "el #oro en una zona clave esperando cort… https://t.co/896ymbx8xn\n",
      "\n"
     ]
    },
    {
     "name": "stderr",
     "output_type": "stream",
     "text": [
      "                                                                                \r"
     ]
    },
    {
     "name": "stdout",
     "output_type": "stream",
     "text": [
      "-------------------------------------------\n",
      "Time: 2021-09-22 14:50:50\n",
      "-------------------------------------------\n",
      "que chimba enamorarse todos los días de la misma persona💛.\n",
      "por qué no te tatúas el culo? \n",
      "\n",
      "exclamó mì tierna y delicada madre.\n",
      "@rubenuria ¿este hombre no percibe el rechazo al cambio de escudo? \n",
      "https://t.co/a58qta6lys\n",
      "no será más fácil pedirle a dios que la salve y ese dinero dárselo a las familias necesitadas..\n",
      "desde bilbao también mandamos mucho ánimo y solidaridad a esas personas que están perdiéndolo todo por culpa de la… https://t.co/gca1n1re0d\n",
      "\n"
     ]
    },
    {
     "name": "stderr",
     "output_type": "stream",
     "text": [
      "                                                                                \r"
     ]
    },
    {
     "name": "stdout",
     "output_type": "stream",
     "text": [
      "-------------------------------------------\n",
      "Time: 2021-09-22 14:50:52\n",
      "-------------------------------------------\n",
      "🏴󠁵󠁳󠁴󠁸󠁿colleen\n",
      "8542648534687464564845stuv https://t.co/zqepsbt9r3\n",
      "cupos disponibles\n",
      "curso: excel avanzando\n",
      "horario: solo domingos  de 8:30am-12:30pm\n",
      "información: 0995441489\n",
      "aprendiz… https://t.co/nakucti9pm\n",
      "gracias por ser mi super amiga y por ser mi super amiga epidemiologa\n",
      " 💚💙. espero que sigamos cumpliendo muchisimos… https://t.co/goebhdhhaa\n",
      "\n"
     ]
    },
    {
     "name": "stderr",
     "output_type": "stream",
     "text": [
      "                                                                                \r"
     ]
    },
    {
     "name": "stdout",
     "output_type": "stream",
     "text": [
      "-------------------------------------------\n",
      "Time: 2021-09-22 14:50:54\n",
      "-------------------------------------------\n",
      "📣🤗🎶 tonight! 9/22/21 • 6-7pm ~ join our friends @uconnsocialwork virtually for “música de latino américa” featuring… https://t.co/c2161pautk\n",
      "@noticiastro por el billete baila el perro...\n",
      "el man: yo la embarre, pero hace tiempo.    🤡 🤡🤡🤡🤡🤡🤡🤡🤡\n",
      "y un día por fin aprendí  la diferencia entre la conexión y el apego.  una te da energía, la otra te la roba. https://t.co/jpipethvrx\n",
      "\n"
     ]
    },
    {
     "name": "stderr",
     "output_type": "stream",
     "text": [
      "                                                                                \r"
     ]
    },
    {
     "name": "stdout",
     "output_type": "stream",
     "text": [
      "-------------------------------------------\n",
      "Time: 2021-09-22 14:50:56\n",
      "-------------------------------------------\n",
      "tengo debilidad por la felicidad de mis amigos 🙅🏻‍♀️❤️\n",
      "jaja, nosotros queremos cena de despedida pero haziran no debería querer...mira la cara que le ha puesto ella cuand… https://t.co/pjhrwrhyin\n",
      "@carlos_huerta92 tu con progra\n",
      "ya me cansé de esperar, tuviste tiempo para decirme y parece como si nada pasara, pero el ambiente es gris y tú ind… https://t.co/99jmovxsqd\n",
      "@reformanacional @lopezobrador_ es verdad, este inútil diciendo que dejen los discursos, cuando es lo que hace todo… https://t.co/qkxc6ozpeg\n",
      "que grande es olona.\n",
      "\n",
      "macarena olona: «hoy, en españa, federico garcía lorca votaría a vox»: https://t.co/qivmlcudi6\n",
      "lo mejor que he leído hoy ♥️\n",
      "¡sí, a todo! https://t.co/n1zpbvwjzu\n",
      "\n"
     ]
    },
    {
     "name": "stderr",
     "output_type": "stream",
     "text": [
      "                                                                                \r"
     ]
    },
    {
     "name": "stdout",
     "output_type": "stream",
     "text": [
      "-------------------------------------------\n",
      "Time: 2021-09-22 14:50:58\n",
      "-------------------------------------------\n",
      "@cesar_moreno189 siempre\n",
      "buenos días ☀️ michi 🐈😻\n",
      "\n"
     ]
    },
    {
     "name": "stderr",
     "output_type": "stream",
     "text": [
      "                                                                                \r"
     ]
    },
    {
     "name": "stdout",
     "output_type": "stream",
     "text": [
      "-------------------------------------------\n",
      "Time: 2021-09-22 14:51:00\n",
      "-------------------------------------------\n",
      "listos para la segunda dosis, esos chamacos de 18 a 29, acudan a su vacuna 💉. en la #cdmx \n",
      "22/sep /2021 https://t.co/2xkuhlb9w8\n",
      "lo mejor de esta vida son los momentos y los recuerdo, asi que vive la vida como mejor te guste #acapulco #beach https://t.co/w7jjltfwqr\n",
      "no importa el físico.\n",
      "¿a dónde los hurtado patitas?\n",
      "vet appointment day. \n",
      "muy buenos días. https://t.co/6wkyxgegzj\n",
      "+2 para probar mañana (ya iré a 120)\n",
      "\n"
     ]
    },
    {
     "name": "stderr",
     "output_type": "stream",
     "text": [
      "                                                                                \r"
     ]
    },
    {
     "name": "stdout",
     "output_type": "stream",
     "text": [
      "-------------------------------------------\n",
      "Time: 2021-09-22 14:51:02\n",
      "-------------------------------------------\n",
      "delincuentes andan disfrazados con uniformes de reconocidas empresas de telefonía atracando y metiéndose a las vivi… https://t.co/ixclnray6w\n",
      "pero duele con toda su ma\n",
      "por fin conocí las caritas de tres hermanitos bebés (son cuatro) que sobreviven frente a un cauce pluvial en… https://t.co/dy9rfszkqp\n",
      "\n"
     ]
    },
    {
     "name": "stderr",
     "output_type": "stream",
     "text": [
      "                                                                                \r"
     ]
    },
    {
     "name": "stdout",
     "output_type": "stream",
     "text": [
      "-------------------------------------------\n",
      "Time: 2021-09-22 14:51:04\n",
      "-------------------------------------------\n",
      "estados unidos ya ha enviado 160 millones de estas dosis a 100 países, más de lo que han entregado todas las demás… https://t.co/zdfqbbty73\n",
      "@ivancepedacast espero muchísimos jóvenes se enteren bien y no se dejen seguir menospreciando salarial y políticamente!!!\n",
      "\n"
     ]
    },
    {
     "name": "stderr",
     "output_type": "stream",
     "text": [
      "                                                                                \r"
     ]
    },
    {
     "name": "stdout",
     "output_type": "stream",
     "text": [
      "-------------------------------------------\n",
      "Time: 2021-09-22 14:51:06\n",
      "-------------------------------------------\n",
      "#buenosdiasatodos  \n",
      "misticismo, tan esencial para la imaginación.\n",
      "hay acciones que uno compra y son beneficios fijos.\n",
      "que ganas de que algún putito estuviera mamandome la verga en el autobús 💦 #cruisingciudaddemexico  #gaymexico… https://t.co/i8idimcb5z\n",
      "\n"
     ]
    },
    {
     "name": "stderr",
     "output_type": "stream",
     "text": [
      "                                                                                \r"
     ]
    },
    {
     "name": "stdout",
     "output_type": "stream",
     "text": [
      "-------------------------------------------\n",
      "Time: 2021-09-22 14:51:08\n",
      "-------------------------------------------\n",
      "va a durar poco pero que satisfacción renunciar a un trabajo tan de la verga https://t.co/zlkblzvcna\n",
      "deli.....una buena explosión de cumm...\n",
      "babosadas. la umg es responsable también. debe retirar el título de doctora inmediatamente\n",
      "este otoño trae consigo muchos cambios y entre ellos el aprender a quererme bien\n",
      "@camiigq @_onegar es verdad, se me había olvidado eso, bye\n",
      "#leydegarantiases se les abren los ojos a los congresistas al presupuesto de la nación #quieromasmedicos\n",
      "\n"
     ]
    },
    {
     "name": "stderr",
     "output_type": "stream",
     "text": [
      "                                                                                \r"
     ]
    },
    {
     "name": "stdout",
     "output_type": "stream",
     "text": [
      "-------------------------------------------\n",
      "Time: 2021-09-22 14:51:10\n",
      "-------------------------------------------\n",
      "@rally2015ra @accionnacional @lillytellez @gn_mexico_ @sedenamx @semar_mx @rosaicela yo no menosprecio la valía de… https://t.co/c0fhjc1xbw\n",
      "@omaridrovo en general los ecuatorianos no tenemos noción de \"cantidad de dinero\"\n",
      "alguien está muy concentrado 😁 #dieguitobebé #amor #miercoles en ciudad azteca https://t.co/aetbm6ji6o\n",
      "queremos facilitar la movilidad y accesibilidad hacia el @aeromatecana. desde hoy se encuentra en página el concurs… https://t.co/nj2wp2tjfk\n",
      "@leninartieda @barcelonasc @imgstudio_ @nachomanging sin duda el deporte es poesía y @leninartieda lo expresa aquí.\n",
      "aqui no hay pecadores \n",
      "ni hay delito...😆🎶\n",
      "en la vereda #kilómetro11 y #lavizcaína actividades integradoras y formativas con niños, niñas y adolescentes, fort… https://t.co/uhhkoszyid\n",
      "maginate tu aquí que matan líderes ambientalistas y quieren explotar minería en los paramos\n",
      "esto envejeció mal 🤣🤡 https://t.co/sigmclsbub\n",
      "...\n",
      "\n"
     ]
    },
    {
     "name": "stderr",
     "output_type": "stream",
     "text": [
      "                                                                                \r"
     ]
    },
    {
     "name": "stdout",
     "output_type": "stream",
     "text": [
      "-------------------------------------------\n",
      "Time: 2021-09-22 14:51:12\n",
      "-------------------------------------------\n",
      "tras la salida de maría guevara al extranjero el @cdplazaamador hace posible el fichaje de  katherine calderón. \n",
      "\n",
      "c… https://t.co/gvvwlraxab\n",
      "te ves tan bien siendo tú... https://t.co/hhint4gk8v\n",
      "“dígale que pase”. shooting day. las fotos de @carmenruiz en madrid, spain https://t.co/3pb62vevab\n",
      "somos las decisiones difíciles que tomamos.\n",
      "\n"
     ]
    },
    {
     "name": "stderr",
     "output_type": "stream",
     "text": [
      "                                                                                \r"
     ]
    },
    {
     "name": "stdout",
     "output_type": "stream",
     "text": [
      "-------------------------------------------\n",
      "Time: 2021-09-22 14:51:14\n",
      "-------------------------------------------\n",
      "mi ideologia y mi aportación al arte asi como a mi activismo politico no es un simple hobby. es mi forma de pensar,… https://t.co/wo7nmuqw50\n",
      "mi mamá es el ser más hermoso, bondadoso e inteligente del mundo❤️\n",
      "@julianquintanat será que @quinterocalle con sus horrores, arrastrará en su debacle a personas reconocidas como a l… https://t.co/pn8rikadvr\n",
      "@laverdedejesusc @alexrojb putrefacto.  es la palabra.\n",
      "@feer_tn gracias a ti por elegirme para formar este gran equipo juntos amor. te amo con toda el alma! ❤\n",
      "tu lugar, para disfrutar del verano en la ciudad. ☀️ https://t.co/cwjvt2njb0\n",
      "@alvarez_vik @ricardoalemanmx @_lizvilchis señoritingo\n",
      "\n"
     ]
    },
    {
     "name": "stderr",
     "output_type": "stream",
     "text": [
      "\r",
      "[Stage 0:>                                                          (0 + 1) / 1]\r"
     ]
    },
    {
     "ename": "KeyboardInterrupt",
     "evalue": "",
     "output_type": "error",
     "traceback": [
      "\u001b[0;31m---------------------------------------------------------------------------\u001b[0m",
      "\u001b[0;31mKeyboardInterrupt\u001b[0m                         Traceback (most recent call last)",
      "\u001b[0;32m/tmp/ipykernel_4135/1413386103.py\u001b[0m in \u001b[0;36m<module>\u001b[0;34m\u001b[0m\n\u001b[1;32m      6\u001b[0m \u001b[0mssc\u001b[0m\u001b[0;34m.\u001b[0m\u001b[0mstart\u001b[0m\u001b[0;34m(\u001b[0m\u001b[0;34m)\u001b[0m\u001b[0;34m\u001b[0m\u001b[0;34m\u001b[0m\u001b[0m\n\u001b[1;32m      7\u001b[0m \u001b[0;31m# Wait for termination\u001b[0m\u001b[0;34m\u001b[0m\u001b[0;34m\u001b[0m\u001b[0;34m\u001b[0m\u001b[0m\n\u001b[0;32m----> 8\u001b[0;31m \u001b[0mssc\u001b[0m\u001b[0;34m.\u001b[0m\u001b[0mawaitTermination\u001b[0m\u001b[0;34m(\u001b[0m\u001b[0;34m)\u001b[0m\u001b[0;34m\u001b[0m\u001b[0;34m\u001b[0m\u001b[0m\n\u001b[0m",
      "\u001b[0;32m/usr/local/spark/python/pyspark/streaming/context.py\u001b[0m in \u001b[0;36mawaitTermination\u001b[0;34m(self, timeout)\u001b[0m\n\u001b[1;32m    197\u001b[0m         \"\"\"\n\u001b[1;32m    198\u001b[0m         \u001b[0;32mif\u001b[0m \u001b[0mtimeout\u001b[0m \u001b[0;32mis\u001b[0m \u001b[0;32mNone\u001b[0m\u001b[0;34m:\u001b[0m\u001b[0;34m\u001b[0m\u001b[0;34m\u001b[0m\u001b[0m\n\u001b[0;32m--> 199\u001b[0;31m             \u001b[0mself\u001b[0m\u001b[0;34m.\u001b[0m\u001b[0m_jssc\u001b[0m\u001b[0;34m.\u001b[0m\u001b[0mawaitTermination\u001b[0m\u001b[0;34m(\u001b[0m\u001b[0;34m)\u001b[0m\u001b[0;34m\u001b[0m\u001b[0;34m\u001b[0m\u001b[0m\n\u001b[0m\u001b[1;32m    200\u001b[0m         \u001b[0;32melse\u001b[0m\u001b[0;34m:\u001b[0m\u001b[0;34m\u001b[0m\u001b[0;34m\u001b[0m\u001b[0m\n\u001b[1;32m    201\u001b[0m             \u001b[0mself\u001b[0m\u001b[0;34m.\u001b[0m\u001b[0m_jssc\u001b[0m\u001b[0;34m.\u001b[0m\u001b[0mawaitTerminationOrTimeout\u001b[0m\u001b[0;34m(\u001b[0m\u001b[0mint\u001b[0m\u001b[0;34m(\u001b[0m\u001b[0mtimeout\u001b[0m \u001b[0;34m*\u001b[0m \u001b[0;36m1000\u001b[0m\u001b[0;34m)\u001b[0m\u001b[0;34m)\u001b[0m\u001b[0;34m\u001b[0m\u001b[0;34m\u001b[0m\u001b[0m\n",
      "\u001b[0;32m/usr/local/spark/python/lib/py4j-0.10.9-src.zip/py4j/java_gateway.py\u001b[0m in \u001b[0;36m__call__\u001b[0;34m(self, *args)\u001b[0m\n\u001b[1;32m   1301\u001b[0m             \u001b[0mproto\u001b[0m\u001b[0;34m.\u001b[0m\u001b[0mEND_COMMAND_PART\u001b[0m\u001b[0;34m\u001b[0m\u001b[0;34m\u001b[0m\u001b[0m\n\u001b[1;32m   1302\u001b[0m \u001b[0;34m\u001b[0m\u001b[0m\n\u001b[0;32m-> 1303\u001b[0;31m         \u001b[0manswer\u001b[0m \u001b[0;34m=\u001b[0m \u001b[0mself\u001b[0m\u001b[0;34m.\u001b[0m\u001b[0mgateway_client\u001b[0m\u001b[0;34m.\u001b[0m\u001b[0msend_command\u001b[0m\u001b[0;34m(\u001b[0m\u001b[0mcommand\u001b[0m\u001b[0;34m)\u001b[0m\u001b[0;34m\u001b[0m\u001b[0;34m\u001b[0m\u001b[0m\n\u001b[0m\u001b[1;32m   1304\u001b[0m         return_value = get_return_value(\n\u001b[1;32m   1305\u001b[0m             answer, self.gateway_client, self.target_id, self.name)\n",
      "\u001b[0;32m/usr/local/spark/python/lib/py4j-0.10.9-src.zip/py4j/java_gateway.py\u001b[0m in \u001b[0;36msend_command\u001b[0;34m(self, command, retry, binary)\u001b[0m\n\u001b[1;32m   1031\u001b[0m         \u001b[0mconnection\u001b[0m \u001b[0;34m=\u001b[0m \u001b[0mself\u001b[0m\u001b[0;34m.\u001b[0m\u001b[0m_get_connection\u001b[0m\u001b[0;34m(\u001b[0m\u001b[0;34m)\u001b[0m\u001b[0;34m\u001b[0m\u001b[0;34m\u001b[0m\u001b[0m\n\u001b[1;32m   1032\u001b[0m         \u001b[0;32mtry\u001b[0m\u001b[0;34m:\u001b[0m\u001b[0;34m\u001b[0m\u001b[0;34m\u001b[0m\u001b[0m\n\u001b[0;32m-> 1033\u001b[0;31m             \u001b[0mresponse\u001b[0m \u001b[0;34m=\u001b[0m \u001b[0mconnection\u001b[0m\u001b[0;34m.\u001b[0m\u001b[0msend_command\u001b[0m\u001b[0;34m(\u001b[0m\u001b[0mcommand\u001b[0m\u001b[0;34m)\u001b[0m\u001b[0;34m\u001b[0m\u001b[0;34m\u001b[0m\u001b[0m\n\u001b[0m\u001b[1;32m   1034\u001b[0m             \u001b[0;32mif\u001b[0m \u001b[0mbinary\u001b[0m\u001b[0;34m:\u001b[0m\u001b[0;34m\u001b[0m\u001b[0;34m\u001b[0m\u001b[0m\n\u001b[1;32m   1035\u001b[0m                 \u001b[0;32mreturn\u001b[0m \u001b[0mresponse\u001b[0m\u001b[0;34m,\u001b[0m \u001b[0mself\u001b[0m\u001b[0;34m.\u001b[0m\u001b[0m_create_connection_guard\u001b[0m\u001b[0;34m(\u001b[0m\u001b[0mconnection\u001b[0m\u001b[0;34m)\u001b[0m\u001b[0;34m\u001b[0m\u001b[0;34m\u001b[0m\u001b[0m\n",
      "\u001b[0;32m/usr/local/spark/python/lib/py4j-0.10.9-src.zip/py4j/java_gateway.py\u001b[0m in \u001b[0;36msend_command\u001b[0;34m(self, command)\u001b[0m\n\u001b[1;32m   1198\u001b[0m \u001b[0;34m\u001b[0m\u001b[0m\n\u001b[1;32m   1199\u001b[0m         \u001b[0;32mtry\u001b[0m\u001b[0;34m:\u001b[0m\u001b[0;34m\u001b[0m\u001b[0;34m\u001b[0m\u001b[0m\n\u001b[0;32m-> 1200\u001b[0;31m             \u001b[0manswer\u001b[0m \u001b[0;34m=\u001b[0m \u001b[0msmart_decode\u001b[0m\u001b[0;34m(\u001b[0m\u001b[0mself\u001b[0m\u001b[0;34m.\u001b[0m\u001b[0mstream\u001b[0m\u001b[0;34m.\u001b[0m\u001b[0mreadline\u001b[0m\u001b[0;34m(\u001b[0m\u001b[0;34m)\u001b[0m\u001b[0;34m[\u001b[0m\u001b[0;34m:\u001b[0m\u001b[0;34m-\u001b[0m\u001b[0;36m1\u001b[0m\u001b[0;34m]\u001b[0m\u001b[0;34m)\u001b[0m\u001b[0;34m\u001b[0m\u001b[0;34m\u001b[0m\u001b[0m\n\u001b[0m\u001b[1;32m   1201\u001b[0m             \u001b[0mlogger\u001b[0m\u001b[0;34m.\u001b[0m\u001b[0mdebug\u001b[0m\u001b[0;34m(\u001b[0m\u001b[0;34m\"Answer received: {0}\"\u001b[0m\u001b[0;34m.\u001b[0m\u001b[0mformat\u001b[0m\u001b[0;34m(\u001b[0m\u001b[0manswer\u001b[0m\u001b[0;34m)\u001b[0m\u001b[0;34m)\u001b[0m\u001b[0;34m\u001b[0m\u001b[0;34m\u001b[0m\u001b[0m\n\u001b[1;32m   1202\u001b[0m             \u001b[0;32mif\u001b[0m \u001b[0manswer\u001b[0m\u001b[0;34m.\u001b[0m\u001b[0mstartswith\u001b[0m\u001b[0;34m(\u001b[0m\u001b[0mproto\u001b[0m\u001b[0;34m.\u001b[0m\u001b[0mRETURN_MESSAGE\u001b[0m\u001b[0;34m)\u001b[0m\u001b[0;34m:\u001b[0m\u001b[0;34m\u001b[0m\u001b[0;34m\u001b[0m\u001b[0m\n",
      "\u001b[0;32m/opt/conda/lib/python3.9/socket.py\u001b[0m in \u001b[0;36mreadinto\u001b[0;34m(self, b)\u001b[0m\n\u001b[1;32m    702\u001b[0m         \u001b[0;32mwhile\u001b[0m \u001b[0;32mTrue\u001b[0m\u001b[0;34m:\u001b[0m\u001b[0;34m\u001b[0m\u001b[0;34m\u001b[0m\u001b[0m\n\u001b[1;32m    703\u001b[0m             \u001b[0;32mtry\u001b[0m\u001b[0;34m:\u001b[0m\u001b[0;34m\u001b[0m\u001b[0;34m\u001b[0m\u001b[0m\n\u001b[0;32m--> 704\u001b[0;31m                 \u001b[0;32mreturn\u001b[0m \u001b[0mself\u001b[0m\u001b[0;34m.\u001b[0m\u001b[0m_sock\u001b[0m\u001b[0;34m.\u001b[0m\u001b[0mrecv_into\u001b[0m\u001b[0;34m(\u001b[0m\u001b[0mb\u001b[0m\u001b[0;34m)\u001b[0m\u001b[0;34m\u001b[0m\u001b[0;34m\u001b[0m\u001b[0m\n\u001b[0m\u001b[1;32m    705\u001b[0m             \u001b[0;32mexcept\u001b[0m \u001b[0mtimeout\u001b[0m\u001b[0;34m:\u001b[0m\u001b[0;34m\u001b[0m\u001b[0;34m\u001b[0m\u001b[0m\n\u001b[1;32m    706\u001b[0m                 \u001b[0mself\u001b[0m\u001b[0;34m.\u001b[0m\u001b[0m_timeout_occurred\u001b[0m \u001b[0;34m=\u001b[0m \u001b[0;32mTrue\u001b[0m\u001b[0;34m\u001b[0m\u001b[0;34m\u001b[0m\u001b[0m\n",
      "\u001b[0;31mKeyboardInterrupt\u001b[0m: "
     ]
    }
   ],
   "source": [
    "words = dataStream.flatMap(lambda s: s.lower().split(\"__end\"))\n",
    "# Print the first ten elements of each DStream RDD to the console\n",
    "words.pprint()\n",
    "\n",
    "# Start computing\n",
    "ssc.start()        \n",
    "# Wait for termination\n",
    "ssc.awaitTermination()"
   ]
  },
  {
   "cell_type": "code",
   "execution_count": null,
   "id": "ef8751d1",
   "metadata": {},
   "outputs": [],
   "source": [
    "ssc.stop()"
   ]
  }
 ],
 "metadata": {
  "kernelspec": {
   "display_name": "Python 3 (ipykernel)",
   "language": "python",
   "name": "python3"
  },
  "language_info": {
   "codemirror_mode": {
    "name": "ipython",
    "version": 3
   },
   "file_extension": ".py",
   "mimetype": "text/x-python",
   "name": "python",
   "nbconvert_exporter": "python",
   "pygments_lexer": "ipython3",
   "version": "3.9.6"
  }
 },
 "nbformat": 4,
 "nbformat_minor": 5
}
