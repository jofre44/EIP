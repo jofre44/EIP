{
 "cells": [
  {
   "cell_type": "code",
   "execution_count": 34,
   "id": "5f023558",
   "metadata": {},
   "outputs": [],
   "source": [
    "import pandas as pd\n",
    "import yfinance as yf\n",
    "import plotly.express as px\n",
    "import streamlit as st\n",
    "pd.options.mode.chained_assignment = None "
   ]
  },
  {
   "cell_type": "code",
   "execution_count": 39,
   "id": "6c9b4dbb",
   "metadata": {},
   "outputs": [
    {
     "data": {
      "text/plain": [
       "{'Sector': 'sector',\n",
       " 'City': 'city',\n",
       " 'State': 'state',\n",
       " 'Country': 'country',\n",
       " 'Industry': 'industry',\n",
       " 'Payout Ratio': 'payoutRatio',\n",
       " 'Dividend Rate': 'dividendRate',\n",
       " 'Beta': 'beta',\n",
       " 'Market Cap': 'marketCap',\n",
       " 'Book Value': 'bookValue',\n",
       " 'Price To Book': 'priceToBook',\n",
       " 'Market Price': 'regularMarketPrice',\n",
       " 'Price To Earnigs': 'trailingPE',\n",
       " 'Employees': 'fullTimeEmployees'}"
      ]
     },
     "execution_count": 39,
     "metadata": {},
     "output_type": "execute_result"
    }
   ],
   "source": [
    "NUM_OPTIONS = {\n",
    "    'Payout Ratio': 'payoutRatio',\n",
    "    'Dividend Rate': 'dividendRate',\n",
    "    'Beta': 'beta',\n",
    "    'Market Cap': 'marketCap',\n",
    "    'Book Value': 'bookValue',\n",
    "    'Price To Book': 'priceToBook',\n",
    "    'Market Price': 'regularMarketPrice',\n",
    "    'Price To Earnigs': 'trailingPE',\n",
    "    'Employees': 'fullTimeEmployees'\n",
    "}\n",
    "\n",
    "STR_OPTIONS = {\n",
    "    'Sector': 'sector',\n",
    "    'City': 'city',\n",
    "    'State': 'state',\n",
    "    'Country': 'country',\n",
    "    'Industry': 'industry',\n",
    "}\n",
    "LIST_OPTIONS ={**STR_OPTIONS, **NUM_OPTIONS}\n",
    "LIST_OPTIONS"
   ]
  },
  {
   "cell_type": "code",
   "execution_count": 40,
   "id": "1d5071ea",
   "metadata": {},
   "outputs": [],
   "source": [
    "combined_data = pd.read_csv('..\\stock_fundametals.csv')\n",
    "# combined_data = combined_data.reset_index()\n",
    "combined_data.columns = [\"Stock\", \"Drop\",\"Attribute\", \"Recent\"]    \n",
    "combined_data = combined_data[[\"Stock\", \"Attribute\", \"Recent\"]]\n",
    "combined_data = combined_data[combined_data['Attribute'].isin(LIST_OPTIONS.values())]"
   ]
  },
  {
   "cell_type": "code",
   "execution_count": 42,
   "id": "d8be2a33",
   "metadata": {},
   "outputs": [],
   "source": [
    "df_wide = combined_data.pivot(index='Stock', columns='Attribute', values='Recent')\n",
    "df_wide.fillna(0, inplace=True)\n",
    "df_wide.reset_index(inplace=True)"
   ]
  },
  {
   "cell_type": "code",
   "execution_count": 45,
   "id": "7a7cbeba",
   "metadata": {},
   "outputs": [
    {
     "data": {
      "application/vnd.plotly.v1+json": {
       "config": {
        "plotlyServerURL": "https://plot.ly"
       },
       "data": [
        {
         "branchvalues": "total",
         "customdata": [
          [
           0
          ],
          [
           0
          ],
          [
           0
          ],
          [
           0
          ],
          [
           "Bermuda"
          ],
          [
           "Ireland"
          ],
          [
           "Ireland"
          ],
          [
           "Ireland"
          ],
          [
           "Ireland"
          ],
          [
           "Ireland"
          ],
          [
           "Ireland"
          ],
          [
           "Ireland"
          ],
          [
           "Ireland"
          ],
          [
           "Ireland"
          ],
          [
           "Ireland"
          ],
          [
           "Ireland"
          ],
          [
           "Netherlands"
          ],
          [
           "Switzerland"
          ],
          [
           "Switzerland"
          ],
          [
           "Switzerland"
          ],
          [
           "Switzerland"
          ],
          [
           "United Kingdom"
          ],
          [
           "United Kingdom"
          ],
          [
           "United Kingdom"
          ],
          [
           "United Kingdom"
          ],
          [
           "United States"
          ],
          [
           "United States"
          ],
          [
           "United States"
          ],
          [
           "United States"
          ],
          [
           "United States"
          ],
          [
           "United States"
          ],
          [
           "United States"
          ],
          [
           "United States"
          ],
          [
           "United States"
          ],
          [
           "United States"
          ],
          [
           "United States"
          ],
          [
           "United States"
          ],
          [
           "United States"
          ],
          [
           "United States"
          ],
          [
           "United States"
          ],
          [
           "United States"
          ],
          [
           "United States"
          ],
          [
           "United States"
          ],
          [
           "United States"
          ],
          [
           "United States"
          ],
          [
           "United States"
          ],
          [
           "United States"
          ],
          [
           "United States"
          ],
          [
           "United States"
          ],
          [
           "United States"
          ],
          [
           "United States"
          ],
          [
           "United States"
          ],
          [
           "United States"
          ],
          [
           "United States"
          ],
          [
           "United States"
          ],
          [
           "United States"
          ],
          [
           "United States"
          ],
          [
           "United States"
          ],
          [
           "United States"
          ],
          [
           "United States"
          ],
          [
           "United States"
          ],
          [
           "United States"
          ],
          [
           "United States"
          ],
          [
           "United States"
          ],
          [
           "United States"
          ],
          [
           "United States"
          ],
          [
           "United States"
          ],
          [
           "United States"
          ],
          [
           "United States"
          ],
          [
           "United States"
          ],
          [
           "United States"
          ],
          [
           "United States"
          ],
          [
           "United States"
          ],
          [
           "United States"
          ],
          [
           "United States"
          ],
          [
           "United States"
          ],
          [
           "United States"
          ],
          [
           "United States"
          ],
          [
           "United States"
          ],
          [
           "United States"
          ],
          [
           "United States"
          ],
          [
           "United States"
          ],
          [
           "United States"
          ],
          [
           "United States"
          ],
          [
           "United States"
          ],
          [
           "United States"
          ],
          [
           "United States"
          ],
          [
           "United States"
          ],
          [
           "United States"
          ],
          [
           "United States"
          ],
          [
           "United States"
          ],
          [
           "United States"
          ],
          [
           "United States"
          ],
          [
           "United States"
          ],
          [
           "United States"
          ],
          [
           "United States"
          ],
          [
           "United States"
          ],
          [
           "United States"
          ],
          [
           "United States"
          ],
          [
           "United States"
          ],
          [
           "United States"
          ],
          [
           "United States"
          ],
          [
           "United States"
          ],
          [
           "United States"
          ],
          [
           "United States"
          ],
          [
           "United States"
          ],
          [
           "United States"
          ],
          [
           "United States"
          ],
          [
           "United States"
          ],
          [
           "United States"
          ],
          [
           "United States"
          ],
          [
           "United States"
          ],
          [
           "United States"
          ],
          [
           "United States"
          ],
          [
           "United States"
          ],
          [
           "United States"
          ],
          [
           "United States"
          ],
          [
           "United States"
          ],
          [
           "United States"
          ],
          [
           "United States"
          ],
          [
           "United States"
          ],
          [
           "United States"
          ],
          [
           "United States"
          ],
          [
           "United States"
          ],
          [
           "United States"
          ],
          [
           "United States"
          ],
          [
           "United States"
          ],
          [
           "United States"
          ],
          [
           "United States"
          ],
          [
           "United States"
          ],
          [
           "United States"
          ],
          [
           "United States"
          ],
          [
           "United States"
          ],
          [
           "United States"
          ],
          [
           "United States"
          ],
          [
           "United States"
          ],
          [
           "United States"
          ],
          [
           "United States"
          ],
          [
           "United States"
          ],
          [
           "United States"
          ],
          [
           "United States"
          ],
          [
           "United States"
          ],
          [
           "United States"
          ],
          [
           "United States"
          ],
          [
           "United States"
          ],
          [
           "United States"
          ],
          [
           "United States"
          ],
          [
           "United States"
          ],
          [
           "United States"
          ],
          [
           "United States"
          ],
          [
           "United States"
          ],
          [
           "United States"
          ],
          [
           "United States"
          ],
          [
           "United States"
          ],
          [
           "United States"
          ],
          [
           "United States"
          ],
          [
           "United States"
          ],
          [
           "United States"
          ],
          [
           "United States"
          ],
          [
           "United States"
          ],
          [
           "United States"
          ],
          [
           "United States"
          ],
          [
           "United States"
          ],
          [
           "United States"
          ],
          [
           "United States"
          ],
          [
           "United States"
          ],
          [
           "United States"
          ],
          [
           "United States"
          ],
          [
           "United States"
          ],
          [
           "United States"
          ],
          [
           "United States"
          ],
          [
           "United States"
          ],
          [
           "United States"
          ],
          [
           "United States"
          ],
          [
           "United States"
          ],
          [
           "United States"
          ],
          [
           "United States"
          ],
          [
           "United States"
          ],
          [
           "United States"
          ],
          [
           "United States"
          ],
          [
           "United States"
          ],
          [
           "United States"
          ],
          [
           "United States"
          ],
          [
           "United States"
          ],
          [
           "United States"
          ],
          [
           "United States"
          ],
          [
           "United States"
          ],
          [
           "United States"
          ],
          [
           "United States"
          ],
          [
           "United States"
          ],
          [
           "United States"
          ],
          [
           "United States"
          ],
          [
           "United States"
          ],
          [
           "United States"
          ],
          [
           "United States"
          ],
          [
           "United States"
          ],
          [
           "United States"
          ],
          [
           "United States"
          ],
          [
           "United States"
          ],
          [
           "United States"
          ],
          [
           "United States"
          ],
          [
           "United States"
          ],
          [
           "United States"
          ],
          [
           "United States"
          ],
          [
           "United States"
          ],
          [
           "United States"
          ],
          [
           "United States"
          ],
          [
           "United States"
          ],
          [
           "United States"
          ],
          [
           "United States"
          ],
          [
           "United States"
          ],
          [
           "United States"
          ],
          [
           "United States"
          ],
          [
           "United States"
          ],
          [
           "United States"
          ],
          [
           "United States"
          ],
          [
           "United States"
          ],
          [
           "United States"
          ],
          [
           "United States"
          ],
          [
           "United States"
          ],
          [
           "United States"
          ],
          [
           "United States"
          ],
          [
           "United States"
          ],
          [
           "United States"
          ],
          [
           "United States"
          ],
          [
           "United States"
          ],
          [
           "United States"
          ],
          [
           "United States"
          ],
          [
           "United States"
          ],
          [
           "United States"
          ],
          [
           "United States"
          ],
          [
           "United States"
          ],
          [
           "United States"
          ],
          [
           "United States"
          ],
          [
           "United States"
          ],
          [
           "United States"
          ],
          [
           "United States"
          ],
          [
           "United States"
          ],
          [
           "United States"
          ],
          [
           "United States"
          ],
          [
           "United States"
          ],
          [
           "United States"
          ],
          [
           "United States"
          ],
          [
           "United States"
          ],
          [
           "United States"
          ],
          [
           "United States"
          ],
          [
           "United States"
          ],
          [
           "United States"
          ],
          [
           "United States"
          ],
          [
           "United States"
          ],
          [
           "United States"
          ],
          [
           "United States"
          ],
          [
           "United States"
          ],
          [
           "United States"
          ],
          [
           "United States"
          ],
          [
           "United States"
          ],
          [
           "United States"
          ],
          [
           "United States"
          ],
          [
           "United States"
          ],
          [
           "United States"
          ],
          [
           "United States"
          ],
          [
           "United States"
          ],
          [
           "United States"
          ],
          [
           "United States"
          ],
          [
           "United States"
          ],
          [
           "United States"
          ],
          [
           "United States"
          ],
          [
           "United States"
          ],
          [
           "United States"
          ],
          [
           "United States"
          ],
          [
           "United States"
          ],
          [
           "United States"
          ],
          [
           "United States"
          ],
          [
           "United States"
          ],
          [
           "United States"
          ],
          [
           "United States"
          ],
          [
           "United States"
          ],
          [
           "United States"
          ],
          [
           "United States"
          ],
          [
           "United States"
          ],
          [
           "United States"
          ],
          [
           "United States"
          ],
          [
           "United States"
          ],
          [
           "United States"
          ],
          [
           "United States"
          ],
          [
           "United States"
          ],
          [
           "United States"
          ],
          [
           "United States"
          ],
          [
           "United States"
          ],
          [
           "United States"
          ],
          [
           "United States"
          ],
          [
           "United States"
          ],
          [
           "United States"
          ],
          [
           "United States"
          ],
          [
           "United States"
          ],
          [
           "United States"
          ],
          [
           "United States"
          ],
          [
           "United States"
          ],
          [
           "United States"
          ],
          [
           "United States"
          ],
          [
           "United States"
          ],
          [
           "United States"
          ],
          [
           "United States"
          ],
          [
           "United States"
          ],
          [
           "United States"
          ],
          [
           "United States"
          ],
          [
           "United States"
          ],
          [
           "United States"
          ],
          [
           "United States"
          ],
          [
           "United States"
          ],
          [
           "United States"
          ],
          [
           "United States"
          ],
          [
           "United States"
          ],
          [
           "United States"
          ],
          [
           "United States"
          ],
          [
           "United States"
          ],
          [
           "United States"
          ],
          [
           "United States"
          ],
          [
           "United States"
          ],
          [
           "United States"
          ],
          [
           "United States"
          ],
          [
           "United States"
          ],
          [
           "United States"
          ],
          [
           "United States"
          ],
          [
           "United States"
          ],
          [
           "United States"
          ],
          [
           "United States"
          ],
          [
           "United States"
          ],
          [
           "United States"
          ],
          [
           "United States"
          ],
          [
           "United States"
          ],
          [
           "United States"
          ],
          [
           "United States"
          ],
          [
           "United States"
          ],
          [
           "United States"
          ],
          [
           "United States"
          ],
          [
           "United States"
          ],
          [
           "United States"
          ],
          [
           "United States"
          ],
          [
           "United States"
          ],
          [
           "United States"
          ],
          [
           "United States"
          ],
          [
           "United States"
          ],
          [
           "United States"
          ],
          [
           "United States"
          ],
          [
           "United States"
          ],
          [
           "United States"
          ],
          [
           "United States"
          ],
          [
           "United States"
          ],
          [
           "United States"
          ],
          [
           "United States"
          ],
          [
           "United States"
          ],
          [
           "United States"
          ],
          [
           "United States"
          ],
          [
           "United States"
          ],
          [
           "United States"
          ],
          [
           "United States"
          ],
          [
           "United States"
          ],
          [
           "United States"
          ],
          [
           "United States"
          ],
          [
           "United States"
          ],
          [
           "United States"
          ],
          [
           "United States"
          ],
          [
           "United States"
          ],
          [
           "United States"
          ],
          [
           "United States"
          ],
          [
           "United States"
          ],
          [
           "United States"
          ],
          [
           "United States"
          ],
          [
           "United States"
          ],
          [
           "United States"
          ],
          [
           "United States"
          ],
          [
           "United States"
          ],
          [
           "United States"
          ],
          [
           "United States"
          ],
          [
           "United States"
          ],
          [
           "United States"
          ],
          [
           "United States"
          ],
          [
           "United States"
          ],
          [
           "United States"
          ],
          [
           "United States"
          ],
          [
           "United States"
          ],
          [
           "United States"
          ],
          [
           "United States"
          ],
          [
           "United States"
          ],
          [
           "United States"
          ],
          [
           "United States"
          ],
          [
           "United States"
          ],
          [
           "United States"
          ],
          [
           "United States"
          ],
          [
           "United States"
          ],
          [
           "United States"
          ],
          [
           "United States"
          ],
          [
           "United States"
          ],
          [
           "United States"
          ],
          [
           "United States"
          ],
          [
           "United States"
          ],
          [
           "United States"
          ],
          [
           "United States"
          ],
          [
           "United States"
          ],
          [
           "United States"
          ],
          [
           "United States"
          ],
          [
           "United States"
          ],
          [
           "United States"
          ],
          [
           "United States"
          ],
          [
           "United States"
          ],
          [
           "United States"
          ],
          [
           "United States"
          ],
          [
           "United States"
          ],
          [
           "United States"
          ],
          [
           "United States"
          ],
          [
           "United States"
          ],
          [
           "United States"
          ],
          [
           "United States"
          ],
          [
           "United States"
          ],
          [
           "United States"
          ],
          [
           "United States"
          ],
          [
           "United States"
          ],
          [
           "United States"
          ],
          [
           "United States"
          ],
          [
           "United States"
          ],
          [
           "United States"
          ],
          [
           "United States"
          ],
          [
           "United States"
          ],
          [
           "United States"
          ],
          [
           "United States"
          ],
          [
           "United States"
          ],
          [
           "United States"
          ],
          [
           "United States"
          ],
          [
           "United States"
          ],
          [
           "United States"
          ],
          [
           "United States"
          ],
          [
           "United States"
          ],
          [
           "United States"
          ],
          [
           "United States"
          ],
          [
           "United States"
          ],
          [
           "United States"
          ],
          [
           "United States"
          ],
          [
           "United States"
          ],
          [
           "United States"
          ],
          [
           "United States"
          ],
          [
           "United States"
          ],
          [
           "United States"
          ],
          [
           "United States"
          ],
          [
           "United States"
          ],
          [
           "United States"
          ],
          [
           "United States"
          ],
          [
           "United States"
          ],
          [
           "United States"
          ],
          [
           "United States"
          ],
          [
           "United States"
          ],
          [
           "United States"
          ],
          [
           "United States"
          ],
          [
           "United States"
          ],
          [
           "United States"
          ],
          [
           "United States"
          ],
          [
           "United States"
          ],
          [
           "United States"
          ],
          [
           "United States"
          ],
          [
           "United States"
          ],
          [
           "United States"
          ],
          [
           "United States"
          ],
          [
           "United States"
          ],
          [
           "United States"
          ],
          [
           "United States"
          ],
          [
           "United States"
          ],
          [
           "United States"
          ],
          [
           "United States"
          ],
          [
           "United States"
          ],
          [
           "United States"
          ],
          [
           "United States"
          ],
          [
           "United States"
          ],
          [
           "United States"
          ],
          [
           "United States"
          ],
          [
           "United States"
          ],
          [
           "United States"
          ],
          [
           "United States"
          ],
          [
           "United States"
          ],
          [
           "United States"
          ],
          [
           "United States"
          ],
          [
           "United States"
          ],
          [
           "United States"
          ],
          [
           "United States"
          ],
          [
           "United States"
          ],
          [
           "United States"
          ],
          [
           "United States"
          ],
          [
           "United States"
          ],
          [
           "United States"
          ],
          [
           "United States"
          ],
          [
           "United States"
          ],
          [
           "United States"
          ],
          [
           "United States"
          ],
          [
           "United States"
          ],
          [
           "United States"
          ],
          [
           "United States"
          ],
          [
           "United States"
          ],
          [
           "United States"
          ],
          [
           "United States"
          ],
          [
           "United States"
          ],
          [
           "United States"
          ],
          [
           "United States"
          ],
          [
           "United States"
          ],
          [
           "United States"
          ],
          [
           "United States"
          ],
          [
           0
          ],
          [
           "United States"
          ],
          [
           "United States"
          ],
          [
           "United States"
          ],
          [
           "United States"
          ],
          [
           "United States"
          ],
          [
           "United States"
          ],
          [
           "United States"
          ],
          [
           "United States"
          ],
          [
           "United States"
          ],
          [
           "(?)"
          ],
          [
           "United States"
          ],
          [
           "United States"
          ],
          [
           "United States"
          ],
          [
           "United States"
          ],
          [
           "United States"
          ],
          [
           "United States"
          ],
          [
           "United States"
          ],
          [
           "United States"
          ],
          [
           "United States"
          ],
          [
           "United States"
          ],
          [
           "United States"
          ],
          [
           "United States"
          ],
          [
           "United States"
          ],
          [
           "(?)"
          ],
          [
           "United States"
          ],
          [
           "(?)"
          ],
          [
           "United States"
          ],
          [
           "United States"
          ],
          [
           "United States"
          ],
          [
           "United States"
          ],
          [
           "United States"
          ],
          [
           "United States"
          ],
          [
           "(?)"
          ],
          [
           "(?)"
          ],
          [
           "United States"
          ],
          [
           "(?)"
          ],
          [
           "United States"
          ],
          [
           "United States"
          ],
          [
           "United States"
          ],
          [
           "United States"
          ],
          [
           "United States"
          ],
          [
           "United States"
          ],
          [
           "United States"
          ],
          [
           "United States"
          ],
          [
           "United States"
          ],
          [
           "United States"
          ],
          [
           "United States"
          ],
          [
           "United States"
          ],
          [
           "United States"
          ],
          [
           "United States"
          ],
          [
           "(?)"
          ],
          [
           "(?)"
          ],
          [
           "United States"
          ],
          [
           "United States"
          ],
          [
           "(?)"
          ],
          [
           "Bermuda"
          ],
          [
           "United States"
          ],
          [
           "United States"
          ],
          [
           "United States"
          ],
          [
           "United States"
          ],
          [
           "United States"
          ],
          [
           "United States"
          ],
          [
           "United States"
          ],
          [
           "United States"
          ],
          [
           "(?)"
          ],
          [
           "United States"
          ],
          [
           "(?)"
          ],
          [
           "United States"
          ],
          [
           "United States"
          ],
          [
           "United States"
          ],
          [
           "United States"
          ],
          [
           "United States"
          ],
          [
           "United States"
          ],
          [
           "(?)"
          ],
          [
           "United States"
          ],
          [
           "United States"
          ],
          [
           "United States"
          ],
          [
           "United States"
          ],
          [
           "United States"
          ],
          [
           "United States"
          ],
          [
           "United States"
          ],
          [
           "United States"
          ],
          [
           "United States"
          ],
          [
           "United States"
          ],
          [
           "United States"
          ],
          [
           "United States"
          ],
          [
           "United States"
          ],
          [
           "United States"
          ],
          [
           "United States"
          ],
          [
           "(?)"
          ],
          [
           "Ireland"
          ],
          [
           "United States"
          ],
          [
           "(?)"
          ],
          [
           "United States"
          ],
          [
           "United States"
          ],
          [
           "United States"
          ],
          [
           "United States"
          ],
          [
           "(?)"
          ],
          [
           "(?)"
          ],
          [
           "United States"
          ],
          [
           "United States"
          ],
          [
           "United States"
          ],
          [
           "United States"
          ],
          [
           "United States"
          ],
          [
           "United States"
          ],
          [
           "United States"
          ],
          [
           "United States"
          ],
          [
           "United States"
          ],
          [
           "United States"
          ],
          [
           "United States"
          ],
          [
           "United States"
          ],
          [
           "United States"
          ],
          [
           "United States"
          ],
          [
           0
          ],
          [
           "(?)"
          ],
          [
           "United States"
          ],
          [
           "(?)"
          ],
          [
           "United States"
          ],
          [
           "United States"
          ],
          [
           "(?)"
          ],
          [
           "(?)"
          ],
          [
           "(?)"
          ],
          [
           "United States"
          ],
          [
           "(?)"
          ],
          [
           "United States"
          ]
         ],
         "domain": {
          "x": [
           0,
           1
          ],
          "y": [
           0,
           1
          ]
         },
         "hovertemplate": "labels=%{label}<br>marketCap=%{value}<br>parent=%{parent}<br>id=%{id}<br>country=%{customdata[0]}<extra></extra>",
         "ids": [
          "0/0/GD",
          "0/0/BSX",
          "0/0/BRK.B",
          "0/0/OGN",
          "Financial Services/Insurance—Reinsurance/RE",
          "Industrials/Security & Protection Services/ALLE",
          "Healthcare/Medical Instruments & Supplies/STE",
          "Consumer Cyclical/Auto Parts/APTV",
          "Industrials/Specialty Industrial Machinery/ETN",
          "Technology/Computer Hardware/STX",
          "Industrials/Specialty Industrial Machinery/TT",
          "Healthcare/Medical Devices/MDT",
          "Industrials/Engineering & Construction/JCI",
          "Technology/Information Technology Services/ACN",
          "Financial Services/Insurance Brokers/AON",
          "Healthcare/Drug Manufacturers—Specialty & Generic/PRGO",
          "Technology/Semiconductors/NXPI",
          "Technology/Electronic Components/TEL",
          "Financial Services/Insurance—Property & Casualty/CB",
          "Technology/Scientific & Technical Instruments/GRMN",
          "Consumer Cyclical/Packaging & Containers/AMCR",
          "Basic Materials/Specialty Chemicals/LIN",
          "Financial Services/Insurance Brokers/WLTW",
          "Industrials/Specialty Industrial Machinery/PNR",
          "Industrials/Consulting Services/INFO",
          "Basic Materials/Steel/NUE",
          "Financial Services/Asset Management/NTRS",
          "Technology/Computer Hardware/NTAP",
          "Technology/Semiconductors/NVDA",
          "Industrials/Aerospace & Defense/NOC",
          "Utilities/Utilities—Independent Power Producers/NRG",
          "Technology/Software—Application/NOW",
          "Energy/Oil & Gas Equipment & Services/NOV",
          "Industrials/Consulting Services/NLSN",
          "Technology/Software—Infrastructure/NLOK",
          "Consumer Cyclical/Footwear & Accessories/NKE",
          "Utilities/Utilities—Regulated Gas/NI",
          "Communication Services/Entertainment/NFLX",
          "Basic Materials/Gold/NEM",
          "Utilities/Utilities—Regulated Electric/NEE",
          "Industrials/Railroads/NSC",
          "Consumer Cyclical/Residential Construction/NVR",
          "Industrials/Trucking/ODFL",
          "Communication Services/Broadcasting/NWS",
          "Financial Services/Banks—Regional/PNC",
          "Consumer Defensive/Tobacco/PM",
          "Real Estate/REIT—Industrial/PLD",
          "Healthcare/Diagnostics & Research/PKI",
          "Consumer Cyclical/Packaging & Containers/PKG",
          "Consumer Cyclical/Residential Construction/PHM",
          "Industrials/Specialty Industrial Machinery/PH",
          "Financial Services/Insurance—Property & Casualty/PGR",
          "Consumer Defensive/Household & Personal Products/PG",
          "Financial Services/Insurance—Diversified/PFG",
          "Healthcare/Drug Manufacturers—General/PFE",
          "Consumer Defensive/Beverages—Non-Alcoholic/PEP",
          "Consumer Cyclical/Resorts & Casinos/PENN",
          "Consumer Defensive/Household & Personal Products/NWL",
          "Utilities/Utilities—Diversified/PEG",
          "Industrials/Farm & Heavy Construction Machinery/PCAR",
          "Financial Services/Banks—Regional/PBCT",
          "Industrials/Staffing & Employment Services/PAYX",
          "Technology/Software—Application/PAYC",
          "Energy/Oil & Gas E&P/OXY",
          "Industrials/Specialty Industrial Machinery/OTIS",
          "Consumer Cyclical/Specialty Retail/ORLY",
          "Technology/Software—Infrastructure/ORCL",
          "Communication Services/Advertising Agencies/OMC",
          "Energy/Oil & Gas Midstream/OKE",
          "Financial Services/Financial Data & Stock Exchanges/NDAQ",
          "Real Estate/REIT—Retail/O",
          "Communication Services/Broadcasting/NWSA",
          "Real Estate/REIT—Healthcare Facilities/PEAK",
          "Consumer Cyclical/Travel Services/NCLH",
          "Technology/Communication Equipment/MSI",
          "Technology/Semiconductors/MU",
          "Consumer Defensive/Packaged Foods/LW",
          "Consumer Cyclical/Resorts & Casinos/LVS",
          "Industrials/Airlines/LUV",
          "Communication Services/Telecom Services/LUMN",
          "Technology/Semiconductor Equipment & Materials/LRCX",
          "Consumer Cyclical/Home Improvement Retail/LOW",
          "Utilities/Utilities—Regulated Electric/LNT",
          "Financial Services/Insurance—Life/LNC",
          "Industrials/Aerospace & Defense/LMT",
          "Healthcare/Drug Manufacturers—General/LLY",
          "Consumer Cyclical/Auto Parts/LKQ",
          "Industrials/Aerospace & Defense/LHX",
          "Basic Materials/Specialty Chemicals/LYB",
          "Healthcare/Diagnostics & Research/LH",
          "Consumer Cyclical/Furnishings, Fixtures & Appliances/LEG",
          "Technology/Information Technology Services/LDOS",
          "Consumer Cyclical/Apparel Retail/LB",
          "Financial Services/Insurance—Property & Casualty/L",
          "Industrials/Railroads/KSU",
          "Consumer Defensive/Grocery Stores/KR",
          "Consumer Defensive/Beverages—Non-Alcoholic/KO",
          "Consumer Cyclical/Auto & Truck Dealerships/KMX",
          "Energy/Oil & Gas Midstream/KMI",
          "Consumer Defensive/Household & Personal Products/KMB",
          "Technology/Semiconductor Equipment & Materials/KLAC",
          "Real Estate/REIT—Retail/KIM",
          "Consumer Cyclical/Residential Construction/LEN",
          "Communication Services/Entertainment/LYV",
          "Financial Services/Credit Services/MA",
          "Real Estate/REIT—Residential/MAA",
          "Healthcare/Diagnostics & Research/MTD",
          "Financial Services/Banks—Regional/MTB",
          "Technology/Software—Infrastructure/MSFT",
          "Financial Services/Financial Data & Stock Exchanges/MSCI",
          "Financial Services/Capital Markets/MS",
          "Energy/Oil & Gas E&P/MRO",
          "Healthcare/Drug Manufacturers—General/MRK",
          "Technology/Semiconductors/MPWR",
          "Energy/Oil & Gas Refining & Marketing/MPC",
          "Basic Materials/Agricultural Inputs/MOS",
          "Consumer Defensive/Tobacco/MO",
          "Consumer Defensive/Beverages—Non-Alcoholic/MNST",
          "Industrials/Specialty Industrial Machinery/MMM",
          "Financial Services/Insurance Brokers/MMC",
          "Basic Materials/Building Materials/MLM",
          "Financial Services/Capital Markets/MKTX",
          "Consumer Defensive/Packaged Foods/MKC",
          "Consumer Cyclical/Furnishings, Fixtures & Appliances/MHK",
          "Consumer Cyclical/Resorts & Casinos/MGM",
          "Financial Services/Insurance—Life/MET",
          "Consumer Defensive/Confectioners/MDLZ",
          "Financial Services/Financial Data & Stock Exchanges/MCO",
          "Healthcare/Medical Distribution/MCK",
          "Technology/Semiconductors/MCHP",
          "Consumer Cyclical/Restaurants/MCD",
          "Industrials/Building Products & Equipment/MAS",
          "Consumer Cyclical/Lodging/MAR",
          "Technology/Semiconductors/MXIM",
          "Utilities/Utilities—Regulated Electric/PNW",
          "Technology/Software—Application/PTC",
          "Basic Materials/Specialty Chemicals/PPG",
          "Real Estate/REIT—Office/VNO",
          "Basic Materials/Building Materials/VMC",
          "Energy/Oil & Gas Refining & Marketing/VLO",
          "Communication Services/Entertainment/VIAC",
          "Consumer Cyclical/Apparel Manufacturing/VFC",
          "Financial Services/Credit Services/V",
          "Financial Services/Banks—Regional/USB",
          "Industrials/Rental & Leasing Services/URI",
          "Industrials/Integrated Freight & Logistics/UPS",
          "Industrials/Railroads/UNP",
          "Financial Services/Insurance—Life/UNM",
          "Healthcare/Healthcare Plans/UNH",
          "Industrials/Consulting Services/VRSK",
          "Consumer Cyclical/Specialty Retail/ULTA",
          "Real Estate/REIT—Residential/UDR",
          "Industrials/Airlines/UAL",
          "Consumer Cyclical/Apparel Manufacturing/UAA",
          "Consumer Cyclical/Apparel Manufacturing/UA",
          "Technology/Software—Application/TYL",
          "Industrials/Aerospace & Defense/TXT",
          "Technology/Semiconductors/TXN",
          "Communication Services/Internet Content & Information/TWTR",
          "Communication Services/Electronic Gaming & Multimedia/TTWO",
          "Consumer Defensive/Farm Products/TSN",
          "Consumer Cyclical/Auto Manufacturers/TSLA",
          "Consumer Cyclical/Specialty Retail/TSCO",
          "Healthcare/Medical Care Facilities/UHS",
          "Technology/Software—Infrastructure/VRSN",
          "Healthcare/Biotechnology/VRTX",
          "Real Estate/REIT—Healthcare Facilities/VTR",
          "Technology/Communication Equipment/ZBRA",
          "Healthcare/Medical Devices/ZBH",
          "Consumer Cyclical/Restaurants/YUM",
          "Industrials/Specialty Industrial Machinery/XYL",
          "Healthcare/Medical Instruments & Supplies/XRAY",
          "Energy/Oil & Gas Integrated/XOM",
          "Technology/Semiconductors/XLNX",
          "Utilities/Utilities—Regulated Electric/XEL",
          "Consumer Cyclical/Resorts & Casinos/WYNN",
          "Real Estate/REIT—Specialty/WY",
          "Financial Services/Credit Services/WU",
          "Healthcare/Medical Instruments & Supplies/WST",
          "Consumer Cyclical/Packaging & Containers/WRK",
          "Financial Services/Insurance—Property & Casualty/WRB",
          "Consumer Defensive/Discount Stores/WMT",
          "Energy/Oil & Gas Midstream/WMB",
          "Industrials/Waste Management/WM",
          "Consumer Cyclical/Furnishings, Fixtures & Appliances/WHR",
          "Financial Services/Banks—Diversified/WFC",
          "Real Estate/REIT—Healthcare Facilities/WELL",
          "Utilities/Utilities—Regulated Electric/WEC",
          "Technology/Computer Hardware/WDC",
          "Healthcare/Pharmaceutical Retailers/WBA",
          "Healthcare/Diagnostics & Research/WAT",
          "Industrials/Railroads/WAB",
          "Communication Services/Telecom Services/VZ",
          "Healthcare/Drug Manufacturers—Specialty & Generic/VTRS",
          "Financial Services/Insurance—Property & Casualty/TRV",
          "Consumer Cyclical/Leisure/POOL",
          "Financial Services/Asset Management/TROW",
          "Consumer Cyclical/Luxury Goods/TPR",
          "Real Estate/REIT—Specialty/SBAC",
          "Industrials/Aerospace & Defense/RTX",
          "Industrials/Waste Management/RSG",
          "Consumer Cyclical/Apparel Retail/ROST",
          "Industrials/Specialty Industrial Machinery/ROP",
          "Consumer Cyclical/Personal Services/ROL",
          "Industrials/Specialty Industrial Machinery/ROK",
          "Healthcare/Medical Instruments & Supplies/RMD",
          "Consumer Cyclical/Apparel Manufacturing/RL",
          "Financial Services/Capital Markets/RJF",
          "Industrials/Staffing & Employment Services/RHI",
          "Financial Services/Banks—Regional/RF",
          "Consumer Cyclical/Restaurants/SBUX",
          "Healthcare/Biotechnology/REGN",
          "Consumer Cyclical/Travel Services/RCL",
          "Technology/Semiconductors/QRVO",
          "Technology/Semiconductors/QCOM",
          "Financial Services/Credit Services/PYPL",
          "Energy/Oil & Gas E&P/PXD",
          "Industrials/Engineering & Construction/PWR",
          "Consumer Cyclical/Apparel Manufacturing/PVH",
          "Consumer Defensive/Packaged Foods/KHC",
          "Energy/Oil & Gas Refining & Marketing/PSX",
          "Real Estate/REIT—Industrial/PSA",
          "Financial Services/Insurance—Life/PRU",
          "Utilities/Utilities—Regulated Electric/PPL",
          "Real Estate/REIT—Retail/REG",
          "Financial Services/Capital Markets/SCHW",
          "Consumer Cyclical/Packaging & Containers/SEE",
          "Basic Materials/Specialty Chemicals/SHW",
          "Communication Services/Telecom Services/TMUS",
          "Healthcare/Diagnostics & Research/TMO",
          "Consumer Cyclical/Apparel Retail/TJX",
          "Consumer Defensive/Discount Stores/TGT",
          "Healthcare/Medical Instruments & Supplies/TFX",
          "Financial Services/Banks—Regional/TFC",
          "Technology/Semiconductor Equipment & Materials/TER",
          "Technology/Scientific & Technical Instruments/TDY",
          "Industrials/Aerospace & Defense/TDG",
          "Consumer Defensive/Beverages—Brewers/TAP",
          "Communication Services/Telecom Services/T",
          "Consumer Defensive/Food Distribution/SYY",
          "Healthcare/Medical Devices/SYK",
          "Financial Services/Credit Services/SYF",
          "Technology/Semiconductors/SWKS",
          "Industrials/Tools & Accessories/SWK",
          "Consumer Defensive/Beverages—Wineries & Distilleries/STZ",
          "Financial Services/Asset Management/STT",
          "Utilities/Utilities—Diversified/SRE",
          "Financial Services/Financial Data & Stock Exchanges/SPGI",
          "Real Estate/REIT—Retail/SPG",
          "Utilities/Utilities—Regulated Electric/SO",
          "Technology/Software—Infrastructure/SNPS",
          "Industrials/Tools & Accessories/SNA",
          "Energy/Oil & Gas Equipment & Services/SLB",
          "Consumer Defensive/Packaged Foods/SJM",
          "Financial Services/Banks—Regional/SIVB",
          "Technology/Scientific & Technical Instruments/TRMB",
          "Technology/Scientific & Technical Instruments/KEYS",
          "Healthcare/Diagnostics & Research/A",
          "Consumer Defensive/Packaged Foods/K",
          "Financial Services/Banks—Regional/CMA",
          "Consumer Defensive/Household & Personal Products/CLX",
          "Consumer Defensive/Household & Personal Products/CL",
          "Financial Services/Insurance—Property & Casualty/CINF",
          "Healthcare/Healthcare Plans/CI",
          "Communication Services/Entertainment/CHTR",
          "Industrials/Integrated Freight & Logistics/CHRW",
          "Consumer Defensive/Household & Personal Products/CHD",
          "Financial Services/Banks—Regional/CFG",
          "Basic Materials/Agricultural Inputs/CF",
          "Healthcare/Health Information Services/CERN",
          "Basic Materials/Chemicals/CE",
          "Communication Services/Entertainment/CMCSA",
          "Technology/Information Technology Services/CDW",
          "Consumer Cyclical/Travel Services/CCL",
          "Real Estate/REIT—Specialty/CCI",
          "Real Estate/Real Estate Services/CBRE",
          "Financial Services/Financial Data & Stock Exchanges/CBOE",
          "Industrials/Farm & Heavy Construction Machinery/CAT",
          "Industrials/Building Products & Equipment/CARR",
          "Healthcare/Medical Distribution/CAH",
          "Consumer Defensive/Packaged Foods/CAG",
          "Financial Services/Banks—Diversified/C",
          "Real Estate/REIT—Office/BXP",
          "Consumer Cyclical/Auto Parts/BWA",
          "Technology/Information Technology Services/BR",
          "Technology/Software—Application/CDNS",
          "Financial Services/Financial Data & Stock Exchanges/CME",
          "Consumer Cyclical/Restaurants/CMG",
          "Industrials/Specialty Industrial Machinery/CMI",
          "Financial Services/Credit Services/DFS",
          "Industrials/Farm & Heavy Construction Machinery/DE",
          "Basic Materials/Specialty Chemicals/DD",
          "Industrials/Airlines/DAL",
          "Utilities/Utilities—Regulated Electric/D",
          "Consumer Cyclical/Resorts & Casinos/CZR",
          "Energy/Oil & Gas Integrated/CVX",
          "Healthcare/Healthcare Plans/CVS",
          "Technology/Software—Application/CTXS",
          "Basic Materials/Agricultural Inputs/CTVA",
          "Technology/Information Technology Services/CTSH",
          "Healthcare/Drug Manufacturers—Specialty & Generic/CTLT",
          "Industrials/Specialty Business Services/CTAS",
          "Industrials/Railroads/CSX",
          "Technology/Communication Equipment/CSCO",
          "Technology/Software—Application/CRM",
          "Healthcare/Diagnostics & Research/CRL",
          "Industrials/Specialty Business Services/CPRT",
          "Consumer Defensive/Packaged Foods/CPB",
          "Consumer Defensive/Discount Stores/COST",
          "Energy/Oil & Gas E&P/COP",
          "Healthcare/Medical Instruments & Supplies/COO",
          "Energy/Oil & Gas E&P/COG",
          "Financial Services/Credit Services/COF",
          "Utilities/Utilities—Regulated Electric/CNP",
          "Healthcare/Healthcare Plans/CNC",
          "Utilities/Utilities—Regulated Electric/CMS",
          "Healthcare/Drug Manufacturers—General/BMY",
          "Consumer Cyclical/Packaging & Containers/BLL",
          "Financial Services/Asset Management/BLK",
          "Energy/Oil & Gas Equipment & Services/BKR",
          "Technology/Semiconductors/AMD",
          "Technology/Semiconductor Equipment & Materials/AMAT",
          "Healthcare/Biotechnology/ALXN",
          "Financial Services/Insurance—Property & Casualty/ALL",
          "Industrials/Airlines/ALK",
          "Healthcare/Medical Devices/ALGN",
          "Basic Materials/Specialty Chemicals/ALB",
          "Technology/Software—Infrastructure/AKAM",
          "Financial Services/Insurance Brokers/AJG",
          "Financial Services/Insurance—Specialty/AIZ",
          "Financial Services/Insurance—Diversified/AIG",
          "Financial Services/Insurance—Life/AFL",
          "Utilities/Utilities—Diversified/AES",
          "Utilities/Utilities—Regulated Electric/AEP",
          "Utilities/Utilities—Regulated Electric/AEE",
          "Technology/Software—Application/ADSK",
          "Industrials/Staffing & Employment Services/ADP",
          "Consumer Defensive/Farm Products/ADM",
          "Technology/Semiconductors/ADI",
          "Technology/Software—Infrastructure/ADBE",
          "Healthcare/Medical Devices/ABT",
          "Healthcare/Medical Devices/ABMD",
          "Healthcare/Medical Distribution/ABC",
          "Healthcare/Drug Manufacturers—General/ABBV",
          "Technology/Consumer Electronics/AAPL",
          "Consumer Cyclical/Specialty Retail/AAP",
          "Industrials/Airlines/AAL",
          "Industrials/Specialty Industrial Machinery/AME",
          "Consumer Defensive/Discount Stores/DG",
          "Healthcare/Drug Manufacturers—General/AMGN",
          "Real Estate/REIT—Specialty/AMT",
          "Consumer Cyclical/Travel Services/BKNG",
          "Financial Services/Asset Management/BK",
          "Healthcare/Medical Devices/BIO",
          "Healthcare/Drug Manufacturers—General/BIIB",
          "Financial Services/Asset Management/BEN",
          "Healthcare/Medical Instruments & Supplies/BDX",
          "Consumer Cyclical/Specialty Retail/BBY",
          "Healthcare/Medical Instruments & Supplies/BAX",
          "Financial Services/Banks—Diversified/BAC",
          "Industrials/Aerospace & Defense/BA",
          "Consumer Cyclical/Specialty Retail/AZO",
          "Financial Services/Credit Services/AXP",
          "Utilities/Utilities—Regulated Water/AWK",
          "Industrials/Business Equipment & Supplies/AVY",
          "Technology/Semiconductors/AVGO",
          "Real Estate/REIT—Residential/AVB",
          "Communication Services/Electronic Gaming & Multimedia/ATVI",
          "Utilities/Utilities—Regulated Gas/ATO",
          "Real Estate/REIT—Office/ARE",
          "Technology/Electronic Components/APH",
          "Basic Materials/Chemicals/APD",
          "Energy/Oil & Gas E&P/APA",
          "Industrials/Specialty Industrial Machinery/AOS",
          "Healthcare/Healthcare Plans/ANTM",
          "Technology/Software—Application/ANSS",
          "Technology/Computer Hardware/ANET",
          "Consumer Cyclical/Internet Retail/AMZN",
          "Financial Services/Asset Management/AMP",
          "Healthcare/Diagnostics & Research/DGX",
          "Consumer Cyclical/Residential Construction/DHI",
          "Healthcare/Diagnostics & Research/DHR",
          "Consumer Defensive/Packaged Foods/HRL",
          "Technology/Computer Hardware/HPQ",
          "Technology/Communication Equipment/HPE",
          "Industrials/Specialty Industrial Machinery/HON",
          "Healthcare/Medical Instruments & Supplies/HOLX",
          "Consumer Cyclical/Lodging/HLT",
          "Industrials/Aerospace & Defense/HII",
          "Financial Services/Insurance—Diversified/HIG",
          "Energy/Oil & Gas E&P/HES",
          "Consumer Cyclical/Home Improvement Retail/HD",
          "Healthcare/Medical Care Facilities/HCA",
          "Consumer Cyclical/Apparel Manufacturing/HBI",
          "Financial Services/Banks—Regional/HBAN",
          "Consumer Cyclical/Leisure/HAS",
          "Energy/Oil & Gas Equipment & Services/HAL",
          "Industrials/Industrial Distribution/GWW",
          "Financial Services/Capital Markets/GS",
          "Consumer Cyclical/Apparel Retail/GPS",
          "Industrials/Specialty Business Services/GPN",
          "Consumer Cyclical/Specialty Retail/GPC",
          "Communication Services/Internet Content & Information/GOOGL",
          "Communication Services/Internet Content & Information/GOOG",
          "Industrials/Specialty Industrial Machinery/GNRC",
          "Consumer Cyclical/Auto Manufacturers/GM",
          "Technology/Electronic Components/GLW",
          "Financial Services/Insurance—Life/GL",
          "Consumer Defensive/Packaged Foods/GIS",
          "Healthcare/Medical Distribution/HSIC",
          "Healthcare/Drug Manufacturers—General/GILD",
          "Real Estate/REIT—Hotel & Motel/HST",
          "Healthcare/Healthcare Plans/HUM",
          "Financial Services/Banks—Diversified/JPM",
          "Technology/Communication Equipment/JNPR",
          "Healthcare/Drug Manufacturers—General/JNJ",
          "Technology/Information Technology Services/JKHY",
          "Financial Services/Banks—Regional/ZION",
          "Industrials/Integrated Freight & Logistics/JBHT",
          "Industrials/Engineering & Construction/J",
          "Financial Services/Asset Management/IVZ",
          "Industrials/Specialty Industrial Machinery/ITW",
          "Technology/Information Technology Services/IT",
          "Healthcare/Medical Instruments & Supplies/ISRG",
          "Real Estate/REIT—Specialty/IRM",
          "Industrials/Specialty Industrial Machinery/IR",
          "Healthcare/Diagnostics & Research/IQV",
          "Technology/Semiconductor Equipment & Materials/IPGP",
          "Communication Services/Advertising Agencies/IPG",
          "Consumer Cyclical/Packaging & Containers/IP",
          "Technology/Software—Application/INTU",
          "Technology/Semiconductors/INTC",
          "Healthcare/Biotechnology/INCY",
          "Healthcare/Diagnostics & Research/ILMN",
          "Basic Materials/Specialty Chemicals/IFF",
          "Industrials/Specialty Industrial Machinery/IEX",
          "Healthcare/Diagnostics & Research/IDXX",
          "Financial Services/Financial Data & Stock Exchanges/ICE",
          "Technology/Information Technology Services/IBM",
          "Industrials/Specialty Industrial Machinery/HWM",
          "Consumer Defensive/Confectioners/HSY",
          "Financial Services/Banks—Regional/KEY",
          "Industrials/Specialty Industrial Machinery/GE",
          "Technology/Software—Infrastructure/FTNT",
          "Technology/Solar/ENPH",
          "Industrials/Specialty Industrial Machinery/EMR",
          "Basic Materials/Chemicals/EMN",
          "Consumer Defensive/Household & Personal Products/EL",
          "Utilities/Utilities—Regulated Electric/EIX",
          "Industrials/Consulting Services/EFX",
          "Utilities/Utilities—Regulated Electric/ED",
          "Basic Materials/Specialty Chemicals/ECL",
          "Consumer Cyclical/Internet Retail/EBAY",
          "Communication Services/Electronic Gaming & Multimedia/EA",
          "Healthcare/Diagnostics & Research/DXCM",
          "Technology/Information Technology Services/DXC",
          "Energy/Oil & Gas E&P/DVN",
          "Healthcare/Medical Care Facilities/DVA",
          "Utilities/Utilities—Regulated Electric/DUK",
          "Utilities/Utilities—Regulated Electric/DTE",
          "Consumer Cyclical/Restaurants/DRI",
          "Real Estate/REIT—Industrial/DRE",
          "Consumer Cyclical/Restaurants/DPZ",
          "Basic Materials/Chemicals/DOW",
          "Industrials/Specialty Industrial Machinery/DOV",
          "Consumer Defensive/Discount Stores/DLTR",
          "Real Estate/REIT—Office/DLR",
          "Communication Services/Entertainment/DISH",
          "Communication Services/Entertainment/DISCK",
          "Communication Services/Entertainment/DISCA",
          "Communication Services/Entertainment/DIS",
          "Energy/Oil & Gas E&P/EOG",
          "Technology/Scientific & Technical Instruments/FTV",
          "Real Estate/REIT—Specialty/EQIX",
          "Utilities/Utilities—Regulated Electric/ES",
          "Real Estate/REIT—Retail/FRT",
          "Financial Services/Banks—Regional/FRC",
          "Communication Services/Broadcasting/FOXA",
          "Communication Services/Broadcasting/FOX",
          "Basic Materials/Agricultural Inputs/FMC",
          "Technology/Information Technology Services/FLT",
          "Financial Services/Banks—Regional/FITB",
          "Technology/Information Technology Services/FISV",
          "Technology/Information Technology Services/FIS",
          "Technology/Software—Infrastructure/FFIV",
          "Utilities/Utilities—Regulated Electric/FE",
          "Industrials/Integrated Freight & Logistics/FDX",
          "Basic Materials/Copper/FCX",
          "Consumer Cyclical/Furnishings, Fixtures & Appliances/FBHS",
          "Communication Services/Internet Content & Information/FB",
          "Industrials/Industrial Distribution/FAST",
          "Energy/Oil & Gas E&P/FANG",
          "Consumer Cyclical/Auto Manufacturers/F",
          "Real Estate/REIT—Industrial/EXR",
          "Consumer Cyclical/Travel Services/EXPE",
          "Industrials/Integrated Freight & Logistics/EXPD",
          "Utilities/Utilities—Diversified/EXC",
          "Healthcare/Medical Devices/EW",
          "Utilities/Utilities—Regulated Electric/EVRG",
          "Consumer Cyclical/Internet Retail/ETSY",
          "Utilities/Utilities—Regulated Electric/ETR",
          "Real Estate/REIT—Residential/ESS",
          "Real Estate/REIT—Residential/EQR",
          "Healthcare/Drug Manufacturers—Specialty & Generic/ZTS",
          "0/0",
          "Communication Services/Advertising Agencies",
          "Industrials/Aerospace & Defense",
          "Basic Materials/Agricultural Inputs",
          "Industrials/Airlines",
          "Consumer Cyclical/Apparel Manufacturing",
          "Consumer Cyclical/Apparel Retail",
          "Financial Services/Asset Management",
          "Consumer Cyclical/Auto & Truck Dealerships",
          "Consumer Cyclical/Auto Manufacturers",
          "Consumer Cyclical/Auto Parts",
          "Financial Services/Banks—Diversified",
          "Financial Services/Banks—Regional",
          "Consumer Defensive/Beverages—Brewers",
          "Consumer Defensive/Beverages—Non-Alcoholic",
          "Consumer Defensive/Beverages—Wineries & Distilleries",
          "Healthcare/Biotechnology",
          "Communication Services/Broadcasting",
          "Basic Materials/Building Materials",
          "Industrials/Building Products & Equipment",
          "Industrials/Business Equipment & Supplies",
          "Financial Services/Capital Markets",
          "Basic Materials/Chemicals",
          "Technology/Communication Equipment",
          "Technology/Computer Hardware",
          "Consumer Defensive/Confectioners",
          "Industrials/Consulting Services",
          "Technology/Consumer Electronics",
          "Basic Materials/Copper",
          "Financial Services/Credit Services",
          "Healthcare/Diagnostics & Research",
          "Consumer Defensive/Discount Stores",
          "Healthcare/Drug Manufacturers—General",
          "Healthcare/Drug Manufacturers—Specialty & Generic",
          "Technology/Electronic Components",
          "Communication Services/Electronic Gaming & Multimedia",
          "Industrials/Engineering & Construction",
          "Communication Services/Entertainment",
          "Industrials/Farm & Heavy Construction Machinery",
          "Consumer Defensive/Farm Products",
          "Financial Services/Financial Data & Stock Exchanges",
          "Consumer Defensive/Food Distribution",
          "Consumer Cyclical/Footwear & Accessories",
          "Consumer Cyclical/Furnishings, Fixtures & Appliances",
          "Basic Materials/Gold",
          "Consumer Defensive/Grocery Stores",
          "Healthcare/Health Information Services",
          "Healthcare/Healthcare Plans",
          "Consumer Cyclical/Home Improvement Retail",
          "Consumer Defensive/Household & Personal Products",
          "Industrials/Industrial Distribution",
          "Technology/Information Technology Services",
          "Financial Services/Insurance Brokers",
          "Financial Services/Insurance—Diversified",
          "Financial Services/Insurance—Life",
          "Financial Services/Insurance—Property & Casualty",
          "Financial Services/Insurance—Reinsurance",
          "Financial Services/Insurance—Specialty",
          "Industrials/Integrated Freight & Logistics",
          "Communication Services/Internet Content & Information",
          "Consumer Cyclical/Internet Retail",
          "Consumer Cyclical/Leisure",
          "Consumer Cyclical/Lodging",
          "Consumer Cyclical/Luxury Goods",
          "Healthcare/Medical Care Facilities",
          "Healthcare/Medical Devices",
          "Healthcare/Medical Distribution",
          "Healthcare/Medical Instruments & Supplies",
          "Energy/Oil & Gas E&P",
          "Energy/Oil & Gas Equipment & Services",
          "Energy/Oil & Gas Integrated",
          "Energy/Oil & Gas Midstream",
          "Energy/Oil & Gas Refining & Marketing",
          "Consumer Defensive/Packaged Foods",
          "Consumer Cyclical/Packaging & Containers",
          "Consumer Cyclical/Personal Services",
          "Healthcare/Pharmaceutical Retailers",
          "Real Estate/REIT—Healthcare Facilities",
          "Real Estate/REIT—Hotel & Motel",
          "Real Estate/REIT—Industrial",
          "Real Estate/REIT—Office",
          "Real Estate/REIT—Residential",
          "Real Estate/REIT—Retail",
          "Real Estate/REIT—Specialty",
          "Industrials/Railroads",
          "Real Estate/Real Estate Services",
          "Industrials/Rental & Leasing Services",
          "Consumer Cyclical/Residential Construction",
          "Consumer Cyclical/Resorts & Casinos",
          "Consumer Cyclical/Restaurants",
          "Technology/Scientific & Technical Instruments",
          "Industrials/Security & Protection Services",
          "Technology/Semiconductor Equipment & Materials",
          "Technology/Semiconductors",
          "Technology/Software—Application",
          "Technology/Software—Infrastructure",
          "Technology/Solar",
          "Industrials/Specialty Business Services",
          "Basic Materials/Specialty Chemicals",
          "Industrials/Specialty Industrial Machinery",
          "Consumer Cyclical/Specialty Retail",
          "Industrials/Staffing & Employment Services",
          "Basic Materials/Steel",
          "Communication Services/Telecom Services",
          "Consumer Defensive/Tobacco",
          "Industrials/Tools & Accessories",
          "Consumer Cyclical/Travel Services",
          "Industrials/Trucking",
          "Utilities/Utilities—Diversified",
          "Utilities/Utilities—Independent Power Producers",
          "Utilities/Utilities—Regulated Electric",
          "Utilities/Utilities—Regulated Gas",
          "Utilities/Utilities—Regulated Water",
          "Industrials/Waste Management",
          "0",
          "Basic Materials",
          "Communication Services",
          "Consumer Cyclical",
          "Consumer Defensive",
          "Energy",
          "Financial Services",
          "Healthcare",
          "Industrials",
          "Real Estate",
          "Technology",
          "Utilities"
         ],
         "labels": [
          "GD",
          "BSX",
          "BRK.B",
          "OGN",
          "RE",
          "ALLE",
          "STE",
          "APTV",
          "ETN",
          "STX",
          "TT",
          "MDT",
          "JCI",
          "ACN",
          "AON",
          "PRGO",
          "NXPI",
          "TEL",
          "CB",
          "GRMN",
          "AMCR",
          "LIN",
          "WLTW",
          "PNR",
          "INFO",
          "NUE",
          "NTRS",
          "NTAP",
          "NVDA",
          "NOC",
          "NRG",
          "NOW",
          "NOV",
          "NLSN",
          "NLOK",
          "NKE",
          "NI",
          "NFLX",
          "NEM",
          "NEE",
          "NSC",
          "NVR",
          "ODFL",
          "NWS",
          "PNC",
          "PM",
          "PLD",
          "PKI",
          "PKG",
          "PHM",
          "PH",
          "PGR",
          "PG",
          "PFG",
          "PFE",
          "PEP",
          "PENN",
          "NWL",
          "PEG",
          "PCAR",
          "PBCT",
          "PAYX",
          "PAYC",
          "OXY",
          "OTIS",
          "ORLY",
          "ORCL",
          "OMC",
          "OKE",
          "NDAQ",
          "O",
          "NWSA",
          "PEAK",
          "NCLH",
          "MSI",
          "MU",
          "LW",
          "LVS",
          "LUV",
          "LUMN",
          "LRCX",
          "LOW",
          "LNT",
          "LNC",
          "LMT",
          "LLY",
          "LKQ",
          "LHX",
          "LYB",
          "LH",
          "LEG",
          "LDOS",
          "LB",
          "L",
          "KSU",
          "KR",
          "KO",
          "KMX",
          "KMI",
          "KMB",
          "KLAC",
          "KIM",
          "LEN",
          "LYV",
          "MA",
          "MAA",
          "MTD",
          "MTB",
          "MSFT",
          "MSCI",
          "MS",
          "MRO",
          "MRK",
          "MPWR",
          "MPC",
          "MOS",
          "MO",
          "MNST",
          "MMM",
          "MMC",
          "MLM",
          "MKTX",
          "MKC",
          "MHK",
          "MGM",
          "MET",
          "MDLZ",
          "MCO",
          "MCK",
          "MCHP",
          "MCD",
          "MAS",
          "MAR",
          "MXIM",
          "PNW",
          "PTC",
          "PPG",
          "VNO",
          "VMC",
          "VLO",
          "VIAC",
          "VFC",
          "V",
          "USB",
          "URI",
          "UPS",
          "UNP",
          "UNM",
          "UNH",
          "VRSK",
          "ULTA",
          "UDR",
          "UAL",
          "UAA",
          "UA",
          "TYL",
          "TXT",
          "TXN",
          "TWTR",
          "TTWO",
          "TSN",
          "TSLA",
          "TSCO",
          "UHS",
          "VRSN",
          "VRTX",
          "VTR",
          "ZBRA",
          "ZBH",
          "YUM",
          "XYL",
          "XRAY",
          "XOM",
          "XLNX",
          "XEL",
          "WYNN",
          "WY",
          "WU",
          "WST",
          "WRK",
          "WRB",
          "WMT",
          "WMB",
          "WM",
          "WHR",
          "WFC",
          "WELL",
          "WEC",
          "WDC",
          "WBA",
          "WAT",
          "WAB",
          "VZ",
          "VTRS",
          "TRV",
          "POOL",
          "TROW",
          "TPR",
          "SBAC",
          "RTX",
          "RSG",
          "ROST",
          "ROP",
          "ROL",
          "ROK",
          "RMD",
          "RL",
          "RJF",
          "RHI",
          "RF",
          "SBUX",
          "REGN",
          "RCL",
          "QRVO",
          "QCOM",
          "PYPL",
          "PXD",
          "PWR",
          "PVH",
          "KHC",
          "PSX",
          "PSA",
          "PRU",
          "PPL",
          "REG",
          "SCHW",
          "SEE",
          "SHW",
          "TMUS",
          "TMO",
          "TJX",
          "TGT",
          "TFX",
          "TFC",
          "TER",
          "TDY",
          "TDG",
          "TAP",
          "T",
          "SYY",
          "SYK",
          "SYF",
          "SWKS",
          "SWK",
          "STZ",
          "STT",
          "SRE",
          "SPGI",
          "SPG",
          "SO",
          "SNPS",
          "SNA",
          "SLB",
          "SJM",
          "SIVB",
          "TRMB",
          "KEYS",
          "A",
          "K",
          "CMA",
          "CLX",
          "CL",
          "CINF",
          "CI",
          "CHTR",
          "CHRW",
          "CHD",
          "CFG",
          "CF",
          "CERN",
          "CE",
          "CMCSA",
          "CDW",
          "CCL",
          "CCI",
          "CBRE",
          "CBOE",
          "CAT",
          "CARR",
          "CAH",
          "CAG",
          "C",
          "BXP",
          "BWA",
          "BR",
          "CDNS",
          "CME",
          "CMG",
          "CMI",
          "DFS",
          "DE",
          "DD",
          "DAL",
          "D",
          "CZR",
          "CVX",
          "CVS",
          "CTXS",
          "CTVA",
          "CTSH",
          "CTLT",
          "CTAS",
          "CSX",
          "CSCO",
          "CRM",
          "CRL",
          "CPRT",
          "CPB",
          "COST",
          "COP",
          "COO",
          "COG",
          "COF",
          "CNP",
          "CNC",
          "CMS",
          "BMY",
          "BLL",
          "BLK",
          "BKR",
          "AMD",
          "AMAT",
          "ALXN",
          "ALL",
          "ALK",
          "ALGN",
          "ALB",
          "AKAM",
          "AJG",
          "AIZ",
          "AIG",
          "AFL",
          "AES",
          "AEP",
          "AEE",
          "ADSK",
          "ADP",
          "ADM",
          "ADI",
          "ADBE",
          "ABT",
          "ABMD",
          "ABC",
          "ABBV",
          "AAPL",
          "AAP",
          "AAL",
          "AME",
          "DG",
          "AMGN",
          "AMT",
          "BKNG",
          "BK",
          "BIO",
          "BIIB",
          "BEN",
          "BDX",
          "BBY",
          "BAX",
          "BAC",
          "BA",
          "AZO",
          "AXP",
          "AWK",
          "AVY",
          "AVGO",
          "AVB",
          "ATVI",
          "ATO",
          "ARE",
          "APH",
          "APD",
          "APA",
          "AOS",
          "ANTM",
          "ANSS",
          "ANET",
          "AMZN",
          "AMP",
          "DGX",
          "DHI",
          "DHR",
          "HRL",
          "HPQ",
          "HPE",
          "HON",
          "HOLX",
          "HLT",
          "HII",
          "HIG",
          "HES",
          "HD",
          "HCA",
          "HBI",
          "HBAN",
          "HAS",
          "HAL",
          "GWW",
          "GS",
          "GPS",
          "GPN",
          "GPC",
          "GOOGL",
          "GOOG",
          "GNRC",
          "GM",
          "GLW",
          "GL",
          "GIS",
          "HSIC",
          "GILD",
          "HST",
          "HUM",
          "JPM",
          "JNPR",
          "JNJ",
          "JKHY",
          "ZION",
          "JBHT",
          "J",
          "IVZ",
          "ITW",
          "IT",
          "ISRG",
          "IRM",
          "IR",
          "IQV",
          "IPGP",
          "IPG",
          "IP",
          "INTU",
          "INTC",
          "INCY",
          "ILMN",
          "IFF",
          "IEX",
          "IDXX",
          "ICE",
          "IBM",
          "HWM",
          "HSY",
          "KEY",
          "GE",
          "FTNT",
          "ENPH",
          "EMR",
          "EMN",
          "EL",
          "EIX",
          "EFX",
          "ED",
          "ECL",
          "EBAY",
          "EA",
          "DXCM",
          "DXC",
          "DVN",
          "DVA",
          "DUK",
          "DTE",
          "DRI",
          "DRE",
          "DPZ",
          "DOW",
          "DOV",
          "DLTR",
          "DLR",
          "DISH",
          "DISCK",
          "DISCA",
          "DIS",
          "EOG",
          "FTV",
          "EQIX",
          "ES",
          "FRT",
          "FRC",
          "FOXA",
          "FOX",
          "FMC",
          "FLT",
          "FITB",
          "FISV",
          "FIS",
          "FFIV",
          "FE",
          "FDX",
          "FCX",
          "FBHS",
          "FB",
          "FAST",
          "FANG",
          "F",
          "EXR",
          "EXPE",
          "EXPD",
          "EXC",
          "EW",
          "EVRG",
          "ETSY",
          "ETR",
          "ESS",
          "EQR",
          "ZTS",
          "0",
          "Advertising Agencies",
          "Aerospace & Defense",
          "Agricultural Inputs",
          "Airlines",
          "Apparel Manufacturing",
          "Apparel Retail",
          "Asset Management",
          "Auto & Truck Dealerships",
          "Auto Manufacturers",
          "Auto Parts",
          "Banks—Diversified",
          "Banks—Regional",
          "Beverages—Brewers",
          "Beverages—Non-Alcoholic",
          "Beverages—Wineries & Distilleries",
          "Biotechnology",
          "Broadcasting",
          "Building Materials",
          "Building Products & Equipment",
          "Business Equipment & Supplies",
          "Capital Markets",
          "Chemicals",
          "Communication Equipment",
          "Computer Hardware",
          "Confectioners",
          "Consulting Services",
          "Consumer Electronics",
          "Copper",
          "Credit Services",
          "Diagnostics & Research",
          "Discount Stores",
          "Drug Manufacturers—General",
          "Drug Manufacturers—Specialty & Generic",
          "Electronic Components",
          "Electronic Gaming & Multimedia",
          "Engineering & Construction",
          "Entertainment",
          "Farm & Heavy Construction Machinery",
          "Farm Products",
          "Financial Data & Stock Exchanges",
          "Food Distribution",
          "Footwear & Accessories",
          "Furnishings, Fixtures & Appliances",
          "Gold",
          "Grocery Stores",
          "Health Information Services",
          "Healthcare Plans",
          "Home Improvement Retail",
          "Household & Personal Products",
          "Industrial Distribution",
          "Information Technology Services",
          "Insurance Brokers",
          "Insurance—Diversified",
          "Insurance—Life",
          "Insurance—Property & Casualty",
          "Insurance—Reinsurance",
          "Insurance—Specialty",
          "Integrated Freight & Logistics",
          "Internet Content & Information",
          "Internet Retail",
          "Leisure",
          "Lodging",
          "Luxury Goods",
          "Medical Care Facilities",
          "Medical Devices",
          "Medical Distribution",
          "Medical Instruments & Supplies",
          "Oil & Gas E&P",
          "Oil & Gas Equipment & Services",
          "Oil & Gas Integrated",
          "Oil & Gas Midstream",
          "Oil & Gas Refining & Marketing",
          "Packaged Foods",
          "Packaging & Containers",
          "Personal Services",
          "Pharmaceutical Retailers",
          "REIT—Healthcare Facilities",
          "REIT—Hotel & Motel",
          "REIT—Industrial",
          "REIT—Office",
          "REIT—Residential",
          "REIT—Retail",
          "REIT—Specialty",
          "Railroads",
          "Real Estate Services",
          "Rental & Leasing Services",
          "Residential Construction",
          "Resorts & Casinos",
          "Restaurants",
          "Scientific & Technical Instruments",
          "Security & Protection Services",
          "Semiconductor Equipment & Materials",
          "Semiconductors",
          "Software—Application",
          "Software—Infrastructure",
          "Solar",
          "Specialty Business Services",
          "Specialty Chemicals",
          "Specialty Industrial Machinery",
          "Specialty Retail",
          "Staffing & Employment Services",
          "Steel",
          "Telecom Services",
          "Tobacco",
          "Tools & Accessories",
          "Travel Services",
          "Trucking",
          "Utilities—Diversified",
          "Utilities—Independent Power Producers",
          "Utilities—Regulated Electric",
          "Utilities—Regulated Gas",
          "Utilities—Regulated Water",
          "Waste Management",
          "0",
          "Basic Materials",
          "Communication Services",
          "Consumer Cyclical",
          "Consumer Defensive",
          "Energy",
          "Financial Services",
          "Healthcare",
          "Industrials",
          "Real Estate",
          "Technology",
          "Utilities"
         ],
         "marker": {
          "colors": [
           "#636efa",
           "#636efa",
           "#636efa",
           "#636efa",
           "#EF553B",
           "#00cc96",
           "#00cc96",
           "#00cc96",
           "#00cc96",
           "#00cc96",
           "#00cc96",
           "#00cc96",
           "#00cc96",
           "#00cc96",
           "#00cc96",
           "#00cc96",
           "#ab63fa",
           "#FFA15A",
           "#FFA15A",
           "#FFA15A",
           "#FFA15A",
           "#19d3f3",
           "#19d3f3",
           "#19d3f3",
           "#19d3f3",
           "#FF6692",
           "#FF6692",
           "#FF6692",
           "#FF6692",
           "#FF6692",
           "#FF6692",
           "#FF6692",
           "#FF6692",
           "#FF6692",
           "#FF6692",
           "#FF6692",
           "#FF6692",
           "#FF6692",
           "#FF6692",
           "#FF6692",
           "#FF6692",
           "#FF6692",
           "#FF6692",
           "#FF6692",
           "#FF6692",
           "#FF6692",
           "#FF6692",
           "#FF6692",
           "#FF6692",
           "#FF6692",
           "#FF6692",
           "#FF6692",
           "#FF6692",
           "#FF6692",
           "#FF6692",
           "#FF6692",
           "#FF6692",
           "#FF6692",
           "#FF6692",
           "#FF6692",
           "#FF6692",
           "#FF6692",
           "#FF6692",
           "#FF6692",
           "#FF6692",
           "#FF6692",
           "#FF6692",
           "#FF6692",
           "#FF6692",
           "#FF6692",
           "#FF6692",
           "#FF6692",
           "#FF6692",
           "#FF6692",
           "#FF6692",
           "#FF6692",
           "#FF6692",
           "#FF6692",
           "#FF6692",
           "#FF6692",
           "#FF6692",
           "#FF6692",
           "#FF6692",
           "#FF6692",
           "#FF6692",
           "#FF6692",
           "#FF6692",
           "#FF6692",
           "#FF6692",
           "#FF6692",
           "#FF6692",
           "#FF6692",
           "#FF6692",
           "#FF6692",
           "#FF6692",
           "#FF6692",
           "#FF6692",
           "#FF6692",
           "#FF6692",
           "#FF6692",
           "#FF6692",
           "#FF6692",
           "#FF6692",
           "#FF6692",
           "#FF6692",
           "#FF6692",
           "#FF6692",
           "#FF6692",
           "#FF6692",
           "#FF6692",
           "#FF6692",
           "#FF6692",
           "#FF6692",
           "#FF6692",
           "#FF6692",
           "#FF6692",
           "#FF6692",
           "#FF6692",
           "#FF6692",
           "#FF6692",
           "#FF6692",
           "#FF6692",
           "#FF6692",
           "#FF6692",
           "#FF6692",
           "#FF6692",
           "#FF6692",
           "#FF6692",
           "#FF6692",
           "#FF6692",
           "#FF6692",
           "#FF6692",
           "#FF6692",
           "#FF6692",
           "#FF6692",
           "#FF6692",
           "#FF6692",
           "#FF6692",
           "#FF6692",
           "#FF6692",
           "#FF6692",
           "#FF6692",
           "#FF6692",
           "#FF6692",
           "#FF6692",
           "#FF6692",
           "#FF6692",
           "#FF6692",
           "#FF6692",
           "#FF6692",
           "#FF6692",
           "#FF6692",
           "#FF6692",
           "#FF6692",
           "#FF6692",
           "#FF6692",
           "#FF6692",
           "#FF6692",
           "#FF6692",
           "#FF6692",
           "#FF6692",
           "#FF6692",
           "#FF6692",
           "#FF6692",
           "#FF6692",
           "#FF6692",
           "#FF6692",
           "#FF6692",
           "#FF6692",
           "#FF6692",
           "#FF6692",
           "#FF6692",
           "#FF6692",
           "#FF6692",
           "#FF6692",
           "#FF6692",
           "#FF6692",
           "#FF6692",
           "#FF6692",
           "#FF6692",
           "#FF6692",
           "#FF6692",
           "#FF6692",
           "#FF6692",
           "#FF6692",
           "#FF6692",
           "#FF6692",
           "#FF6692",
           "#FF6692",
           "#FF6692",
           "#FF6692",
           "#FF6692",
           "#FF6692",
           "#FF6692",
           "#FF6692",
           "#FF6692",
           "#FF6692",
           "#FF6692",
           "#FF6692",
           "#FF6692",
           "#FF6692",
           "#FF6692",
           "#FF6692",
           "#FF6692",
           "#FF6692",
           "#FF6692",
           "#FF6692",
           "#FF6692",
           "#FF6692",
           "#FF6692",
           "#FF6692",
           "#FF6692",
           "#FF6692",
           "#FF6692",
           "#FF6692",
           "#FF6692",
           "#FF6692",
           "#FF6692",
           "#FF6692",
           "#FF6692",
           "#FF6692",
           "#FF6692",
           "#FF6692",
           "#FF6692",
           "#FF6692",
           "#FF6692",
           "#FF6692",
           "#FF6692",
           "#FF6692",
           "#FF6692",
           "#FF6692",
           "#FF6692",
           "#FF6692",
           "#FF6692",
           "#FF6692",
           "#FF6692",
           "#FF6692",
           "#FF6692",
           "#FF6692",
           "#FF6692",
           "#FF6692",
           "#FF6692",
           "#FF6692",
           "#FF6692",
           "#FF6692",
           "#FF6692",
           "#FF6692",
           "#FF6692",
           "#FF6692",
           "#FF6692",
           "#FF6692",
           "#FF6692",
           "#FF6692",
           "#FF6692",
           "#FF6692",
           "#FF6692",
           "#FF6692",
           "#FF6692",
           "#FF6692",
           "#FF6692",
           "#FF6692",
           "#FF6692",
           "#FF6692",
           "#FF6692",
           "#FF6692",
           "#FF6692",
           "#FF6692",
           "#FF6692",
           "#FF6692",
           "#FF6692",
           "#FF6692",
           "#FF6692",
           "#FF6692",
           "#FF6692",
           "#FF6692",
           "#FF6692",
           "#FF6692",
           "#FF6692",
           "#FF6692",
           "#FF6692",
           "#FF6692",
           "#FF6692",
           "#FF6692",
           "#FF6692",
           "#FF6692",
           "#FF6692",
           "#FF6692",
           "#FF6692",
           "#FF6692",
           "#FF6692",
           "#FF6692",
           "#FF6692",
           "#FF6692",
           "#FF6692",
           "#FF6692",
           "#FF6692",
           "#FF6692",
           "#FF6692",
           "#FF6692",
           "#FF6692",
           "#FF6692",
           "#FF6692",
           "#FF6692",
           "#FF6692",
           "#FF6692",
           "#FF6692",
           "#FF6692",
           "#FF6692",
           "#FF6692",
           "#FF6692",
           "#FF6692",
           "#FF6692",
           "#FF6692",
           "#FF6692",
           "#FF6692",
           "#FF6692",
           "#FF6692",
           "#FF6692",
           "#FF6692",
           "#FF6692",
           "#FF6692",
           "#FF6692",
           "#FF6692",
           "#FF6692",
           "#FF6692",
           "#FF6692",
           "#FF6692",
           "#FF6692",
           "#FF6692",
           "#FF6692",
           "#FF6692",
           "#FF6692",
           "#FF6692",
           "#FF6692",
           "#FF6692",
           "#FF6692",
           "#FF6692",
           "#FF6692",
           "#FF6692",
           "#FF6692",
           "#FF6692",
           "#FF6692",
           "#FF6692",
           "#FF6692",
           "#FF6692",
           "#FF6692",
           "#FF6692",
           "#FF6692",
           "#FF6692",
           "#FF6692",
           "#FF6692",
           "#FF6692",
           "#FF6692",
           "#FF6692",
           "#FF6692",
           "#FF6692",
           "#FF6692",
           "#FF6692",
           "#FF6692",
           "#FF6692",
           "#FF6692",
           "#FF6692",
           "#FF6692",
           "#FF6692",
           "#FF6692",
           "#FF6692",
           "#FF6692",
           "#FF6692",
           "#FF6692",
           "#FF6692",
           "#FF6692",
           "#FF6692",
           "#FF6692",
           "#FF6692",
           "#FF6692",
           "#FF6692",
           "#FF6692",
           "#FF6692",
           "#FF6692",
           "#FF6692",
           "#FF6692",
           "#FF6692",
           "#FF6692",
           "#FF6692",
           "#FF6692",
           "#FF6692",
           "#FF6692",
           "#FF6692",
           "#FF6692",
           "#FF6692",
           "#FF6692",
           "#FF6692",
           "#FF6692",
           "#FF6692",
           "#FF6692",
           "#FF6692",
           "#FF6692",
           "#FF6692",
           "#FF6692",
           "#FF6692",
           "#FF6692",
           "#FF6692",
           "#FF6692",
           "#FF6692",
           "#FF6692",
           "#FF6692",
           "#FF6692",
           "#FF6692",
           "#FF6692",
           "#FF6692",
           "#FF6692",
           "#FF6692",
           "#FF6692",
           "#FF6692",
           "#FF6692",
           "#FF6692",
           "#FF6692",
           "#FF6692",
           "#FF6692",
           "#FF6692",
           "#FF6692",
           "#FF6692",
           "#FF6692",
           "#FF6692",
           "#FF6692",
           "#FF6692",
           "#FF6692",
           "#FF6692",
           "#FF6692",
           "#FF6692",
           "#FF6692",
           "#FF6692",
           "#FF6692",
           "#FF6692",
           "#FF6692",
           "#FF6692",
           "#FF6692",
           "#FF6692",
           "#FF6692",
           "#FF6692",
           "#FF6692",
           "#FF6692",
           "#FF6692",
           "#FF6692",
           "#FF6692",
           "#FF6692",
           "#FF6692",
           "#FF6692",
           "#FF6692",
           "#FF6692",
           "#FF6692",
           "#FF6692",
           "#FF6692",
           "#FF6692",
           "#FF6692",
           "#FF6692",
           "#FF6692",
           "#FF6692",
           "#FF6692",
           "#FF6692",
           "#FF6692",
           "#FF6692",
           "#FF6692",
           "#FF6692",
           "#FF6692",
           "#FF6692",
           "#FF6692",
           "#FF6692",
           "#FF6692",
           "#FF6692",
           "#FF6692",
           "#FF6692",
           "#FF6692",
           "#FF6692",
           "#FF6692",
           "#FF6692",
           "#FF6692",
           "#FF6692",
           "#FF6692",
           "#FF6692",
           "#FF6692",
           "#FF6692",
           "#FF6692",
           "#FF6692",
           "#FF6692",
           "#FF6692",
           "#FF6692",
           "#FF6692",
           "#FF6692",
           "#FF6692",
           "#FF6692",
           "#FF6692",
           "#FF6692",
           "#FF6692",
           "#FF6692",
           "#FF6692",
           "#FF6692",
           "#FF6692",
           "#FF6692",
           "#FF6692",
           "#FF6692",
           "#FF6692",
           "#FF6692",
           "#FF6692",
           "#636efa",
           "#FF6692",
           "#FF6692",
           "#FF6692",
           "#FF6692",
           "#FF6692",
           "#FF6692",
           "#FF6692",
           "#FF6692",
           "#FF6692",
           "#B6E880",
           "#FF6692",
           "#FF6692",
           "#FF6692",
           "#FF6692",
           "#FF6692",
           "#FF6692",
           "#FF6692",
           "#FF6692",
           "#FF6692",
           "#FF6692",
           "#FF6692",
           "#FF6692",
           "#FF6692",
           "#B6E880",
           "#FF6692",
           "#B6E880",
           "#FF6692",
           "#FF6692",
           "#FF6692",
           "#FF6692",
           "#FF6692",
           "#FF6692",
           "#B6E880",
           "#B6E880",
           "#FF6692",
           "#B6E880",
           "#FF6692",
           "#FF6692",
           "#FF6692",
           "#FF6692",
           "#FF6692",
           "#FF6692",
           "#FF6692",
           "#FF6692",
           "#FF6692",
           "#FF6692",
           "#FF6692",
           "#FF6692",
           "#FF6692",
           "#FF6692",
           "#B6E880",
           "#B6E880",
           "#FF6692",
           "#FF6692",
           "#B6E880",
           "#EF553B",
           "#FF6692",
           "#FF6692",
           "#FF6692",
           "#FF6692",
           "#FF6692",
           "#FF6692",
           "#FF6692",
           "#FF6692",
           "#B6E880",
           "#FF6692",
           "#B6E880",
           "#FF6692",
           "#FF6692",
           "#FF6692",
           "#FF6692",
           "#FF6692",
           "#FF6692",
           "#B6E880",
           "#FF6692",
           "#FF6692",
           "#FF6692",
           "#FF6692",
           "#FF6692",
           "#FF6692",
           "#FF6692",
           "#FF6692",
           "#FF6692",
           "#FF6692",
           "#FF6692",
           "#FF6692",
           "#FF6692",
           "#FF6692",
           "#FF6692",
           "#B6E880",
           "#00cc96",
           "#FF6692",
           "#B6E880",
           "#FF6692",
           "#FF6692",
           "#FF6692",
           "#FF6692",
           "#B6E880",
           "#B6E880",
           "#FF6692",
           "#FF6692",
           "#FF6692",
           "#FF6692",
           "#FF6692",
           "#FF6692",
           "#FF6692",
           "#FF6692",
           "#FF6692",
           "#FF6692",
           "#FF6692",
           "#FF6692",
           "#FF6692",
           "#FF6692",
           "#636efa",
           "#B6E880",
           "#FF6692",
           "#B6E880",
           "#FF6692",
           "#FF6692",
           "#B6E880",
           "#B6E880",
           "#B6E880",
           "#FF6692",
           "#B6E880",
           "#FF6692"
          ]
         },
         "name": "",
         "parents": [
          "0/0",
          "0/0",
          "0/0",
          "0/0",
          "Financial Services/Insurance—Reinsurance",
          "Industrials/Security & Protection Services",
          "Healthcare/Medical Instruments & Supplies",
          "Consumer Cyclical/Auto Parts",
          "Industrials/Specialty Industrial Machinery",
          "Technology/Computer Hardware",
          "Industrials/Specialty Industrial Machinery",
          "Healthcare/Medical Devices",
          "Industrials/Engineering & Construction",
          "Technology/Information Technology Services",
          "Financial Services/Insurance Brokers",
          "Healthcare/Drug Manufacturers—Specialty & Generic",
          "Technology/Semiconductors",
          "Technology/Electronic Components",
          "Financial Services/Insurance—Property & Casualty",
          "Technology/Scientific & Technical Instruments",
          "Consumer Cyclical/Packaging & Containers",
          "Basic Materials/Specialty Chemicals",
          "Financial Services/Insurance Brokers",
          "Industrials/Specialty Industrial Machinery",
          "Industrials/Consulting Services",
          "Basic Materials/Steel",
          "Financial Services/Asset Management",
          "Technology/Computer Hardware",
          "Technology/Semiconductors",
          "Industrials/Aerospace & Defense",
          "Utilities/Utilities—Independent Power Producers",
          "Technology/Software—Application",
          "Energy/Oil & Gas Equipment & Services",
          "Industrials/Consulting Services",
          "Technology/Software—Infrastructure",
          "Consumer Cyclical/Footwear & Accessories",
          "Utilities/Utilities—Regulated Gas",
          "Communication Services/Entertainment",
          "Basic Materials/Gold",
          "Utilities/Utilities—Regulated Electric",
          "Industrials/Railroads",
          "Consumer Cyclical/Residential Construction",
          "Industrials/Trucking",
          "Communication Services/Broadcasting",
          "Financial Services/Banks—Regional",
          "Consumer Defensive/Tobacco",
          "Real Estate/REIT—Industrial",
          "Healthcare/Diagnostics & Research",
          "Consumer Cyclical/Packaging & Containers",
          "Consumer Cyclical/Residential Construction",
          "Industrials/Specialty Industrial Machinery",
          "Financial Services/Insurance—Property & Casualty",
          "Consumer Defensive/Household & Personal Products",
          "Financial Services/Insurance—Diversified",
          "Healthcare/Drug Manufacturers—General",
          "Consumer Defensive/Beverages—Non-Alcoholic",
          "Consumer Cyclical/Resorts & Casinos",
          "Consumer Defensive/Household & Personal Products",
          "Utilities/Utilities—Diversified",
          "Industrials/Farm & Heavy Construction Machinery",
          "Financial Services/Banks—Regional",
          "Industrials/Staffing & Employment Services",
          "Technology/Software—Application",
          "Energy/Oil & Gas E&P",
          "Industrials/Specialty Industrial Machinery",
          "Consumer Cyclical/Specialty Retail",
          "Technology/Software—Infrastructure",
          "Communication Services/Advertising Agencies",
          "Energy/Oil & Gas Midstream",
          "Financial Services/Financial Data & Stock Exchanges",
          "Real Estate/REIT—Retail",
          "Communication Services/Broadcasting",
          "Real Estate/REIT—Healthcare Facilities",
          "Consumer Cyclical/Travel Services",
          "Technology/Communication Equipment",
          "Technology/Semiconductors",
          "Consumer Defensive/Packaged Foods",
          "Consumer Cyclical/Resorts & Casinos",
          "Industrials/Airlines",
          "Communication Services/Telecom Services",
          "Technology/Semiconductor Equipment & Materials",
          "Consumer Cyclical/Home Improvement Retail",
          "Utilities/Utilities—Regulated Electric",
          "Financial Services/Insurance—Life",
          "Industrials/Aerospace & Defense",
          "Healthcare/Drug Manufacturers—General",
          "Consumer Cyclical/Auto Parts",
          "Industrials/Aerospace & Defense",
          "Basic Materials/Specialty Chemicals",
          "Healthcare/Diagnostics & Research",
          "Consumer Cyclical/Furnishings, Fixtures & Appliances",
          "Technology/Information Technology Services",
          "Consumer Cyclical/Apparel Retail",
          "Financial Services/Insurance—Property & Casualty",
          "Industrials/Railroads",
          "Consumer Defensive/Grocery Stores",
          "Consumer Defensive/Beverages—Non-Alcoholic",
          "Consumer Cyclical/Auto & Truck Dealerships",
          "Energy/Oil & Gas Midstream",
          "Consumer Defensive/Household & Personal Products",
          "Technology/Semiconductor Equipment & Materials",
          "Real Estate/REIT—Retail",
          "Consumer Cyclical/Residential Construction",
          "Communication Services/Entertainment",
          "Financial Services/Credit Services",
          "Real Estate/REIT—Residential",
          "Healthcare/Diagnostics & Research",
          "Financial Services/Banks—Regional",
          "Technology/Software—Infrastructure",
          "Financial Services/Financial Data & Stock Exchanges",
          "Financial Services/Capital Markets",
          "Energy/Oil & Gas E&P",
          "Healthcare/Drug Manufacturers—General",
          "Technology/Semiconductors",
          "Energy/Oil & Gas Refining & Marketing",
          "Basic Materials/Agricultural Inputs",
          "Consumer Defensive/Tobacco",
          "Consumer Defensive/Beverages—Non-Alcoholic",
          "Industrials/Specialty Industrial Machinery",
          "Financial Services/Insurance Brokers",
          "Basic Materials/Building Materials",
          "Financial Services/Capital Markets",
          "Consumer Defensive/Packaged Foods",
          "Consumer Cyclical/Furnishings, Fixtures & Appliances",
          "Consumer Cyclical/Resorts & Casinos",
          "Financial Services/Insurance—Life",
          "Consumer Defensive/Confectioners",
          "Financial Services/Financial Data & Stock Exchanges",
          "Healthcare/Medical Distribution",
          "Technology/Semiconductors",
          "Consumer Cyclical/Restaurants",
          "Industrials/Building Products & Equipment",
          "Consumer Cyclical/Lodging",
          "Technology/Semiconductors",
          "Utilities/Utilities—Regulated Electric",
          "Technology/Software—Application",
          "Basic Materials/Specialty Chemicals",
          "Real Estate/REIT—Office",
          "Basic Materials/Building Materials",
          "Energy/Oil & Gas Refining & Marketing",
          "Communication Services/Entertainment",
          "Consumer Cyclical/Apparel Manufacturing",
          "Financial Services/Credit Services",
          "Financial Services/Banks—Regional",
          "Industrials/Rental & Leasing Services",
          "Industrials/Integrated Freight & Logistics",
          "Industrials/Railroads",
          "Financial Services/Insurance—Life",
          "Healthcare/Healthcare Plans",
          "Industrials/Consulting Services",
          "Consumer Cyclical/Specialty Retail",
          "Real Estate/REIT—Residential",
          "Industrials/Airlines",
          "Consumer Cyclical/Apparel Manufacturing",
          "Consumer Cyclical/Apparel Manufacturing",
          "Technology/Software—Application",
          "Industrials/Aerospace & Defense",
          "Technology/Semiconductors",
          "Communication Services/Internet Content & Information",
          "Communication Services/Electronic Gaming & Multimedia",
          "Consumer Defensive/Farm Products",
          "Consumer Cyclical/Auto Manufacturers",
          "Consumer Cyclical/Specialty Retail",
          "Healthcare/Medical Care Facilities",
          "Technology/Software—Infrastructure",
          "Healthcare/Biotechnology",
          "Real Estate/REIT—Healthcare Facilities",
          "Technology/Communication Equipment",
          "Healthcare/Medical Devices",
          "Consumer Cyclical/Restaurants",
          "Industrials/Specialty Industrial Machinery",
          "Healthcare/Medical Instruments & Supplies",
          "Energy/Oil & Gas Integrated",
          "Technology/Semiconductors",
          "Utilities/Utilities—Regulated Electric",
          "Consumer Cyclical/Resorts & Casinos",
          "Real Estate/REIT—Specialty",
          "Financial Services/Credit Services",
          "Healthcare/Medical Instruments & Supplies",
          "Consumer Cyclical/Packaging & Containers",
          "Financial Services/Insurance—Property & Casualty",
          "Consumer Defensive/Discount Stores",
          "Energy/Oil & Gas Midstream",
          "Industrials/Waste Management",
          "Consumer Cyclical/Furnishings, Fixtures & Appliances",
          "Financial Services/Banks—Diversified",
          "Real Estate/REIT—Healthcare Facilities",
          "Utilities/Utilities—Regulated Electric",
          "Technology/Computer Hardware",
          "Healthcare/Pharmaceutical Retailers",
          "Healthcare/Diagnostics & Research",
          "Industrials/Railroads",
          "Communication Services/Telecom Services",
          "Healthcare/Drug Manufacturers—Specialty & Generic",
          "Financial Services/Insurance—Property & Casualty",
          "Consumer Cyclical/Leisure",
          "Financial Services/Asset Management",
          "Consumer Cyclical/Luxury Goods",
          "Real Estate/REIT—Specialty",
          "Industrials/Aerospace & Defense",
          "Industrials/Waste Management",
          "Consumer Cyclical/Apparel Retail",
          "Industrials/Specialty Industrial Machinery",
          "Consumer Cyclical/Personal Services",
          "Industrials/Specialty Industrial Machinery",
          "Healthcare/Medical Instruments & Supplies",
          "Consumer Cyclical/Apparel Manufacturing",
          "Financial Services/Capital Markets",
          "Industrials/Staffing & Employment Services",
          "Financial Services/Banks—Regional",
          "Consumer Cyclical/Restaurants",
          "Healthcare/Biotechnology",
          "Consumer Cyclical/Travel Services",
          "Technology/Semiconductors",
          "Technology/Semiconductors",
          "Financial Services/Credit Services",
          "Energy/Oil & Gas E&P",
          "Industrials/Engineering & Construction",
          "Consumer Cyclical/Apparel Manufacturing",
          "Consumer Defensive/Packaged Foods",
          "Energy/Oil & Gas Refining & Marketing",
          "Real Estate/REIT—Industrial",
          "Financial Services/Insurance—Life",
          "Utilities/Utilities—Regulated Electric",
          "Real Estate/REIT—Retail",
          "Financial Services/Capital Markets",
          "Consumer Cyclical/Packaging & Containers",
          "Basic Materials/Specialty Chemicals",
          "Communication Services/Telecom Services",
          "Healthcare/Diagnostics & Research",
          "Consumer Cyclical/Apparel Retail",
          "Consumer Defensive/Discount Stores",
          "Healthcare/Medical Instruments & Supplies",
          "Financial Services/Banks—Regional",
          "Technology/Semiconductor Equipment & Materials",
          "Technology/Scientific & Technical Instruments",
          "Industrials/Aerospace & Defense",
          "Consumer Defensive/Beverages—Brewers",
          "Communication Services/Telecom Services",
          "Consumer Defensive/Food Distribution",
          "Healthcare/Medical Devices",
          "Financial Services/Credit Services",
          "Technology/Semiconductors",
          "Industrials/Tools & Accessories",
          "Consumer Defensive/Beverages—Wineries & Distilleries",
          "Financial Services/Asset Management",
          "Utilities/Utilities—Diversified",
          "Financial Services/Financial Data & Stock Exchanges",
          "Real Estate/REIT—Retail",
          "Utilities/Utilities—Regulated Electric",
          "Technology/Software—Infrastructure",
          "Industrials/Tools & Accessories",
          "Energy/Oil & Gas Equipment & Services",
          "Consumer Defensive/Packaged Foods",
          "Financial Services/Banks—Regional",
          "Technology/Scientific & Technical Instruments",
          "Technology/Scientific & Technical Instruments",
          "Healthcare/Diagnostics & Research",
          "Consumer Defensive/Packaged Foods",
          "Financial Services/Banks—Regional",
          "Consumer Defensive/Household & Personal Products",
          "Consumer Defensive/Household & Personal Products",
          "Financial Services/Insurance—Property & Casualty",
          "Healthcare/Healthcare Plans",
          "Communication Services/Entertainment",
          "Industrials/Integrated Freight & Logistics",
          "Consumer Defensive/Household & Personal Products",
          "Financial Services/Banks—Regional",
          "Basic Materials/Agricultural Inputs",
          "Healthcare/Health Information Services",
          "Basic Materials/Chemicals",
          "Communication Services/Entertainment",
          "Technology/Information Technology Services",
          "Consumer Cyclical/Travel Services",
          "Real Estate/REIT—Specialty",
          "Real Estate/Real Estate Services",
          "Financial Services/Financial Data & Stock Exchanges",
          "Industrials/Farm & Heavy Construction Machinery",
          "Industrials/Building Products & Equipment",
          "Healthcare/Medical Distribution",
          "Consumer Defensive/Packaged Foods",
          "Financial Services/Banks—Diversified",
          "Real Estate/REIT—Office",
          "Consumer Cyclical/Auto Parts",
          "Technology/Information Technology Services",
          "Technology/Software—Application",
          "Financial Services/Financial Data & Stock Exchanges",
          "Consumer Cyclical/Restaurants",
          "Industrials/Specialty Industrial Machinery",
          "Financial Services/Credit Services",
          "Industrials/Farm & Heavy Construction Machinery",
          "Basic Materials/Specialty Chemicals",
          "Industrials/Airlines",
          "Utilities/Utilities—Regulated Electric",
          "Consumer Cyclical/Resorts & Casinos",
          "Energy/Oil & Gas Integrated",
          "Healthcare/Healthcare Plans",
          "Technology/Software—Application",
          "Basic Materials/Agricultural Inputs",
          "Technology/Information Technology Services",
          "Healthcare/Drug Manufacturers—Specialty & Generic",
          "Industrials/Specialty Business Services",
          "Industrials/Railroads",
          "Technology/Communication Equipment",
          "Technology/Software—Application",
          "Healthcare/Diagnostics & Research",
          "Industrials/Specialty Business Services",
          "Consumer Defensive/Packaged Foods",
          "Consumer Defensive/Discount Stores",
          "Energy/Oil & Gas E&P",
          "Healthcare/Medical Instruments & Supplies",
          "Energy/Oil & Gas E&P",
          "Financial Services/Credit Services",
          "Utilities/Utilities—Regulated Electric",
          "Healthcare/Healthcare Plans",
          "Utilities/Utilities—Regulated Electric",
          "Healthcare/Drug Manufacturers—General",
          "Consumer Cyclical/Packaging & Containers",
          "Financial Services/Asset Management",
          "Energy/Oil & Gas Equipment & Services",
          "Technology/Semiconductors",
          "Technology/Semiconductor Equipment & Materials",
          "Healthcare/Biotechnology",
          "Financial Services/Insurance—Property & Casualty",
          "Industrials/Airlines",
          "Healthcare/Medical Devices",
          "Basic Materials/Specialty Chemicals",
          "Technology/Software—Infrastructure",
          "Financial Services/Insurance Brokers",
          "Financial Services/Insurance—Specialty",
          "Financial Services/Insurance—Diversified",
          "Financial Services/Insurance—Life",
          "Utilities/Utilities—Diversified",
          "Utilities/Utilities—Regulated Electric",
          "Utilities/Utilities—Regulated Electric",
          "Technology/Software—Application",
          "Industrials/Staffing & Employment Services",
          "Consumer Defensive/Farm Products",
          "Technology/Semiconductors",
          "Technology/Software—Infrastructure",
          "Healthcare/Medical Devices",
          "Healthcare/Medical Devices",
          "Healthcare/Medical Distribution",
          "Healthcare/Drug Manufacturers—General",
          "Technology/Consumer Electronics",
          "Consumer Cyclical/Specialty Retail",
          "Industrials/Airlines",
          "Industrials/Specialty Industrial Machinery",
          "Consumer Defensive/Discount Stores",
          "Healthcare/Drug Manufacturers—General",
          "Real Estate/REIT—Specialty",
          "Consumer Cyclical/Travel Services",
          "Financial Services/Asset Management",
          "Healthcare/Medical Devices",
          "Healthcare/Drug Manufacturers—General",
          "Financial Services/Asset Management",
          "Healthcare/Medical Instruments & Supplies",
          "Consumer Cyclical/Specialty Retail",
          "Healthcare/Medical Instruments & Supplies",
          "Financial Services/Banks—Diversified",
          "Industrials/Aerospace & Defense",
          "Consumer Cyclical/Specialty Retail",
          "Financial Services/Credit Services",
          "Utilities/Utilities—Regulated Water",
          "Industrials/Business Equipment & Supplies",
          "Technology/Semiconductors",
          "Real Estate/REIT—Residential",
          "Communication Services/Electronic Gaming & Multimedia",
          "Utilities/Utilities—Regulated Gas",
          "Real Estate/REIT—Office",
          "Technology/Electronic Components",
          "Basic Materials/Chemicals",
          "Energy/Oil & Gas E&P",
          "Industrials/Specialty Industrial Machinery",
          "Healthcare/Healthcare Plans",
          "Technology/Software—Application",
          "Technology/Computer Hardware",
          "Consumer Cyclical/Internet Retail",
          "Financial Services/Asset Management",
          "Healthcare/Diagnostics & Research",
          "Consumer Cyclical/Residential Construction",
          "Healthcare/Diagnostics & Research",
          "Consumer Defensive/Packaged Foods",
          "Technology/Computer Hardware",
          "Technology/Communication Equipment",
          "Industrials/Specialty Industrial Machinery",
          "Healthcare/Medical Instruments & Supplies",
          "Consumer Cyclical/Lodging",
          "Industrials/Aerospace & Defense",
          "Financial Services/Insurance—Diversified",
          "Energy/Oil & Gas E&P",
          "Consumer Cyclical/Home Improvement Retail",
          "Healthcare/Medical Care Facilities",
          "Consumer Cyclical/Apparel Manufacturing",
          "Financial Services/Banks—Regional",
          "Consumer Cyclical/Leisure",
          "Energy/Oil & Gas Equipment & Services",
          "Industrials/Industrial Distribution",
          "Financial Services/Capital Markets",
          "Consumer Cyclical/Apparel Retail",
          "Industrials/Specialty Business Services",
          "Consumer Cyclical/Specialty Retail",
          "Communication Services/Internet Content & Information",
          "Communication Services/Internet Content & Information",
          "Industrials/Specialty Industrial Machinery",
          "Consumer Cyclical/Auto Manufacturers",
          "Technology/Electronic Components",
          "Financial Services/Insurance—Life",
          "Consumer Defensive/Packaged Foods",
          "Healthcare/Medical Distribution",
          "Healthcare/Drug Manufacturers—General",
          "Real Estate/REIT—Hotel & Motel",
          "Healthcare/Healthcare Plans",
          "Financial Services/Banks—Diversified",
          "Technology/Communication Equipment",
          "Healthcare/Drug Manufacturers—General",
          "Technology/Information Technology Services",
          "Financial Services/Banks—Regional",
          "Industrials/Integrated Freight & Logistics",
          "Industrials/Engineering & Construction",
          "Financial Services/Asset Management",
          "Industrials/Specialty Industrial Machinery",
          "Technology/Information Technology Services",
          "Healthcare/Medical Instruments & Supplies",
          "Real Estate/REIT—Specialty",
          "Industrials/Specialty Industrial Machinery",
          "Healthcare/Diagnostics & Research",
          "Technology/Semiconductor Equipment & Materials",
          "Communication Services/Advertising Agencies",
          "Consumer Cyclical/Packaging & Containers",
          "Technology/Software—Application",
          "Technology/Semiconductors",
          "Healthcare/Biotechnology",
          "Healthcare/Diagnostics & Research",
          "Basic Materials/Specialty Chemicals",
          "Industrials/Specialty Industrial Machinery",
          "Healthcare/Diagnostics & Research",
          "Financial Services/Financial Data & Stock Exchanges",
          "Technology/Information Technology Services",
          "Industrials/Specialty Industrial Machinery",
          "Consumer Defensive/Confectioners",
          "Financial Services/Banks—Regional",
          "Industrials/Specialty Industrial Machinery",
          "Technology/Software—Infrastructure",
          "Technology/Solar",
          "Industrials/Specialty Industrial Machinery",
          "Basic Materials/Chemicals",
          "Consumer Defensive/Household & Personal Products",
          "Utilities/Utilities—Regulated Electric",
          "Industrials/Consulting Services",
          "Utilities/Utilities—Regulated Electric",
          "Basic Materials/Specialty Chemicals",
          "Consumer Cyclical/Internet Retail",
          "Communication Services/Electronic Gaming & Multimedia",
          "Healthcare/Diagnostics & Research",
          "Technology/Information Technology Services",
          "Energy/Oil & Gas E&P",
          "Healthcare/Medical Care Facilities",
          "Utilities/Utilities—Regulated Electric",
          "Utilities/Utilities—Regulated Electric",
          "Consumer Cyclical/Restaurants",
          "Real Estate/REIT—Industrial",
          "Consumer Cyclical/Restaurants",
          "Basic Materials/Chemicals",
          "Industrials/Specialty Industrial Machinery",
          "Consumer Defensive/Discount Stores",
          "Real Estate/REIT—Office",
          "Communication Services/Entertainment",
          "Communication Services/Entertainment",
          "Communication Services/Entertainment",
          "Communication Services/Entertainment",
          "Energy/Oil & Gas E&P",
          "Technology/Scientific & Technical Instruments",
          "Real Estate/REIT—Specialty",
          "Utilities/Utilities—Regulated Electric",
          "Real Estate/REIT—Retail",
          "Financial Services/Banks—Regional",
          "Communication Services/Broadcasting",
          "Communication Services/Broadcasting",
          "Basic Materials/Agricultural Inputs",
          "Technology/Information Technology Services",
          "Financial Services/Banks—Regional",
          "Technology/Information Technology Services",
          "Technology/Information Technology Services",
          "Technology/Software—Infrastructure",
          "Utilities/Utilities—Regulated Electric",
          "Industrials/Integrated Freight & Logistics",
          "Basic Materials/Copper",
          "Consumer Cyclical/Furnishings, Fixtures & Appliances",
          "Communication Services/Internet Content & Information",
          "Industrials/Industrial Distribution",
          "Energy/Oil & Gas E&P",
          "Consumer Cyclical/Auto Manufacturers",
          "Real Estate/REIT—Industrial",
          "Consumer Cyclical/Travel Services",
          "Industrials/Integrated Freight & Logistics",
          "Utilities/Utilities—Diversified",
          "Healthcare/Medical Devices",
          "Utilities/Utilities—Regulated Electric",
          "Consumer Cyclical/Internet Retail",
          "Utilities/Utilities—Regulated Electric",
          "Real Estate/REIT—Residential",
          "Real Estate/REIT—Residential",
          "Healthcare/Drug Manufacturers—Specialty & Generic",
          "0",
          "Communication Services",
          "Industrials",
          "Basic Materials",
          "Industrials",
          "Consumer Cyclical",
          "Consumer Cyclical",
          "Financial Services",
          "Consumer Cyclical",
          "Consumer Cyclical",
          "Consumer Cyclical",
          "Financial Services",
          "Financial Services",
          "Consumer Defensive",
          "Consumer Defensive",
          "Consumer Defensive",
          "Healthcare",
          "Communication Services",
          "Basic Materials",
          "Industrials",
          "Industrials",
          "Financial Services",
          "Basic Materials",
          "Technology",
          "Technology",
          "Consumer Defensive",
          "Industrials",
          "Technology",
          "Basic Materials",
          "Financial Services",
          "Healthcare",
          "Consumer Defensive",
          "Healthcare",
          "Healthcare",
          "Technology",
          "Communication Services",
          "Industrials",
          "Communication Services",
          "Industrials",
          "Consumer Defensive",
          "Financial Services",
          "Consumer Defensive",
          "Consumer Cyclical",
          "Consumer Cyclical",
          "Basic Materials",
          "Consumer Defensive",
          "Healthcare",
          "Healthcare",
          "Consumer Cyclical",
          "Consumer Defensive",
          "Industrials",
          "Technology",
          "Financial Services",
          "Financial Services",
          "Financial Services",
          "Financial Services",
          "Financial Services",
          "Financial Services",
          "Industrials",
          "Communication Services",
          "Consumer Cyclical",
          "Consumer Cyclical",
          "Consumer Cyclical",
          "Consumer Cyclical",
          "Healthcare",
          "Healthcare",
          "Healthcare",
          "Healthcare",
          "Energy",
          "Energy",
          "Energy",
          "Energy",
          "Energy",
          "Consumer Defensive",
          "Consumer Cyclical",
          "Consumer Cyclical",
          "Healthcare",
          "Real Estate",
          "Real Estate",
          "Real Estate",
          "Real Estate",
          "Real Estate",
          "Real Estate",
          "Real Estate",
          "Industrials",
          "Real Estate",
          "Industrials",
          "Consumer Cyclical",
          "Consumer Cyclical",
          "Consumer Cyclical",
          "Technology",
          "Industrials",
          "Technology",
          "Technology",
          "Technology",
          "Technology",
          "Technology",
          "Industrials",
          "Basic Materials",
          "Industrials",
          "Consumer Cyclical",
          "Industrials",
          "Basic Materials",
          "Communication Services",
          "Consumer Defensive",
          "Industrials",
          "Consumer Cyclical",
          "Industrials",
          "Utilities",
          "Utilities",
          "Utilities",
          "Utilities",
          "Utilities",
          "Industrials",
          "",
          "",
          "",
          "",
          "",
          "",
          "",
          "",
          "",
          "",
          "",
          ""
         ],
         "type": "treemap",
         "values": [
          54702501888,
          59704451072,
          0,
          0,
          10396067840,
          12491659264,
          16528408576,
          43206463488,
          59160887296,
          22685892608,
          43438841856,
          166627803136,
          47826395136,
          179996164096,
          56641912832,
          6286998528,
          55700893696,
          46020153344,
          77801037824,
          27326789632,
          18732746752,
          155936194560,
          33499197440,
          11554362368,
          45298233344,
          32551542784,
          25057974272,
          17972803584,
          438049996800,
          60764385280,
          8297161216,
          90954416128,
          6898755584,
          9690173440,
          16499436544,
          211305201664,
          9997611008,
          219369193472,
          57243021312,
          141891289088,
          69892308992,
          17494499328,
          30182209536,
          15203620864,
          82449997824,
          152581079040,
          90540818432,
          15572135936,
          13941332992,
          14975913984,
          39883468800,
          58725957632,
          332836831232,
          17936472064,
          218384973824,
          204260163584,
          12610229248,
          12023231488,
          30947047424,
          32955518976,
          8125724672,
          36958519296,
          19396550656,
          27199830016,
          34275653632,
          36735811584,
          239016624128,
          17808707584,
          24036720640,
          27933548544,
          26302926848,
          15203613696,
          18248288256,
          11882247168,
          35621797888,
          93930143744,
          12287687680,
          43179302912,
          34625122304,
          16179570688,
          93459660800,
          136199274496,
          14535345152,
          13596427264,
          109533798400,
          193834549248,
          15254565888,
          45660184576,
          38851932160,
          26049030144,
          7276920832,
          14738147328,
          18326386688,
          15319711744,
          27136434176,
          29034487808,
          242488885248,
          18607372288,
          42528817152,
          44058497024,
          48588861440,
          9427733504,
          29484347392,
          19515271168,
          362743005184,
          18951032832,
          29245446144,
          20746579968,
          1888842416128,
          38438600704,
          174821031936,
          10877863936,
          187650965504,
          15878010880,
          41510866944,
          13687487488,
          92106350592,
          50408955904,
          119442038784,
          71026663424,
          21936412672,
          17100951552,
          23994986496,
          14039888896,
          20980224000,
          58267619328,
          89929531392,
          62833680384,
          30836779008,
          42501251072,
          174142095360,
          15171326976,
          46248771584,
          27488524288,
          9812023296,
          15481996288,
          43228803072,
          9272649728,
          23826454528,
          34025181184,
          26359529472,
          30963320832,
          506393133056,
          90527850496,
          24034594816,
          183360372736,
          150245408768,
          6419294208,
          382803312640,
          27985010688,
          17884928000,
          14553820160,
          18421295104,
          9217077248,
          9379808256,
          16426658816,
          15596490752,
          175534211072,
          47089491968,
          21427740672,
          28690184192,
          577082818560,
          20868251648,
          13616248832,
          24692840448,
          54343737344,
          21293002752,
          27636133888,
          33149483008,
          35393458176,
          21463437312,
          14470116352,
          260149821440,
          31611981824,
          37717544960,
          14820422656,
          26979229696,
          10269834240,
          24615034880,
          15539597312,
          14311399424,
          399092154368,
          33952540672,
          59414376448,
          14625395712,
          194466988032,
          31919478784,
          29521561600,
          23621505024,
          47412006912,
          19812988928,
          15652813824,
          237226000384,
          18600970240,
          40234397696,
          17568032768,
          44116684800,
          11921178624,
          34191085568,
          134873309184,
          34844262400,
          42604318720,
          47440986112,
          16333594624,
          31993141248,
          29876299776,
          8830509056,
          18169395200,
          10193146880,
          21740050432,
          131957817344,
          54528061440,
          23947495424,
          20926472192,
          151535517696,
          308877361152,
          36913717248,
          12995167232,
          7831590912,
          53769670656,
          40056074240,
          50517897216,
          42878910464,
          22305398784,
          11173049344,
          142834417664,
          8868616192,
          75317043200,
          180183744512,
          176375250944,
          79194005504,
          114449448960,
          18470166528,
          80946520064,
          21893906432,
          19647496192,
          36519714816,
          13038580736,
          208987799552,
          40727044096,
          94876450816,
          28957812736,
          28133496832,
          34374213632,
          46112567296,
          30221039616,
          41302654976,
          92645318656,
          43455856640,
          68122841088,
          39040892928,
          13754706944,
          50927173632,
          15143905280,
          32375058432,
          20032024576,
          27690786816,
          41844789248,
          22677854208,
          10881436672,
          22263830528,
          71036018688,
          20011468800,
          86657245184,
          128792846336,
          12812160000,
          21206421504,
          21262424064,
          11875551232,
          24210819072,
          18735372288,
          261874532352,
          23482769408,
          36359094272,
          85016100864,
          29527746560,
          11943497728,
          133670985728,
          39878361088,
          16410771456,
          18679537664,
          164309794816,
          18771019776,
          13059724288,
          18681188352,
          35270086656,
          78416011264,
          37337133056,
          38629756928,
          37617082368,
          111251005440,
          45739302912,
          29410967552,
          61715214336,
          23090458624,
          209098096640,
          113843806208,
          14793255936,
          33877159936,
          37709959168,
          17231798272,
          36999667712,
          75452186624,
          227861790720,
          219011891200,
          16927153152,
          29579347968,
          15053487104,
          171310563328,
          80762789888,
          18773753856,
          6766311424,
          75064557568,
          14744598528,
          41630588928,
          18125985792,
          145000628224,
          27094169600,
          135267680256,
          27102173184,
          99121340416,
          127820251136,
          39146885120,
          40778952704,
          8147346432,
          46085197824,
          20255934464,
          18928261120,
          29877551104,
          9878413312,
          45841891328,
          39067258880,
          16629774336,
          42993491968,
          22010777600,
          62655299584,
          84133421056,
          38421934080,
          61070376960,
          241151000576,
          194188656640,
          13113645056,
          24250494976,
          198452477952,
          2100801961984,
          12614001664,
          15585605632,
          31797547008,
          48837742592,
          136083111936,
          120621752320,
          95065554944,
          45708861440,
          17377599488,
          43079811072,
          18024505344,
          69988253696,
          29044707328,
          41359577088,
          370794463232,
          146155716608,
          29991479296,
          132544987136,
          28387192832,
          18288257024,
          193943453696,
          29561356288,
          75246321664,
          13159976960,
          27153827840,
          41331126272,
          67447656448,
          8852127744,
          11079487488,
          96271482880,
          29525219328,
          26737053696,
          1616973660160,
          30762346496,
          15667426304,
          33373609984,
          172806094848,
          26794768384,
          38183354368,
          21182183424,
          159782617088,
          15558467584,
          34747117568,
          8941628416,
          23499595776,
          27424794624,
          331129257984,
          70684123136,
          6758866944,
          15912121344,
          13102070784,
          21993852928,
          24212957184,
          132999831552,
          11932222464,
          57330946048,
          18774136832,
          1622912401408,
          1622913056768,
          19918819328,
          91928952832,
          36957405184,
          10956649472,
          39056441344,
          10960218112,
          84569358336,
          12342383616,
          55002537984,
          503830511616,
          9111172096,
          437065416704,
          12004997120,
          9521693696,
          17655511040,
          18654330880,
          13506671616,
          74488373248,
          20177190912,
          98454487040,
          13185521664,
          20641282048,
          44818006016,
          11214201856,
          13272507392,
          25325928448,
          126226530304,
          231660060672,
          18326183936,
          61045518336,
          35595558912,
          16947794944,
          47617331200,
          63131090944,
          130052300800,
          15288240128,
          36203597824,
          22106902528,
          123691048960,
          36217397248,
          18278656000,
          58928947200,
          17628055552,
          109968015360,
          21426866176,
          28405479424,
          26478874624,
          61638369280,
          44438724608,
          41766170624,
          37029658624,
          10155754496,
          21430652928,
          12773735424,
          78060142592,
          26606467072,
          17552586752,
          18066776064,
          16740476928,
          52565618688,
          22042421248,
          23612917760,
          43696824320,
          23804772352,
          15529529344,
          15529508864,
          321627750400,
          51045765120,
          24868120576,
          70355165184,
          28166053888,
          9140615168,
          33978726400,
          21718511616,
          21377814528,
          15327389696,
          23087839232,
          29915498496,
          75611611136,
          91364540416,
          11335414784,
          20847689728,
          80165126144,
          61156564992,
          14270541824,
          936694251520,
          30486749184,
          15533161472,
          63746494464,
          20616845312,
          25187252224,
          20934924288,
          44540256256,
          59596341248,
          14376302592,
          20866949120,
          21251045376,
          19835715584,
          29501513728,
          83217539072,
          114406952960,
          31081214976,
          558045228032,
          74767588352,
          106190337024,
          72981173248,
          152056933376,
          342665763840,
          18607372288,
          732758265856,
          71520753664,
          1233401757696,
          480490585088,
          13038580736,
          497158004736,
          46112567296,
          166344867840,
          73503560704,
          45762867200,
          55049688064,
          18288257024,
          485925627904,
          156376702976,
          321413078016,
          129200609280,
          126133129216,
          111378896896,
          2100801961984,
          61156564992,
          1462467773440,
          704810829824,
          757302827008,
          1644121292800,
          125337306112,
          124308684800,
          138440232960,
          79475893248,
          1032402933760,
          277877510144,
          67112118272,
          375341748224,
          40727044096,
          211305201664,
          50212747264,
          57243021312,
          29034487808,
          24210819072,
          776208973824,
          467328532480,
          613392845824,
          54699706368,
          637062462464,
          191045324800,
          87277959168,
          171186159616,
          267182925824,
          10396067840,
          9878413312,
          314928094208,
          4229609201664,
          1682279333888,
          30670103552,
          80995889152,
          11921178624,
          97074107392,
          625015177216,
          82458263552,
          348094565376,
          286807014400,
          106921955328,
          469247918080,
          100518078464,
          115592122368,
          227458338816,
          109502391296,
          16333594624,
          47412006912,
          71460769792,
          12342383616,
          179742337024,
          98894321664,
          112403438592,
          99500181504,
          350348855296,
          338379152384,
          29527746560,
          24034594816,
          95328370688,
          114680637440,
          413123567616,
          119565217792,
          12491659264,
          302976881664,
          1667085731840,
          629741904896,
          2515724283904,
          18278656000,
          123909961728,
          476563138560,
          1001889153024,
          165913316352,
          131285087232,
          32551542784,
          642577115136,
          244687429632,
          48128920576,
          192441644032,
          30182209536,
          133419732992,
          8297161216,
          720709514240,
          23157587968,
          28387192832,
          94258638848,
          114406952960,
          904421426176,
          6147614259200,
          4689961007104,
          2662157373440,
          1079087088640,
          5117260106752,
          4641088209920,
          3380492988416,
          954220034048,
          8566159472640,
          913971189248
         ]
        }
       ],
       "layout": {
        "legend": {
         "tracegroupgap": 0
        },
        "margin": {
         "t": 60
        },
        "template": {
         "data": {
          "bar": [
           {
            "error_x": {
             "color": "#2a3f5f"
            },
            "error_y": {
             "color": "#2a3f5f"
            },
            "marker": {
             "line": {
              "color": "#E5ECF6",
              "width": 0.5
             }
            },
            "type": "bar"
           }
          ],
          "barpolar": [
           {
            "marker": {
             "line": {
              "color": "#E5ECF6",
              "width": 0.5
             }
            },
            "type": "barpolar"
           }
          ],
          "carpet": [
           {
            "aaxis": {
             "endlinecolor": "#2a3f5f",
             "gridcolor": "white",
             "linecolor": "white",
             "minorgridcolor": "white",
             "startlinecolor": "#2a3f5f"
            },
            "baxis": {
             "endlinecolor": "#2a3f5f",
             "gridcolor": "white",
             "linecolor": "white",
             "minorgridcolor": "white",
             "startlinecolor": "#2a3f5f"
            },
            "type": "carpet"
           }
          ],
          "choropleth": [
           {
            "colorbar": {
             "outlinewidth": 0,
             "ticks": ""
            },
            "type": "choropleth"
           }
          ],
          "contour": [
           {
            "colorbar": {
             "outlinewidth": 0,
             "ticks": ""
            },
            "colorscale": [
             [
              0,
              "#0d0887"
             ],
             [
              0.1111111111111111,
              "#46039f"
             ],
             [
              0.2222222222222222,
              "#7201a8"
             ],
             [
              0.3333333333333333,
              "#9c179e"
             ],
             [
              0.4444444444444444,
              "#bd3786"
             ],
             [
              0.5555555555555556,
              "#d8576b"
             ],
             [
              0.6666666666666666,
              "#ed7953"
             ],
             [
              0.7777777777777778,
              "#fb9f3a"
             ],
             [
              0.8888888888888888,
              "#fdca26"
             ],
             [
              1,
              "#f0f921"
             ]
            ],
            "type": "contour"
           }
          ],
          "contourcarpet": [
           {
            "colorbar": {
             "outlinewidth": 0,
             "ticks": ""
            },
            "type": "contourcarpet"
           }
          ],
          "heatmap": [
           {
            "colorbar": {
             "outlinewidth": 0,
             "ticks": ""
            },
            "colorscale": [
             [
              0,
              "#0d0887"
             ],
             [
              0.1111111111111111,
              "#46039f"
             ],
             [
              0.2222222222222222,
              "#7201a8"
             ],
             [
              0.3333333333333333,
              "#9c179e"
             ],
             [
              0.4444444444444444,
              "#bd3786"
             ],
             [
              0.5555555555555556,
              "#d8576b"
             ],
             [
              0.6666666666666666,
              "#ed7953"
             ],
             [
              0.7777777777777778,
              "#fb9f3a"
             ],
             [
              0.8888888888888888,
              "#fdca26"
             ],
             [
              1,
              "#f0f921"
             ]
            ],
            "type": "heatmap"
           }
          ],
          "heatmapgl": [
           {
            "colorbar": {
             "outlinewidth": 0,
             "ticks": ""
            },
            "colorscale": [
             [
              0,
              "#0d0887"
             ],
             [
              0.1111111111111111,
              "#46039f"
             ],
             [
              0.2222222222222222,
              "#7201a8"
             ],
             [
              0.3333333333333333,
              "#9c179e"
             ],
             [
              0.4444444444444444,
              "#bd3786"
             ],
             [
              0.5555555555555556,
              "#d8576b"
             ],
             [
              0.6666666666666666,
              "#ed7953"
             ],
             [
              0.7777777777777778,
              "#fb9f3a"
             ],
             [
              0.8888888888888888,
              "#fdca26"
             ],
             [
              1,
              "#f0f921"
             ]
            ],
            "type": "heatmapgl"
           }
          ],
          "histogram": [
           {
            "marker": {
             "colorbar": {
              "outlinewidth": 0,
              "ticks": ""
             }
            },
            "type": "histogram"
           }
          ],
          "histogram2d": [
           {
            "colorbar": {
             "outlinewidth": 0,
             "ticks": ""
            },
            "colorscale": [
             [
              0,
              "#0d0887"
             ],
             [
              0.1111111111111111,
              "#46039f"
             ],
             [
              0.2222222222222222,
              "#7201a8"
             ],
             [
              0.3333333333333333,
              "#9c179e"
             ],
             [
              0.4444444444444444,
              "#bd3786"
             ],
             [
              0.5555555555555556,
              "#d8576b"
             ],
             [
              0.6666666666666666,
              "#ed7953"
             ],
             [
              0.7777777777777778,
              "#fb9f3a"
             ],
             [
              0.8888888888888888,
              "#fdca26"
             ],
             [
              1,
              "#f0f921"
             ]
            ],
            "type": "histogram2d"
           }
          ],
          "histogram2dcontour": [
           {
            "colorbar": {
             "outlinewidth": 0,
             "ticks": ""
            },
            "colorscale": [
             [
              0,
              "#0d0887"
             ],
             [
              0.1111111111111111,
              "#46039f"
             ],
             [
              0.2222222222222222,
              "#7201a8"
             ],
             [
              0.3333333333333333,
              "#9c179e"
             ],
             [
              0.4444444444444444,
              "#bd3786"
             ],
             [
              0.5555555555555556,
              "#d8576b"
             ],
             [
              0.6666666666666666,
              "#ed7953"
             ],
             [
              0.7777777777777778,
              "#fb9f3a"
             ],
             [
              0.8888888888888888,
              "#fdca26"
             ],
             [
              1,
              "#f0f921"
             ]
            ],
            "type": "histogram2dcontour"
           }
          ],
          "mesh3d": [
           {
            "colorbar": {
             "outlinewidth": 0,
             "ticks": ""
            },
            "type": "mesh3d"
           }
          ],
          "parcoords": [
           {
            "line": {
             "colorbar": {
              "outlinewidth": 0,
              "ticks": ""
             }
            },
            "type": "parcoords"
           }
          ],
          "pie": [
           {
            "automargin": true,
            "type": "pie"
           }
          ],
          "scatter": [
           {
            "marker": {
             "colorbar": {
              "outlinewidth": 0,
              "ticks": ""
             }
            },
            "type": "scatter"
           }
          ],
          "scatter3d": [
           {
            "line": {
             "colorbar": {
              "outlinewidth": 0,
              "ticks": ""
             }
            },
            "marker": {
             "colorbar": {
              "outlinewidth": 0,
              "ticks": ""
             }
            },
            "type": "scatter3d"
           }
          ],
          "scattercarpet": [
           {
            "marker": {
             "colorbar": {
              "outlinewidth": 0,
              "ticks": ""
             }
            },
            "type": "scattercarpet"
           }
          ],
          "scattergeo": [
           {
            "marker": {
             "colorbar": {
              "outlinewidth": 0,
              "ticks": ""
             }
            },
            "type": "scattergeo"
           }
          ],
          "scattergl": [
           {
            "marker": {
             "colorbar": {
              "outlinewidth": 0,
              "ticks": ""
             }
            },
            "type": "scattergl"
           }
          ],
          "scattermapbox": [
           {
            "marker": {
             "colorbar": {
              "outlinewidth": 0,
              "ticks": ""
             }
            },
            "type": "scattermapbox"
           }
          ],
          "scatterpolar": [
           {
            "marker": {
             "colorbar": {
              "outlinewidth": 0,
              "ticks": ""
             }
            },
            "type": "scatterpolar"
           }
          ],
          "scatterpolargl": [
           {
            "marker": {
             "colorbar": {
              "outlinewidth": 0,
              "ticks": ""
             }
            },
            "type": "scatterpolargl"
           }
          ],
          "scatterternary": [
           {
            "marker": {
             "colorbar": {
              "outlinewidth": 0,
              "ticks": ""
             }
            },
            "type": "scatterternary"
           }
          ],
          "surface": [
           {
            "colorbar": {
             "outlinewidth": 0,
             "ticks": ""
            },
            "colorscale": [
             [
              0,
              "#0d0887"
             ],
             [
              0.1111111111111111,
              "#46039f"
             ],
             [
              0.2222222222222222,
              "#7201a8"
             ],
             [
              0.3333333333333333,
              "#9c179e"
             ],
             [
              0.4444444444444444,
              "#bd3786"
             ],
             [
              0.5555555555555556,
              "#d8576b"
             ],
             [
              0.6666666666666666,
              "#ed7953"
             ],
             [
              0.7777777777777778,
              "#fb9f3a"
             ],
             [
              0.8888888888888888,
              "#fdca26"
             ],
             [
              1,
              "#f0f921"
             ]
            ],
            "type": "surface"
           }
          ],
          "table": [
           {
            "cells": {
             "fill": {
              "color": "#EBF0F8"
             },
             "line": {
              "color": "white"
             }
            },
            "header": {
             "fill": {
              "color": "#C8D4E3"
             },
             "line": {
              "color": "white"
             }
            },
            "type": "table"
           }
          ]
         },
         "layout": {
          "annotationdefaults": {
           "arrowcolor": "#2a3f5f",
           "arrowhead": 0,
           "arrowwidth": 1
          },
          "autotypenumbers": "strict",
          "coloraxis": {
           "colorbar": {
            "outlinewidth": 0,
            "ticks": ""
           }
          },
          "colorscale": {
           "diverging": [
            [
             0,
             "#8e0152"
            ],
            [
             0.1,
             "#c51b7d"
            ],
            [
             0.2,
             "#de77ae"
            ],
            [
             0.3,
             "#f1b6da"
            ],
            [
             0.4,
             "#fde0ef"
            ],
            [
             0.5,
             "#f7f7f7"
            ],
            [
             0.6,
             "#e6f5d0"
            ],
            [
             0.7,
             "#b8e186"
            ],
            [
             0.8,
             "#7fbc41"
            ],
            [
             0.9,
             "#4d9221"
            ],
            [
             1,
             "#276419"
            ]
           ],
           "sequential": [
            [
             0,
             "#0d0887"
            ],
            [
             0.1111111111111111,
             "#46039f"
            ],
            [
             0.2222222222222222,
             "#7201a8"
            ],
            [
             0.3333333333333333,
             "#9c179e"
            ],
            [
             0.4444444444444444,
             "#bd3786"
            ],
            [
             0.5555555555555556,
             "#d8576b"
            ],
            [
             0.6666666666666666,
             "#ed7953"
            ],
            [
             0.7777777777777778,
             "#fb9f3a"
            ],
            [
             0.8888888888888888,
             "#fdca26"
            ],
            [
             1,
             "#f0f921"
            ]
           ],
           "sequentialminus": [
            [
             0,
             "#0d0887"
            ],
            [
             0.1111111111111111,
             "#46039f"
            ],
            [
             0.2222222222222222,
             "#7201a8"
            ],
            [
             0.3333333333333333,
             "#9c179e"
            ],
            [
             0.4444444444444444,
             "#bd3786"
            ],
            [
             0.5555555555555556,
             "#d8576b"
            ],
            [
             0.6666666666666666,
             "#ed7953"
            ],
            [
             0.7777777777777778,
             "#fb9f3a"
            ],
            [
             0.8888888888888888,
             "#fdca26"
            ],
            [
             1,
             "#f0f921"
            ]
           ]
          },
          "colorway": [
           "#636efa",
           "#EF553B",
           "#00cc96",
           "#ab63fa",
           "#FFA15A",
           "#19d3f3",
           "#FF6692",
           "#B6E880",
           "#FF97FF",
           "#FECB52"
          ],
          "font": {
           "color": "#2a3f5f"
          },
          "geo": {
           "bgcolor": "white",
           "lakecolor": "white",
           "landcolor": "#E5ECF6",
           "showlakes": true,
           "showland": true,
           "subunitcolor": "white"
          },
          "hoverlabel": {
           "align": "left"
          },
          "hovermode": "closest",
          "mapbox": {
           "style": "light"
          },
          "paper_bgcolor": "white",
          "plot_bgcolor": "#E5ECF6",
          "polar": {
           "angularaxis": {
            "gridcolor": "white",
            "linecolor": "white",
            "ticks": ""
           },
           "bgcolor": "#E5ECF6",
           "radialaxis": {
            "gridcolor": "white",
            "linecolor": "white",
            "ticks": ""
           }
          },
          "scene": {
           "xaxis": {
            "backgroundcolor": "#E5ECF6",
            "gridcolor": "white",
            "gridwidth": 2,
            "linecolor": "white",
            "showbackground": true,
            "ticks": "",
            "zerolinecolor": "white"
           },
           "yaxis": {
            "backgroundcolor": "#E5ECF6",
            "gridcolor": "white",
            "gridwidth": 2,
            "linecolor": "white",
            "showbackground": true,
            "ticks": "",
            "zerolinecolor": "white"
           },
           "zaxis": {
            "backgroundcolor": "#E5ECF6",
            "gridcolor": "white",
            "gridwidth": 2,
            "linecolor": "white",
            "showbackground": true,
            "ticks": "",
            "zerolinecolor": "white"
           }
          },
          "shapedefaults": {
           "line": {
            "color": "#2a3f5f"
           }
          },
          "ternary": {
           "aaxis": {
            "gridcolor": "white",
            "linecolor": "white",
            "ticks": ""
           },
           "baxis": {
            "gridcolor": "white",
            "linecolor": "white",
            "ticks": ""
           },
           "bgcolor": "#E5ECF6",
           "caxis": {
            "gridcolor": "white",
            "linecolor": "white",
            "ticks": ""
           }
          },
          "title": {
           "x": 0.05
          },
          "xaxis": {
           "automargin": true,
           "gridcolor": "white",
           "linecolor": "white",
           "ticks": "",
           "title": {
            "standoff": 15
           },
           "zerolinecolor": "white",
           "zerolinewidth": 2
          },
          "yaxis": {
           "automargin": true,
           "gridcolor": "white",
           "linecolor": "white",
           "ticks": "",
           "title": {
            "standoff": 15
           },
           "zerolinecolor": "white",
           "zerolinewidth": 2
          }
         }
        }
       }
      },
      "text/html": [
       "<div>                            <div id=\"80270886-2218-4491-8743-13a368aff197\" class=\"plotly-graph-div\" style=\"height:525px; width:100%;\"></div>            <script type=\"text/javascript\">                require([\"plotly\"], function(Plotly) {                    window.PLOTLYENV=window.PLOTLYENV || {};                                    if (document.getElementById(\"80270886-2218-4491-8743-13a368aff197\")) {                    Plotly.newPlot(                        \"80270886-2218-4491-8743-13a368aff197\",                        [{\"branchvalues\": \"total\", \"customdata\": [[0], [0], [0], [0], [\"Bermuda\"], [\"Ireland\"], [\"Ireland\"], [\"Ireland\"], [\"Ireland\"], [\"Ireland\"], [\"Ireland\"], [\"Ireland\"], [\"Ireland\"], [\"Ireland\"], [\"Ireland\"], [\"Ireland\"], [\"Netherlands\"], [\"Switzerland\"], [\"Switzerland\"], [\"Switzerland\"], [\"Switzerland\"], [\"United Kingdom\"], [\"United Kingdom\"], [\"United Kingdom\"], [\"United Kingdom\"], [\"United States\"], [\"United States\"], [\"United States\"], [\"United States\"], [\"United States\"], [\"United States\"], [\"United States\"], [\"United States\"], [\"United States\"], [\"United States\"], [\"United States\"], [\"United States\"], [\"United States\"], [\"United States\"], [\"United States\"], [\"United States\"], [\"United States\"], [\"United States\"], [\"United States\"], [\"United States\"], [\"United States\"], [\"United States\"], [\"United States\"], [\"United States\"], [\"United States\"], [\"United States\"], [\"United States\"], [\"United States\"], [\"United States\"], [\"United States\"], [\"United States\"], [\"United States\"], [\"United States\"], [\"United States\"], [\"United States\"], [\"United States\"], [\"United States\"], [\"United States\"], [\"United States\"], [\"United States\"], [\"United States\"], [\"United States\"], [\"United States\"], [\"United States\"], [\"United States\"], [\"United States\"], [\"United States\"], [\"United States\"], [\"United States\"], [\"United States\"], [\"United States\"], [\"United States\"], [\"United States\"], [\"United States\"], [\"United States\"], [\"United States\"], [\"United States\"], [\"United States\"], [\"United States\"], [\"United States\"], [\"United States\"], [\"United States\"], [\"United States\"], [\"United States\"], [\"United States\"], [\"United States\"], [\"United States\"], [\"United States\"], [\"United States\"], [\"United States\"], [\"United States\"], [\"United States\"], [\"United States\"], [\"United States\"], [\"United States\"], [\"United States\"], [\"United States\"], [\"United States\"], [\"United States\"], [\"United States\"], [\"United States\"], [\"United States\"], [\"United States\"], [\"United States\"], [\"United States\"], [\"United States\"], [\"United States\"], [\"United States\"], [\"United States\"], [\"United States\"], [\"United States\"], [\"United States\"], [\"United States\"], [\"United States\"], [\"United States\"], [\"United States\"], [\"United States\"], [\"United States\"], [\"United States\"], [\"United States\"], [\"United States\"], [\"United States\"], [\"United States\"], [\"United States\"], [\"United States\"], [\"United States\"], [\"United States\"], [\"United States\"], [\"United States\"], [\"United States\"], [\"United States\"], [\"United States\"], [\"United States\"], [\"United States\"], [\"United States\"], [\"United States\"], [\"United States\"], [\"United States\"], [\"United States\"], [\"United States\"], [\"United States\"], [\"United States\"], [\"United States\"], [\"United States\"], [\"United States\"], [\"United States\"], [\"United States\"], [\"United States\"], [\"United States\"], [\"United States\"], [\"United States\"], [\"United States\"], [\"United States\"], [\"United States\"], [\"United States\"], [\"United States\"], [\"United States\"], [\"United States\"], [\"United States\"], [\"United States\"], [\"United States\"], [\"United States\"], [\"United States\"], [\"United States\"], [\"United States\"], [\"United States\"], [\"United States\"], [\"United States\"], [\"United States\"], [\"United States\"], [\"United States\"], [\"United States\"], [\"United States\"], [\"United States\"], [\"United States\"], [\"United States\"], [\"United States\"], [\"United States\"], [\"United States\"], [\"United States\"], [\"United States\"], [\"United States\"], [\"United States\"], [\"United States\"], [\"United States\"], [\"United States\"], [\"United States\"], [\"United States\"], [\"United States\"], [\"United States\"], [\"United States\"], [\"United States\"], [\"United States\"], [\"United States\"], [\"United States\"], [\"United States\"], [\"United States\"], [\"United States\"], [\"United States\"], [\"United States\"], [\"United States\"], [\"United States\"], [\"United States\"], [\"United States\"], [\"United States\"], [\"United States\"], [\"United States\"], [\"United States\"], [\"United States\"], [\"United States\"], [\"United States\"], [\"United States\"], [\"United States\"], [\"United States\"], [\"United States\"], [\"United States\"], [\"United States\"], [\"United States\"], [\"United States\"], [\"United States\"], [\"United States\"], [\"United States\"], [\"United States\"], [\"United States\"], [\"United States\"], [\"United States\"], [\"United States\"], [\"United States\"], [\"United States\"], [\"United States\"], [\"United States\"], [\"United States\"], [\"United States\"], [\"United States\"], [\"United States\"], [\"United States\"], [\"United States\"], [\"United States\"], [\"United States\"], [\"United States\"], [\"United States\"], [\"United States\"], [\"United States\"], [\"United States\"], [\"United States\"], [\"United States\"], [\"United States\"], [\"United States\"], [\"United States\"], [\"United States\"], [\"United States\"], [\"United States\"], [\"United States\"], [\"United States\"], [\"United States\"], [\"United States\"], [\"United States\"], [\"United States\"], [\"United States\"], [\"United States\"], [\"United States\"], [\"United States\"], [\"United States\"], [\"United States\"], [\"United States\"], [\"United States\"], [\"United States\"], [\"United States\"], [\"United States\"], [\"United States\"], [\"United States\"], [\"United States\"], [\"United States\"], [\"United States\"], [\"United States\"], [\"United States\"], [\"United States\"], [\"United States\"], [\"United States\"], [\"United States\"], [\"United States\"], [\"United States\"], [\"United States\"], [\"United States\"], [\"United States\"], [\"United States\"], [\"United States\"], [\"United States\"], [\"United States\"], [\"United States\"], [\"United States\"], [\"United States\"], [\"United States\"], [\"United States\"], [\"United States\"], [\"United States\"], [\"United States\"], [\"United States\"], [\"United States\"], [\"United States\"], [\"United States\"], [\"United States\"], [\"United States\"], [\"United States\"], [\"United States\"], [\"United States\"], [\"United States\"], [\"United States\"], [\"United States\"], [\"United States\"], [\"United States\"], [\"United States\"], [\"United States\"], [\"United States\"], [\"United States\"], [\"United States\"], [\"United States\"], [\"United States\"], [\"United States\"], [\"United States\"], [\"United States\"], [\"United States\"], [\"United States\"], [\"United States\"], [\"United States\"], [\"United States\"], [\"United States\"], [\"United States\"], [\"United States\"], [\"United States\"], [\"United States\"], [\"United States\"], [\"United States\"], [\"United States\"], [\"United States\"], [\"United States\"], [\"United States\"], [\"United States\"], [\"United States\"], [\"United States\"], [\"United States\"], [\"United States\"], [\"United States\"], [\"United States\"], [\"United States\"], [\"United States\"], [\"United States\"], [\"United States\"], [\"United States\"], [\"United States\"], [\"United States\"], [\"United States\"], [\"United States\"], [\"United States\"], [\"United States\"], [\"United States\"], [\"United States\"], [\"United States\"], [\"United States\"], [\"United States\"], [\"United States\"], [\"United States\"], [\"United States\"], [\"United States\"], [\"United States\"], [\"United States\"], [\"United States\"], [\"United States\"], [\"United States\"], [\"United States\"], [\"United States\"], [\"United States\"], [\"United States\"], [\"United States\"], [\"United States\"], [\"United States\"], [\"United States\"], [\"United States\"], [\"United States\"], [\"United States\"], [\"United States\"], [\"United States\"], [\"United States\"], [\"United States\"], [\"United States\"], [\"United States\"], [\"United States\"], [\"United States\"], [\"United States\"], [\"United States\"], [\"United States\"], [\"United States\"], [\"United States\"], [\"United States\"], [\"United States\"], [\"United States\"], [\"United States\"], [\"United States\"], [\"United States\"], [\"United States\"], [\"United States\"], [\"United States\"], [\"United States\"], [\"United States\"], [\"United States\"], [\"United States\"], [\"United States\"], [\"United States\"], [\"United States\"], [\"United States\"], [\"United States\"], [\"United States\"], [\"United States\"], [\"United States\"], [\"United States\"], [\"United States\"], [\"United States\"], [\"United States\"], [\"United States\"], [\"United States\"], [\"United States\"], [\"United States\"], [\"United States\"], [\"United States\"], [\"United States\"], [\"United States\"], [\"United States\"], [\"United States\"], [\"United States\"], [\"United States\"], [\"United States\"], [\"United States\"], [\"United States\"], [\"United States\"], [\"United States\"], [\"United States\"], [\"United States\"], [\"United States\"], [\"United States\"], [\"United States\"], [\"United States\"], [\"United States\"], [\"United States\"], [\"United States\"], [\"United States\"], [\"United States\"], [\"United States\"], [\"United States\"], [\"United States\"], [\"United States\"], [\"United States\"], [\"United States\"], [\"United States\"], [\"United States\"], [\"United States\"], [\"United States\"], [\"United States\"], [\"United States\"], [\"United States\"], [\"United States\"], [\"United States\"], [\"United States\"], [\"United States\"], [\"United States\"], [\"United States\"], [\"United States\"], [\"United States\"], [\"United States\"], [\"United States\"], [\"United States\"], [\"United States\"], [\"United States\"], [\"United States\"], [\"United States\"], [\"United States\"], [\"United States\"], [\"United States\"], [\"United States\"], [\"United States\"], [\"United States\"], [\"United States\"], [\"United States\"], [\"United States\"], [\"United States\"], [\"United States\"], [\"United States\"], [\"United States\"], [\"United States\"], [\"United States\"], [\"United States\"], [\"United States\"], [\"United States\"], [\"United States\"], [\"United States\"], [\"United States\"], [\"United States\"], [\"United States\"], [\"United States\"], [\"United States\"], [0], [\"United States\"], [\"United States\"], [\"United States\"], [\"United States\"], [\"United States\"], [\"United States\"], [\"United States\"], [\"United States\"], [\"United States\"], [\"(?)\"], [\"United States\"], [\"United States\"], [\"United States\"], [\"United States\"], [\"United States\"], [\"United States\"], [\"United States\"], [\"United States\"], [\"United States\"], [\"United States\"], [\"United States\"], [\"United States\"], [\"United States\"], [\"(?)\"], [\"United States\"], [\"(?)\"], [\"United States\"], [\"United States\"], [\"United States\"], [\"United States\"], [\"United States\"], [\"United States\"], [\"(?)\"], [\"(?)\"], [\"United States\"], [\"(?)\"], [\"United States\"], [\"United States\"], [\"United States\"], [\"United States\"], [\"United States\"], [\"United States\"], [\"United States\"], [\"United States\"], [\"United States\"], [\"United States\"], [\"United States\"], [\"United States\"], [\"United States\"], [\"United States\"], [\"(?)\"], [\"(?)\"], [\"United States\"], [\"United States\"], [\"(?)\"], [\"Bermuda\"], [\"United States\"], [\"United States\"], [\"United States\"], [\"United States\"], [\"United States\"], [\"United States\"], [\"United States\"], [\"United States\"], [\"(?)\"], [\"United States\"], [\"(?)\"], [\"United States\"], [\"United States\"], [\"United States\"], [\"United States\"], [\"United States\"], [\"United States\"], [\"(?)\"], [\"United States\"], [\"United States\"], [\"United States\"], [\"United States\"], [\"United States\"], [\"United States\"], [\"United States\"], [\"United States\"], [\"United States\"], [\"United States\"], [\"United States\"], [\"United States\"], [\"United States\"], [\"United States\"], [\"United States\"], [\"(?)\"], [\"Ireland\"], [\"United States\"], [\"(?)\"], [\"United States\"], [\"United States\"], [\"United States\"], [\"United States\"], [\"(?)\"], [\"(?)\"], [\"United States\"], [\"United States\"], [\"United States\"], [\"United States\"], [\"United States\"], [\"United States\"], [\"United States\"], [\"United States\"], [\"United States\"], [\"United States\"], [\"United States\"], [\"United States\"], [\"United States\"], [\"United States\"], [0], [\"(?)\"], [\"United States\"], [\"(?)\"], [\"United States\"], [\"United States\"], [\"(?)\"], [\"(?)\"], [\"(?)\"], [\"United States\"], [\"(?)\"], [\"United States\"]], \"domain\": {\"x\": [0.0, 1.0], \"y\": [0.0, 1.0]}, \"hovertemplate\": \"labels=%{label}<br>marketCap=%{value}<br>parent=%{parent}<br>id=%{id}<br>country=%{customdata[0]}<extra></extra>\", \"ids\": [\"0/0/GD\", \"0/0/BSX\", \"0/0/BRK.B\", \"0/0/OGN\", \"Financial Services/Insurance\\u2014Reinsurance/RE\", \"Industrials/Security & Protection Services/ALLE\", \"Healthcare/Medical Instruments & Supplies/STE\", \"Consumer Cyclical/Auto Parts/APTV\", \"Industrials/Specialty Industrial Machinery/ETN\", \"Technology/Computer Hardware/STX\", \"Industrials/Specialty Industrial Machinery/TT\", \"Healthcare/Medical Devices/MDT\", \"Industrials/Engineering & Construction/JCI\", \"Technology/Information Technology Services/ACN\", \"Financial Services/Insurance Brokers/AON\", \"Healthcare/Drug Manufacturers\\u2014Specialty & Generic/PRGO\", \"Technology/Semiconductors/NXPI\", \"Technology/Electronic Components/TEL\", \"Financial Services/Insurance\\u2014Property & Casualty/CB\", \"Technology/Scientific & Technical Instruments/GRMN\", \"Consumer Cyclical/Packaging & Containers/AMCR\", \"Basic Materials/Specialty Chemicals/LIN\", \"Financial Services/Insurance Brokers/WLTW\", \"Industrials/Specialty Industrial Machinery/PNR\", \"Industrials/Consulting Services/INFO\", \"Basic Materials/Steel/NUE\", \"Financial Services/Asset Management/NTRS\", \"Technology/Computer Hardware/NTAP\", \"Technology/Semiconductors/NVDA\", \"Industrials/Aerospace & Defense/NOC\", \"Utilities/Utilities\\u2014Independent Power Producers/NRG\", \"Technology/Software\\u2014Application/NOW\", \"Energy/Oil & Gas Equipment & Services/NOV\", \"Industrials/Consulting Services/NLSN\", \"Technology/Software\\u2014Infrastructure/NLOK\", \"Consumer Cyclical/Footwear & Accessories/NKE\", \"Utilities/Utilities\\u2014Regulated Gas/NI\", \"Communication Services/Entertainment/NFLX\", \"Basic Materials/Gold/NEM\", \"Utilities/Utilities\\u2014Regulated Electric/NEE\", \"Industrials/Railroads/NSC\", \"Consumer Cyclical/Residential Construction/NVR\", \"Industrials/Trucking/ODFL\", \"Communication Services/Broadcasting/NWS\", \"Financial Services/Banks\\u2014Regional/PNC\", \"Consumer Defensive/Tobacco/PM\", \"Real Estate/REIT\\u2014Industrial/PLD\", \"Healthcare/Diagnostics & Research/PKI\", \"Consumer Cyclical/Packaging & Containers/PKG\", \"Consumer Cyclical/Residential Construction/PHM\", \"Industrials/Specialty Industrial Machinery/PH\", \"Financial Services/Insurance\\u2014Property & Casualty/PGR\", \"Consumer Defensive/Household & Personal Products/PG\", \"Financial Services/Insurance\\u2014Diversified/PFG\", \"Healthcare/Drug Manufacturers\\u2014General/PFE\", \"Consumer Defensive/Beverages\\u2014Non-Alcoholic/PEP\", \"Consumer Cyclical/Resorts & Casinos/PENN\", \"Consumer Defensive/Household & Personal Products/NWL\", \"Utilities/Utilities\\u2014Diversified/PEG\", \"Industrials/Farm & Heavy Construction Machinery/PCAR\", \"Financial Services/Banks\\u2014Regional/PBCT\", \"Industrials/Staffing & Employment Services/PAYX\", \"Technology/Software\\u2014Application/PAYC\", \"Energy/Oil & Gas E&P/OXY\", \"Industrials/Specialty Industrial Machinery/OTIS\", \"Consumer Cyclical/Specialty Retail/ORLY\", \"Technology/Software\\u2014Infrastructure/ORCL\", \"Communication Services/Advertising Agencies/OMC\", \"Energy/Oil & Gas Midstream/OKE\", \"Financial Services/Financial Data & Stock Exchanges/NDAQ\", \"Real Estate/REIT\\u2014Retail/O\", \"Communication Services/Broadcasting/NWSA\", \"Real Estate/REIT\\u2014Healthcare Facilities/PEAK\", \"Consumer Cyclical/Travel Services/NCLH\", \"Technology/Communication Equipment/MSI\", \"Technology/Semiconductors/MU\", \"Consumer Defensive/Packaged Foods/LW\", \"Consumer Cyclical/Resorts & Casinos/LVS\", \"Industrials/Airlines/LUV\", \"Communication Services/Telecom Services/LUMN\", \"Technology/Semiconductor Equipment & Materials/LRCX\", \"Consumer Cyclical/Home Improvement Retail/LOW\", \"Utilities/Utilities\\u2014Regulated Electric/LNT\", \"Financial Services/Insurance\\u2014Life/LNC\", \"Industrials/Aerospace & Defense/LMT\", \"Healthcare/Drug Manufacturers\\u2014General/LLY\", \"Consumer Cyclical/Auto Parts/LKQ\", \"Industrials/Aerospace & Defense/LHX\", \"Basic Materials/Specialty Chemicals/LYB\", \"Healthcare/Diagnostics & Research/LH\", \"Consumer Cyclical/Furnishings, Fixtures & Appliances/LEG\", \"Technology/Information Technology Services/LDOS\", \"Consumer Cyclical/Apparel Retail/LB\", \"Financial Services/Insurance\\u2014Property & Casualty/L\", \"Industrials/Railroads/KSU\", \"Consumer Defensive/Grocery Stores/KR\", \"Consumer Defensive/Beverages\\u2014Non-Alcoholic/KO\", \"Consumer Cyclical/Auto & Truck Dealerships/KMX\", \"Energy/Oil & Gas Midstream/KMI\", \"Consumer Defensive/Household & Personal Products/KMB\", \"Technology/Semiconductor Equipment & Materials/KLAC\", \"Real Estate/REIT\\u2014Retail/KIM\", \"Consumer Cyclical/Residential Construction/LEN\", \"Communication Services/Entertainment/LYV\", \"Financial Services/Credit Services/MA\", \"Real Estate/REIT\\u2014Residential/MAA\", \"Healthcare/Diagnostics & Research/MTD\", \"Financial Services/Banks\\u2014Regional/MTB\", \"Technology/Software\\u2014Infrastructure/MSFT\", \"Financial Services/Financial Data & Stock Exchanges/MSCI\", \"Financial Services/Capital Markets/MS\", \"Energy/Oil & Gas E&P/MRO\", \"Healthcare/Drug Manufacturers\\u2014General/MRK\", \"Technology/Semiconductors/MPWR\", \"Energy/Oil & Gas Refining & Marketing/MPC\", \"Basic Materials/Agricultural Inputs/MOS\", \"Consumer Defensive/Tobacco/MO\", \"Consumer Defensive/Beverages\\u2014Non-Alcoholic/MNST\", \"Industrials/Specialty Industrial Machinery/MMM\", \"Financial Services/Insurance Brokers/MMC\", \"Basic Materials/Building Materials/MLM\", \"Financial Services/Capital Markets/MKTX\", \"Consumer Defensive/Packaged Foods/MKC\", \"Consumer Cyclical/Furnishings, Fixtures & Appliances/MHK\", \"Consumer Cyclical/Resorts & Casinos/MGM\", \"Financial Services/Insurance\\u2014Life/MET\", \"Consumer Defensive/Confectioners/MDLZ\", \"Financial Services/Financial Data & Stock Exchanges/MCO\", \"Healthcare/Medical Distribution/MCK\", \"Technology/Semiconductors/MCHP\", \"Consumer Cyclical/Restaurants/MCD\", \"Industrials/Building Products & Equipment/MAS\", \"Consumer Cyclical/Lodging/MAR\", \"Technology/Semiconductors/MXIM\", \"Utilities/Utilities\\u2014Regulated Electric/PNW\", \"Technology/Software\\u2014Application/PTC\", \"Basic Materials/Specialty Chemicals/PPG\", \"Real Estate/REIT\\u2014Office/VNO\", \"Basic Materials/Building Materials/VMC\", \"Energy/Oil & Gas Refining & Marketing/VLO\", \"Communication Services/Entertainment/VIAC\", \"Consumer Cyclical/Apparel Manufacturing/VFC\", \"Financial Services/Credit Services/V\", \"Financial Services/Banks\\u2014Regional/USB\", \"Industrials/Rental & Leasing Services/URI\", \"Industrials/Integrated Freight & Logistics/UPS\", \"Industrials/Railroads/UNP\", \"Financial Services/Insurance\\u2014Life/UNM\", \"Healthcare/Healthcare Plans/UNH\", \"Industrials/Consulting Services/VRSK\", \"Consumer Cyclical/Specialty Retail/ULTA\", \"Real Estate/REIT\\u2014Residential/UDR\", \"Industrials/Airlines/UAL\", \"Consumer Cyclical/Apparel Manufacturing/UAA\", \"Consumer Cyclical/Apparel Manufacturing/UA\", \"Technology/Software\\u2014Application/TYL\", \"Industrials/Aerospace & Defense/TXT\", \"Technology/Semiconductors/TXN\", \"Communication Services/Internet Content & Information/TWTR\", \"Communication Services/Electronic Gaming & Multimedia/TTWO\", \"Consumer Defensive/Farm Products/TSN\", \"Consumer Cyclical/Auto Manufacturers/TSLA\", \"Consumer Cyclical/Specialty Retail/TSCO\", \"Healthcare/Medical Care Facilities/UHS\", \"Technology/Software\\u2014Infrastructure/VRSN\", \"Healthcare/Biotechnology/VRTX\", \"Real Estate/REIT\\u2014Healthcare Facilities/VTR\", \"Technology/Communication Equipment/ZBRA\", \"Healthcare/Medical Devices/ZBH\", \"Consumer Cyclical/Restaurants/YUM\", \"Industrials/Specialty Industrial Machinery/XYL\", \"Healthcare/Medical Instruments & Supplies/XRAY\", \"Energy/Oil & Gas Integrated/XOM\", \"Technology/Semiconductors/XLNX\", \"Utilities/Utilities\\u2014Regulated Electric/XEL\", \"Consumer Cyclical/Resorts & Casinos/WYNN\", \"Real Estate/REIT\\u2014Specialty/WY\", \"Financial Services/Credit Services/WU\", \"Healthcare/Medical Instruments & Supplies/WST\", \"Consumer Cyclical/Packaging & Containers/WRK\", \"Financial Services/Insurance\\u2014Property & Casualty/WRB\", \"Consumer Defensive/Discount Stores/WMT\", \"Energy/Oil & Gas Midstream/WMB\", \"Industrials/Waste Management/WM\", \"Consumer Cyclical/Furnishings, Fixtures & Appliances/WHR\", \"Financial Services/Banks\\u2014Diversified/WFC\", \"Real Estate/REIT\\u2014Healthcare Facilities/WELL\", \"Utilities/Utilities\\u2014Regulated Electric/WEC\", \"Technology/Computer Hardware/WDC\", \"Healthcare/Pharmaceutical Retailers/WBA\", \"Healthcare/Diagnostics & Research/WAT\", \"Industrials/Railroads/WAB\", \"Communication Services/Telecom Services/VZ\", \"Healthcare/Drug Manufacturers\\u2014Specialty & Generic/VTRS\", \"Financial Services/Insurance\\u2014Property & Casualty/TRV\", \"Consumer Cyclical/Leisure/POOL\", \"Financial Services/Asset Management/TROW\", \"Consumer Cyclical/Luxury Goods/TPR\", \"Real Estate/REIT\\u2014Specialty/SBAC\", \"Industrials/Aerospace & Defense/RTX\", \"Industrials/Waste Management/RSG\", \"Consumer Cyclical/Apparel Retail/ROST\", \"Industrials/Specialty Industrial Machinery/ROP\", \"Consumer Cyclical/Personal Services/ROL\", \"Industrials/Specialty Industrial Machinery/ROK\", \"Healthcare/Medical Instruments & Supplies/RMD\", \"Consumer Cyclical/Apparel Manufacturing/RL\", \"Financial Services/Capital Markets/RJF\", \"Industrials/Staffing & Employment Services/RHI\", \"Financial Services/Banks\\u2014Regional/RF\", \"Consumer Cyclical/Restaurants/SBUX\", \"Healthcare/Biotechnology/REGN\", \"Consumer Cyclical/Travel Services/RCL\", \"Technology/Semiconductors/QRVO\", \"Technology/Semiconductors/QCOM\", \"Financial Services/Credit Services/PYPL\", \"Energy/Oil & Gas E&P/PXD\", \"Industrials/Engineering & Construction/PWR\", \"Consumer Cyclical/Apparel Manufacturing/PVH\", \"Consumer Defensive/Packaged Foods/KHC\", \"Energy/Oil & Gas Refining & Marketing/PSX\", \"Real Estate/REIT\\u2014Industrial/PSA\", \"Financial Services/Insurance\\u2014Life/PRU\", \"Utilities/Utilities\\u2014Regulated Electric/PPL\", \"Real Estate/REIT\\u2014Retail/REG\", \"Financial Services/Capital Markets/SCHW\", \"Consumer Cyclical/Packaging & Containers/SEE\", \"Basic Materials/Specialty Chemicals/SHW\", \"Communication Services/Telecom Services/TMUS\", \"Healthcare/Diagnostics & Research/TMO\", \"Consumer Cyclical/Apparel Retail/TJX\", \"Consumer Defensive/Discount Stores/TGT\", \"Healthcare/Medical Instruments & Supplies/TFX\", \"Financial Services/Banks\\u2014Regional/TFC\", \"Technology/Semiconductor Equipment & Materials/TER\", \"Technology/Scientific & Technical Instruments/TDY\", \"Industrials/Aerospace & Defense/TDG\", \"Consumer Defensive/Beverages\\u2014Brewers/TAP\", \"Communication Services/Telecom Services/T\", \"Consumer Defensive/Food Distribution/SYY\", \"Healthcare/Medical Devices/SYK\", \"Financial Services/Credit Services/SYF\", \"Technology/Semiconductors/SWKS\", \"Industrials/Tools & Accessories/SWK\", \"Consumer Defensive/Beverages\\u2014Wineries & Distilleries/STZ\", \"Financial Services/Asset Management/STT\", \"Utilities/Utilities\\u2014Diversified/SRE\", \"Financial Services/Financial Data & Stock Exchanges/SPGI\", \"Real Estate/REIT\\u2014Retail/SPG\", \"Utilities/Utilities\\u2014Regulated Electric/SO\", \"Technology/Software\\u2014Infrastructure/SNPS\", \"Industrials/Tools & Accessories/SNA\", \"Energy/Oil & Gas Equipment & Services/SLB\", \"Consumer Defensive/Packaged Foods/SJM\", \"Financial Services/Banks\\u2014Regional/SIVB\", \"Technology/Scientific & Technical Instruments/TRMB\", \"Technology/Scientific & Technical Instruments/KEYS\", \"Healthcare/Diagnostics & Research/A\", \"Consumer Defensive/Packaged Foods/K\", \"Financial Services/Banks\\u2014Regional/CMA\", \"Consumer Defensive/Household & Personal Products/CLX\", \"Consumer Defensive/Household & Personal Products/CL\", \"Financial Services/Insurance\\u2014Property & Casualty/CINF\", \"Healthcare/Healthcare Plans/CI\", \"Communication Services/Entertainment/CHTR\", \"Industrials/Integrated Freight & Logistics/CHRW\", \"Consumer Defensive/Household & Personal Products/CHD\", \"Financial Services/Banks\\u2014Regional/CFG\", \"Basic Materials/Agricultural Inputs/CF\", \"Healthcare/Health Information Services/CERN\", \"Basic Materials/Chemicals/CE\", \"Communication Services/Entertainment/CMCSA\", \"Technology/Information Technology Services/CDW\", \"Consumer Cyclical/Travel Services/CCL\", \"Real Estate/REIT\\u2014Specialty/CCI\", \"Real Estate/Real Estate Services/CBRE\", \"Financial Services/Financial Data & Stock Exchanges/CBOE\", \"Industrials/Farm & Heavy Construction Machinery/CAT\", \"Industrials/Building Products & Equipment/CARR\", \"Healthcare/Medical Distribution/CAH\", \"Consumer Defensive/Packaged Foods/CAG\", \"Financial Services/Banks\\u2014Diversified/C\", \"Real Estate/REIT\\u2014Office/BXP\", \"Consumer Cyclical/Auto Parts/BWA\", \"Technology/Information Technology Services/BR\", \"Technology/Software\\u2014Application/CDNS\", \"Financial Services/Financial Data & Stock Exchanges/CME\", \"Consumer Cyclical/Restaurants/CMG\", \"Industrials/Specialty Industrial Machinery/CMI\", \"Financial Services/Credit Services/DFS\", \"Industrials/Farm & Heavy Construction Machinery/DE\", \"Basic Materials/Specialty Chemicals/DD\", \"Industrials/Airlines/DAL\", \"Utilities/Utilities\\u2014Regulated Electric/D\", \"Consumer Cyclical/Resorts & Casinos/CZR\", \"Energy/Oil & Gas Integrated/CVX\", \"Healthcare/Healthcare Plans/CVS\", \"Technology/Software\\u2014Application/CTXS\", \"Basic Materials/Agricultural Inputs/CTVA\", \"Technology/Information Technology Services/CTSH\", \"Healthcare/Drug Manufacturers\\u2014Specialty & Generic/CTLT\", \"Industrials/Specialty Business Services/CTAS\", \"Industrials/Railroads/CSX\", \"Technology/Communication Equipment/CSCO\", \"Technology/Software\\u2014Application/CRM\", \"Healthcare/Diagnostics & Research/CRL\", \"Industrials/Specialty Business Services/CPRT\", \"Consumer Defensive/Packaged Foods/CPB\", \"Consumer Defensive/Discount Stores/COST\", \"Energy/Oil & Gas E&P/COP\", \"Healthcare/Medical Instruments & Supplies/COO\", \"Energy/Oil & Gas E&P/COG\", \"Financial Services/Credit Services/COF\", \"Utilities/Utilities\\u2014Regulated Electric/CNP\", \"Healthcare/Healthcare Plans/CNC\", \"Utilities/Utilities\\u2014Regulated Electric/CMS\", \"Healthcare/Drug Manufacturers\\u2014General/BMY\", \"Consumer Cyclical/Packaging & Containers/BLL\", \"Financial Services/Asset Management/BLK\", \"Energy/Oil & Gas Equipment & Services/BKR\", \"Technology/Semiconductors/AMD\", \"Technology/Semiconductor Equipment & Materials/AMAT\", \"Healthcare/Biotechnology/ALXN\", \"Financial Services/Insurance\\u2014Property & Casualty/ALL\", \"Industrials/Airlines/ALK\", \"Healthcare/Medical Devices/ALGN\", \"Basic Materials/Specialty Chemicals/ALB\", \"Technology/Software\\u2014Infrastructure/AKAM\", \"Financial Services/Insurance Brokers/AJG\", \"Financial Services/Insurance\\u2014Specialty/AIZ\", \"Financial Services/Insurance\\u2014Diversified/AIG\", \"Financial Services/Insurance\\u2014Life/AFL\", \"Utilities/Utilities\\u2014Diversified/AES\", \"Utilities/Utilities\\u2014Regulated Electric/AEP\", \"Utilities/Utilities\\u2014Regulated Electric/AEE\", \"Technology/Software\\u2014Application/ADSK\", \"Industrials/Staffing & Employment Services/ADP\", \"Consumer Defensive/Farm Products/ADM\", \"Technology/Semiconductors/ADI\", \"Technology/Software\\u2014Infrastructure/ADBE\", \"Healthcare/Medical Devices/ABT\", \"Healthcare/Medical Devices/ABMD\", \"Healthcare/Medical Distribution/ABC\", \"Healthcare/Drug Manufacturers\\u2014General/ABBV\", \"Technology/Consumer Electronics/AAPL\", \"Consumer Cyclical/Specialty Retail/AAP\", \"Industrials/Airlines/AAL\", \"Industrials/Specialty Industrial Machinery/AME\", \"Consumer Defensive/Discount Stores/DG\", \"Healthcare/Drug Manufacturers\\u2014General/AMGN\", \"Real Estate/REIT\\u2014Specialty/AMT\", \"Consumer Cyclical/Travel Services/BKNG\", \"Financial Services/Asset Management/BK\", \"Healthcare/Medical Devices/BIO\", \"Healthcare/Drug Manufacturers\\u2014General/BIIB\", \"Financial Services/Asset Management/BEN\", \"Healthcare/Medical Instruments & Supplies/BDX\", \"Consumer Cyclical/Specialty Retail/BBY\", \"Healthcare/Medical Instruments & Supplies/BAX\", \"Financial Services/Banks\\u2014Diversified/BAC\", \"Industrials/Aerospace & Defense/BA\", \"Consumer Cyclical/Specialty Retail/AZO\", \"Financial Services/Credit Services/AXP\", \"Utilities/Utilities\\u2014Regulated Water/AWK\", \"Industrials/Business Equipment & Supplies/AVY\", \"Technology/Semiconductors/AVGO\", \"Real Estate/REIT\\u2014Residential/AVB\", \"Communication Services/Electronic Gaming & Multimedia/ATVI\", \"Utilities/Utilities\\u2014Regulated Gas/ATO\", \"Real Estate/REIT\\u2014Office/ARE\", \"Technology/Electronic Components/APH\", \"Basic Materials/Chemicals/APD\", \"Energy/Oil & Gas E&P/APA\", \"Industrials/Specialty Industrial Machinery/AOS\", \"Healthcare/Healthcare Plans/ANTM\", \"Technology/Software\\u2014Application/ANSS\", \"Technology/Computer Hardware/ANET\", \"Consumer Cyclical/Internet Retail/AMZN\", \"Financial Services/Asset Management/AMP\", \"Healthcare/Diagnostics & Research/DGX\", \"Consumer Cyclical/Residential Construction/DHI\", \"Healthcare/Diagnostics & Research/DHR\", \"Consumer Defensive/Packaged Foods/HRL\", \"Technology/Computer Hardware/HPQ\", \"Technology/Communication Equipment/HPE\", \"Industrials/Specialty Industrial Machinery/HON\", \"Healthcare/Medical Instruments & Supplies/HOLX\", \"Consumer Cyclical/Lodging/HLT\", \"Industrials/Aerospace & Defense/HII\", \"Financial Services/Insurance\\u2014Diversified/HIG\", \"Energy/Oil & Gas E&P/HES\", \"Consumer Cyclical/Home Improvement Retail/HD\", \"Healthcare/Medical Care Facilities/HCA\", \"Consumer Cyclical/Apparel Manufacturing/HBI\", \"Financial Services/Banks\\u2014Regional/HBAN\", \"Consumer Cyclical/Leisure/HAS\", \"Energy/Oil & Gas Equipment & Services/HAL\", \"Industrials/Industrial Distribution/GWW\", \"Financial Services/Capital Markets/GS\", \"Consumer Cyclical/Apparel Retail/GPS\", \"Industrials/Specialty Business Services/GPN\", \"Consumer Cyclical/Specialty Retail/GPC\", \"Communication Services/Internet Content & Information/GOOGL\", \"Communication Services/Internet Content & Information/GOOG\", \"Industrials/Specialty Industrial Machinery/GNRC\", \"Consumer Cyclical/Auto Manufacturers/GM\", \"Technology/Electronic Components/GLW\", \"Financial Services/Insurance\\u2014Life/GL\", \"Consumer Defensive/Packaged Foods/GIS\", \"Healthcare/Medical Distribution/HSIC\", \"Healthcare/Drug Manufacturers\\u2014General/GILD\", \"Real Estate/REIT\\u2014Hotel & Motel/HST\", \"Healthcare/Healthcare Plans/HUM\", \"Financial Services/Banks\\u2014Diversified/JPM\", \"Technology/Communication Equipment/JNPR\", \"Healthcare/Drug Manufacturers\\u2014General/JNJ\", \"Technology/Information Technology Services/JKHY\", \"Financial Services/Banks\\u2014Regional/ZION\", \"Industrials/Integrated Freight & Logistics/JBHT\", \"Industrials/Engineering & Construction/J\", \"Financial Services/Asset Management/IVZ\", \"Industrials/Specialty Industrial Machinery/ITW\", \"Technology/Information Technology Services/IT\", \"Healthcare/Medical Instruments & Supplies/ISRG\", \"Real Estate/REIT\\u2014Specialty/IRM\", \"Industrials/Specialty Industrial Machinery/IR\", \"Healthcare/Diagnostics & Research/IQV\", \"Technology/Semiconductor Equipment & Materials/IPGP\", \"Communication Services/Advertising Agencies/IPG\", \"Consumer Cyclical/Packaging & Containers/IP\", \"Technology/Software\\u2014Application/INTU\", \"Technology/Semiconductors/INTC\", \"Healthcare/Biotechnology/INCY\", \"Healthcare/Diagnostics & Research/ILMN\", \"Basic Materials/Specialty Chemicals/IFF\", \"Industrials/Specialty Industrial Machinery/IEX\", \"Healthcare/Diagnostics & Research/IDXX\", \"Financial Services/Financial Data & Stock Exchanges/ICE\", \"Technology/Information Technology Services/IBM\", \"Industrials/Specialty Industrial Machinery/HWM\", \"Consumer Defensive/Confectioners/HSY\", \"Financial Services/Banks\\u2014Regional/KEY\", \"Industrials/Specialty Industrial Machinery/GE\", \"Technology/Software\\u2014Infrastructure/FTNT\", \"Technology/Solar/ENPH\", \"Industrials/Specialty Industrial Machinery/EMR\", \"Basic Materials/Chemicals/EMN\", \"Consumer Defensive/Household & Personal Products/EL\", \"Utilities/Utilities\\u2014Regulated Electric/EIX\", \"Industrials/Consulting Services/EFX\", \"Utilities/Utilities\\u2014Regulated Electric/ED\", \"Basic Materials/Specialty Chemicals/ECL\", \"Consumer Cyclical/Internet Retail/EBAY\", \"Communication Services/Electronic Gaming & Multimedia/EA\", \"Healthcare/Diagnostics & Research/DXCM\", \"Technology/Information Technology Services/DXC\", \"Energy/Oil & Gas E&P/DVN\", \"Healthcare/Medical Care Facilities/DVA\", \"Utilities/Utilities\\u2014Regulated Electric/DUK\", \"Utilities/Utilities\\u2014Regulated Electric/DTE\", \"Consumer Cyclical/Restaurants/DRI\", \"Real Estate/REIT\\u2014Industrial/DRE\", \"Consumer Cyclical/Restaurants/DPZ\", \"Basic Materials/Chemicals/DOW\", \"Industrials/Specialty Industrial Machinery/DOV\", \"Consumer Defensive/Discount Stores/DLTR\", \"Real Estate/REIT\\u2014Office/DLR\", \"Communication Services/Entertainment/DISH\", \"Communication Services/Entertainment/DISCK\", \"Communication Services/Entertainment/DISCA\", \"Communication Services/Entertainment/DIS\", \"Energy/Oil & Gas E&P/EOG\", \"Technology/Scientific & Technical Instruments/FTV\", \"Real Estate/REIT\\u2014Specialty/EQIX\", \"Utilities/Utilities\\u2014Regulated Electric/ES\", \"Real Estate/REIT\\u2014Retail/FRT\", \"Financial Services/Banks\\u2014Regional/FRC\", \"Communication Services/Broadcasting/FOXA\", \"Communication Services/Broadcasting/FOX\", \"Basic Materials/Agricultural Inputs/FMC\", \"Technology/Information Technology Services/FLT\", \"Financial Services/Banks\\u2014Regional/FITB\", \"Technology/Information Technology Services/FISV\", \"Technology/Information Technology Services/FIS\", \"Technology/Software\\u2014Infrastructure/FFIV\", \"Utilities/Utilities\\u2014Regulated Electric/FE\", \"Industrials/Integrated Freight & Logistics/FDX\", \"Basic Materials/Copper/FCX\", \"Consumer Cyclical/Furnishings, Fixtures & Appliances/FBHS\", \"Communication Services/Internet Content & Information/FB\", \"Industrials/Industrial Distribution/FAST\", \"Energy/Oil & Gas E&P/FANG\", \"Consumer Cyclical/Auto Manufacturers/F\", \"Real Estate/REIT\\u2014Industrial/EXR\", \"Consumer Cyclical/Travel Services/EXPE\", \"Industrials/Integrated Freight & Logistics/EXPD\", \"Utilities/Utilities\\u2014Diversified/EXC\", \"Healthcare/Medical Devices/EW\", \"Utilities/Utilities\\u2014Regulated Electric/EVRG\", \"Consumer Cyclical/Internet Retail/ETSY\", \"Utilities/Utilities\\u2014Regulated Electric/ETR\", \"Real Estate/REIT\\u2014Residential/ESS\", \"Real Estate/REIT\\u2014Residential/EQR\", \"Healthcare/Drug Manufacturers\\u2014Specialty & Generic/ZTS\", \"0/0\", \"Communication Services/Advertising Agencies\", \"Industrials/Aerospace & Defense\", \"Basic Materials/Agricultural Inputs\", \"Industrials/Airlines\", \"Consumer Cyclical/Apparel Manufacturing\", \"Consumer Cyclical/Apparel Retail\", \"Financial Services/Asset Management\", \"Consumer Cyclical/Auto & Truck Dealerships\", \"Consumer Cyclical/Auto Manufacturers\", \"Consumer Cyclical/Auto Parts\", \"Financial Services/Banks\\u2014Diversified\", \"Financial Services/Banks\\u2014Regional\", \"Consumer Defensive/Beverages\\u2014Brewers\", \"Consumer Defensive/Beverages\\u2014Non-Alcoholic\", \"Consumer Defensive/Beverages\\u2014Wineries & Distilleries\", \"Healthcare/Biotechnology\", \"Communication Services/Broadcasting\", \"Basic Materials/Building Materials\", \"Industrials/Building Products & Equipment\", \"Industrials/Business Equipment & Supplies\", \"Financial Services/Capital Markets\", \"Basic Materials/Chemicals\", \"Technology/Communication Equipment\", \"Technology/Computer Hardware\", \"Consumer Defensive/Confectioners\", \"Industrials/Consulting Services\", \"Technology/Consumer Electronics\", \"Basic Materials/Copper\", \"Financial Services/Credit Services\", \"Healthcare/Diagnostics & Research\", \"Consumer Defensive/Discount Stores\", \"Healthcare/Drug Manufacturers\\u2014General\", \"Healthcare/Drug Manufacturers\\u2014Specialty & Generic\", \"Technology/Electronic Components\", \"Communication Services/Electronic Gaming & Multimedia\", \"Industrials/Engineering & Construction\", \"Communication Services/Entertainment\", \"Industrials/Farm & Heavy Construction Machinery\", \"Consumer Defensive/Farm Products\", \"Financial Services/Financial Data & Stock Exchanges\", \"Consumer Defensive/Food Distribution\", \"Consumer Cyclical/Footwear & Accessories\", \"Consumer Cyclical/Furnishings, Fixtures & Appliances\", \"Basic Materials/Gold\", \"Consumer Defensive/Grocery Stores\", \"Healthcare/Health Information Services\", \"Healthcare/Healthcare Plans\", \"Consumer Cyclical/Home Improvement Retail\", \"Consumer Defensive/Household & Personal Products\", \"Industrials/Industrial Distribution\", \"Technology/Information Technology Services\", \"Financial Services/Insurance Brokers\", \"Financial Services/Insurance\\u2014Diversified\", \"Financial Services/Insurance\\u2014Life\", \"Financial Services/Insurance\\u2014Property & Casualty\", \"Financial Services/Insurance\\u2014Reinsurance\", \"Financial Services/Insurance\\u2014Specialty\", \"Industrials/Integrated Freight & Logistics\", \"Communication Services/Internet Content & Information\", \"Consumer Cyclical/Internet Retail\", \"Consumer Cyclical/Leisure\", \"Consumer Cyclical/Lodging\", \"Consumer Cyclical/Luxury Goods\", \"Healthcare/Medical Care Facilities\", \"Healthcare/Medical Devices\", \"Healthcare/Medical Distribution\", \"Healthcare/Medical Instruments & Supplies\", \"Energy/Oil & Gas E&P\", \"Energy/Oil & Gas Equipment & Services\", \"Energy/Oil & Gas Integrated\", \"Energy/Oil & Gas Midstream\", \"Energy/Oil & Gas Refining & Marketing\", \"Consumer Defensive/Packaged Foods\", \"Consumer Cyclical/Packaging & Containers\", \"Consumer Cyclical/Personal Services\", \"Healthcare/Pharmaceutical Retailers\", \"Real Estate/REIT\\u2014Healthcare Facilities\", \"Real Estate/REIT\\u2014Hotel & Motel\", \"Real Estate/REIT\\u2014Industrial\", \"Real Estate/REIT\\u2014Office\", \"Real Estate/REIT\\u2014Residential\", \"Real Estate/REIT\\u2014Retail\", \"Real Estate/REIT\\u2014Specialty\", \"Industrials/Railroads\", \"Real Estate/Real Estate Services\", \"Industrials/Rental & Leasing Services\", \"Consumer Cyclical/Residential Construction\", \"Consumer Cyclical/Resorts & Casinos\", \"Consumer Cyclical/Restaurants\", \"Technology/Scientific & Technical Instruments\", \"Industrials/Security & Protection Services\", \"Technology/Semiconductor Equipment & Materials\", \"Technology/Semiconductors\", \"Technology/Software\\u2014Application\", \"Technology/Software\\u2014Infrastructure\", \"Technology/Solar\", \"Industrials/Specialty Business Services\", \"Basic Materials/Specialty Chemicals\", \"Industrials/Specialty Industrial Machinery\", \"Consumer Cyclical/Specialty Retail\", \"Industrials/Staffing & Employment Services\", \"Basic Materials/Steel\", \"Communication Services/Telecom Services\", \"Consumer Defensive/Tobacco\", \"Industrials/Tools & Accessories\", \"Consumer Cyclical/Travel Services\", \"Industrials/Trucking\", \"Utilities/Utilities\\u2014Diversified\", \"Utilities/Utilities\\u2014Independent Power Producers\", \"Utilities/Utilities\\u2014Regulated Electric\", \"Utilities/Utilities\\u2014Regulated Gas\", \"Utilities/Utilities\\u2014Regulated Water\", \"Industrials/Waste Management\", \"0\", \"Basic Materials\", \"Communication Services\", \"Consumer Cyclical\", \"Consumer Defensive\", \"Energy\", \"Financial Services\", \"Healthcare\", \"Industrials\", \"Real Estate\", \"Technology\", \"Utilities\"], \"labels\": [\"GD\", \"BSX\", \"BRK.B\", \"OGN\", \"RE\", \"ALLE\", \"STE\", \"APTV\", \"ETN\", \"STX\", \"TT\", \"MDT\", \"JCI\", \"ACN\", \"AON\", \"PRGO\", \"NXPI\", \"TEL\", \"CB\", \"GRMN\", \"AMCR\", \"LIN\", \"WLTW\", \"PNR\", \"INFO\", \"NUE\", \"NTRS\", \"NTAP\", \"NVDA\", \"NOC\", \"NRG\", \"NOW\", \"NOV\", \"NLSN\", \"NLOK\", \"NKE\", \"NI\", \"NFLX\", \"NEM\", \"NEE\", \"NSC\", \"NVR\", \"ODFL\", \"NWS\", \"PNC\", \"PM\", \"PLD\", \"PKI\", \"PKG\", \"PHM\", \"PH\", \"PGR\", \"PG\", \"PFG\", \"PFE\", \"PEP\", \"PENN\", \"NWL\", \"PEG\", \"PCAR\", \"PBCT\", \"PAYX\", \"PAYC\", \"OXY\", \"OTIS\", \"ORLY\", \"ORCL\", \"OMC\", \"OKE\", \"NDAQ\", \"O\", \"NWSA\", \"PEAK\", \"NCLH\", \"MSI\", \"MU\", \"LW\", \"LVS\", \"LUV\", \"LUMN\", \"LRCX\", \"LOW\", \"LNT\", \"LNC\", \"LMT\", \"LLY\", \"LKQ\", \"LHX\", \"LYB\", \"LH\", \"LEG\", \"LDOS\", \"LB\", \"L\", \"KSU\", \"KR\", \"KO\", \"KMX\", \"KMI\", \"KMB\", \"KLAC\", \"KIM\", \"LEN\", \"LYV\", \"MA\", \"MAA\", \"MTD\", \"MTB\", \"MSFT\", \"MSCI\", \"MS\", \"MRO\", \"MRK\", \"MPWR\", \"MPC\", \"MOS\", \"MO\", \"MNST\", \"MMM\", \"MMC\", \"MLM\", \"MKTX\", \"MKC\", \"MHK\", \"MGM\", \"MET\", \"MDLZ\", \"MCO\", \"MCK\", \"MCHP\", \"MCD\", \"MAS\", \"MAR\", \"MXIM\", \"PNW\", \"PTC\", \"PPG\", \"VNO\", \"VMC\", \"VLO\", \"VIAC\", \"VFC\", \"V\", \"USB\", \"URI\", \"UPS\", \"UNP\", \"UNM\", \"UNH\", \"VRSK\", \"ULTA\", \"UDR\", \"UAL\", \"UAA\", \"UA\", \"TYL\", \"TXT\", \"TXN\", \"TWTR\", \"TTWO\", \"TSN\", \"TSLA\", \"TSCO\", \"UHS\", \"VRSN\", \"VRTX\", \"VTR\", \"ZBRA\", \"ZBH\", \"YUM\", \"XYL\", \"XRAY\", \"XOM\", \"XLNX\", \"XEL\", \"WYNN\", \"WY\", \"WU\", \"WST\", \"WRK\", \"WRB\", \"WMT\", \"WMB\", \"WM\", \"WHR\", \"WFC\", \"WELL\", \"WEC\", \"WDC\", \"WBA\", \"WAT\", \"WAB\", \"VZ\", \"VTRS\", \"TRV\", \"POOL\", \"TROW\", \"TPR\", \"SBAC\", \"RTX\", \"RSG\", \"ROST\", \"ROP\", \"ROL\", \"ROK\", \"RMD\", \"RL\", \"RJF\", \"RHI\", \"RF\", \"SBUX\", \"REGN\", \"RCL\", \"QRVO\", \"QCOM\", \"PYPL\", \"PXD\", \"PWR\", \"PVH\", \"KHC\", \"PSX\", \"PSA\", \"PRU\", \"PPL\", \"REG\", \"SCHW\", \"SEE\", \"SHW\", \"TMUS\", \"TMO\", \"TJX\", \"TGT\", \"TFX\", \"TFC\", \"TER\", \"TDY\", \"TDG\", \"TAP\", \"T\", \"SYY\", \"SYK\", \"SYF\", \"SWKS\", \"SWK\", \"STZ\", \"STT\", \"SRE\", \"SPGI\", \"SPG\", \"SO\", \"SNPS\", \"SNA\", \"SLB\", \"SJM\", \"SIVB\", \"TRMB\", \"KEYS\", \"A\", \"K\", \"CMA\", \"CLX\", \"CL\", \"CINF\", \"CI\", \"CHTR\", \"CHRW\", \"CHD\", \"CFG\", \"CF\", \"CERN\", \"CE\", \"CMCSA\", \"CDW\", \"CCL\", \"CCI\", \"CBRE\", \"CBOE\", \"CAT\", \"CARR\", \"CAH\", \"CAG\", \"C\", \"BXP\", \"BWA\", \"BR\", \"CDNS\", \"CME\", \"CMG\", \"CMI\", \"DFS\", \"DE\", \"DD\", \"DAL\", \"D\", \"CZR\", \"CVX\", \"CVS\", \"CTXS\", \"CTVA\", \"CTSH\", \"CTLT\", \"CTAS\", \"CSX\", \"CSCO\", \"CRM\", \"CRL\", \"CPRT\", \"CPB\", \"COST\", \"COP\", \"COO\", \"COG\", \"COF\", \"CNP\", \"CNC\", \"CMS\", \"BMY\", \"BLL\", \"BLK\", \"BKR\", \"AMD\", \"AMAT\", \"ALXN\", \"ALL\", \"ALK\", \"ALGN\", \"ALB\", \"AKAM\", \"AJG\", \"AIZ\", \"AIG\", \"AFL\", \"AES\", \"AEP\", \"AEE\", \"ADSK\", \"ADP\", \"ADM\", \"ADI\", \"ADBE\", \"ABT\", \"ABMD\", \"ABC\", \"ABBV\", \"AAPL\", \"AAP\", \"AAL\", \"AME\", \"DG\", \"AMGN\", \"AMT\", \"BKNG\", \"BK\", \"BIO\", \"BIIB\", \"BEN\", \"BDX\", \"BBY\", \"BAX\", \"BAC\", \"BA\", \"AZO\", \"AXP\", \"AWK\", \"AVY\", \"AVGO\", \"AVB\", \"ATVI\", \"ATO\", \"ARE\", \"APH\", \"APD\", \"APA\", \"AOS\", \"ANTM\", \"ANSS\", \"ANET\", \"AMZN\", \"AMP\", \"DGX\", \"DHI\", \"DHR\", \"HRL\", \"HPQ\", \"HPE\", \"HON\", \"HOLX\", \"HLT\", \"HII\", \"HIG\", \"HES\", \"HD\", \"HCA\", \"HBI\", \"HBAN\", \"HAS\", \"HAL\", \"GWW\", \"GS\", \"GPS\", \"GPN\", \"GPC\", \"GOOGL\", \"GOOG\", \"GNRC\", \"GM\", \"GLW\", \"GL\", \"GIS\", \"HSIC\", \"GILD\", \"HST\", \"HUM\", \"JPM\", \"JNPR\", \"JNJ\", \"JKHY\", \"ZION\", \"JBHT\", \"J\", \"IVZ\", \"ITW\", \"IT\", \"ISRG\", \"IRM\", \"IR\", \"IQV\", \"IPGP\", \"IPG\", \"IP\", \"INTU\", \"INTC\", \"INCY\", \"ILMN\", \"IFF\", \"IEX\", \"IDXX\", \"ICE\", \"IBM\", \"HWM\", \"HSY\", \"KEY\", \"GE\", \"FTNT\", \"ENPH\", \"EMR\", \"EMN\", \"EL\", \"EIX\", \"EFX\", \"ED\", \"ECL\", \"EBAY\", \"EA\", \"DXCM\", \"DXC\", \"DVN\", \"DVA\", \"DUK\", \"DTE\", \"DRI\", \"DRE\", \"DPZ\", \"DOW\", \"DOV\", \"DLTR\", \"DLR\", \"DISH\", \"DISCK\", \"DISCA\", \"DIS\", \"EOG\", \"FTV\", \"EQIX\", \"ES\", \"FRT\", \"FRC\", \"FOXA\", \"FOX\", \"FMC\", \"FLT\", \"FITB\", \"FISV\", \"FIS\", \"FFIV\", \"FE\", \"FDX\", \"FCX\", \"FBHS\", \"FB\", \"FAST\", \"FANG\", \"F\", \"EXR\", \"EXPE\", \"EXPD\", \"EXC\", \"EW\", \"EVRG\", \"ETSY\", \"ETR\", \"ESS\", \"EQR\", \"ZTS\", \"0\", \"Advertising Agencies\", \"Aerospace & Defense\", \"Agricultural Inputs\", \"Airlines\", \"Apparel Manufacturing\", \"Apparel Retail\", \"Asset Management\", \"Auto & Truck Dealerships\", \"Auto Manufacturers\", \"Auto Parts\", \"Banks\\u2014Diversified\", \"Banks\\u2014Regional\", \"Beverages\\u2014Brewers\", \"Beverages\\u2014Non-Alcoholic\", \"Beverages\\u2014Wineries & Distilleries\", \"Biotechnology\", \"Broadcasting\", \"Building Materials\", \"Building Products & Equipment\", \"Business Equipment & Supplies\", \"Capital Markets\", \"Chemicals\", \"Communication Equipment\", \"Computer Hardware\", \"Confectioners\", \"Consulting Services\", \"Consumer Electronics\", \"Copper\", \"Credit Services\", \"Diagnostics & Research\", \"Discount Stores\", \"Drug Manufacturers\\u2014General\", \"Drug Manufacturers\\u2014Specialty & Generic\", \"Electronic Components\", \"Electronic Gaming & Multimedia\", \"Engineering & Construction\", \"Entertainment\", \"Farm & Heavy Construction Machinery\", \"Farm Products\", \"Financial Data & Stock Exchanges\", \"Food Distribution\", \"Footwear & Accessories\", \"Furnishings, Fixtures & Appliances\", \"Gold\", \"Grocery Stores\", \"Health Information Services\", \"Healthcare Plans\", \"Home Improvement Retail\", \"Household & Personal Products\", \"Industrial Distribution\", \"Information Technology Services\", \"Insurance Brokers\", \"Insurance\\u2014Diversified\", \"Insurance\\u2014Life\", \"Insurance\\u2014Property & Casualty\", \"Insurance\\u2014Reinsurance\", \"Insurance\\u2014Specialty\", \"Integrated Freight & Logistics\", \"Internet Content & Information\", \"Internet Retail\", \"Leisure\", \"Lodging\", \"Luxury Goods\", \"Medical Care Facilities\", \"Medical Devices\", \"Medical Distribution\", \"Medical Instruments & Supplies\", \"Oil & Gas E&P\", \"Oil & Gas Equipment & Services\", \"Oil & Gas Integrated\", \"Oil & Gas Midstream\", \"Oil & Gas Refining & Marketing\", \"Packaged Foods\", \"Packaging & Containers\", \"Personal Services\", \"Pharmaceutical Retailers\", \"REIT\\u2014Healthcare Facilities\", \"REIT\\u2014Hotel & Motel\", \"REIT\\u2014Industrial\", \"REIT\\u2014Office\", \"REIT\\u2014Residential\", \"REIT\\u2014Retail\", \"REIT\\u2014Specialty\", \"Railroads\", \"Real Estate Services\", \"Rental & Leasing Services\", \"Residential Construction\", \"Resorts & Casinos\", \"Restaurants\", \"Scientific & Technical Instruments\", \"Security & Protection Services\", \"Semiconductor Equipment & Materials\", \"Semiconductors\", \"Software\\u2014Application\", \"Software\\u2014Infrastructure\", \"Solar\", \"Specialty Business Services\", \"Specialty Chemicals\", \"Specialty Industrial Machinery\", \"Specialty Retail\", \"Staffing & Employment Services\", \"Steel\", \"Telecom Services\", \"Tobacco\", \"Tools & Accessories\", \"Travel Services\", \"Trucking\", \"Utilities\\u2014Diversified\", \"Utilities\\u2014Independent Power Producers\", \"Utilities\\u2014Regulated Electric\", \"Utilities\\u2014Regulated Gas\", \"Utilities\\u2014Regulated Water\", \"Waste Management\", \"0\", \"Basic Materials\", \"Communication Services\", \"Consumer Cyclical\", \"Consumer Defensive\", \"Energy\", \"Financial Services\", \"Healthcare\", \"Industrials\", \"Real Estate\", \"Technology\", \"Utilities\"], \"marker\": {\"colors\": [\"#636efa\", \"#636efa\", \"#636efa\", \"#636efa\", \"#EF553B\", \"#00cc96\", \"#00cc96\", \"#00cc96\", \"#00cc96\", \"#00cc96\", \"#00cc96\", \"#00cc96\", \"#00cc96\", \"#00cc96\", \"#00cc96\", \"#00cc96\", \"#ab63fa\", \"#FFA15A\", \"#FFA15A\", \"#FFA15A\", \"#FFA15A\", \"#19d3f3\", \"#19d3f3\", \"#19d3f3\", \"#19d3f3\", \"#FF6692\", \"#FF6692\", \"#FF6692\", \"#FF6692\", \"#FF6692\", \"#FF6692\", \"#FF6692\", \"#FF6692\", \"#FF6692\", \"#FF6692\", \"#FF6692\", \"#FF6692\", \"#FF6692\", \"#FF6692\", \"#FF6692\", \"#FF6692\", \"#FF6692\", \"#FF6692\", \"#FF6692\", \"#FF6692\", \"#FF6692\", \"#FF6692\", \"#FF6692\", \"#FF6692\", \"#FF6692\", \"#FF6692\", \"#FF6692\", \"#FF6692\", \"#FF6692\", \"#FF6692\", \"#FF6692\", \"#FF6692\", \"#FF6692\", \"#FF6692\", \"#FF6692\", \"#FF6692\", \"#FF6692\", \"#FF6692\", \"#FF6692\", \"#FF6692\", \"#FF6692\", \"#FF6692\", \"#FF6692\", \"#FF6692\", \"#FF6692\", \"#FF6692\", \"#FF6692\", \"#FF6692\", \"#FF6692\", \"#FF6692\", \"#FF6692\", \"#FF6692\", \"#FF6692\", \"#FF6692\", \"#FF6692\", \"#FF6692\", \"#FF6692\", \"#FF6692\", \"#FF6692\", \"#FF6692\", \"#FF6692\", \"#FF6692\", \"#FF6692\", \"#FF6692\", \"#FF6692\", \"#FF6692\", \"#FF6692\", \"#FF6692\", \"#FF6692\", \"#FF6692\", \"#FF6692\", \"#FF6692\", \"#FF6692\", \"#FF6692\", \"#FF6692\", \"#FF6692\", \"#FF6692\", \"#FF6692\", \"#FF6692\", \"#FF6692\", \"#FF6692\", \"#FF6692\", \"#FF6692\", \"#FF6692\", \"#FF6692\", \"#FF6692\", \"#FF6692\", \"#FF6692\", \"#FF6692\", \"#FF6692\", \"#FF6692\", \"#FF6692\", \"#FF6692\", \"#FF6692\", \"#FF6692\", \"#FF6692\", \"#FF6692\", \"#FF6692\", \"#FF6692\", \"#FF6692\", \"#FF6692\", \"#FF6692\", \"#FF6692\", \"#FF6692\", \"#FF6692\", \"#FF6692\", \"#FF6692\", \"#FF6692\", \"#FF6692\", \"#FF6692\", \"#FF6692\", \"#FF6692\", \"#FF6692\", \"#FF6692\", \"#FF6692\", \"#FF6692\", \"#FF6692\", \"#FF6692\", \"#FF6692\", \"#FF6692\", \"#FF6692\", \"#FF6692\", \"#FF6692\", \"#FF6692\", \"#FF6692\", \"#FF6692\", \"#FF6692\", \"#FF6692\", \"#FF6692\", \"#FF6692\", \"#FF6692\", \"#FF6692\", \"#FF6692\", \"#FF6692\", \"#FF6692\", \"#FF6692\", \"#FF6692\", \"#FF6692\", \"#FF6692\", \"#FF6692\", \"#FF6692\", \"#FF6692\", \"#FF6692\", \"#FF6692\", \"#FF6692\", \"#FF6692\", \"#FF6692\", \"#FF6692\", \"#FF6692\", \"#FF6692\", \"#FF6692\", \"#FF6692\", \"#FF6692\", \"#FF6692\", \"#FF6692\", \"#FF6692\", \"#FF6692\", \"#FF6692\", \"#FF6692\", \"#FF6692\", \"#FF6692\", \"#FF6692\", \"#FF6692\", \"#FF6692\", \"#FF6692\", \"#FF6692\", \"#FF6692\", \"#FF6692\", \"#FF6692\", \"#FF6692\", \"#FF6692\", \"#FF6692\", \"#FF6692\", \"#FF6692\", \"#FF6692\", \"#FF6692\", \"#FF6692\", \"#FF6692\", \"#FF6692\", \"#FF6692\", \"#FF6692\", \"#FF6692\", \"#FF6692\", \"#FF6692\", \"#FF6692\", \"#FF6692\", \"#FF6692\", \"#FF6692\", \"#FF6692\", \"#FF6692\", \"#FF6692\", \"#FF6692\", \"#FF6692\", \"#FF6692\", \"#FF6692\", \"#FF6692\", \"#FF6692\", \"#FF6692\", \"#FF6692\", \"#FF6692\", \"#FF6692\", \"#FF6692\", \"#FF6692\", \"#FF6692\", \"#FF6692\", \"#FF6692\", \"#FF6692\", \"#FF6692\", \"#FF6692\", \"#FF6692\", \"#FF6692\", \"#FF6692\", \"#FF6692\", \"#FF6692\", \"#FF6692\", \"#FF6692\", \"#FF6692\", \"#FF6692\", \"#FF6692\", \"#FF6692\", \"#FF6692\", \"#FF6692\", \"#FF6692\", \"#FF6692\", \"#FF6692\", \"#FF6692\", \"#FF6692\", \"#FF6692\", \"#FF6692\", \"#FF6692\", \"#FF6692\", \"#FF6692\", \"#FF6692\", \"#FF6692\", \"#FF6692\", \"#FF6692\", \"#FF6692\", \"#FF6692\", \"#FF6692\", \"#FF6692\", \"#FF6692\", \"#FF6692\", \"#FF6692\", \"#FF6692\", \"#FF6692\", \"#FF6692\", \"#FF6692\", \"#FF6692\", \"#FF6692\", \"#FF6692\", \"#FF6692\", \"#FF6692\", \"#FF6692\", \"#FF6692\", \"#FF6692\", \"#FF6692\", \"#FF6692\", \"#FF6692\", \"#FF6692\", \"#FF6692\", \"#FF6692\", \"#FF6692\", \"#FF6692\", \"#FF6692\", \"#FF6692\", \"#FF6692\", \"#FF6692\", \"#FF6692\", \"#FF6692\", \"#FF6692\", \"#FF6692\", \"#FF6692\", \"#FF6692\", \"#FF6692\", \"#FF6692\", \"#FF6692\", \"#FF6692\", \"#FF6692\", \"#FF6692\", \"#FF6692\", \"#FF6692\", \"#FF6692\", \"#FF6692\", \"#FF6692\", \"#FF6692\", \"#FF6692\", \"#FF6692\", \"#FF6692\", \"#FF6692\", \"#FF6692\", \"#FF6692\", \"#FF6692\", \"#FF6692\", \"#FF6692\", \"#FF6692\", \"#FF6692\", \"#FF6692\", \"#FF6692\", \"#FF6692\", \"#FF6692\", \"#FF6692\", \"#FF6692\", \"#FF6692\", \"#FF6692\", \"#FF6692\", \"#FF6692\", \"#FF6692\", \"#FF6692\", \"#FF6692\", \"#FF6692\", \"#FF6692\", \"#FF6692\", \"#FF6692\", \"#FF6692\", \"#FF6692\", \"#FF6692\", \"#FF6692\", \"#FF6692\", \"#FF6692\", \"#FF6692\", \"#FF6692\", \"#FF6692\", \"#FF6692\", \"#FF6692\", \"#FF6692\", \"#FF6692\", \"#FF6692\", \"#FF6692\", \"#FF6692\", \"#FF6692\", \"#FF6692\", \"#FF6692\", \"#FF6692\", \"#FF6692\", \"#FF6692\", \"#FF6692\", \"#FF6692\", \"#FF6692\", \"#FF6692\", \"#FF6692\", \"#FF6692\", \"#FF6692\", \"#FF6692\", \"#FF6692\", \"#FF6692\", \"#FF6692\", \"#FF6692\", \"#FF6692\", \"#FF6692\", \"#FF6692\", \"#FF6692\", \"#FF6692\", \"#FF6692\", \"#FF6692\", \"#FF6692\", \"#FF6692\", \"#FF6692\", \"#FF6692\", \"#FF6692\", \"#FF6692\", \"#FF6692\", \"#FF6692\", \"#FF6692\", \"#FF6692\", \"#FF6692\", \"#FF6692\", \"#FF6692\", \"#FF6692\", \"#FF6692\", \"#FF6692\", \"#FF6692\", \"#FF6692\", \"#FF6692\", \"#FF6692\", \"#FF6692\", \"#FF6692\", \"#FF6692\", \"#FF6692\", \"#FF6692\", \"#FF6692\", \"#FF6692\", \"#FF6692\", \"#FF6692\", \"#FF6692\", \"#FF6692\", \"#FF6692\", \"#FF6692\", \"#FF6692\", \"#FF6692\", \"#FF6692\", \"#FF6692\", \"#FF6692\", \"#FF6692\", \"#FF6692\", \"#FF6692\", \"#FF6692\", \"#FF6692\", \"#FF6692\", \"#FF6692\", \"#FF6692\", \"#FF6692\", \"#FF6692\", \"#FF6692\", \"#FF6692\", \"#FF6692\", \"#FF6692\", \"#FF6692\", \"#FF6692\", \"#FF6692\", \"#FF6692\", \"#FF6692\", \"#FF6692\", \"#FF6692\", \"#FF6692\", \"#FF6692\", \"#FF6692\", \"#FF6692\", \"#FF6692\", \"#FF6692\", \"#FF6692\", \"#FF6692\", \"#FF6692\", \"#FF6692\", \"#FF6692\", \"#FF6692\", \"#FF6692\", \"#FF6692\", \"#FF6692\", \"#FF6692\", \"#FF6692\", \"#FF6692\", \"#FF6692\", \"#FF6692\", \"#FF6692\", \"#FF6692\", \"#FF6692\", \"#FF6692\", \"#FF6692\", \"#FF6692\", \"#FF6692\", \"#FF6692\", \"#FF6692\", \"#FF6692\", \"#FF6692\", \"#FF6692\", \"#FF6692\", \"#FF6692\", \"#FF6692\", \"#FF6692\", \"#FF6692\", \"#FF6692\", \"#FF6692\", \"#FF6692\", \"#FF6692\", \"#FF6692\", \"#FF6692\", \"#FF6692\", \"#FF6692\", \"#FF6692\", \"#FF6692\", \"#FF6692\", \"#FF6692\", \"#FF6692\", \"#FF6692\", \"#FF6692\", \"#FF6692\", \"#FF6692\", \"#FF6692\", \"#FF6692\", \"#FF6692\", \"#FF6692\", \"#FF6692\", \"#FF6692\", \"#FF6692\", \"#FF6692\", \"#FF6692\", \"#FF6692\", \"#FF6692\", \"#FF6692\", \"#636efa\", \"#FF6692\", \"#FF6692\", \"#FF6692\", \"#FF6692\", \"#FF6692\", \"#FF6692\", \"#FF6692\", \"#FF6692\", \"#FF6692\", \"#B6E880\", \"#FF6692\", \"#FF6692\", \"#FF6692\", \"#FF6692\", \"#FF6692\", \"#FF6692\", \"#FF6692\", \"#FF6692\", \"#FF6692\", \"#FF6692\", \"#FF6692\", \"#FF6692\", \"#FF6692\", \"#B6E880\", \"#FF6692\", \"#B6E880\", \"#FF6692\", \"#FF6692\", \"#FF6692\", \"#FF6692\", \"#FF6692\", \"#FF6692\", \"#B6E880\", \"#B6E880\", \"#FF6692\", \"#B6E880\", \"#FF6692\", \"#FF6692\", \"#FF6692\", \"#FF6692\", \"#FF6692\", \"#FF6692\", \"#FF6692\", \"#FF6692\", \"#FF6692\", \"#FF6692\", \"#FF6692\", \"#FF6692\", \"#FF6692\", \"#FF6692\", \"#B6E880\", \"#B6E880\", \"#FF6692\", \"#FF6692\", \"#B6E880\", \"#EF553B\", \"#FF6692\", \"#FF6692\", \"#FF6692\", \"#FF6692\", \"#FF6692\", \"#FF6692\", \"#FF6692\", \"#FF6692\", \"#B6E880\", \"#FF6692\", \"#B6E880\", \"#FF6692\", \"#FF6692\", \"#FF6692\", \"#FF6692\", \"#FF6692\", \"#FF6692\", \"#B6E880\", \"#FF6692\", \"#FF6692\", \"#FF6692\", \"#FF6692\", \"#FF6692\", \"#FF6692\", \"#FF6692\", \"#FF6692\", \"#FF6692\", \"#FF6692\", \"#FF6692\", \"#FF6692\", \"#FF6692\", \"#FF6692\", \"#FF6692\", \"#B6E880\", \"#00cc96\", \"#FF6692\", \"#B6E880\", \"#FF6692\", \"#FF6692\", \"#FF6692\", \"#FF6692\", \"#B6E880\", \"#B6E880\", \"#FF6692\", \"#FF6692\", \"#FF6692\", \"#FF6692\", \"#FF6692\", \"#FF6692\", \"#FF6692\", \"#FF6692\", \"#FF6692\", \"#FF6692\", \"#FF6692\", \"#FF6692\", \"#FF6692\", \"#FF6692\", \"#636efa\", \"#B6E880\", \"#FF6692\", \"#B6E880\", \"#FF6692\", \"#FF6692\", \"#B6E880\", \"#B6E880\", \"#B6E880\", \"#FF6692\", \"#B6E880\", \"#FF6692\"]}, \"name\": \"\", \"parents\": [\"0/0\", \"0/0\", \"0/0\", \"0/0\", \"Financial Services/Insurance\\u2014Reinsurance\", \"Industrials/Security & Protection Services\", \"Healthcare/Medical Instruments & Supplies\", \"Consumer Cyclical/Auto Parts\", \"Industrials/Specialty Industrial Machinery\", \"Technology/Computer Hardware\", \"Industrials/Specialty Industrial Machinery\", \"Healthcare/Medical Devices\", \"Industrials/Engineering & Construction\", \"Technology/Information Technology Services\", \"Financial Services/Insurance Brokers\", \"Healthcare/Drug Manufacturers\\u2014Specialty & Generic\", \"Technology/Semiconductors\", \"Technology/Electronic Components\", \"Financial Services/Insurance\\u2014Property & Casualty\", \"Technology/Scientific & Technical Instruments\", \"Consumer Cyclical/Packaging & Containers\", \"Basic Materials/Specialty Chemicals\", \"Financial Services/Insurance Brokers\", \"Industrials/Specialty Industrial Machinery\", \"Industrials/Consulting Services\", \"Basic Materials/Steel\", \"Financial Services/Asset Management\", \"Technology/Computer Hardware\", \"Technology/Semiconductors\", \"Industrials/Aerospace & Defense\", \"Utilities/Utilities\\u2014Independent Power Producers\", \"Technology/Software\\u2014Application\", \"Energy/Oil & Gas Equipment & Services\", \"Industrials/Consulting Services\", \"Technology/Software\\u2014Infrastructure\", \"Consumer Cyclical/Footwear & Accessories\", \"Utilities/Utilities\\u2014Regulated Gas\", \"Communication Services/Entertainment\", \"Basic Materials/Gold\", \"Utilities/Utilities\\u2014Regulated Electric\", \"Industrials/Railroads\", \"Consumer Cyclical/Residential Construction\", \"Industrials/Trucking\", \"Communication Services/Broadcasting\", \"Financial Services/Banks\\u2014Regional\", \"Consumer Defensive/Tobacco\", \"Real Estate/REIT\\u2014Industrial\", \"Healthcare/Diagnostics & Research\", \"Consumer Cyclical/Packaging & Containers\", \"Consumer Cyclical/Residential Construction\", \"Industrials/Specialty Industrial Machinery\", \"Financial Services/Insurance\\u2014Property & Casualty\", \"Consumer Defensive/Household & Personal Products\", \"Financial Services/Insurance\\u2014Diversified\", \"Healthcare/Drug Manufacturers\\u2014General\", \"Consumer Defensive/Beverages\\u2014Non-Alcoholic\", \"Consumer Cyclical/Resorts & Casinos\", \"Consumer Defensive/Household & Personal Products\", \"Utilities/Utilities\\u2014Diversified\", \"Industrials/Farm & Heavy Construction Machinery\", \"Financial Services/Banks\\u2014Regional\", \"Industrials/Staffing & Employment Services\", \"Technology/Software\\u2014Application\", \"Energy/Oil & Gas E&P\", \"Industrials/Specialty Industrial Machinery\", \"Consumer Cyclical/Specialty Retail\", \"Technology/Software\\u2014Infrastructure\", \"Communication Services/Advertising Agencies\", \"Energy/Oil & Gas Midstream\", \"Financial Services/Financial Data & Stock Exchanges\", \"Real Estate/REIT\\u2014Retail\", \"Communication Services/Broadcasting\", \"Real Estate/REIT\\u2014Healthcare Facilities\", \"Consumer Cyclical/Travel Services\", \"Technology/Communication Equipment\", \"Technology/Semiconductors\", \"Consumer Defensive/Packaged Foods\", \"Consumer Cyclical/Resorts & Casinos\", \"Industrials/Airlines\", \"Communication Services/Telecom Services\", \"Technology/Semiconductor Equipment & Materials\", \"Consumer Cyclical/Home Improvement Retail\", \"Utilities/Utilities\\u2014Regulated Electric\", \"Financial Services/Insurance\\u2014Life\", \"Industrials/Aerospace & Defense\", \"Healthcare/Drug Manufacturers\\u2014General\", \"Consumer Cyclical/Auto Parts\", \"Industrials/Aerospace & Defense\", \"Basic Materials/Specialty Chemicals\", \"Healthcare/Diagnostics & Research\", \"Consumer Cyclical/Furnishings, Fixtures & Appliances\", \"Technology/Information Technology Services\", \"Consumer Cyclical/Apparel Retail\", \"Financial Services/Insurance\\u2014Property & Casualty\", \"Industrials/Railroads\", \"Consumer Defensive/Grocery Stores\", \"Consumer Defensive/Beverages\\u2014Non-Alcoholic\", \"Consumer Cyclical/Auto & Truck Dealerships\", \"Energy/Oil & Gas Midstream\", \"Consumer Defensive/Household & Personal Products\", \"Technology/Semiconductor Equipment & Materials\", \"Real Estate/REIT\\u2014Retail\", \"Consumer Cyclical/Residential Construction\", \"Communication Services/Entertainment\", \"Financial Services/Credit Services\", \"Real Estate/REIT\\u2014Residential\", \"Healthcare/Diagnostics & Research\", \"Financial Services/Banks\\u2014Regional\", \"Technology/Software\\u2014Infrastructure\", \"Financial Services/Financial Data & Stock Exchanges\", \"Financial Services/Capital Markets\", \"Energy/Oil & Gas E&P\", \"Healthcare/Drug Manufacturers\\u2014General\", \"Technology/Semiconductors\", \"Energy/Oil & Gas Refining & Marketing\", \"Basic Materials/Agricultural Inputs\", \"Consumer Defensive/Tobacco\", \"Consumer Defensive/Beverages\\u2014Non-Alcoholic\", \"Industrials/Specialty Industrial Machinery\", \"Financial Services/Insurance Brokers\", \"Basic Materials/Building Materials\", \"Financial Services/Capital Markets\", \"Consumer Defensive/Packaged Foods\", \"Consumer Cyclical/Furnishings, Fixtures & Appliances\", \"Consumer Cyclical/Resorts & Casinos\", \"Financial Services/Insurance\\u2014Life\", \"Consumer Defensive/Confectioners\", \"Financial Services/Financial Data & Stock Exchanges\", \"Healthcare/Medical Distribution\", \"Technology/Semiconductors\", \"Consumer Cyclical/Restaurants\", \"Industrials/Building Products & Equipment\", \"Consumer Cyclical/Lodging\", \"Technology/Semiconductors\", \"Utilities/Utilities\\u2014Regulated Electric\", \"Technology/Software\\u2014Application\", \"Basic Materials/Specialty Chemicals\", \"Real Estate/REIT\\u2014Office\", \"Basic Materials/Building Materials\", \"Energy/Oil & Gas Refining & Marketing\", \"Communication Services/Entertainment\", \"Consumer Cyclical/Apparel Manufacturing\", \"Financial Services/Credit Services\", \"Financial Services/Banks\\u2014Regional\", \"Industrials/Rental & Leasing Services\", \"Industrials/Integrated Freight & Logistics\", \"Industrials/Railroads\", \"Financial Services/Insurance\\u2014Life\", \"Healthcare/Healthcare Plans\", \"Industrials/Consulting Services\", \"Consumer Cyclical/Specialty Retail\", \"Real Estate/REIT\\u2014Residential\", \"Industrials/Airlines\", \"Consumer Cyclical/Apparel Manufacturing\", \"Consumer Cyclical/Apparel Manufacturing\", \"Technology/Software\\u2014Application\", \"Industrials/Aerospace & Defense\", \"Technology/Semiconductors\", \"Communication Services/Internet Content & Information\", \"Communication Services/Electronic Gaming & Multimedia\", \"Consumer Defensive/Farm Products\", \"Consumer Cyclical/Auto Manufacturers\", \"Consumer Cyclical/Specialty Retail\", \"Healthcare/Medical Care Facilities\", \"Technology/Software\\u2014Infrastructure\", \"Healthcare/Biotechnology\", \"Real Estate/REIT\\u2014Healthcare Facilities\", \"Technology/Communication Equipment\", \"Healthcare/Medical Devices\", \"Consumer Cyclical/Restaurants\", \"Industrials/Specialty Industrial Machinery\", \"Healthcare/Medical Instruments & Supplies\", \"Energy/Oil & Gas Integrated\", \"Technology/Semiconductors\", \"Utilities/Utilities\\u2014Regulated Electric\", \"Consumer Cyclical/Resorts & Casinos\", \"Real Estate/REIT\\u2014Specialty\", \"Financial Services/Credit Services\", \"Healthcare/Medical Instruments & Supplies\", \"Consumer Cyclical/Packaging & Containers\", \"Financial Services/Insurance\\u2014Property & Casualty\", \"Consumer Defensive/Discount Stores\", \"Energy/Oil & Gas Midstream\", \"Industrials/Waste Management\", \"Consumer Cyclical/Furnishings, Fixtures & Appliances\", \"Financial Services/Banks\\u2014Diversified\", \"Real Estate/REIT\\u2014Healthcare Facilities\", \"Utilities/Utilities\\u2014Regulated Electric\", \"Technology/Computer Hardware\", \"Healthcare/Pharmaceutical Retailers\", \"Healthcare/Diagnostics & Research\", \"Industrials/Railroads\", \"Communication Services/Telecom Services\", \"Healthcare/Drug Manufacturers\\u2014Specialty & Generic\", \"Financial Services/Insurance\\u2014Property & Casualty\", \"Consumer Cyclical/Leisure\", \"Financial Services/Asset Management\", \"Consumer Cyclical/Luxury Goods\", \"Real Estate/REIT\\u2014Specialty\", \"Industrials/Aerospace & Defense\", \"Industrials/Waste Management\", \"Consumer Cyclical/Apparel Retail\", \"Industrials/Specialty Industrial Machinery\", \"Consumer Cyclical/Personal Services\", \"Industrials/Specialty Industrial Machinery\", \"Healthcare/Medical Instruments & Supplies\", \"Consumer Cyclical/Apparel Manufacturing\", \"Financial Services/Capital Markets\", \"Industrials/Staffing & Employment Services\", \"Financial Services/Banks\\u2014Regional\", \"Consumer Cyclical/Restaurants\", \"Healthcare/Biotechnology\", \"Consumer Cyclical/Travel Services\", \"Technology/Semiconductors\", \"Technology/Semiconductors\", \"Financial Services/Credit Services\", \"Energy/Oil & Gas E&P\", \"Industrials/Engineering & Construction\", \"Consumer Cyclical/Apparel Manufacturing\", \"Consumer Defensive/Packaged Foods\", \"Energy/Oil & Gas Refining & Marketing\", \"Real Estate/REIT\\u2014Industrial\", \"Financial Services/Insurance\\u2014Life\", \"Utilities/Utilities\\u2014Regulated Electric\", \"Real Estate/REIT\\u2014Retail\", \"Financial Services/Capital Markets\", \"Consumer Cyclical/Packaging & Containers\", \"Basic Materials/Specialty Chemicals\", \"Communication Services/Telecom Services\", \"Healthcare/Diagnostics & Research\", \"Consumer Cyclical/Apparel Retail\", \"Consumer Defensive/Discount Stores\", \"Healthcare/Medical Instruments & Supplies\", \"Financial Services/Banks\\u2014Regional\", \"Technology/Semiconductor Equipment & Materials\", \"Technology/Scientific & Technical Instruments\", \"Industrials/Aerospace & Defense\", \"Consumer Defensive/Beverages\\u2014Brewers\", \"Communication Services/Telecom Services\", \"Consumer Defensive/Food Distribution\", \"Healthcare/Medical Devices\", \"Financial Services/Credit Services\", \"Technology/Semiconductors\", \"Industrials/Tools & Accessories\", \"Consumer Defensive/Beverages\\u2014Wineries & Distilleries\", \"Financial Services/Asset Management\", \"Utilities/Utilities\\u2014Diversified\", \"Financial Services/Financial Data & Stock Exchanges\", \"Real Estate/REIT\\u2014Retail\", \"Utilities/Utilities\\u2014Regulated Electric\", \"Technology/Software\\u2014Infrastructure\", \"Industrials/Tools & Accessories\", \"Energy/Oil & Gas Equipment & Services\", \"Consumer Defensive/Packaged Foods\", \"Financial Services/Banks\\u2014Regional\", \"Technology/Scientific & Technical Instruments\", \"Technology/Scientific & Technical Instruments\", \"Healthcare/Diagnostics & Research\", \"Consumer Defensive/Packaged Foods\", \"Financial Services/Banks\\u2014Regional\", \"Consumer Defensive/Household & Personal Products\", \"Consumer Defensive/Household & Personal Products\", \"Financial Services/Insurance\\u2014Property & Casualty\", \"Healthcare/Healthcare Plans\", \"Communication Services/Entertainment\", \"Industrials/Integrated Freight & Logistics\", \"Consumer Defensive/Household & Personal Products\", \"Financial Services/Banks\\u2014Regional\", \"Basic Materials/Agricultural Inputs\", \"Healthcare/Health Information Services\", \"Basic Materials/Chemicals\", \"Communication Services/Entertainment\", \"Technology/Information Technology Services\", \"Consumer Cyclical/Travel Services\", \"Real Estate/REIT\\u2014Specialty\", \"Real Estate/Real Estate Services\", \"Financial Services/Financial Data & Stock Exchanges\", \"Industrials/Farm & Heavy Construction Machinery\", \"Industrials/Building Products & Equipment\", \"Healthcare/Medical Distribution\", \"Consumer Defensive/Packaged Foods\", \"Financial Services/Banks\\u2014Diversified\", \"Real Estate/REIT\\u2014Office\", \"Consumer Cyclical/Auto Parts\", \"Technology/Information Technology Services\", \"Technology/Software\\u2014Application\", \"Financial Services/Financial Data & Stock Exchanges\", \"Consumer Cyclical/Restaurants\", \"Industrials/Specialty Industrial Machinery\", \"Financial Services/Credit Services\", \"Industrials/Farm & Heavy Construction Machinery\", \"Basic Materials/Specialty Chemicals\", \"Industrials/Airlines\", \"Utilities/Utilities\\u2014Regulated Electric\", \"Consumer Cyclical/Resorts & Casinos\", \"Energy/Oil & Gas Integrated\", \"Healthcare/Healthcare Plans\", \"Technology/Software\\u2014Application\", \"Basic Materials/Agricultural Inputs\", \"Technology/Information Technology Services\", \"Healthcare/Drug Manufacturers\\u2014Specialty & Generic\", \"Industrials/Specialty Business Services\", \"Industrials/Railroads\", \"Technology/Communication Equipment\", \"Technology/Software\\u2014Application\", \"Healthcare/Diagnostics & Research\", \"Industrials/Specialty Business Services\", \"Consumer Defensive/Packaged Foods\", \"Consumer Defensive/Discount Stores\", \"Energy/Oil & Gas E&P\", \"Healthcare/Medical Instruments & Supplies\", \"Energy/Oil & Gas E&P\", \"Financial Services/Credit Services\", \"Utilities/Utilities\\u2014Regulated Electric\", \"Healthcare/Healthcare Plans\", \"Utilities/Utilities\\u2014Regulated Electric\", \"Healthcare/Drug Manufacturers\\u2014General\", \"Consumer Cyclical/Packaging & Containers\", \"Financial Services/Asset Management\", \"Energy/Oil & Gas Equipment & Services\", \"Technology/Semiconductors\", \"Technology/Semiconductor Equipment & Materials\", \"Healthcare/Biotechnology\", \"Financial Services/Insurance\\u2014Property & Casualty\", \"Industrials/Airlines\", \"Healthcare/Medical Devices\", \"Basic Materials/Specialty Chemicals\", \"Technology/Software\\u2014Infrastructure\", \"Financial Services/Insurance Brokers\", \"Financial Services/Insurance\\u2014Specialty\", \"Financial Services/Insurance\\u2014Diversified\", \"Financial Services/Insurance\\u2014Life\", \"Utilities/Utilities\\u2014Diversified\", \"Utilities/Utilities\\u2014Regulated Electric\", \"Utilities/Utilities\\u2014Regulated Electric\", \"Technology/Software\\u2014Application\", \"Industrials/Staffing & Employment Services\", \"Consumer Defensive/Farm Products\", \"Technology/Semiconductors\", \"Technology/Software\\u2014Infrastructure\", \"Healthcare/Medical Devices\", \"Healthcare/Medical Devices\", \"Healthcare/Medical Distribution\", \"Healthcare/Drug Manufacturers\\u2014General\", \"Technology/Consumer Electronics\", \"Consumer Cyclical/Specialty Retail\", \"Industrials/Airlines\", \"Industrials/Specialty Industrial Machinery\", \"Consumer Defensive/Discount Stores\", \"Healthcare/Drug Manufacturers\\u2014General\", \"Real Estate/REIT\\u2014Specialty\", \"Consumer Cyclical/Travel Services\", \"Financial Services/Asset Management\", \"Healthcare/Medical Devices\", \"Healthcare/Drug Manufacturers\\u2014General\", \"Financial Services/Asset Management\", \"Healthcare/Medical Instruments & Supplies\", \"Consumer Cyclical/Specialty Retail\", \"Healthcare/Medical Instruments & Supplies\", \"Financial Services/Banks\\u2014Diversified\", \"Industrials/Aerospace & Defense\", \"Consumer Cyclical/Specialty Retail\", \"Financial Services/Credit Services\", \"Utilities/Utilities\\u2014Regulated Water\", \"Industrials/Business Equipment & Supplies\", \"Technology/Semiconductors\", \"Real Estate/REIT\\u2014Residential\", \"Communication Services/Electronic Gaming & Multimedia\", \"Utilities/Utilities\\u2014Regulated Gas\", \"Real Estate/REIT\\u2014Office\", \"Technology/Electronic Components\", \"Basic Materials/Chemicals\", \"Energy/Oil & Gas E&P\", \"Industrials/Specialty Industrial Machinery\", \"Healthcare/Healthcare Plans\", \"Technology/Software\\u2014Application\", \"Technology/Computer Hardware\", \"Consumer Cyclical/Internet Retail\", \"Financial Services/Asset Management\", \"Healthcare/Diagnostics & Research\", \"Consumer Cyclical/Residential Construction\", \"Healthcare/Diagnostics & Research\", \"Consumer Defensive/Packaged Foods\", \"Technology/Computer Hardware\", \"Technology/Communication Equipment\", \"Industrials/Specialty Industrial Machinery\", \"Healthcare/Medical Instruments & Supplies\", \"Consumer Cyclical/Lodging\", \"Industrials/Aerospace & Defense\", \"Financial Services/Insurance\\u2014Diversified\", \"Energy/Oil & Gas E&P\", \"Consumer Cyclical/Home Improvement Retail\", \"Healthcare/Medical Care Facilities\", \"Consumer Cyclical/Apparel Manufacturing\", \"Financial Services/Banks\\u2014Regional\", \"Consumer Cyclical/Leisure\", \"Energy/Oil & Gas Equipment & Services\", \"Industrials/Industrial Distribution\", \"Financial Services/Capital Markets\", \"Consumer Cyclical/Apparel Retail\", \"Industrials/Specialty Business Services\", \"Consumer Cyclical/Specialty Retail\", \"Communication Services/Internet Content & Information\", \"Communication Services/Internet Content & Information\", \"Industrials/Specialty Industrial Machinery\", \"Consumer Cyclical/Auto Manufacturers\", \"Technology/Electronic Components\", \"Financial Services/Insurance\\u2014Life\", \"Consumer Defensive/Packaged Foods\", \"Healthcare/Medical Distribution\", \"Healthcare/Drug Manufacturers\\u2014General\", \"Real Estate/REIT\\u2014Hotel & Motel\", \"Healthcare/Healthcare Plans\", \"Financial Services/Banks\\u2014Diversified\", \"Technology/Communication Equipment\", \"Healthcare/Drug Manufacturers\\u2014General\", \"Technology/Information Technology Services\", \"Financial Services/Banks\\u2014Regional\", \"Industrials/Integrated Freight & Logistics\", \"Industrials/Engineering & Construction\", \"Financial Services/Asset Management\", \"Industrials/Specialty Industrial Machinery\", \"Technology/Information Technology Services\", \"Healthcare/Medical Instruments & Supplies\", \"Real Estate/REIT\\u2014Specialty\", \"Industrials/Specialty Industrial Machinery\", \"Healthcare/Diagnostics & Research\", \"Technology/Semiconductor Equipment & Materials\", \"Communication Services/Advertising Agencies\", \"Consumer Cyclical/Packaging & Containers\", \"Technology/Software\\u2014Application\", \"Technology/Semiconductors\", \"Healthcare/Biotechnology\", \"Healthcare/Diagnostics & Research\", \"Basic Materials/Specialty Chemicals\", \"Industrials/Specialty Industrial Machinery\", \"Healthcare/Diagnostics & Research\", \"Financial Services/Financial Data & Stock Exchanges\", \"Technology/Information Technology Services\", \"Industrials/Specialty Industrial Machinery\", \"Consumer Defensive/Confectioners\", \"Financial Services/Banks\\u2014Regional\", \"Industrials/Specialty Industrial Machinery\", \"Technology/Software\\u2014Infrastructure\", \"Technology/Solar\", \"Industrials/Specialty Industrial Machinery\", \"Basic Materials/Chemicals\", \"Consumer Defensive/Household & Personal Products\", \"Utilities/Utilities\\u2014Regulated Electric\", \"Industrials/Consulting Services\", \"Utilities/Utilities\\u2014Regulated Electric\", \"Basic Materials/Specialty Chemicals\", \"Consumer Cyclical/Internet Retail\", \"Communication Services/Electronic Gaming & Multimedia\", \"Healthcare/Diagnostics & Research\", \"Technology/Information Technology Services\", \"Energy/Oil & Gas E&P\", \"Healthcare/Medical Care Facilities\", \"Utilities/Utilities\\u2014Regulated Electric\", \"Utilities/Utilities\\u2014Regulated Electric\", \"Consumer Cyclical/Restaurants\", \"Real Estate/REIT\\u2014Industrial\", \"Consumer Cyclical/Restaurants\", \"Basic Materials/Chemicals\", \"Industrials/Specialty Industrial Machinery\", \"Consumer Defensive/Discount Stores\", \"Real Estate/REIT\\u2014Office\", \"Communication Services/Entertainment\", \"Communication Services/Entertainment\", \"Communication Services/Entertainment\", \"Communication Services/Entertainment\", \"Energy/Oil & Gas E&P\", \"Technology/Scientific & Technical Instruments\", \"Real Estate/REIT\\u2014Specialty\", \"Utilities/Utilities\\u2014Regulated Electric\", \"Real Estate/REIT\\u2014Retail\", \"Financial Services/Banks\\u2014Regional\", \"Communication Services/Broadcasting\", \"Communication Services/Broadcasting\", \"Basic Materials/Agricultural Inputs\", \"Technology/Information Technology Services\", \"Financial Services/Banks\\u2014Regional\", \"Technology/Information Technology Services\", \"Technology/Information Technology Services\", \"Technology/Software\\u2014Infrastructure\", \"Utilities/Utilities\\u2014Regulated Electric\", \"Industrials/Integrated Freight & Logistics\", \"Basic Materials/Copper\", \"Consumer Cyclical/Furnishings, Fixtures & Appliances\", \"Communication Services/Internet Content & Information\", \"Industrials/Industrial Distribution\", \"Energy/Oil & Gas E&P\", \"Consumer Cyclical/Auto Manufacturers\", \"Real Estate/REIT\\u2014Industrial\", \"Consumer Cyclical/Travel Services\", \"Industrials/Integrated Freight & Logistics\", \"Utilities/Utilities\\u2014Diversified\", \"Healthcare/Medical Devices\", \"Utilities/Utilities\\u2014Regulated Electric\", \"Consumer Cyclical/Internet Retail\", \"Utilities/Utilities\\u2014Regulated Electric\", \"Real Estate/REIT\\u2014Residential\", \"Real Estate/REIT\\u2014Residential\", \"Healthcare/Drug Manufacturers\\u2014Specialty & Generic\", \"0\", \"Communication Services\", \"Industrials\", \"Basic Materials\", \"Industrials\", \"Consumer Cyclical\", \"Consumer Cyclical\", \"Financial Services\", \"Consumer Cyclical\", \"Consumer Cyclical\", \"Consumer Cyclical\", \"Financial Services\", \"Financial Services\", \"Consumer Defensive\", \"Consumer Defensive\", \"Consumer Defensive\", \"Healthcare\", \"Communication Services\", \"Basic Materials\", \"Industrials\", \"Industrials\", \"Financial Services\", \"Basic Materials\", \"Technology\", \"Technology\", \"Consumer Defensive\", \"Industrials\", \"Technology\", \"Basic Materials\", \"Financial Services\", \"Healthcare\", \"Consumer Defensive\", \"Healthcare\", \"Healthcare\", \"Technology\", \"Communication Services\", \"Industrials\", \"Communication Services\", \"Industrials\", \"Consumer Defensive\", \"Financial Services\", \"Consumer Defensive\", \"Consumer Cyclical\", \"Consumer Cyclical\", \"Basic Materials\", \"Consumer Defensive\", \"Healthcare\", \"Healthcare\", \"Consumer Cyclical\", \"Consumer Defensive\", \"Industrials\", \"Technology\", \"Financial Services\", \"Financial Services\", \"Financial Services\", \"Financial Services\", \"Financial Services\", \"Financial Services\", \"Industrials\", \"Communication Services\", \"Consumer Cyclical\", \"Consumer Cyclical\", \"Consumer Cyclical\", \"Consumer Cyclical\", \"Healthcare\", \"Healthcare\", \"Healthcare\", \"Healthcare\", \"Energy\", \"Energy\", \"Energy\", \"Energy\", \"Energy\", \"Consumer Defensive\", \"Consumer Cyclical\", \"Consumer Cyclical\", \"Healthcare\", \"Real Estate\", \"Real Estate\", \"Real Estate\", \"Real Estate\", \"Real Estate\", \"Real Estate\", \"Real Estate\", \"Industrials\", \"Real Estate\", \"Industrials\", \"Consumer Cyclical\", \"Consumer Cyclical\", \"Consumer Cyclical\", \"Technology\", \"Industrials\", \"Technology\", \"Technology\", \"Technology\", \"Technology\", \"Technology\", \"Industrials\", \"Basic Materials\", \"Industrials\", \"Consumer Cyclical\", \"Industrials\", \"Basic Materials\", \"Communication Services\", \"Consumer Defensive\", \"Industrials\", \"Consumer Cyclical\", \"Industrials\", \"Utilities\", \"Utilities\", \"Utilities\", \"Utilities\", \"Utilities\", \"Industrials\", \"\", \"\", \"\", \"\", \"\", \"\", \"\", \"\", \"\", \"\", \"\", \"\"], \"type\": \"treemap\", \"values\": [54702501888, 59704451072, 0, 0, 10396067840, 12491659264, 16528408576, 43206463488, 59160887296, 22685892608, 43438841856, 166627803136, 47826395136, 179996164096, 56641912832, 6286998528, 55700893696, 46020153344, 77801037824, 27326789632, 18732746752, 155936194560, 33499197440, 11554362368, 45298233344, 32551542784, 25057974272, 17972803584, 438049996800, 60764385280, 8297161216, 90954416128, 6898755584, 9690173440, 16499436544, 211305201664, 9997611008, 219369193472, 57243021312, 141891289088, 69892308992, 17494499328, 30182209536, 15203620864, 82449997824, 152581079040, 90540818432, 15572135936, 13941332992, 14975913984, 39883468800, 58725957632, 332836831232, 17936472064, 218384973824, 204260163584, 12610229248, 12023231488, 30947047424, 32955518976, 8125724672, 36958519296, 19396550656, 27199830016, 34275653632, 36735811584, 239016624128, 17808707584, 24036720640, 27933548544, 26302926848, 15203613696, 18248288256, 11882247168, 35621797888, 93930143744, 12287687680, 43179302912, 34625122304, 16179570688, 93459660800, 136199274496, 14535345152, 13596427264, 109533798400, 193834549248, 15254565888, 45660184576, 38851932160, 26049030144, 7276920832, 14738147328, 18326386688, 15319711744, 27136434176, 29034487808, 242488885248, 18607372288, 42528817152, 44058497024, 48588861440, 9427733504, 29484347392, 19515271168, 362743005184, 18951032832, 29245446144, 20746579968, 1888842416128, 38438600704, 174821031936, 10877863936, 187650965504, 15878010880, 41510866944, 13687487488, 92106350592, 50408955904, 119442038784, 71026663424, 21936412672, 17100951552, 23994986496, 14039888896, 20980224000, 58267619328, 89929531392, 62833680384, 30836779008, 42501251072, 174142095360, 15171326976, 46248771584, 27488524288, 9812023296, 15481996288, 43228803072, 9272649728, 23826454528, 34025181184, 26359529472, 30963320832, 506393133056, 90527850496, 24034594816, 183360372736, 150245408768, 6419294208, 382803312640, 27985010688, 17884928000, 14553820160, 18421295104, 9217077248, 9379808256, 16426658816, 15596490752, 175534211072, 47089491968, 21427740672, 28690184192, 577082818560, 20868251648, 13616248832, 24692840448, 54343737344, 21293002752, 27636133888, 33149483008, 35393458176, 21463437312, 14470116352, 260149821440, 31611981824, 37717544960, 14820422656, 26979229696, 10269834240, 24615034880, 15539597312, 14311399424, 399092154368, 33952540672, 59414376448, 14625395712, 194466988032, 31919478784, 29521561600, 23621505024, 47412006912, 19812988928, 15652813824, 237226000384, 18600970240, 40234397696, 17568032768, 44116684800, 11921178624, 34191085568, 134873309184, 34844262400, 42604318720, 47440986112, 16333594624, 31993141248, 29876299776, 8830509056, 18169395200, 10193146880, 21740050432, 131957817344, 54528061440, 23947495424, 20926472192, 151535517696, 308877361152, 36913717248, 12995167232, 7831590912, 53769670656, 40056074240, 50517897216, 42878910464, 22305398784, 11173049344, 142834417664, 8868616192, 75317043200, 180183744512, 176375250944, 79194005504, 114449448960, 18470166528, 80946520064, 21893906432, 19647496192, 36519714816, 13038580736, 208987799552, 40727044096, 94876450816, 28957812736, 28133496832, 34374213632, 46112567296, 30221039616, 41302654976, 92645318656, 43455856640, 68122841088, 39040892928, 13754706944, 50927173632, 15143905280, 32375058432, 20032024576, 27690786816, 41844789248, 22677854208, 10881436672, 22263830528, 71036018688, 20011468800, 86657245184, 128792846336, 12812160000, 21206421504, 21262424064, 11875551232, 24210819072, 18735372288, 261874532352, 23482769408, 36359094272, 85016100864, 29527746560, 11943497728, 133670985728, 39878361088, 16410771456, 18679537664, 164309794816, 18771019776, 13059724288, 18681188352, 35270086656, 78416011264, 37337133056, 38629756928, 37617082368, 111251005440, 45739302912, 29410967552, 61715214336, 23090458624, 209098096640, 113843806208, 14793255936, 33877159936, 37709959168, 17231798272, 36999667712, 75452186624, 227861790720, 219011891200, 16927153152, 29579347968, 15053487104, 171310563328, 80762789888, 18773753856, 6766311424, 75064557568, 14744598528, 41630588928, 18125985792, 145000628224, 27094169600, 135267680256, 27102173184, 99121340416, 127820251136, 39146885120, 40778952704, 8147346432, 46085197824, 20255934464, 18928261120, 29877551104, 9878413312, 45841891328, 39067258880, 16629774336, 42993491968, 22010777600, 62655299584, 84133421056, 38421934080, 61070376960, 241151000576, 194188656640, 13113645056, 24250494976, 198452477952, 2100801961984, 12614001664, 15585605632, 31797547008, 48837742592, 136083111936, 120621752320, 95065554944, 45708861440, 17377599488, 43079811072, 18024505344, 69988253696, 29044707328, 41359577088, 370794463232, 146155716608, 29991479296, 132544987136, 28387192832, 18288257024, 193943453696, 29561356288, 75246321664, 13159976960, 27153827840, 41331126272, 67447656448, 8852127744, 11079487488, 96271482880, 29525219328, 26737053696, 1616973660160, 30762346496, 15667426304, 33373609984, 172806094848, 26794768384, 38183354368, 21182183424, 159782617088, 15558467584, 34747117568, 8941628416, 23499595776, 27424794624, 331129257984, 70684123136, 6758866944, 15912121344, 13102070784, 21993852928, 24212957184, 132999831552, 11932222464, 57330946048, 18774136832, 1622912401408, 1622913056768, 19918819328, 91928952832, 36957405184, 10956649472, 39056441344, 10960218112, 84569358336, 12342383616, 55002537984, 503830511616, 9111172096, 437065416704, 12004997120, 9521693696, 17655511040, 18654330880, 13506671616, 74488373248, 20177190912, 98454487040, 13185521664, 20641282048, 44818006016, 11214201856, 13272507392, 25325928448, 126226530304, 231660060672, 18326183936, 61045518336, 35595558912, 16947794944, 47617331200, 63131090944, 130052300800, 15288240128, 36203597824, 22106902528, 123691048960, 36217397248, 18278656000, 58928947200, 17628055552, 109968015360, 21426866176, 28405479424, 26478874624, 61638369280, 44438724608, 41766170624, 37029658624, 10155754496, 21430652928, 12773735424, 78060142592, 26606467072, 17552586752, 18066776064, 16740476928, 52565618688, 22042421248, 23612917760, 43696824320, 23804772352, 15529529344, 15529508864, 321627750400, 51045765120, 24868120576, 70355165184, 28166053888, 9140615168, 33978726400, 21718511616, 21377814528, 15327389696, 23087839232, 29915498496, 75611611136, 91364540416, 11335414784, 20847689728, 80165126144, 61156564992, 14270541824, 936694251520, 30486749184, 15533161472, 63746494464, 20616845312, 25187252224, 20934924288, 44540256256, 59596341248, 14376302592, 20866949120, 21251045376, 19835715584, 29501513728, 83217539072, 114406952960, 31081214976, 558045228032, 74767588352, 106190337024, 72981173248, 152056933376, 342665763840, 18607372288, 732758265856, 71520753664, 1233401757696, 480490585088, 13038580736, 497158004736, 46112567296, 166344867840, 73503560704, 45762867200, 55049688064, 18288257024, 485925627904, 156376702976, 321413078016, 129200609280, 126133129216, 111378896896, 2100801961984, 61156564992, 1462467773440, 704810829824, 757302827008, 1644121292800, 125337306112, 124308684800, 138440232960, 79475893248, 1032402933760, 277877510144, 67112118272, 375341748224, 40727044096, 211305201664, 50212747264, 57243021312, 29034487808, 24210819072, 776208973824, 467328532480, 613392845824, 54699706368, 637062462464, 191045324800, 87277959168, 171186159616, 267182925824, 10396067840, 9878413312, 314928094208, 4229609201664, 1682279333888, 30670103552, 80995889152, 11921178624, 97074107392, 625015177216, 82458263552, 348094565376, 286807014400, 106921955328, 469247918080, 100518078464, 115592122368, 227458338816, 109502391296, 16333594624, 47412006912, 71460769792, 12342383616, 179742337024, 98894321664, 112403438592, 99500181504, 350348855296, 338379152384, 29527746560, 24034594816, 95328370688, 114680637440, 413123567616, 119565217792, 12491659264, 302976881664, 1667085731840, 629741904896, 2515724283904, 18278656000, 123909961728, 476563138560, 1001889153024, 165913316352, 131285087232, 32551542784, 642577115136, 244687429632, 48128920576, 192441644032, 30182209536, 133419732992, 8297161216, 720709514240, 23157587968, 28387192832, 94258638848, 114406952960, 904421426176, 6147614259200, 4689961007104, 2662157373440, 1079087088640, 5117260106752, 4641088209920, 3380492988416, 954220034048, 8566159472640, 913971189248]}],                        {\"legend\": {\"tracegroupgap\": 0}, \"margin\": {\"t\": 60}, \"template\": {\"data\": {\"bar\": [{\"error_x\": {\"color\": \"#2a3f5f\"}, \"error_y\": {\"color\": \"#2a3f5f\"}, \"marker\": {\"line\": {\"color\": \"#E5ECF6\", \"width\": 0.5}}, \"type\": \"bar\"}], \"barpolar\": [{\"marker\": {\"line\": {\"color\": \"#E5ECF6\", \"width\": 0.5}}, \"type\": \"barpolar\"}], \"carpet\": [{\"aaxis\": {\"endlinecolor\": \"#2a3f5f\", \"gridcolor\": \"white\", \"linecolor\": \"white\", \"minorgridcolor\": \"white\", \"startlinecolor\": \"#2a3f5f\"}, \"baxis\": {\"endlinecolor\": \"#2a3f5f\", \"gridcolor\": \"white\", \"linecolor\": \"white\", \"minorgridcolor\": \"white\", \"startlinecolor\": \"#2a3f5f\"}, \"type\": \"carpet\"}], \"choropleth\": [{\"colorbar\": {\"outlinewidth\": 0, \"ticks\": \"\"}, \"type\": \"choropleth\"}], \"contour\": [{\"colorbar\": {\"outlinewidth\": 0, \"ticks\": \"\"}, \"colorscale\": [[0.0, \"#0d0887\"], [0.1111111111111111, \"#46039f\"], [0.2222222222222222, \"#7201a8\"], [0.3333333333333333, \"#9c179e\"], [0.4444444444444444, \"#bd3786\"], [0.5555555555555556, \"#d8576b\"], [0.6666666666666666, \"#ed7953\"], [0.7777777777777778, \"#fb9f3a\"], [0.8888888888888888, \"#fdca26\"], [1.0, \"#f0f921\"]], \"type\": \"contour\"}], \"contourcarpet\": [{\"colorbar\": {\"outlinewidth\": 0, \"ticks\": \"\"}, \"type\": \"contourcarpet\"}], \"heatmap\": [{\"colorbar\": {\"outlinewidth\": 0, \"ticks\": \"\"}, \"colorscale\": [[0.0, \"#0d0887\"], [0.1111111111111111, \"#46039f\"], [0.2222222222222222, \"#7201a8\"], [0.3333333333333333, \"#9c179e\"], [0.4444444444444444, \"#bd3786\"], [0.5555555555555556, \"#d8576b\"], [0.6666666666666666, \"#ed7953\"], [0.7777777777777778, \"#fb9f3a\"], [0.8888888888888888, \"#fdca26\"], [1.0, \"#f0f921\"]], \"type\": \"heatmap\"}], \"heatmapgl\": [{\"colorbar\": {\"outlinewidth\": 0, \"ticks\": \"\"}, \"colorscale\": [[0.0, \"#0d0887\"], [0.1111111111111111, \"#46039f\"], [0.2222222222222222, \"#7201a8\"], [0.3333333333333333, \"#9c179e\"], [0.4444444444444444, \"#bd3786\"], [0.5555555555555556, \"#d8576b\"], [0.6666666666666666, \"#ed7953\"], [0.7777777777777778, \"#fb9f3a\"], [0.8888888888888888, \"#fdca26\"], [1.0, \"#f0f921\"]], \"type\": \"heatmapgl\"}], \"histogram\": [{\"marker\": {\"colorbar\": {\"outlinewidth\": 0, \"ticks\": \"\"}}, \"type\": \"histogram\"}], \"histogram2d\": [{\"colorbar\": {\"outlinewidth\": 0, \"ticks\": \"\"}, \"colorscale\": [[0.0, \"#0d0887\"], [0.1111111111111111, \"#46039f\"], [0.2222222222222222, \"#7201a8\"], [0.3333333333333333, \"#9c179e\"], [0.4444444444444444, \"#bd3786\"], [0.5555555555555556, \"#d8576b\"], [0.6666666666666666, \"#ed7953\"], [0.7777777777777778, \"#fb9f3a\"], [0.8888888888888888, \"#fdca26\"], [1.0, \"#f0f921\"]], \"type\": \"histogram2d\"}], \"histogram2dcontour\": [{\"colorbar\": {\"outlinewidth\": 0, \"ticks\": \"\"}, \"colorscale\": [[0.0, \"#0d0887\"], [0.1111111111111111, \"#46039f\"], [0.2222222222222222, \"#7201a8\"], [0.3333333333333333, \"#9c179e\"], [0.4444444444444444, \"#bd3786\"], [0.5555555555555556, \"#d8576b\"], [0.6666666666666666, \"#ed7953\"], [0.7777777777777778, \"#fb9f3a\"], [0.8888888888888888, \"#fdca26\"], [1.0, \"#f0f921\"]], \"type\": \"histogram2dcontour\"}], \"mesh3d\": [{\"colorbar\": {\"outlinewidth\": 0, \"ticks\": \"\"}, \"type\": \"mesh3d\"}], \"parcoords\": [{\"line\": {\"colorbar\": {\"outlinewidth\": 0, \"ticks\": \"\"}}, \"type\": \"parcoords\"}], \"pie\": [{\"automargin\": true, \"type\": \"pie\"}], \"scatter\": [{\"marker\": {\"colorbar\": {\"outlinewidth\": 0, \"ticks\": \"\"}}, \"type\": \"scatter\"}], \"scatter3d\": [{\"line\": {\"colorbar\": {\"outlinewidth\": 0, \"ticks\": \"\"}}, \"marker\": {\"colorbar\": {\"outlinewidth\": 0, \"ticks\": \"\"}}, \"type\": \"scatter3d\"}], \"scattercarpet\": [{\"marker\": {\"colorbar\": {\"outlinewidth\": 0, \"ticks\": \"\"}}, \"type\": \"scattercarpet\"}], \"scattergeo\": [{\"marker\": {\"colorbar\": {\"outlinewidth\": 0, \"ticks\": \"\"}}, \"type\": \"scattergeo\"}], \"scattergl\": [{\"marker\": {\"colorbar\": {\"outlinewidth\": 0, \"ticks\": \"\"}}, \"type\": \"scattergl\"}], \"scattermapbox\": [{\"marker\": {\"colorbar\": {\"outlinewidth\": 0, \"ticks\": \"\"}}, \"type\": \"scattermapbox\"}], \"scatterpolar\": [{\"marker\": {\"colorbar\": {\"outlinewidth\": 0, \"ticks\": \"\"}}, \"type\": \"scatterpolar\"}], \"scatterpolargl\": [{\"marker\": {\"colorbar\": {\"outlinewidth\": 0, \"ticks\": \"\"}}, \"type\": \"scatterpolargl\"}], \"scatterternary\": [{\"marker\": {\"colorbar\": {\"outlinewidth\": 0, \"ticks\": \"\"}}, \"type\": \"scatterternary\"}], \"surface\": [{\"colorbar\": {\"outlinewidth\": 0, \"ticks\": \"\"}, \"colorscale\": [[0.0, \"#0d0887\"], [0.1111111111111111, \"#46039f\"], [0.2222222222222222, \"#7201a8\"], [0.3333333333333333, \"#9c179e\"], [0.4444444444444444, \"#bd3786\"], [0.5555555555555556, \"#d8576b\"], [0.6666666666666666, \"#ed7953\"], [0.7777777777777778, \"#fb9f3a\"], [0.8888888888888888, \"#fdca26\"], [1.0, \"#f0f921\"]], \"type\": \"surface\"}], \"table\": [{\"cells\": {\"fill\": {\"color\": \"#EBF0F8\"}, \"line\": {\"color\": \"white\"}}, \"header\": {\"fill\": {\"color\": \"#C8D4E3\"}, \"line\": {\"color\": \"white\"}}, \"type\": \"table\"}]}, \"layout\": {\"annotationdefaults\": {\"arrowcolor\": \"#2a3f5f\", \"arrowhead\": 0, \"arrowwidth\": 1}, \"autotypenumbers\": \"strict\", \"coloraxis\": {\"colorbar\": {\"outlinewidth\": 0, \"ticks\": \"\"}}, \"colorscale\": {\"diverging\": [[0, \"#8e0152\"], [0.1, \"#c51b7d\"], [0.2, \"#de77ae\"], [0.3, \"#f1b6da\"], [0.4, \"#fde0ef\"], [0.5, \"#f7f7f7\"], [0.6, \"#e6f5d0\"], [0.7, \"#b8e186\"], [0.8, \"#7fbc41\"], [0.9, \"#4d9221\"], [1, \"#276419\"]], \"sequential\": [[0.0, \"#0d0887\"], [0.1111111111111111, \"#46039f\"], [0.2222222222222222, \"#7201a8\"], [0.3333333333333333, \"#9c179e\"], [0.4444444444444444, \"#bd3786\"], [0.5555555555555556, \"#d8576b\"], [0.6666666666666666, \"#ed7953\"], [0.7777777777777778, \"#fb9f3a\"], [0.8888888888888888, \"#fdca26\"], [1.0, \"#f0f921\"]], \"sequentialminus\": [[0.0, \"#0d0887\"], [0.1111111111111111, \"#46039f\"], [0.2222222222222222, \"#7201a8\"], [0.3333333333333333, \"#9c179e\"], [0.4444444444444444, \"#bd3786\"], [0.5555555555555556, \"#d8576b\"], [0.6666666666666666, \"#ed7953\"], [0.7777777777777778, \"#fb9f3a\"], [0.8888888888888888, \"#fdca26\"], [1.0, \"#f0f921\"]]}, \"colorway\": [\"#636efa\", \"#EF553B\", \"#00cc96\", \"#ab63fa\", \"#FFA15A\", \"#19d3f3\", \"#FF6692\", \"#B6E880\", \"#FF97FF\", \"#FECB52\"], \"font\": {\"color\": \"#2a3f5f\"}, \"geo\": {\"bgcolor\": \"white\", \"lakecolor\": \"white\", \"landcolor\": \"#E5ECF6\", \"showlakes\": true, \"showland\": true, \"subunitcolor\": \"white\"}, \"hoverlabel\": {\"align\": \"left\"}, \"hovermode\": \"closest\", \"mapbox\": {\"style\": \"light\"}, \"paper_bgcolor\": \"white\", \"plot_bgcolor\": \"#E5ECF6\", \"polar\": {\"angularaxis\": {\"gridcolor\": \"white\", \"linecolor\": \"white\", \"ticks\": \"\"}, \"bgcolor\": \"#E5ECF6\", \"radialaxis\": {\"gridcolor\": \"white\", \"linecolor\": \"white\", \"ticks\": \"\"}}, \"scene\": {\"xaxis\": {\"backgroundcolor\": \"#E5ECF6\", \"gridcolor\": \"white\", \"gridwidth\": 2, \"linecolor\": \"white\", \"showbackground\": true, \"ticks\": \"\", \"zerolinecolor\": \"white\"}, \"yaxis\": {\"backgroundcolor\": \"#E5ECF6\", \"gridcolor\": \"white\", \"gridwidth\": 2, \"linecolor\": \"white\", \"showbackground\": true, \"ticks\": \"\", \"zerolinecolor\": \"white\"}, \"zaxis\": {\"backgroundcolor\": \"#E5ECF6\", \"gridcolor\": \"white\", \"gridwidth\": 2, \"linecolor\": \"white\", \"showbackground\": true, \"ticks\": \"\", \"zerolinecolor\": \"white\"}}, \"shapedefaults\": {\"line\": {\"color\": \"#2a3f5f\"}}, \"ternary\": {\"aaxis\": {\"gridcolor\": \"white\", \"linecolor\": \"white\", \"ticks\": \"\"}, \"baxis\": {\"gridcolor\": \"white\", \"linecolor\": \"white\", \"ticks\": \"\"}, \"bgcolor\": \"#E5ECF6\", \"caxis\": {\"gridcolor\": \"white\", \"linecolor\": \"white\", \"ticks\": \"\"}}, \"title\": {\"x\": 0.05}, \"xaxis\": {\"automargin\": true, \"gridcolor\": \"white\", \"linecolor\": \"white\", \"ticks\": \"\", \"title\": {\"standoff\": 15}, \"zerolinecolor\": \"white\", \"zerolinewidth\": 2}, \"yaxis\": {\"automargin\": true, \"gridcolor\": \"white\", \"linecolor\": \"white\", \"ticks\": \"\", \"title\": {\"standoff\": 15}, \"zerolinecolor\": \"white\", \"zerolinewidth\": 2}}}},                        {\"responsive\": true}                    ).then(function(){\n",
       "                            \n",
       "var gd = document.getElementById('80270886-2218-4491-8743-13a368aff197');\n",
       "var x = new MutationObserver(function (mutations, observer) {{\n",
       "        var display = window.getComputedStyle(gd).display;\n",
       "        if (!display || display === 'none') {{\n",
       "            console.log([gd, 'removed!']);\n",
       "            Plotly.purge(gd);\n",
       "            observer.disconnect();\n",
       "        }}\n",
       "}});\n",
       "\n",
       "// Listen for the removal of the full notebook cells\n",
       "var notebookContainer = gd.closest('#notebook-container');\n",
       "if (notebookContainer) {{\n",
       "    x.observe(notebookContainer, {childList: true});\n",
       "}}\n",
       "\n",
       "// Listen for the clearing of the current output cell\n",
       "var outputEl = gd.closest('.output');\n",
       "if (outputEl) {{\n",
       "    x.observe(outputEl, {childList: true});\n",
       "}}\n",
       "\n",
       "                        })                };                });            </script>        </div>"
      ]
     },
     "metadata": {},
     "output_type": "display_data"
    }
   ],
   "source": [
    "fig = px.treemap(df_wide, path=['sector', 'industry', 'Stock'], values='marketCap',\n",
    "                  color='country', #hover_data=['iso_alpha'],\n",
    "                  color_continuous_scale='RdBu')\n",
    "fig.show()"
   ]
  },
  {
   "cell_type": "code",
   "execution_count": 54,
   "id": "6c28192a",
   "metadata": {},
   "outputs": [
    {
     "data": {
      "application/vnd.plotly.v1+json": {
       "config": {
        "plotlyServerURL": "https://plot.ly"
       },
       "data": [
        {
         "hovertemplate": "<b>%{hovertext}</b><br><br>sector=Healthcare<br>priceToBook=%{x}<br>fullTimeEmployees=%{y}<extra></extra>",
         "hovertext": [
          "A",
          "ABBV",
          "ABC",
          "ABMD",
          "ABT",
          "ALGN",
          "ALXN",
          "AMGN",
          "ANTM",
          "BAX",
          "BDX",
          "BIIB",
          "BIO",
          "BMY",
          "CAH",
          "CERN",
          "CI",
          "CNC",
          "COO",
          "CRL",
          "CTLT",
          "CVS",
          "DGX",
          "DHR",
          "DVA",
          "DXCM",
          "EW",
          "GILD",
          "HCA",
          "HOLX",
          "HSIC",
          "HUM",
          "IDXX",
          "ILMN",
          "INCY",
          "IQV",
          "ISRG",
          "JNJ",
          "LH",
          "LLY",
          "MCK",
          "MDT",
          "MRK",
          "MTD",
          "PFE",
          "PKI",
          "PRGO",
          "REGN",
          "RMD",
          "STE",
          "SYK",
          "TFX",
          "TMO",
          "UHS",
          "UNH",
          "VRTX",
          "VTRS",
          "WAT",
          "WBA",
          "WST",
          "XRAY",
          "ZBH",
          "ZTS"
         ],
         "legendgroup": "Healthcare",
         "marker": {
          "color": "#636efa",
          "symbol": "circle"
         },
         "mode": "markers",
         "name": "Healthcare",
         "orientation": "v",
         "showlegend": true,
         "type": "scatter",
         "x": [
          "8.69812",
          "14.470058",
          0,
          "9.857002",
          "5.7859073",
          "13.579973",
          "3.1510408",
          "14.597843",
          "2.8449461",
          "4.891757",
          "2.8193862",
          "4.0340614",
          "1.6307523",
          "3.8558369",
          "9.195253",
          "5.622813",
          "1.808704",
          "1.5802513",
          "3.1310763",
          "7.7450504",
          "4.639516",
          "1.6024834",
          "2.5030591",
          "4.6502748",
          "10.319149",
          "19.45582",
          "12.796316",
          "4.461722",
          "288.8784",
          "4.0999327",
          "3.2779298",
          "3.8761501",
          "67.82798",
          "12.402704",
          "6.7169113",
          "7.526231",
          "9.695532",
          "6.637207",
          "2.5993228",
          "26.620108",
          0,
          "3.2400262",
          "6.9619536",
          "144.31277",
          "3.4466064",
          "4.1697173",
          "1.1078422",
          "4.8268743",
          "11.0275",
          "4.2579722",
          "7.026899",
          "5.471069",
          "5.030942",
          "2.0903606",
          "5.7666006",
          "6.0505533",
          0,
          "85.68438",
          "2.2457418",
          "13.4539795",
          "2.935341",
          "2.709103",
          "22.096104"
         ],
         "xaxis": "x",
         "y": [
          "16500",
          "48000",
          "22000",
          "1725",
          "109000",
          "18975",
          "3837",
          "24300",
          "83400",
          "50000",
          "70000",
          "9100",
          "7800",
          "30250",
          "48000",
          "26400",
          "72226",
          "71300",
          "12000",
          "18400",
          "13900",
          "213000",
          "50000",
          "67000",
          "67000",
          "5500",
          "14900",
          "13600",
          "195000",
          "5814",
          "20000",
          "43000",
          "9300",
          "7800",
          "1773",
          "72000",
          "8081",
          "134500",
          "70000",
          "34690",
          "59000",
          "90000",
          "73000",
          "14900",
          "78500",
          "14000",
          "11500",
          "9123",
          "7770",
          "13000",
          "43000",
          "14000",
          "80000",
          "89000",
          "330000",
          "3400",
          "45000",
          "7400",
          "223000",
          "9200",
          "15000",
          "20000",
          "11300"
         ],
         "yaxis": "y"
        },
        {
         "hovertemplate": "<b>%{hovertext}</b><br><br>sector=Industrials<br>priceToBook=%{x}<br>fullTimeEmployees=%{y}<extra></extra>",
         "hovertext": [
          "AAL",
          "ADP",
          "ALK",
          "ALLE",
          "AME",
          "AOS",
          "AVY",
          "BA",
          "CARR",
          "CAT",
          "CHRW",
          "CMI",
          "CPRT",
          "CSX",
          "CTAS",
          "DAL",
          "DE",
          "DOV",
          "EFX",
          "EMR",
          "ETN",
          "EXPD",
          "FAST",
          "FDX",
          "GE",
          "GNRC",
          "GPN",
          "GWW",
          "HII",
          "HON",
          "HWM",
          "IEX",
          "INFO",
          "IR",
          "ITW",
          "J",
          "JBHT",
          "JCI",
          "KSU",
          "LHX",
          "LMT",
          "LUV",
          "MAS",
          "MMM",
          "NLSN",
          "NOC",
          "NSC",
          "ODFL",
          "OTIS",
          "PAYX",
          "PCAR",
          "PH",
          "PNR",
          "PWR",
          "RHI",
          "ROK",
          "ROP",
          "RSG",
          "RTX",
          "SNA",
          "SWK",
          "TDG",
          "TT",
          "TXT",
          "UAL",
          "UNP",
          "UPS",
          "URI",
          "VRSK",
          "WAB",
          "WM",
          "XYL"
         ],
         "legendgroup": "Industrials",
         "marker": {
          "color": "#EF553B",
          "symbol": "circle"
         },
         "mode": "markers",
         "name": "Industrials",
         "orientation": "v",
         "showlegend": true,
         "type": "scatter",
         "x": [
          0,
          "14.844958",
          "2.8329651",
          "17.179804",
          "5.19505",
          "5.9923635",
          "11.567784",
          0,
          0,
          "8.065177",
          "6.871122",
          "4.7638106",
          "9.103022",
          "5.737488",
          "9.6934",
          "60.820107",
          "7.371489",
          "6.299358",
          "8.5607395",
          "6.602353",
          "3.95995",
          "7.899427",
          "10.940013",
          "3.6470306",
          "3.6496732",
          "13.517754",
          "2.14747",
          "13.333238",
          "4.5258317",
          "8.883612",
          0,
          "6.5667334",
          "4.901646",
          "2.3040547",
          "22.750603",
          0,
          "6.486025",
          "2.7023854",
          "6.39988",
          "2.154026",
          "17.35741",
          "3.807387",
          0,
          "8.680541",
          "3.2550578",
          "5.7732954",
          "4.7730536",
          "9.455768",
          0,
          "12.414962",
          "3.0734615",
          "5.3953457",
          "5.2666664",
          "2.96584",
          "8.370844",
          "17.605877",
          "4.3992",
          "4.1045394",
          0,
          "3.5464392",
          "3.4715314",
          0,
          0,
          "2.603323",
          "3.5384424",
          "9.255227",
          "25.639683",
          "5.0650544",
          "10.176834",
          "1.5422431",
          "7.9989767",
          "7.2455487"
         ],
         "xaxis": "x",
         "y": [
          "113200",
          "58000",
          "17140",
          "11500",
          "16500",
          "13900",
          "31900",
          "141000",
          "56000",
          "97300",
          "14997",
          "57825",
          "7600",
          "19000",
          "40000",
          "74000",
          "69634",
          "23000",
          "11000",
          "83500",
          "91987",
          "17480",
          "18094",
          "324000",
          "174000",
          "6452",
          "24000",
          "21800",
          "42000",
          "103000",
          "19700",
          "7000",
          "16000",
          "15900",
          "43000",
          "55000",
          "30309",
          "97000",
          "6522",
          "48000",
          "114000",
          "56051",
          "18000",
          "95000",
          "43000",
          "97000",
          "19100",
          "20482",
          "69000",
          "15600",
          "26000",
          "50520",
          "9750",
          "35800",
          "13000",
          "23500",
          "18400",
          "35000",
          "181000",
          "12300",
          "53000",
          "14200",
          "35000",
          "33000",
          "84100",
          "29755",
          "540000",
          "18250",
          "8960",
          "27000",
          "48250",
          "15600"
         ],
         "yaxis": "y"
        },
        {
         "hovertemplate": "<b>%{hovertext}</b><br><br>sector=Consumer Cyclical<br>priceToBook=%{x}<br>fullTimeEmployees=%{y}<extra></extra>",
         "hovertext": [
          "AAP",
          "AMCR",
          "AMZN",
          "APTV",
          "AZO",
          "BBY",
          "BKNG",
          "BLL",
          "BWA",
          "CCL",
          "CMG",
          "CZR",
          "DHI",
          "DPZ",
          "DRI",
          "EBAY",
          "ETSY",
          "EXPE",
          "F",
          "FBHS",
          "GM",
          "GPC",
          "GPS",
          "HAS",
          "HBI",
          "HD",
          "HLT",
          "IP",
          "KMX",
          "LB",
          "LEG",
          "LEN",
          "LKQ",
          "LOW",
          "LVS",
          "MAR",
          "MCD",
          "MGM",
          "MHK",
          "NCLH",
          "NKE",
          "NVR",
          "ORLY",
          "PENN",
          "PHM",
          "PKG",
          "POOL",
          "PVH",
          "RCL",
          "RL",
          "ROL",
          "ROST",
          "SBUX",
          "SEE",
          "TJX",
          "TPR",
          "TSCO",
          "TSLA",
          "UA",
          "UAA",
          "ULTA",
          "VFC",
          "WHR",
          "WRK",
          "WYNN",
          "YUM"
         ],
         "legendgroup": "Consumer Cyclical",
         "marker": {
          "color": "#00cc96",
          "symbol": "circle"
         },
         "mode": "markers",
         "name": "Consumer Cyclical",
         "orientation": "v",
         "showlegend": true,
         "type": "scatter",
         "x": [
          "3.564415",
          "3.647553",
          "15.640098",
          "5.34925",
          0,
          "7.0605063",
          "19.954071",
          "7.7553325",
          "2.0511565",
          "1.7448437",
          "17.805851",
          "4.9887276",
          "2.5744557",
          0,
          "6.8151793",
          "11.782877",
          "27.827116",
          "16.300875",
          "1.8843657",
          "4.956488",
          "1.8351626",
          "5.646563",
          "4.2456",
          "4.487584",
          "13.948127",
          "189.52469",
          0,
          "3.2641625",
          "4.2638702",
          0,
          "5.214197",
          "1.6020432",
          "2.6108782",
          "96.59715",
          "16.153187",
          "107.13424",
          0,
          "3.3356733",
          "1.6532053",
          "2.7144425",
          "17.711561",
          "5.746426",
          0,
          "4.7471414",
          "2.2458396",
          "4.148458",
          "26.6886",
          "1.6553593",
          "2.6104453",
          "3.2794764",
          "16.512438",
          "12.943663",
          0,
          "87.481255",
          "12.898408",
          "3.9532087",
          "11.298596",
          "25.063805",
          "4.910922",
          "5.6080556",
          "9.753927",
          "9.846748",
          "3.4848394",
          "1.4162884",
          0,
          0
         ],
         "xaxis": "x",
         "y": [
          "40000",
          "47000",
          "1271000",
          "151000",
          "60000",
          "61200",
          "19400",
          "21500",
          "49700",
          "70000",
          "97000",
          "54000",
          "9716",
          "6900",
          "177895",
          "12700",
          "1414",
          "19100",
          "186000",
          "27500",
          "155000",
          "50000",
          "117000",
          "6822",
          "61000",
          "500000",
          "141000",
          "48000",
          "26889",
          "22400",
          "20400",
          "9495",
          "44000",
          "220000",
          "44500",
          "121000",
          "200000",
          "45000",
          "42000",
          "34300",
          "75400",
          "6100",
          "77383",
          "18321",
          "5249",
          "15200",
          "4500",
          "20000",
          "84900",
          "13700",
          "15616",
          "93700",
          "349000",
          "16500",
          "320000",
          "12400",
          "42000",
          "70757",
          "7000",
          "7000",
          "16000",
          "48000",
          "78000",
          "50000",
          "27500",
          "38000"
         ],
         "yaxis": "y"
        },
        {
         "hovertemplate": "<b>%{hovertext}</b><br><br>sector=Technology<br>priceToBook=%{x}<br>fullTimeEmployees=%{y}<extra></extra>",
         "hovertext": [
          "AAPL",
          "ACN",
          "ADBE",
          "ADI",
          "ADSK",
          "AKAM",
          "AMAT",
          "AMD",
          "ANET",
          "ANSS",
          "APH",
          "AVGO",
          "BR",
          "CDNS",
          "CDW",
          "CRM",
          "CSCO",
          "CTSH",
          "CTXS",
          "DXC",
          "ENPH",
          "FFIV",
          "FIS",
          "FISV",
          "FLT",
          "FTNT",
          "FTV",
          "GLW",
          "GRMN",
          "HPE",
          "HPQ",
          "IBM",
          "INTC",
          "INTU",
          "IPGP",
          "IT",
          "JKHY",
          "JNPR",
          "KEYS",
          "KLAC",
          "LDOS",
          "LRCX",
          "MCHP",
          "MPWR",
          "MSFT",
          "MSI",
          "MU",
          "MXIM",
          "NLOK",
          "NOW",
          "NTAP",
          "NVDA",
          "NXPI",
          "ORCL",
          "PAYC",
          "PTC",
          "QCOM",
          "QRVO",
          "SNPS",
          "STX",
          "SWKS",
          "TDY",
          "TEL",
          "TER",
          "TRMB",
          "TXN",
          "TYL",
          "VRSN",
          "WDC",
          "XLNX",
          "ZBRA"
         ],
         "legendgroup": "Technology",
         "marker": {
          "color": "#ab63fa",
          "symbol": "circle"
         },
         "mode": "markers",
         "name": "Technology",
         "orientation": "v",
         "showlegend": true,
         "type": "scatter",
         "x": [
          "30.364206",
          "9.83161",
          "17.839462",
          "5.019249",
          "55.426235",
          "4.387065",
          "10.657675",
          "15.302946",
          "7.7403393",
          "7.1792154",
          "7.561776",
          "8.084144",
          "11.731203",
          "13.872168",
          "20.094782",
          "5.2598004",
          "5.668309",
          "3.4205616",
          "58.86364",
          "1.7944219",
          "24.939825",
          "5.645581",
          "1.846924",
          "2.3733284",
          "6.9068694",
          "36.923077",
          "2.7602012",
          "3.0118642",
          "4.82856",
          "1.2737552",
          0,
          "6.158409",
          "2.9027524",
          "12.687595",
          "4.3080573",
          "22.893837",
          "7.7684245",
          "2.0546932",
          "8.288149",
          "15.6068125",
          "3.8338785",
          "17.397457",
          "7.9633055",
          "15.536801",
          "14.047498",
          0,
          "2.309092",
          "12.790958",
          0,
          "29.94929",
          "37.623486",
          "23.33267",
          "6.708512",
          "26.964867",
          "28.382212",
          "9.377387",
          "20.428831",
          "4.6479335",
          "7.6718736",
          "47.020874",
          "5.9705",
          "4.6895204",
          "4.7624907",
          "9.427261",
          "5.451441",
          "17.26183",
          "7.9673576",
          0,
          "2.373512",
          "12.136051",
          "12.881082"
         ],
         "xaxis": "x",
         "y": [
          "100000",
          "537000",
          "22516",
          "15900",
          "11500",
          "8300",
          "24800",
          "12600",
          "2613",
          "4800",
          "80000",
          "21000",
          "12000",
          "8800",
          "10186",
          "59895",
          "77500",
          "296500",
          "9000",
          "138000",
          "850",
          "6048",
          "62000",
          "44000",
          "8400",
          "8615",
          "17000",
          "50110",
          "16000",
          "59400",
          "53000",
          "345900",
          "110600",
          "10600",
          "6060",
          "15600",
          "6717",
          "9884",
          "14000",
          "10600",
          "39000",
          "13100",
          "19500",
          "2209",
          "163000",
          "18000",
          "40000",
          "7115",
          "2800",
          "13096",
          "10800",
          "18975",
          "29000",
          "135000",
          "4218",
          "6243",
          "41000",
          "7900",
          "15036",
          "42000",
          "10000",
          "10670",
          "80000",
          "5500",
          "11402",
          "30000",
          "5579",
          "907",
          "63800",
          "4891",
          "8800"
         ],
         "yaxis": "y"
        },
        {
         "hovertemplate": "<b>%{hovertext}</b><br><br>sector=Consumer Defensive<br>priceToBook=%{x}<br>fullTimeEmployees=%{y}<extra></extra>",
         "hovertext": [
          "ADM",
          "CAG",
          "CHD",
          "CL",
          "CLX",
          "COST",
          "CPB",
          "DG",
          "DLTR",
          "EL",
          "GIS",
          "HRL",
          "HSY",
          "K",
          "KHC",
          "KMB",
          "KO",
          "KR",
          "LW",
          "MDLZ",
          "MKC",
          "MNST",
          "MO",
          "NWL",
          "PEP",
          "PG",
          "PM",
          "SJM",
          "STZ",
          "SYY",
          "TAP",
          "TGT",
          "TSN",
          "WMT"
         ],
         "legendgroup": "Consumer Defensive",
         "marker": {
          "color": "#FFA15A",
          "symbol": "circle"
         },
         "mode": "markers",
         "name": "Consumer Defensive",
         "orientation": "v",
         "showlegend": true,
         "type": "scatter",
         "x": [
          "1.8445402",
          "2.2637117",
          "6.6017714",
          "270.87097",
          "29.959833",
          "10.395408",
          "5.1513896",
          "7.8140593",
          "3.1839366",
          "19.895718",
          "4.406441",
          "3.9817948",
          "16.045872",
          "7.3632445",
          "1.0690922",
          "85.11734",
          "11.910208",
          "3.056281",
          "27.202072",
          "3.3214006",
          "5.779651",
          "9.23144",
          "31.640179",
          "3.135189",
          "14.649227",
          "7.2793956",
          0,
          "1.8694015",
          "3.4024973",
          "29.171858",
          "1.0363257",
          "7.671951",
          "1.8008839",
          "4.944749"
         ],
         "xaxis": "x",
         "y": [
          "37575",
          "16500",
          "5100",
          "34200",
          "8800",
          "156000",
          "14500",
          "158000",
          "60217",
          "48000",
          "35000",
          "19100",
          "15200",
          "31000",
          "38000",
          "46000",
          "80300",
          "465000",
          "7700",
          "79000",
          "13000",
          "3013",
          "7100",
          "31000",
          "291000",
          "99000",
          "71000",
          "7300",
          "9300",
          "57000",
          "17000",
          "409000",
          "139000",
          "2300000"
         ],
         "yaxis": "y"
        },
        {
         "hovertemplate": "<b>%{hovertext}</b><br><br>sector=Utilities<br>priceToBook=%{x}<br>fullTimeEmployees=%{y}<extra></extra>",
         "hovertext": [
          "AEE",
          "AEP",
          "AES",
          "ATO",
          "AWK",
          "CMS",
          "CNP",
          "D",
          "DTE",
          "DUK",
          "ED",
          "EIX",
          "ES",
          "ETR",
          "EVRG",
          "EXC",
          "FE",
          "LNT",
          "NEE",
          "NI",
          "NRG",
          "PEG",
          "PNW",
          "PPL",
          "SO",
          "SRE",
          "WEC",
          "XEL"
         ],
         "legendgroup": "Utilities",
         "marker": {
          "color": "#19d3f3",
          "symbol": "circle"
         },
         "mode": "markers",
         "name": "Utilities",
         "orientation": "v",
         "showlegend": true,
         "type": "scatter",
         "x": [
          "2.405597",
          "2.0478945",
          "7.125321",
          "1.6825943",
          "4.312217",
          "3.165504",
          "2.2063932",
          "2.5367987",
          "2.1197062",
          "1.6963943",
          "1.3879105",
          "1.5212414",
          "2.000634",
          "1.9289044",
          "1.6290487",
          "1.3658419",
          "2.8325453",
          "2.5208225",
          "3.7961795",
          "1.97873",
          "5.4677424",
          "1.9319543",
          "1.7408785",
          "1.6668583",
          "2.3917487",
          "1.8334543",
          "2.741841",
          "2.5651538"
         ],
         "xaxis": "x",
         "y": [
          "9183",
          "16787",
          "8162",
          "4694",
          "7000",
          "8148",
          "9541",
          "17300",
          "10600",
          "27535",
          "14071",
          "13351",
          "9299",
          "13400",
          "5133",
          "32340",
          "12153",
          "3375",
          "14900",
          "7301",
          "4104",
          "12788",
          "6026",
          "12318",
          "27700",
          "19000",
          "7200",
          "11367"
         ],
         "yaxis": "y"
        },
        {
         "hovertemplate": "<b>%{hovertext}</b><br><br>sector=Financial Services<br>priceToBook=%{x}<br>fullTimeEmployees=%{y}<extra></extra>",
         "hovertext": [
          "AFL",
          "AIG",
          "AIZ",
          "AJG",
          "ALL",
          "AMP",
          "AON",
          "AXP",
          "BAC",
          "BEN",
          "BK",
          "BLK",
          "C",
          "CB",
          "CBOE",
          "CFG",
          "CINF",
          "CMA",
          "CME",
          "COF",
          "DFS",
          "FITB",
          "FRC",
          "GL",
          "GS",
          "HBAN",
          "HIG",
          "ICE",
          "IVZ",
          "JPM",
          "KEY",
          "L",
          "LNC",
          "MA",
          "MCO",
          "MET",
          "MKTX",
          "MMC",
          "MS",
          "MSCI",
          "MTB",
          "NDAQ",
          "NTRS",
          "PBCT",
          "PFG",
          "PGR",
          "PNC",
          "PRU",
          "PYPL",
          "RE",
          "RF",
          "RJF",
          "SCHW",
          "SIVB",
          "SPGI",
          "STT",
          "SYF",
          "TFC",
          "TROW",
          "TRV",
          "UNM",
          "USB",
          "V",
          "WFC",
          "WLTW",
          "WRB",
          "WU",
          "ZION"
         ],
         "legendgroup": "Financial Services",
         "marker": {
          "color": "#FF6692",
          "symbol": "circle"
         },
         "mode": "markers",
         "name": "Financial Services",
         "orientation": "v",
         "showlegend": true,
         "type": "scatter",
         "x": [
          "1.2188036",
          "0.73815113",
          "1.6990469",
          "4.2159944",
          "1.6580455",
          "5.5951176",
          "13.328732",
          "5.419253",
          "1.4886298",
          "1.7063739",
          "1.1310414",
          "3.826043",
          "0.901472",
          "1.3169273",
          "3.9848366",
          "1.0277737",
          "1.7956057",
          "1.4023283",
          "2.9489532",
          "1.348003",
          "3.4017093",
          "1.4607874",
          "3.1835322",
          "1.5792439",
          "1.5719811",
          "1.4566636",
          "1.3542609",
          "3.163743",
          "1.2818043",
          "2.0221853",
          "1.4050813",
          "0.875162",
          "0.6026893",
          "57.387897",
          "30.9526",
          "0.88759685",
          "17.30589",
          "7.5322227",
          "1.7826178",
          0,
          "1.3653527",
          "4.4154797",
          "2.3700218",
          "1.0915978",
          "1.1663778",
          "3.292435",
          "1.5311277",
          "0.63759357",
          "15.399568",
          "1.0736536",
          "1.3419117",
          "2.4708931",
          "3.1683335",
          "3.6512992",
          "89.77124",
          "1.3133038",
          "2.2773635",
          0,
          "5.511251",
          "1.4234622",
          "0.6071553",
          "1.9902403",
          "14.30863",
          "1.1650004",
          "2.9063303",
          "2.17814",
          "55.13216",
          "1.2924671"
         ],
         "xaxis": "x",
         "y": [
          "12003",
          "45000",
          "13600",
          "34000",
          "41860",
          "12300",
          "50000",
          "63700",
          "212000",
          "11100",
          "48000",
          "16700",
          "211000",
          "31000",
          "1010",
          "17405",
          "5266",
          "7653",
          "4370",
          "51700",
          "17600",
          "19819",
          "5483",
          "3261",
          "40300",
          "15449",
          "18500",
          "8964",
          "8426",
          "259350",
          "17086",
          "12200",
          "10966",
          "21000",
          "11558",
          0,
          "610",
          "76000",
          "71000",
          "3728",
          "16718",
          "5585",
          "20600",
          "5640",
          "17400",
          "43326",
          "49549",
          "41671",
          "26500",
          "1746",
          "18926",
          "14800",
          "32000",
          "4656",
          "23000",
          "39318",
          "16500",
          "53207",
          "7697",
          "29988",
          "10300",
          "70000",
          "20500",
          "264513",
          "46000",
          "7495",
          "11000",
          "9682"
         ],
         "yaxis": "y"
        },
        {
         "hovertemplate": "<b>%{hovertext}</b><br><br>sector=Basic Materials<br>priceToBook=%{x}<br>fullTimeEmployees=%{y}<extra></extra>",
         "hovertext": [
          "ALB",
          "APD",
          "CE",
          "CF",
          "CTVA",
          "DD",
          "DOW",
          "ECL",
          "EMN",
          "FCX",
          "FMC",
          "IFF",
          "LIN",
          "LYB",
          "MLM",
          "MOS",
          "NEM",
          "NUE",
          "PPG",
          "SHW",
          "VMC"
         ],
         "legendgroup": "Basic Materials",
         "marker": {
          "color": "#B6E880",
          "symbol": "circle"
         },
         "mode": "markers",
         "name": "Basic Materials",
         "orientation": "v",
         "showlegend": true,
         "type": "scatter",
         "x": [
          "3.5248713",
          "5.2998977",
          "5.2895346",
          "3.9204023",
          "1.4152861",
          "1.6316763",
          "3.7538676",
          "9.793192",
          "2.827128",
          "5.5945835",
          "5.1687994",
          "1.6443398",
          "3.3162649",
          "4.4143906",
          "3.7203078",
          "1.4218085",
          "2.4746304",
          "2.843624",
          "7.403362",
          "24.449625",
          "3.9486413"
         ],
         "xaxis": "x",
         "y": [
          "5900",
          "19000",
          "7700",
          "2970",
          "21000",
          "34000",
          "35700",
          "44000",
          "14500",
          "24500",
          "6400",
          "13700",
          "74207",
          "19200",
          "8700",
          "12617",
          "14300",
          "26400",
          "46900",
          "61031",
          "8847"
         ],
         "yaxis": "y"
        },
        {
         "hovertemplate": "<b>%{hovertext}</b><br><br>sector=Real Estate<br>priceToBook=%{x}<br>fullTimeEmployees=%{y}<extra></extra>",
         "hovertext": [
          "AMT",
          "ARE",
          "AVB",
          "BXP",
          "CBRE",
          "CCI",
          "DLR",
          "DRE",
          "EQIX",
          "EQR",
          "ESS",
          "EXR",
          "FRT",
          "HST",
          "IRM",
          "KIM",
          "MAA",
          "O",
          "PEAK",
          "PLD",
          "PSA",
          "REG",
          "SBAC",
          "SPG",
          "UDR",
          "VNO",
          "VTR",
          "WELL",
          "WY"
         ],
         "legendgroup": "Real Estate",
         "marker": {
          "color": "#FF97FF",
          "symbol": "circle"
         },
         "mode": "markers",
         "name": "Real Estate",
         "orientation": "v",
         "showlegend": true,
         "type": "scatter",
         "x": [
          "30.38369",
          "2.0641131",
          "2.7662745",
          "3.2500134",
          "4.0057373",
          "9.5236025",
          "2.6188505",
          "3.480711",
          "6.6513944",
          "2.862119",
          "3.292124",
          "7.053898",
          "3.9170828",
          "2.0085027",
          "11.582551",
          "1.6646258",
          "3.262575",
          "2.2802927",
          0,
          "2.8342173",
          "10.492822",
          "1.860156",
          0,
          "14.3787365",
          "4.9217024",
          "1.7985665",
          "2.135199",
          "2.0203488",
          "2.890512"
         ],
         "xaxis": "x",
         "y": [
          "5618",
          "470",
          "2966",
          "750",
          "100000",
          "4900",
          "2878",
          "350",
          "10207",
          "2600",
          "1763",
          "4013",
          "307",
          "163",
          "24000",
          "484",
          "2530",
          "208",
          "217",
          "1945",
          "5400",
          "431",
          "1483",
          "2400",
          "1263",
          "2899",
          "448",
          "423",
          "9372"
         ],
         "yaxis": "y"
        },
        {
         "hovertemplate": "<b>%{hovertext}</b><br><br>sector=Energy<br>priceToBook=%{x}<br>fullTimeEmployees=%{y}<extra></extra>",
         "hovertext": [
          "APA",
          "BKR",
          "COG",
          "COP",
          "CVX",
          "DVN",
          "EOG",
          "FANG",
          "HAL",
          "HES",
          "KMI",
          "MPC",
          "MRO",
          "NOV",
          "OKE",
          "OXY",
          "PSX",
          "PXD",
          "SLB",
          "VLO",
          "WMB",
          "XOM"
         ],
         "legendgroup": "Energy",
         "marker": {
          "color": "#FECB52",
          "symbol": "circle"
         },
         "mode": "markers",
         "name": "Energy",
         "orientation": "v",
         "showlegend": true,
         "type": "scatter",
         "x": [
          0,
          0,
          "2.9326174",
          "1.8714821",
          "1.5854104",
          "2.558384",
          "2.5140128",
          "1.455267",
          "4.250344",
          "4.853182",
          "1.3213255",
          "1.8671554",
          "1.0314673",
          "1.3578349",
          "3.9422724",
          "3.1857438",
          "2.2279592",
          "2.4211664",
          "4.0602",
          "1.9114101",
          "2.908429",
          "1.6552188"
         ],
         "xaxis": "x",
         "y": [
          "2272",
          "54000",
          "503",
          "10300",
          "47736",
          "1400",
          "2900",
          "732",
          "40000",
          "1621",
          "10524",
          "57900",
          "1672",
          "27631",
          "2886",
          "11800",
          "14300",
          "1853",
          "86000",
          "9964",
          "4739",
          "72000"
         ],
         "yaxis": "y"
        },
        {
         "hovertemplate": "<b>%{hovertext}</b><br><br>sector=Communication Services<br>priceToBook=%{x}<br>fullTimeEmployees=%{y}<extra></extra>",
         "hovertext": [
          "ATVI",
          "CHTR",
          "CMCSA",
          "DIS",
          "DISCA",
          "DISCK",
          "DISH",
          "EA",
          "FB",
          "FOX",
          "FOXA",
          "GOOG",
          "GOOGL",
          "IPG",
          "LUMN",
          "LYV",
          "NFLX",
          "NWS",
          "NWSA",
          "OMC",
          "T",
          "TMUS",
          "TTWO",
          "TWTR",
          "VIAC",
          "VZ"
         ],
         "legendgroup": "Communication Services",
         "marker": {
          "color": "#636efa",
          "symbol": "circle"
         },
         "mode": "markers",
         "name": "Communication Services",
         "orientation": "v",
         "showlegend": true,
         "type": "scatter",
         "x": [
          "4.9072666",
          "6.1338644",
          "2.8286438",
          "3.823561",
          "1.9121212",
          "1.790909",
          "1.741161",
          "5.259898",
          "7.021851",
          "1.9327048",
          "2.0150628",
          "7.153348",
          "6.9835706",
          "4.6162267",
          0,
          0,
          "17.025362",
          "1.7878789",
          "1.8917749",
          "5.545881",
          "1.2628355",
          "2.7143636",
          "6.043974",
          "6.071208",
          0,
          "3.3302338"
         ],
         "xaxis": "x",
         "y": [
          "9500",
          "96100",
          "168000",
          "175000",
          "9800",
          "9800",
          "13500",
          "9800",
          "60654",
          "9000",
          "9000",
          "139995",
          "139995",
          "50200",
          "39000",
          "8200",
          "9400",
          "23500",
          "23500",
          "64100",
          "228470",
          "75000",
          "6495",
          "6100",
          "22109",
          "130100"
         ],
         "yaxis": "y"
        },
        {
         "hovertemplate": "<b>%{hovertext}</b><br><br>sector=0<br>priceToBook=%{x}<br>fullTimeEmployees=%{y}<extra></extra>",
         "hovertext": [
          "BRK.B",
          "BSX",
          "GD",
          "OGN"
         ],
         "legendgroup": "0",
         "marker": {
          "color": "#EF553B",
          "symbol": "circle"
         },
         "mode": "markers",
         "name": "0",
         "orientation": "v",
         "showlegend": true,
         "type": "scatter",
         "x": [
          0,
          0,
          0,
          0
         ],
         "xaxis": "x",
         "y": [
          0,
          0,
          0,
          0
         ],
         "yaxis": "y"
        }
       ],
       "layout": {
        "legend": {
         "title": {
          "text": "sector"
         },
         "tracegroupgap": 0
        },
        "margin": {
         "t": 60
        },
        "template": {
         "data": {
          "bar": [
           {
            "error_x": {
             "color": "#2a3f5f"
            },
            "error_y": {
             "color": "#2a3f5f"
            },
            "marker": {
             "line": {
              "color": "#E5ECF6",
              "width": 0.5
             }
            },
            "type": "bar"
           }
          ],
          "barpolar": [
           {
            "marker": {
             "line": {
              "color": "#E5ECF6",
              "width": 0.5
             }
            },
            "type": "barpolar"
           }
          ],
          "carpet": [
           {
            "aaxis": {
             "endlinecolor": "#2a3f5f",
             "gridcolor": "white",
             "linecolor": "white",
             "minorgridcolor": "white",
             "startlinecolor": "#2a3f5f"
            },
            "baxis": {
             "endlinecolor": "#2a3f5f",
             "gridcolor": "white",
             "linecolor": "white",
             "minorgridcolor": "white",
             "startlinecolor": "#2a3f5f"
            },
            "type": "carpet"
           }
          ],
          "choropleth": [
           {
            "colorbar": {
             "outlinewidth": 0,
             "ticks": ""
            },
            "type": "choropleth"
           }
          ],
          "contour": [
           {
            "colorbar": {
             "outlinewidth": 0,
             "ticks": ""
            },
            "colorscale": [
             [
              0,
              "#0d0887"
             ],
             [
              0.1111111111111111,
              "#46039f"
             ],
             [
              0.2222222222222222,
              "#7201a8"
             ],
             [
              0.3333333333333333,
              "#9c179e"
             ],
             [
              0.4444444444444444,
              "#bd3786"
             ],
             [
              0.5555555555555556,
              "#d8576b"
             ],
             [
              0.6666666666666666,
              "#ed7953"
             ],
             [
              0.7777777777777778,
              "#fb9f3a"
             ],
             [
              0.8888888888888888,
              "#fdca26"
             ],
             [
              1,
              "#f0f921"
             ]
            ],
            "type": "contour"
           }
          ],
          "contourcarpet": [
           {
            "colorbar": {
             "outlinewidth": 0,
             "ticks": ""
            },
            "type": "contourcarpet"
           }
          ],
          "heatmap": [
           {
            "colorbar": {
             "outlinewidth": 0,
             "ticks": ""
            },
            "colorscale": [
             [
              0,
              "#0d0887"
             ],
             [
              0.1111111111111111,
              "#46039f"
             ],
             [
              0.2222222222222222,
              "#7201a8"
             ],
             [
              0.3333333333333333,
              "#9c179e"
             ],
             [
              0.4444444444444444,
              "#bd3786"
             ],
             [
              0.5555555555555556,
              "#d8576b"
             ],
             [
              0.6666666666666666,
              "#ed7953"
             ],
             [
              0.7777777777777778,
              "#fb9f3a"
             ],
             [
              0.8888888888888888,
              "#fdca26"
             ],
             [
              1,
              "#f0f921"
             ]
            ],
            "type": "heatmap"
           }
          ],
          "heatmapgl": [
           {
            "colorbar": {
             "outlinewidth": 0,
             "ticks": ""
            },
            "colorscale": [
             [
              0,
              "#0d0887"
             ],
             [
              0.1111111111111111,
              "#46039f"
             ],
             [
              0.2222222222222222,
              "#7201a8"
             ],
             [
              0.3333333333333333,
              "#9c179e"
             ],
             [
              0.4444444444444444,
              "#bd3786"
             ],
             [
              0.5555555555555556,
              "#d8576b"
             ],
             [
              0.6666666666666666,
              "#ed7953"
             ],
             [
              0.7777777777777778,
              "#fb9f3a"
             ],
             [
              0.8888888888888888,
              "#fdca26"
             ],
             [
              1,
              "#f0f921"
             ]
            ],
            "type": "heatmapgl"
           }
          ],
          "histogram": [
           {
            "marker": {
             "colorbar": {
              "outlinewidth": 0,
              "ticks": ""
             }
            },
            "type": "histogram"
           }
          ],
          "histogram2d": [
           {
            "colorbar": {
             "outlinewidth": 0,
             "ticks": ""
            },
            "colorscale": [
             [
              0,
              "#0d0887"
             ],
             [
              0.1111111111111111,
              "#46039f"
             ],
             [
              0.2222222222222222,
              "#7201a8"
             ],
             [
              0.3333333333333333,
              "#9c179e"
             ],
             [
              0.4444444444444444,
              "#bd3786"
             ],
             [
              0.5555555555555556,
              "#d8576b"
             ],
             [
              0.6666666666666666,
              "#ed7953"
             ],
             [
              0.7777777777777778,
              "#fb9f3a"
             ],
             [
              0.8888888888888888,
              "#fdca26"
             ],
             [
              1,
              "#f0f921"
             ]
            ],
            "type": "histogram2d"
           }
          ],
          "histogram2dcontour": [
           {
            "colorbar": {
             "outlinewidth": 0,
             "ticks": ""
            },
            "colorscale": [
             [
              0,
              "#0d0887"
             ],
             [
              0.1111111111111111,
              "#46039f"
             ],
             [
              0.2222222222222222,
              "#7201a8"
             ],
             [
              0.3333333333333333,
              "#9c179e"
             ],
             [
              0.4444444444444444,
              "#bd3786"
             ],
             [
              0.5555555555555556,
              "#d8576b"
             ],
             [
              0.6666666666666666,
              "#ed7953"
             ],
             [
              0.7777777777777778,
              "#fb9f3a"
             ],
             [
              0.8888888888888888,
              "#fdca26"
             ],
             [
              1,
              "#f0f921"
             ]
            ],
            "type": "histogram2dcontour"
           }
          ],
          "mesh3d": [
           {
            "colorbar": {
             "outlinewidth": 0,
             "ticks": ""
            },
            "type": "mesh3d"
           }
          ],
          "parcoords": [
           {
            "line": {
             "colorbar": {
              "outlinewidth": 0,
              "ticks": ""
             }
            },
            "type": "parcoords"
           }
          ],
          "pie": [
           {
            "automargin": true,
            "type": "pie"
           }
          ],
          "scatter": [
           {
            "marker": {
             "colorbar": {
              "outlinewidth": 0,
              "ticks": ""
             }
            },
            "type": "scatter"
           }
          ],
          "scatter3d": [
           {
            "line": {
             "colorbar": {
              "outlinewidth": 0,
              "ticks": ""
             }
            },
            "marker": {
             "colorbar": {
              "outlinewidth": 0,
              "ticks": ""
             }
            },
            "type": "scatter3d"
           }
          ],
          "scattercarpet": [
           {
            "marker": {
             "colorbar": {
              "outlinewidth": 0,
              "ticks": ""
             }
            },
            "type": "scattercarpet"
           }
          ],
          "scattergeo": [
           {
            "marker": {
             "colorbar": {
              "outlinewidth": 0,
              "ticks": ""
             }
            },
            "type": "scattergeo"
           }
          ],
          "scattergl": [
           {
            "marker": {
             "colorbar": {
              "outlinewidth": 0,
              "ticks": ""
             }
            },
            "type": "scattergl"
           }
          ],
          "scattermapbox": [
           {
            "marker": {
             "colorbar": {
              "outlinewidth": 0,
              "ticks": ""
             }
            },
            "type": "scattermapbox"
           }
          ],
          "scatterpolar": [
           {
            "marker": {
             "colorbar": {
              "outlinewidth": 0,
              "ticks": ""
             }
            },
            "type": "scatterpolar"
           }
          ],
          "scatterpolargl": [
           {
            "marker": {
             "colorbar": {
              "outlinewidth": 0,
              "ticks": ""
             }
            },
            "type": "scatterpolargl"
           }
          ],
          "scatterternary": [
           {
            "marker": {
             "colorbar": {
              "outlinewidth": 0,
              "ticks": ""
             }
            },
            "type": "scatterternary"
           }
          ],
          "surface": [
           {
            "colorbar": {
             "outlinewidth": 0,
             "ticks": ""
            },
            "colorscale": [
             [
              0,
              "#0d0887"
             ],
             [
              0.1111111111111111,
              "#46039f"
             ],
             [
              0.2222222222222222,
              "#7201a8"
             ],
             [
              0.3333333333333333,
              "#9c179e"
             ],
             [
              0.4444444444444444,
              "#bd3786"
             ],
             [
              0.5555555555555556,
              "#d8576b"
             ],
             [
              0.6666666666666666,
              "#ed7953"
             ],
             [
              0.7777777777777778,
              "#fb9f3a"
             ],
             [
              0.8888888888888888,
              "#fdca26"
             ],
             [
              1,
              "#f0f921"
             ]
            ],
            "type": "surface"
           }
          ],
          "table": [
           {
            "cells": {
             "fill": {
              "color": "#EBF0F8"
             },
             "line": {
              "color": "white"
             }
            },
            "header": {
             "fill": {
              "color": "#C8D4E3"
             },
             "line": {
              "color": "white"
             }
            },
            "type": "table"
           }
          ]
         },
         "layout": {
          "annotationdefaults": {
           "arrowcolor": "#2a3f5f",
           "arrowhead": 0,
           "arrowwidth": 1
          },
          "autotypenumbers": "strict",
          "coloraxis": {
           "colorbar": {
            "outlinewidth": 0,
            "ticks": ""
           }
          },
          "colorscale": {
           "diverging": [
            [
             0,
             "#8e0152"
            ],
            [
             0.1,
             "#c51b7d"
            ],
            [
             0.2,
             "#de77ae"
            ],
            [
             0.3,
             "#f1b6da"
            ],
            [
             0.4,
             "#fde0ef"
            ],
            [
             0.5,
             "#f7f7f7"
            ],
            [
             0.6,
             "#e6f5d0"
            ],
            [
             0.7,
             "#b8e186"
            ],
            [
             0.8,
             "#7fbc41"
            ],
            [
             0.9,
             "#4d9221"
            ],
            [
             1,
             "#276419"
            ]
           ],
           "sequential": [
            [
             0,
             "#0d0887"
            ],
            [
             0.1111111111111111,
             "#46039f"
            ],
            [
             0.2222222222222222,
             "#7201a8"
            ],
            [
             0.3333333333333333,
             "#9c179e"
            ],
            [
             0.4444444444444444,
             "#bd3786"
            ],
            [
             0.5555555555555556,
             "#d8576b"
            ],
            [
             0.6666666666666666,
             "#ed7953"
            ],
            [
             0.7777777777777778,
             "#fb9f3a"
            ],
            [
             0.8888888888888888,
             "#fdca26"
            ],
            [
             1,
             "#f0f921"
            ]
           ],
           "sequentialminus": [
            [
             0,
             "#0d0887"
            ],
            [
             0.1111111111111111,
             "#46039f"
            ],
            [
             0.2222222222222222,
             "#7201a8"
            ],
            [
             0.3333333333333333,
             "#9c179e"
            ],
            [
             0.4444444444444444,
             "#bd3786"
            ],
            [
             0.5555555555555556,
             "#d8576b"
            ],
            [
             0.6666666666666666,
             "#ed7953"
            ],
            [
             0.7777777777777778,
             "#fb9f3a"
            ],
            [
             0.8888888888888888,
             "#fdca26"
            ],
            [
             1,
             "#f0f921"
            ]
           ]
          },
          "colorway": [
           "#636efa",
           "#EF553B",
           "#00cc96",
           "#ab63fa",
           "#FFA15A",
           "#19d3f3",
           "#FF6692",
           "#B6E880",
           "#FF97FF",
           "#FECB52"
          ],
          "font": {
           "color": "#2a3f5f"
          },
          "geo": {
           "bgcolor": "white",
           "lakecolor": "white",
           "landcolor": "#E5ECF6",
           "showlakes": true,
           "showland": true,
           "subunitcolor": "white"
          },
          "hoverlabel": {
           "align": "left"
          },
          "hovermode": "closest",
          "mapbox": {
           "style": "light"
          },
          "paper_bgcolor": "white",
          "plot_bgcolor": "#E5ECF6",
          "polar": {
           "angularaxis": {
            "gridcolor": "white",
            "linecolor": "white",
            "ticks": ""
           },
           "bgcolor": "#E5ECF6",
           "radialaxis": {
            "gridcolor": "white",
            "linecolor": "white",
            "ticks": ""
           }
          },
          "scene": {
           "xaxis": {
            "backgroundcolor": "#E5ECF6",
            "gridcolor": "white",
            "gridwidth": 2,
            "linecolor": "white",
            "showbackground": true,
            "ticks": "",
            "zerolinecolor": "white"
           },
           "yaxis": {
            "backgroundcolor": "#E5ECF6",
            "gridcolor": "white",
            "gridwidth": 2,
            "linecolor": "white",
            "showbackground": true,
            "ticks": "",
            "zerolinecolor": "white"
           },
           "zaxis": {
            "backgroundcolor": "#E5ECF6",
            "gridcolor": "white",
            "gridwidth": 2,
            "linecolor": "white",
            "showbackground": true,
            "ticks": "",
            "zerolinecolor": "white"
           }
          },
          "shapedefaults": {
           "line": {
            "color": "#2a3f5f"
           }
          },
          "ternary": {
           "aaxis": {
            "gridcolor": "white",
            "linecolor": "white",
            "ticks": ""
           },
           "baxis": {
            "gridcolor": "white",
            "linecolor": "white",
            "ticks": ""
           },
           "bgcolor": "#E5ECF6",
           "caxis": {
            "gridcolor": "white",
            "linecolor": "white",
            "ticks": ""
           }
          },
          "title": {
           "x": 0.05
          },
          "xaxis": {
           "automargin": true,
           "gridcolor": "white",
           "linecolor": "white",
           "ticks": "",
           "title": {
            "standoff": 15
           },
           "zerolinecolor": "white",
           "zerolinewidth": 2
          },
          "yaxis": {
           "automargin": true,
           "gridcolor": "white",
           "linecolor": "white",
           "ticks": "",
           "title": {
            "standoff": 15
           },
           "zerolinecolor": "white",
           "zerolinewidth": 2
          }
         }
        },
        "xaxis": {
         "anchor": "y",
         "domain": [
          0,
          1
         ],
         "title": {
          "text": "priceToBook"
         }
        },
        "yaxis": {
         "anchor": "x",
         "domain": [
          0,
          1
         ],
         "title": {
          "text": "fullTimeEmployees"
         }
        }
       }
      },
      "text/html": [
       "<div>                            <div id=\"be1688cb-4467-44c9-941c-9eb80d9fb831\" class=\"plotly-graph-div\" style=\"height:525px; width:100%;\"></div>            <script type=\"text/javascript\">                require([\"plotly\"], function(Plotly) {                    window.PLOTLYENV=window.PLOTLYENV || {};                                    if (document.getElementById(\"be1688cb-4467-44c9-941c-9eb80d9fb831\")) {                    Plotly.newPlot(                        \"be1688cb-4467-44c9-941c-9eb80d9fb831\",                        [{\"hovertemplate\": \"<b>%{hovertext}</b><br><br>sector=Healthcare<br>priceToBook=%{x}<br>fullTimeEmployees=%{y}<extra></extra>\", \"hovertext\": [\"A\", \"ABBV\", \"ABC\", \"ABMD\", \"ABT\", \"ALGN\", \"ALXN\", \"AMGN\", \"ANTM\", \"BAX\", \"BDX\", \"BIIB\", \"BIO\", \"BMY\", \"CAH\", \"CERN\", \"CI\", \"CNC\", \"COO\", \"CRL\", \"CTLT\", \"CVS\", \"DGX\", \"DHR\", \"DVA\", \"DXCM\", \"EW\", \"GILD\", \"HCA\", \"HOLX\", \"HSIC\", \"HUM\", \"IDXX\", \"ILMN\", \"INCY\", \"IQV\", \"ISRG\", \"JNJ\", \"LH\", \"LLY\", \"MCK\", \"MDT\", \"MRK\", \"MTD\", \"PFE\", \"PKI\", \"PRGO\", \"REGN\", \"RMD\", \"STE\", \"SYK\", \"TFX\", \"TMO\", \"UHS\", \"UNH\", \"VRTX\", \"VTRS\", \"WAT\", \"WBA\", \"WST\", \"XRAY\", \"ZBH\", \"ZTS\"], \"legendgroup\": \"Healthcare\", \"marker\": {\"color\": \"#636efa\", \"symbol\": \"circle\"}, \"mode\": \"markers\", \"name\": \"Healthcare\", \"orientation\": \"v\", \"showlegend\": true, \"type\": \"scatter\", \"x\": [\"8.69812\", \"14.470058\", 0, \"9.857002\", \"5.7859073\", \"13.579973\", \"3.1510408\", \"14.597843\", \"2.8449461\", \"4.891757\", \"2.8193862\", \"4.0340614\", \"1.6307523\", \"3.8558369\", \"9.195253\", \"5.622813\", \"1.808704\", \"1.5802513\", \"3.1310763\", \"7.7450504\", \"4.639516\", \"1.6024834\", \"2.5030591\", \"4.6502748\", \"10.319149\", \"19.45582\", \"12.796316\", \"4.461722\", \"288.8784\", \"4.0999327\", \"3.2779298\", \"3.8761501\", \"67.82798\", \"12.402704\", \"6.7169113\", \"7.526231\", \"9.695532\", \"6.637207\", \"2.5993228\", \"26.620108\", 0, \"3.2400262\", \"6.9619536\", \"144.31277\", \"3.4466064\", \"4.1697173\", \"1.1078422\", \"4.8268743\", \"11.0275\", \"4.2579722\", \"7.026899\", \"5.471069\", \"5.030942\", \"2.0903606\", \"5.7666006\", \"6.0505533\", 0, \"85.68438\", \"2.2457418\", \"13.4539795\", \"2.935341\", \"2.709103\", \"22.096104\"], \"xaxis\": \"x\", \"y\": [\"16500\", \"48000\", \"22000\", \"1725\", \"109000\", \"18975\", \"3837\", \"24300\", \"83400\", \"50000\", \"70000\", \"9100\", \"7800\", \"30250\", \"48000\", \"26400\", \"72226\", \"71300\", \"12000\", \"18400\", \"13900\", \"213000\", \"50000\", \"67000\", \"67000\", \"5500\", \"14900\", \"13600\", \"195000\", \"5814\", \"20000\", \"43000\", \"9300\", \"7800\", \"1773\", \"72000\", \"8081\", \"134500\", \"70000\", \"34690\", \"59000\", \"90000\", \"73000\", \"14900\", \"78500\", \"14000\", \"11500\", \"9123\", \"7770\", \"13000\", \"43000\", \"14000\", \"80000\", \"89000\", \"330000\", \"3400\", \"45000\", \"7400\", \"223000\", \"9200\", \"15000\", \"20000\", \"11300\"], \"yaxis\": \"y\"}, {\"hovertemplate\": \"<b>%{hovertext}</b><br><br>sector=Industrials<br>priceToBook=%{x}<br>fullTimeEmployees=%{y}<extra></extra>\", \"hovertext\": [\"AAL\", \"ADP\", \"ALK\", \"ALLE\", \"AME\", \"AOS\", \"AVY\", \"BA\", \"CARR\", \"CAT\", \"CHRW\", \"CMI\", \"CPRT\", \"CSX\", \"CTAS\", \"DAL\", \"DE\", \"DOV\", \"EFX\", \"EMR\", \"ETN\", \"EXPD\", \"FAST\", \"FDX\", \"GE\", \"GNRC\", \"GPN\", \"GWW\", \"HII\", \"HON\", \"HWM\", \"IEX\", \"INFO\", \"IR\", \"ITW\", \"J\", \"JBHT\", \"JCI\", \"KSU\", \"LHX\", \"LMT\", \"LUV\", \"MAS\", \"MMM\", \"NLSN\", \"NOC\", \"NSC\", \"ODFL\", \"OTIS\", \"PAYX\", \"PCAR\", \"PH\", \"PNR\", \"PWR\", \"RHI\", \"ROK\", \"ROP\", \"RSG\", \"RTX\", \"SNA\", \"SWK\", \"TDG\", \"TT\", \"TXT\", \"UAL\", \"UNP\", \"UPS\", \"URI\", \"VRSK\", \"WAB\", \"WM\", \"XYL\"], \"legendgroup\": \"Industrials\", \"marker\": {\"color\": \"#EF553B\", \"symbol\": \"circle\"}, \"mode\": \"markers\", \"name\": \"Industrials\", \"orientation\": \"v\", \"showlegend\": true, \"type\": \"scatter\", \"x\": [0, \"14.844958\", \"2.8329651\", \"17.179804\", \"5.19505\", \"5.9923635\", \"11.567784\", 0, 0, \"8.065177\", \"6.871122\", \"4.7638106\", \"9.103022\", \"5.737488\", \"9.6934\", \"60.820107\", \"7.371489\", \"6.299358\", \"8.5607395\", \"6.602353\", \"3.95995\", \"7.899427\", \"10.940013\", \"3.6470306\", \"3.6496732\", \"13.517754\", \"2.14747\", \"13.333238\", \"4.5258317\", \"8.883612\", 0, \"6.5667334\", \"4.901646\", \"2.3040547\", \"22.750603\", 0, \"6.486025\", \"2.7023854\", \"6.39988\", \"2.154026\", \"17.35741\", \"3.807387\", 0, \"8.680541\", \"3.2550578\", \"5.7732954\", \"4.7730536\", \"9.455768\", 0, \"12.414962\", \"3.0734615\", \"5.3953457\", \"5.2666664\", \"2.96584\", \"8.370844\", \"17.605877\", \"4.3992\", \"4.1045394\", 0, \"3.5464392\", \"3.4715314\", 0, 0, \"2.603323\", \"3.5384424\", \"9.255227\", \"25.639683\", \"5.0650544\", \"10.176834\", \"1.5422431\", \"7.9989767\", \"7.2455487\"], \"xaxis\": \"x\", \"y\": [\"113200\", \"58000\", \"17140\", \"11500\", \"16500\", \"13900\", \"31900\", \"141000\", \"56000\", \"97300\", \"14997\", \"57825\", \"7600\", \"19000\", \"40000\", \"74000\", \"69634\", \"23000\", \"11000\", \"83500\", \"91987\", \"17480\", \"18094\", \"324000\", \"174000\", \"6452\", \"24000\", \"21800\", \"42000\", \"103000\", \"19700\", \"7000\", \"16000\", \"15900\", \"43000\", \"55000\", \"30309\", \"97000\", \"6522\", \"48000\", \"114000\", \"56051\", \"18000\", \"95000\", \"43000\", \"97000\", \"19100\", \"20482\", \"69000\", \"15600\", \"26000\", \"50520\", \"9750\", \"35800\", \"13000\", \"23500\", \"18400\", \"35000\", \"181000\", \"12300\", \"53000\", \"14200\", \"35000\", \"33000\", \"84100\", \"29755\", \"540000\", \"18250\", \"8960\", \"27000\", \"48250\", \"15600\"], \"yaxis\": \"y\"}, {\"hovertemplate\": \"<b>%{hovertext}</b><br><br>sector=Consumer Cyclical<br>priceToBook=%{x}<br>fullTimeEmployees=%{y}<extra></extra>\", \"hovertext\": [\"AAP\", \"AMCR\", \"AMZN\", \"APTV\", \"AZO\", \"BBY\", \"BKNG\", \"BLL\", \"BWA\", \"CCL\", \"CMG\", \"CZR\", \"DHI\", \"DPZ\", \"DRI\", \"EBAY\", \"ETSY\", \"EXPE\", \"F\", \"FBHS\", \"GM\", \"GPC\", \"GPS\", \"HAS\", \"HBI\", \"HD\", \"HLT\", \"IP\", \"KMX\", \"LB\", \"LEG\", \"LEN\", \"LKQ\", \"LOW\", \"LVS\", \"MAR\", \"MCD\", \"MGM\", \"MHK\", \"NCLH\", \"NKE\", \"NVR\", \"ORLY\", \"PENN\", \"PHM\", \"PKG\", \"POOL\", \"PVH\", \"RCL\", \"RL\", \"ROL\", \"ROST\", \"SBUX\", \"SEE\", \"TJX\", \"TPR\", \"TSCO\", \"TSLA\", \"UA\", \"UAA\", \"ULTA\", \"VFC\", \"WHR\", \"WRK\", \"WYNN\", \"YUM\"], \"legendgroup\": \"Consumer Cyclical\", \"marker\": {\"color\": \"#00cc96\", \"symbol\": \"circle\"}, \"mode\": \"markers\", \"name\": \"Consumer Cyclical\", \"orientation\": \"v\", \"showlegend\": true, \"type\": \"scatter\", \"x\": [\"3.564415\", \"3.647553\", \"15.640098\", \"5.34925\", 0, \"7.0605063\", \"19.954071\", \"7.7553325\", \"2.0511565\", \"1.7448437\", \"17.805851\", \"4.9887276\", \"2.5744557\", 0, \"6.8151793\", \"11.782877\", \"27.827116\", \"16.300875\", \"1.8843657\", \"4.956488\", \"1.8351626\", \"5.646563\", \"4.2456\", \"4.487584\", \"13.948127\", \"189.52469\", 0, \"3.2641625\", \"4.2638702\", 0, \"5.214197\", \"1.6020432\", \"2.6108782\", \"96.59715\", \"16.153187\", \"107.13424\", 0, \"3.3356733\", \"1.6532053\", \"2.7144425\", \"17.711561\", \"5.746426\", 0, \"4.7471414\", \"2.2458396\", \"4.148458\", \"26.6886\", \"1.6553593\", \"2.6104453\", \"3.2794764\", \"16.512438\", \"12.943663\", 0, \"87.481255\", \"12.898408\", \"3.9532087\", \"11.298596\", \"25.063805\", \"4.910922\", \"5.6080556\", \"9.753927\", \"9.846748\", \"3.4848394\", \"1.4162884\", 0, 0], \"xaxis\": \"x\", \"y\": [\"40000\", \"47000\", \"1271000\", \"151000\", \"60000\", \"61200\", \"19400\", \"21500\", \"49700\", \"70000\", \"97000\", \"54000\", \"9716\", \"6900\", \"177895\", \"12700\", \"1414\", \"19100\", \"186000\", \"27500\", \"155000\", \"50000\", \"117000\", \"6822\", \"61000\", \"500000\", \"141000\", \"48000\", \"26889\", \"22400\", \"20400\", \"9495\", \"44000\", \"220000\", \"44500\", \"121000\", \"200000\", \"45000\", \"42000\", \"34300\", \"75400\", \"6100\", \"77383\", \"18321\", \"5249\", \"15200\", \"4500\", \"20000\", \"84900\", \"13700\", \"15616\", \"93700\", \"349000\", \"16500\", \"320000\", \"12400\", \"42000\", \"70757\", \"7000\", \"7000\", \"16000\", \"48000\", \"78000\", \"50000\", \"27500\", \"38000\"], \"yaxis\": \"y\"}, {\"hovertemplate\": \"<b>%{hovertext}</b><br><br>sector=Technology<br>priceToBook=%{x}<br>fullTimeEmployees=%{y}<extra></extra>\", \"hovertext\": [\"AAPL\", \"ACN\", \"ADBE\", \"ADI\", \"ADSK\", \"AKAM\", \"AMAT\", \"AMD\", \"ANET\", \"ANSS\", \"APH\", \"AVGO\", \"BR\", \"CDNS\", \"CDW\", \"CRM\", \"CSCO\", \"CTSH\", \"CTXS\", \"DXC\", \"ENPH\", \"FFIV\", \"FIS\", \"FISV\", \"FLT\", \"FTNT\", \"FTV\", \"GLW\", \"GRMN\", \"HPE\", \"HPQ\", \"IBM\", \"INTC\", \"INTU\", \"IPGP\", \"IT\", \"JKHY\", \"JNPR\", \"KEYS\", \"KLAC\", \"LDOS\", \"LRCX\", \"MCHP\", \"MPWR\", \"MSFT\", \"MSI\", \"MU\", \"MXIM\", \"NLOK\", \"NOW\", \"NTAP\", \"NVDA\", \"NXPI\", \"ORCL\", \"PAYC\", \"PTC\", \"QCOM\", \"QRVO\", \"SNPS\", \"STX\", \"SWKS\", \"TDY\", \"TEL\", \"TER\", \"TRMB\", \"TXN\", \"TYL\", \"VRSN\", \"WDC\", \"XLNX\", \"ZBRA\"], \"legendgroup\": \"Technology\", \"marker\": {\"color\": \"#ab63fa\", \"symbol\": \"circle\"}, \"mode\": \"markers\", \"name\": \"Technology\", \"orientation\": \"v\", \"showlegend\": true, \"type\": \"scatter\", \"x\": [\"30.364206\", \"9.83161\", \"17.839462\", \"5.019249\", \"55.426235\", \"4.387065\", \"10.657675\", \"15.302946\", \"7.7403393\", \"7.1792154\", \"7.561776\", \"8.084144\", \"11.731203\", \"13.872168\", \"20.094782\", \"5.2598004\", \"5.668309\", \"3.4205616\", \"58.86364\", \"1.7944219\", \"24.939825\", \"5.645581\", \"1.846924\", \"2.3733284\", \"6.9068694\", \"36.923077\", \"2.7602012\", \"3.0118642\", \"4.82856\", \"1.2737552\", 0, \"6.158409\", \"2.9027524\", \"12.687595\", \"4.3080573\", \"22.893837\", \"7.7684245\", \"2.0546932\", \"8.288149\", \"15.6068125\", \"3.8338785\", \"17.397457\", \"7.9633055\", \"15.536801\", \"14.047498\", 0, \"2.309092\", \"12.790958\", 0, \"29.94929\", \"37.623486\", \"23.33267\", \"6.708512\", \"26.964867\", \"28.382212\", \"9.377387\", \"20.428831\", \"4.6479335\", \"7.6718736\", \"47.020874\", \"5.9705\", \"4.6895204\", \"4.7624907\", \"9.427261\", \"5.451441\", \"17.26183\", \"7.9673576\", 0, \"2.373512\", \"12.136051\", \"12.881082\"], \"xaxis\": \"x\", \"y\": [\"100000\", \"537000\", \"22516\", \"15900\", \"11500\", \"8300\", \"24800\", \"12600\", \"2613\", \"4800\", \"80000\", \"21000\", \"12000\", \"8800\", \"10186\", \"59895\", \"77500\", \"296500\", \"9000\", \"138000\", \"850\", \"6048\", \"62000\", \"44000\", \"8400\", \"8615\", \"17000\", \"50110\", \"16000\", \"59400\", \"53000\", \"345900\", \"110600\", \"10600\", \"6060\", \"15600\", \"6717\", \"9884\", \"14000\", \"10600\", \"39000\", \"13100\", \"19500\", \"2209\", \"163000\", \"18000\", \"40000\", \"7115\", \"2800\", \"13096\", \"10800\", \"18975\", \"29000\", \"135000\", \"4218\", \"6243\", \"41000\", \"7900\", \"15036\", \"42000\", \"10000\", \"10670\", \"80000\", \"5500\", \"11402\", \"30000\", \"5579\", \"907\", \"63800\", \"4891\", \"8800\"], \"yaxis\": \"y\"}, {\"hovertemplate\": \"<b>%{hovertext}</b><br><br>sector=Consumer Defensive<br>priceToBook=%{x}<br>fullTimeEmployees=%{y}<extra></extra>\", \"hovertext\": [\"ADM\", \"CAG\", \"CHD\", \"CL\", \"CLX\", \"COST\", \"CPB\", \"DG\", \"DLTR\", \"EL\", \"GIS\", \"HRL\", \"HSY\", \"K\", \"KHC\", \"KMB\", \"KO\", \"KR\", \"LW\", \"MDLZ\", \"MKC\", \"MNST\", \"MO\", \"NWL\", \"PEP\", \"PG\", \"PM\", \"SJM\", \"STZ\", \"SYY\", \"TAP\", \"TGT\", \"TSN\", \"WMT\"], \"legendgroup\": \"Consumer Defensive\", \"marker\": {\"color\": \"#FFA15A\", \"symbol\": \"circle\"}, \"mode\": \"markers\", \"name\": \"Consumer Defensive\", \"orientation\": \"v\", \"showlegend\": true, \"type\": \"scatter\", \"x\": [\"1.8445402\", \"2.2637117\", \"6.6017714\", \"270.87097\", \"29.959833\", \"10.395408\", \"5.1513896\", \"7.8140593\", \"3.1839366\", \"19.895718\", \"4.406441\", \"3.9817948\", \"16.045872\", \"7.3632445\", \"1.0690922\", \"85.11734\", \"11.910208\", \"3.056281\", \"27.202072\", \"3.3214006\", \"5.779651\", \"9.23144\", \"31.640179\", \"3.135189\", \"14.649227\", \"7.2793956\", 0, \"1.8694015\", \"3.4024973\", \"29.171858\", \"1.0363257\", \"7.671951\", \"1.8008839\", \"4.944749\"], \"xaxis\": \"x\", \"y\": [\"37575\", \"16500\", \"5100\", \"34200\", \"8800\", \"156000\", \"14500\", \"158000\", \"60217\", \"48000\", \"35000\", \"19100\", \"15200\", \"31000\", \"38000\", \"46000\", \"80300\", \"465000\", \"7700\", \"79000\", \"13000\", \"3013\", \"7100\", \"31000\", \"291000\", \"99000\", \"71000\", \"7300\", \"9300\", \"57000\", \"17000\", \"409000\", \"139000\", \"2300000\"], \"yaxis\": \"y\"}, {\"hovertemplate\": \"<b>%{hovertext}</b><br><br>sector=Utilities<br>priceToBook=%{x}<br>fullTimeEmployees=%{y}<extra></extra>\", \"hovertext\": [\"AEE\", \"AEP\", \"AES\", \"ATO\", \"AWK\", \"CMS\", \"CNP\", \"D\", \"DTE\", \"DUK\", \"ED\", \"EIX\", \"ES\", \"ETR\", \"EVRG\", \"EXC\", \"FE\", \"LNT\", \"NEE\", \"NI\", \"NRG\", \"PEG\", \"PNW\", \"PPL\", \"SO\", \"SRE\", \"WEC\", \"XEL\"], \"legendgroup\": \"Utilities\", \"marker\": {\"color\": \"#19d3f3\", \"symbol\": \"circle\"}, \"mode\": \"markers\", \"name\": \"Utilities\", \"orientation\": \"v\", \"showlegend\": true, \"type\": \"scatter\", \"x\": [\"2.405597\", \"2.0478945\", \"7.125321\", \"1.6825943\", \"4.312217\", \"3.165504\", \"2.2063932\", \"2.5367987\", \"2.1197062\", \"1.6963943\", \"1.3879105\", \"1.5212414\", \"2.000634\", \"1.9289044\", \"1.6290487\", \"1.3658419\", \"2.8325453\", \"2.5208225\", \"3.7961795\", \"1.97873\", \"5.4677424\", \"1.9319543\", \"1.7408785\", \"1.6668583\", \"2.3917487\", \"1.8334543\", \"2.741841\", \"2.5651538\"], \"xaxis\": \"x\", \"y\": [\"9183\", \"16787\", \"8162\", \"4694\", \"7000\", \"8148\", \"9541\", \"17300\", \"10600\", \"27535\", \"14071\", \"13351\", \"9299\", \"13400\", \"5133\", \"32340\", \"12153\", \"3375\", \"14900\", \"7301\", \"4104\", \"12788\", \"6026\", \"12318\", \"27700\", \"19000\", \"7200\", \"11367\"], \"yaxis\": \"y\"}, {\"hovertemplate\": \"<b>%{hovertext}</b><br><br>sector=Financial Services<br>priceToBook=%{x}<br>fullTimeEmployees=%{y}<extra></extra>\", \"hovertext\": [\"AFL\", \"AIG\", \"AIZ\", \"AJG\", \"ALL\", \"AMP\", \"AON\", \"AXP\", \"BAC\", \"BEN\", \"BK\", \"BLK\", \"C\", \"CB\", \"CBOE\", \"CFG\", \"CINF\", \"CMA\", \"CME\", \"COF\", \"DFS\", \"FITB\", \"FRC\", \"GL\", \"GS\", \"HBAN\", \"HIG\", \"ICE\", \"IVZ\", \"JPM\", \"KEY\", \"L\", \"LNC\", \"MA\", \"MCO\", \"MET\", \"MKTX\", \"MMC\", \"MS\", \"MSCI\", \"MTB\", \"NDAQ\", \"NTRS\", \"PBCT\", \"PFG\", \"PGR\", \"PNC\", \"PRU\", \"PYPL\", \"RE\", \"RF\", \"RJF\", \"SCHW\", \"SIVB\", \"SPGI\", \"STT\", \"SYF\", \"TFC\", \"TROW\", \"TRV\", \"UNM\", \"USB\", \"V\", \"WFC\", \"WLTW\", \"WRB\", \"WU\", \"ZION\"], \"legendgroup\": \"Financial Services\", \"marker\": {\"color\": \"#FF6692\", \"symbol\": \"circle\"}, \"mode\": \"markers\", \"name\": \"Financial Services\", \"orientation\": \"v\", \"showlegend\": true, \"type\": \"scatter\", \"x\": [\"1.2188036\", \"0.73815113\", \"1.6990469\", \"4.2159944\", \"1.6580455\", \"5.5951176\", \"13.328732\", \"5.419253\", \"1.4886298\", \"1.7063739\", \"1.1310414\", \"3.826043\", \"0.901472\", \"1.3169273\", \"3.9848366\", \"1.0277737\", \"1.7956057\", \"1.4023283\", \"2.9489532\", \"1.348003\", \"3.4017093\", \"1.4607874\", \"3.1835322\", \"1.5792439\", \"1.5719811\", \"1.4566636\", \"1.3542609\", \"3.163743\", \"1.2818043\", \"2.0221853\", \"1.4050813\", \"0.875162\", \"0.6026893\", \"57.387897\", \"30.9526\", \"0.88759685\", \"17.30589\", \"7.5322227\", \"1.7826178\", 0, \"1.3653527\", \"4.4154797\", \"2.3700218\", \"1.0915978\", \"1.1663778\", \"3.292435\", \"1.5311277\", \"0.63759357\", \"15.399568\", \"1.0736536\", \"1.3419117\", \"2.4708931\", \"3.1683335\", \"3.6512992\", \"89.77124\", \"1.3133038\", \"2.2773635\", 0, \"5.511251\", \"1.4234622\", \"0.6071553\", \"1.9902403\", \"14.30863\", \"1.1650004\", \"2.9063303\", \"2.17814\", \"55.13216\", \"1.2924671\"], \"xaxis\": \"x\", \"y\": [\"12003\", \"45000\", \"13600\", \"34000\", \"41860\", \"12300\", \"50000\", \"63700\", \"212000\", \"11100\", \"48000\", \"16700\", \"211000\", \"31000\", \"1010\", \"17405\", \"5266\", \"7653\", \"4370\", \"51700\", \"17600\", \"19819\", \"5483\", \"3261\", \"40300\", \"15449\", \"18500\", \"8964\", \"8426\", \"259350\", \"17086\", \"12200\", \"10966\", \"21000\", \"11558\", 0, \"610\", \"76000\", \"71000\", \"3728\", \"16718\", \"5585\", \"20600\", \"5640\", \"17400\", \"43326\", \"49549\", \"41671\", \"26500\", \"1746\", \"18926\", \"14800\", \"32000\", \"4656\", \"23000\", \"39318\", \"16500\", \"53207\", \"7697\", \"29988\", \"10300\", \"70000\", \"20500\", \"264513\", \"46000\", \"7495\", \"11000\", \"9682\"], \"yaxis\": \"y\"}, {\"hovertemplate\": \"<b>%{hovertext}</b><br><br>sector=Basic Materials<br>priceToBook=%{x}<br>fullTimeEmployees=%{y}<extra></extra>\", \"hovertext\": [\"ALB\", \"APD\", \"CE\", \"CF\", \"CTVA\", \"DD\", \"DOW\", \"ECL\", \"EMN\", \"FCX\", \"FMC\", \"IFF\", \"LIN\", \"LYB\", \"MLM\", \"MOS\", \"NEM\", \"NUE\", \"PPG\", \"SHW\", \"VMC\"], \"legendgroup\": \"Basic Materials\", \"marker\": {\"color\": \"#B6E880\", \"symbol\": \"circle\"}, \"mode\": \"markers\", \"name\": \"Basic Materials\", \"orientation\": \"v\", \"showlegend\": true, \"type\": \"scatter\", \"x\": [\"3.5248713\", \"5.2998977\", \"5.2895346\", \"3.9204023\", \"1.4152861\", \"1.6316763\", \"3.7538676\", \"9.793192\", \"2.827128\", \"5.5945835\", \"5.1687994\", \"1.6443398\", \"3.3162649\", \"4.4143906\", \"3.7203078\", \"1.4218085\", \"2.4746304\", \"2.843624\", \"7.403362\", \"24.449625\", \"3.9486413\"], \"xaxis\": \"x\", \"y\": [\"5900\", \"19000\", \"7700\", \"2970\", \"21000\", \"34000\", \"35700\", \"44000\", \"14500\", \"24500\", \"6400\", \"13700\", \"74207\", \"19200\", \"8700\", \"12617\", \"14300\", \"26400\", \"46900\", \"61031\", \"8847\"], \"yaxis\": \"y\"}, {\"hovertemplate\": \"<b>%{hovertext}</b><br><br>sector=Real Estate<br>priceToBook=%{x}<br>fullTimeEmployees=%{y}<extra></extra>\", \"hovertext\": [\"AMT\", \"ARE\", \"AVB\", \"BXP\", \"CBRE\", \"CCI\", \"DLR\", \"DRE\", \"EQIX\", \"EQR\", \"ESS\", \"EXR\", \"FRT\", \"HST\", \"IRM\", \"KIM\", \"MAA\", \"O\", \"PEAK\", \"PLD\", \"PSA\", \"REG\", \"SBAC\", \"SPG\", \"UDR\", \"VNO\", \"VTR\", \"WELL\", \"WY\"], \"legendgroup\": \"Real Estate\", \"marker\": {\"color\": \"#FF97FF\", \"symbol\": \"circle\"}, \"mode\": \"markers\", \"name\": \"Real Estate\", \"orientation\": \"v\", \"showlegend\": true, \"type\": \"scatter\", \"x\": [\"30.38369\", \"2.0641131\", \"2.7662745\", \"3.2500134\", \"4.0057373\", \"9.5236025\", \"2.6188505\", \"3.480711\", \"6.6513944\", \"2.862119\", \"3.292124\", \"7.053898\", \"3.9170828\", \"2.0085027\", \"11.582551\", \"1.6646258\", \"3.262575\", \"2.2802927\", 0, \"2.8342173\", \"10.492822\", \"1.860156\", 0, \"14.3787365\", \"4.9217024\", \"1.7985665\", \"2.135199\", \"2.0203488\", \"2.890512\"], \"xaxis\": \"x\", \"y\": [\"5618\", \"470\", \"2966\", \"750\", \"100000\", \"4900\", \"2878\", \"350\", \"10207\", \"2600\", \"1763\", \"4013\", \"307\", \"163\", \"24000\", \"484\", \"2530\", \"208\", \"217\", \"1945\", \"5400\", \"431\", \"1483\", \"2400\", \"1263\", \"2899\", \"448\", \"423\", \"9372\"], \"yaxis\": \"y\"}, {\"hovertemplate\": \"<b>%{hovertext}</b><br><br>sector=Energy<br>priceToBook=%{x}<br>fullTimeEmployees=%{y}<extra></extra>\", \"hovertext\": [\"APA\", \"BKR\", \"COG\", \"COP\", \"CVX\", \"DVN\", \"EOG\", \"FANG\", \"HAL\", \"HES\", \"KMI\", \"MPC\", \"MRO\", \"NOV\", \"OKE\", \"OXY\", \"PSX\", \"PXD\", \"SLB\", \"VLO\", \"WMB\", \"XOM\"], \"legendgroup\": \"Energy\", \"marker\": {\"color\": \"#FECB52\", \"symbol\": \"circle\"}, \"mode\": \"markers\", \"name\": \"Energy\", \"orientation\": \"v\", \"showlegend\": true, \"type\": \"scatter\", \"x\": [0, 0, \"2.9326174\", \"1.8714821\", \"1.5854104\", \"2.558384\", \"2.5140128\", \"1.455267\", \"4.250344\", \"4.853182\", \"1.3213255\", \"1.8671554\", \"1.0314673\", \"1.3578349\", \"3.9422724\", \"3.1857438\", \"2.2279592\", \"2.4211664\", \"4.0602\", \"1.9114101\", \"2.908429\", \"1.6552188\"], \"xaxis\": \"x\", \"y\": [\"2272\", \"54000\", \"503\", \"10300\", \"47736\", \"1400\", \"2900\", \"732\", \"40000\", \"1621\", \"10524\", \"57900\", \"1672\", \"27631\", \"2886\", \"11800\", \"14300\", \"1853\", \"86000\", \"9964\", \"4739\", \"72000\"], \"yaxis\": \"y\"}, {\"hovertemplate\": \"<b>%{hovertext}</b><br><br>sector=Communication Services<br>priceToBook=%{x}<br>fullTimeEmployees=%{y}<extra></extra>\", \"hovertext\": [\"ATVI\", \"CHTR\", \"CMCSA\", \"DIS\", \"DISCA\", \"DISCK\", \"DISH\", \"EA\", \"FB\", \"FOX\", \"FOXA\", \"GOOG\", \"GOOGL\", \"IPG\", \"LUMN\", \"LYV\", \"NFLX\", \"NWS\", \"NWSA\", \"OMC\", \"T\", \"TMUS\", \"TTWO\", \"TWTR\", \"VIAC\", \"VZ\"], \"legendgroup\": \"Communication Services\", \"marker\": {\"color\": \"#636efa\", \"symbol\": \"circle\"}, \"mode\": \"markers\", \"name\": \"Communication Services\", \"orientation\": \"v\", \"showlegend\": true, \"type\": \"scatter\", \"x\": [\"4.9072666\", \"6.1338644\", \"2.8286438\", \"3.823561\", \"1.9121212\", \"1.790909\", \"1.741161\", \"5.259898\", \"7.021851\", \"1.9327048\", \"2.0150628\", \"7.153348\", \"6.9835706\", \"4.6162267\", 0, 0, \"17.025362\", \"1.7878789\", \"1.8917749\", \"5.545881\", \"1.2628355\", \"2.7143636\", \"6.043974\", \"6.071208\", 0, \"3.3302338\"], \"xaxis\": \"x\", \"y\": [\"9500\", \"96100\", \"168000\", \"175000\", \"9800\", \"9800\", \"13500\", \"9800\", \"60654\", \"9000\", \"9000\", \"139995\", \"139995\", \"50200\", \"39000\", \"8200\", \"9400\", \"23500\", \"23500\", \"64100\", \"228470\", \"75000\", \"6495\", \"6100\", \"22109\", \"130100\"], \"yaxis\": \"y\"}, {\"hovertemplate\": \"<b>%{hovertext}</b><br><br>sector=0<br>priceToBook=%{x}<br>fullTimeEmployees=%{y}<extra></extra>\", \"hovertext\": [\"BRK.B\", \"BSX\", \"GD\", \"OGN\"], \"legendgroup\": \"0\", \"marker\": {\"color\": \"#EF553B\", \"symbol\": \"circle\"}, \"mode\": \"markers\", \"name\": \"0\", \"orientation\": \"v\", \"showlegend\": true, \"type\": \"scatter\", \"x\": [0, 0, 0, 0], \"xaxis\": \"x\", \"y\": [0, 0, 0, 0], \"yaxis\": \"y\"}],                        {\"legend\": {\"title\": {\"text\": \"sector\"}, \"tracegroupgap\": 0}, \"margin\": {\"t\": 60}, \"template\": {\"data\": {\"bar\": [{\"error_x\": {\"color\": \"#2a3f5f\"}, \"error_y\": {\"color\": \"#2a3f5f\"}, \"marker\": {\"line\": {\"color\": \"#E5ECF6\", \"width\": 0.5}}, \"type\": \"bar\"}], \"barpolar\": [{\"marker\": {\"line\": {\"color\": \"#E5ECF6\", \"width\": 0.5}}, \"type\": \"barpolar\"}], \"carpet\": [{\"aaxis\": {\"endlinecolor\": \"#2a3f5f\", \"gridcolor\": \"white\", \"linecolor\": \"white\", \"minorgridcolor\": \"white\", \"startlinecolor\": \"#2a3f5f\"}, \"baxis\": {\"endlinecolor\": \"#2a3f5f\", \"gridcolor\": \"white\", \"linecolor\": \"white\", \"minorgridcolor\": \"white\", \"startlinecolor\": \"#2a3f5f\"}, \"type\": \"carpet\"}], \"choropleth\": [{\"colorbar\": {\"outlinewidth\": 0, \"ticks\": \"\"}, \"type\": \"choropleth\"}], \"contour\": [{\"colorbar\": {\"outlinewidth\": 0, \"ticks\": \"\"}, \"colorscale\": [[0.0, \"#0d0887\"], [0.1111111111111111, \"#46039f\"], [0.2222222222222222, \"#7201a8\"], [0.3333333333333333, \"#9c179e\"], [0.4444444444444444, \"#bd3786\"], [0.5555555555555556, \"#d8576b\"], [0.6666666666666666, \"#ed7953\"], [0.7777777777777778, \"#fb9f3a\"], [0.8888888888888888, \"#fdca26\"], [1.0, \"#f0f921\"]], \"type\": \"contour\"}], \"contourcarpet\": [{\"colorbar\": {\"outlinewidth\": 0, \"ticks\": \"\"}, \"type\": \"contourcarpet\"}], \"heatmap\": [{\"colorbar\": {\"outlinewidth\": 0, \"ticks\": \"\"}, \"colorscale\": [[0.0, \"#0d0887\"], [0.1111111111111111, \"#46039f\"], [0.2222222222222222, \"#7201a8\"], [0.3333333333333333, \"#9c179e\"], [0.4444444444444444, \"#bd3786\"], [0.5555555555555556, \"#d8576b\"], [0.6666666666666666, \"#ed7953\"], [0.7777777777777778, \"#fb9f3a\"], [0.8888888888888888, \"#fdca26\"], [1.0, \"#f0f921\"]], \"type\": \"heatmap\"}], \"heatmapgl\": [{\"colorbar\": {\"outlinewidth\": 0, \"ticks\": \"\"}, \"colorscale\": [[0.0, \"#0d0887\"], [0.1111111111111111, \"#46039f\"], [0.2222222222222222, \"#7201a8\"], [0.3333333333333333, \"#9c179e\"], [0.4444444444444444, \"#bd3786\"], [0.5555555555555556, \"#d8576b\"], [0.6666666666666666, \"#ed7953\"], [0.7777777777777778, \"#fb9f3a\"], [0.8888888888888888, \"#fdca26\"], [1.0, \"#f0f921\"]], \"type\": \"heatmapgl\"}], \"histogram\": [{\"marker\": {\"colorbar\": {\"outlinewidth\": 0, \"ticks\": \"\"}}, \"type\": \"histogram\"}], \"histogram2d\": [{\"colorbar\": {\"outlinewidth\": 0, \"ticks\": \"\"}, \"colorscale\": [[0.0, \"#0d0887\"], [0.1111111111111111, \"#46039f\"], [0.2222222222222222, \"#7201a8\"], [0.3333333333333333, \"#9c179e\"], [0.4444444444444444, \"#bd3786\"], [0.5555555555555556, \"#d8576b\"], [0.6666666666666666, \"#ed7953\"], [0.7777777777777778, \"#fb9f3a\"], [0.8888888888888888, \"#fdca26\"], [1.0, \"#f0f921\"]], \"type\": \"histogram2d\"}], \"histogram2dcontour\": [{\"colorbar\": {\"outlinewidth\": 0, \"ticks\": \"\"}, \"colorscale\": [[0.0, \"#0d0887\"], [0.1111111111111111, \"#46039f\"], [0.2222222222222222, \"#7201a8\"], [0.3333333333333333, \"#9c179e\"], [0.4444444444444444, \"#bd3786\"], [0.5555555555555556, \"#d8576b\"], [0.6666666666666666, \"#ed7953\"], [0.7777777777777778, \"#fb9f3a\"], [0.8888888888888888, \"#fdca26\"], [1.0, \"#f0f921\"]], \"type\": \"histogram2dcontour\"}], \"mesh3d\": [{\"colorbar\": {\"outlinewidth\": 0, \"ticks\": \"\"}, \"type\": \"mesh3d\"}], \"parcoords\": [{\"line\": {\"colorbar\": {\"outlinewidth\": 0, \"ticks\": \"\"}}, \"type\": \"parcoords\"}], \"pie\": [{\"automargin\": true, \"type\": \"pie\"}], \"scatter\": [{\"marker\": {\"colorbar\": {\"outlinewidth\": 0, \"ticks\": \"\"}}, \"type\": \"scatter\"}], \"scatter3d\": [{\"line\": {\"colorbar\": {\"outlinewidth\": 0, \"ticks\": \"\"}}, \"marker\": {\"colorbar\": {\"outlinewidth\": 0, \"ticks\": \"\"}}, \"type\": \"scatter3d\"}], \"scattercarpet\": [{\"marker\": {\"colorbar\": {\"outlinewidth\": 0, \"ticks\": \"\"}}, \"type\": \"scattercarpet\"}], \"scattergeo\": [{\"marker\": {\"colorbar\": {\"outlinewidth\": 0, \"ticks\": \"\"}}, \"type\": \"scattergeo\"}], \"scattergl\": [{\"marker\": {\"colorbar\": {\"outlinewidth\": 0, \"ticks\": \"\"}}, \"type\": \"scattergl\"}], \"scattermapbox\": [{\"marker\": {\"colorbar\": {\"outlinewidth\": 0, \"ticks\": \"\"}}, \"type\": \"scattermapbox\"}], \"scatterpolar\": [{\"marker\": {\"colorbar\": {\"outlinewidth\": 0, \"ticks\": \"\"}}, \"type\": \"scatterpolar\"}], \"scatterpolargl\": [{\"marker\": {\"colorbar\": {\"outlinewidth\": 0, \"ticks\": \"\"}}, \"type\": \"scatterpolargl\"}], \"scatterternary\": [{\"marker\": {\"colorbar\": {\"outlinewidth\": 0, \"ticks\": \"\"}}, \"type\": \"scatterternary\"}], \"surface\": [{\"colorbar\": {\"outlinewidth\": 0, \"ticks\": \"\"}, \"colorscale\": [[0.0, \"#0d0887\"], [0.1111111111111111, \"#46039f\"], [0.2222222222222222, \"#7201a8\"], [0.3333333333333333, \"#9c179e\"], [0.4444444444444444, \"#bd3786\"], [0.5555555555555556, \"#d8576b\"], [0.6666666666666666, \"#ed7953\"], [0.7777777777777778, \"#fb9f3a\"], [0.8888888888888888, \"#fdca26\"], [1.0, \"#f0f921\"]], \"type\": \"surface\"}], \"table\": [{\"cells\": {\"fill\": {\"color\": \"#EBF0F8\"}, \"line\": {\"color\": \"white\"}}, \"header\": {\"fill\": {\"color\": \"#C8D4E3\"}, \"line\": {\"color\": \"white\"}}, \"type\": \"table\"}]}, \"layout\": {\"annotationdefaults\": {\"arrowcolor\": \"#2a3f5f\", \"arrowhead\": 0, \"arrowwidth\": 1}, \"autotypenumbers\": \"strict\", \"coloraxis\": {\"colorbar\": {\"outlinewidth\": 0, \"ticks\": \"\"}}, \"colorscale\": {\"diverging\": [[0, \"#8e0152\"], [0.1, \"#c51b7d\"], [0.2, \"#de77ae\"], [0.3, \"#f1b6da\"], [0.4, \"#fde0ef\"], [0.5, \"#f7f7f7\"], [0.6, \"#e6f5d0\"], [0.7, \"#b8e186\"], [0.8, \"#7fbc41\"], [0.9, \"#4d9221\"], [1, \"#276419\"]], \"sequential\": [[0.0, \"#0d0887\"], [0.1111111111111111, \"#46039f\"], [0.2222222222222222, \"#7201a8\"], [0.3333333333333333, \"#9c179e\"], [0.4444444444444444, \"#bd3786\"], [0.5555555555555556, \"#d8576b\"], [0.6666666666666666, \"#ed7953\"], [0.7777777777777778, \"#fb9f3a\"], [0.8888888888888888, \"#fdca26\"], [1.0, \"#f0f921\"]], \"sequentialminus\": [[0.0, \"#0d0887\"], [0.1111111111111111, \"#46039f\"], [0.2222222222222222, \"#7201a8\"], [0.3333333333333333, \"#9c179e\"], [0.4444444444444444, \"#bd3786\"], [0.5555555555555556, \"#d8576b\"], [0.6666666666666666, \"#ed7953\"], [0.7777777777777778, \"#fb9f3a\"], [0.8888888888888888, \"#fdca26\"], [1.0, \"#f0f921\"]]}, \"colorway\": [\"#636efa\", \"#EF553B\", \"#00cc96\", \"#ab63fa\", \"#FFA15A\", \"#19d3f3\", \"#FF6692\", \"#B6E880\", \"#FF97FF\", \"#FECB52\"], \"font\": {\"color\": \"#2a3f5f\"}, \"geo\": {\"bgcolor\": \"white\", \"lakecolor\": \"white\", \"landcolor\": \"#E5ECF6\", \"showlakes\": true, \"showland\": true, \"subunitcolor\": \"white\"}, \"hoverlabel\": {\"align\": \"left\"}, \"hovermode\": \"closest\", \"mapbox\": {\"style\": \"light\"}, \"paper_bgcolor\": \"white\", \"plot_bgcolor\": \"#E5ECF6\", \"polar\": {\"angularaxis\": {\"gridcolor\": \"white\", \"linecolor\": \"white\", \"ticks\": \"\"}, \"bgcolor\": \"#E5ECF6\", \"radialaxis\": {\"gridcolor\": \"white\", \"linecolor\": \"white\", \"ticks\": \"\"}}, \"scene\": {\"xaxis\": {\"backgroundcolor\": \"#E5ECF6\", \"gridcolor\": \"white\", \"gridwidth\": 2, \"linecolor\": \"white\", \"showbackground\": true, \"ticks\": \"\", \"zerolinecolor\": \"white\"}, \"yaxis\": {\"backgroundcolor\": \"#E5ECF6\", \"gridcolor\": \"white\", \"gridwidth\": 2, \"linecolor\": \"white\", \"showbackground\": true, \"ticks\": \"\", \"zerolinecolor\": \"white\"}, \"zaxis\": {\"backgroundcolor\": \"#E5ECF6\", \"gridcolor\": \"white\", \"gridwidth\": 2, \"linecolor\": \"white\", \"showbackground\": true, \"ticks\": \"\", \"zerolinecolor\": \"white\"}}, \"shapedefaults\": {\"line\": {\"color\": \"#2a3f5f\"}}, \"ternary\": {\"aaxis\": {\"gridcolor\": \"white\", \"linecolor\": \"white\", \"ticks\": \"\"}, \"baxis\": {\"gridcolor\": \"white\", \"linecolor\": \"white\", \"ticks\": \"\"}, \"bgcolor\": \"#E5ECF6\", \"caxis\": {\"gridcolor\": \"white\", \"linecolor\": \"white\", \"ticks\": \"\"}}, \"title\": {\"x\": 0.05}, \"xaxis\": {\"automargin\": true, \"gridcolor\": \"white\", \"linecolor\": \"white\", \"ticks\": \"\", \"title\": {\"standoff\": 15}, \"zerolinecolor\": \"white\", \"zerolinewidth\": 2}, \"yaxis\": {\"automargin\": true, \"gridcolor\": \"white\", \"linecolor\": \"white\", \"ticks\": \"\", \"title\": {\"standoff\": 15}, \"zerolinecolor\": \"white\", \"zerolinewidth\": 2}}}, \"xaxis\": {\"anchor\": \"y\", \"domain\": [0.0, 1.0], \"title\": {\"text\": \"priceToBook\"}}, \"yaxis\": {\"anchor\": \"x\", \"domain\": [0.0, 1.0], \"title\": {\"text\": \"fullTimeEmployees\"}}},                        {\"responsive\": true}                    ).then(function(){\n",
       "                            \n",
       "var gd = document.getElementById('be1688cb-4467-44c9-941c-9eb80d9fb831');\n",
       "var x = new MutationObserver(function (mutations, observer) {{\n",
       "        var display = window.getComputedStyle(gd).display;\n",
       "        if (!display || display === 'none') {{\n",
       "            console.log([gd, 'removed!']);\n",
       "            Plotly.purge(gd);\n",
       "            observer.disconnect();\n",
       "        }}\n",
       "}});\n",
       "\n",
       "// Listen for the removal of the full notebook cells\n",
       "var notebookContainer = gd.closest('#notebook-container');\n",
       "if (notebookContainer) {{\n",
       "    x.observe(notebookContainer, {childList: true});\n",
       "}}\n",
       "\n",
       "// Listen for the clearing of the current output cell\n",
       "var outputEl = gd.closest('.output');\n",
       "if (outputEl) {{\n",
       "    x.observe(outputEl, {childList: true});\n",
       "}}\n",
       "\n",
       "                        })                };                });            </script>        </div>"
      ]
     },
     "metadata": {},
     "output_type": "display_data"
    }
   ],
   "source": [
    "fig = px.scatter(df_wide, x ='priceToBook', y='fullTimeEmployees', color='sector', hover_name='Stock')\n",
    "fig.show()"
   ]
  }
 ],
 "metadata": {
  "kernelspec": {
   "display_name": "Python 3",
   "language": "python",
   "name": "python3"
  },
  "language_info": {
   "codemirror_mode": {
    "name": "ipython",
    "version": 3
   },
   "file_extension": ".py",
   "mimetype": "text/x-python",
   "name": "python",
   "nbconvert_exporter": "python",
   "pygments_lexer": "ipython3",
   "version": "3.8.2"
  }
 },
 "nbformat": 4,
 "nbformat_minor": 5
}
